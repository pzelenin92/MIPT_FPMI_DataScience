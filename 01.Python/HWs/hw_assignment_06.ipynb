{
  "nbformat": 4,
  "nbformat_minor": 0,
  "metadata": {
    "kernelspec": {
      "display_name": "Python 3",
      "language": "python",
      "name": "python3"
    },
    "language_info": {
      "codemirror_mode": {
        "name": "ipython",
        "version": 3
      },
      "file_extension": ".py",
      "mimetype": "text/x-python",
      "name": "python",
      "nbconvert_exporter": "python",
      "pygments_lexer": "ipython3",
      "version": "3.8.7"
    },
    "colab": {
      "name": "hw_assignment_06",
      "provenance": []
    }
  },
  "cells": [
    {
      "cell_type": "markdown",
      "metadata": {
        "id": "lAwiybQ1dKsp"
      },
      "source": [
        "# Вся работа состоит из трех больших блоков:\n",
        "\n",
        "- #### Базовые операции с датафреймами\n",
        "- #### Вычисление новых признаков и группировка данных\n",
        "- #### Визуализация данных\n",
        "\n",
        "\n",
        "\n",
        "# Авторские подсказки\n",
        "\n",
        "В каждом задании вам даны авторские подсказки - результат выполнения авторского кода для решения этой задачи. Они вам даны просто для понимания, в правильном ли направлении вы идете. Формат вывода вашего кода не обязательно должен совпадать с форматом в подсказках. Ячейки с ответом изменять не рекомендуется - проводите эксперименты в новых.\n"
      ]
    },
    {
      "cell_type": "markdown",
      "metadata": {
        "id": "C8oqsuokdKsw"
      },
      "source": [
        "# Описание задачи"
      ]
    },
    {
      "cell_type": "markdown",
      "metadata": {
        "id": "S2bpR0JFdKsw"
      },
      "source": [
        "Задача кредитного скоринга - одна из наиболее популярных областей в банковской индустрии, где применяется анализ данных\n",
        "\n",
        "Признаки клиентов банка:\n",
        "\n",
        "- ```age``` - возраст (вещественный)\n",
        "- ```MonthlyIncome``` - месячный доход (вещественный)\n",
        "- ```DebtRatio``` - Debt-to-income Ratio (вещественный)\n",
        "- ```NumberOfOpenCreditLinesAndLoans``` - число заемов и кредитных линий\n",
        "- ```NumberRealEstateLoansOrLines``` - число ипотек и заемов, связанных с недвижимостью (натуральное число)\n",
        "- ```NumberOfDependents``` - число членов семьи, которых содержит клиент, исключая самого клиента (натуральное число)\n",
        "- ```defaulted``` - выплачен или не выплачен в конечном итоге кредит заемщиком\n",
        "\n",
        "В этой работе мы будем исследовать данные о заемщиках и научимся отвечать на вопросы о предоставленных нам данных."
      ]
    },
    {
      "cell_type": "markdown",
      "metadata": {
        "id": "AOZIK42cdKsx"
      },
      "source": [
        "# Базовые операции с датафреймами"
      ]
    },
    {
      "cell_type": "markdown",
      "metadata": {
        "id": "mTo-0lPcdKsy"
      },
      "source": [
        "## Задача 1"
      ]
    },
    {
      "cell_type": "markdown",
      "metadata": {
        "id": "Q0B5b3KEdKsy"
      },
      "source": [
        "Считайте файл ```credit_data.csv``` в переменную ```df```"
      ]
    },
    {
      "cell_type": "code",
      "metadata": {
        "id": "HbGK5vY1dKsz"
      },
      "source": [
        "import pandas as pd"
      ],
      "execution_count": null,
      "outputs": []
    },
    {
      "cell_type": "code",
      "metadata": {
        "id": "9_C1hDfQdKs1"
      },
      "source": [
        ""
      ],
      "execution_count": null,
      "outputs": []
    },
    {
      "cell_type": "markdown",
      "metadata": {
        "id": "6-O-oItxdKs1"
      },
      "source": [
        "Определите размер таблицы"
      ]
    },
    {
      "cell_type": "code",
      "metadata": {
        "id": "H5ifn6UwdKs2"
      },
      "source": [
        ""
      ],
      "execution_count": null,
      "outputs": []
    },
    {
      "cell_type": "markdown",
      "metadata": {
        "id": "OlUIqfSTdKs3"
      },
      "source": [
        "Посмотрите первые пять строк"
      ]
    },
    {
      "cell_type": "code",
      "metadata": {
        "id": "wWJXhdxcdKs4"
      },
      "source": [
        ""
      ],
      "execution_count": null,
      "outputs": []
    },
    {
      "cell_type": "markdown",
      "metadata": {
        "id": "Cw1vWxPkdKs5"
      },
      "source": [
        "Выведите список названий столбцов"
      ]
    },
    {
      "cell_type": "code",
      "metadata": {
        "id": "dCqEW6y2dKs5"
      },
      "source": [
        ""
      ],
      "execution_count": null,
      "outputs": []
    },
    {
      "cell_type": "markdown",
      "metadata": {
        "id": "WpSLgazLdKs6"
      },
      "source": [
        "## Задача 2"
      ]
    },
    {
      "cell_type": "markdown",
      "metadata": {
        "id": "ULvNfAxtdKs6"
      },
      "source": [
        "Определите число пропусков в каждом столбце (могут пригодиться методы ```isnull``` и ```sum```)"
      ]
    },
    {
      "cell_type": "code",
      "metadata": {
        "id": "KnKRkbuXdKs6"
      },
      "source": [
        ""
      ],
      "execution_count": null,
      "outputs": []
    },
    {
      "cell_type": "markdown",
      "metadata": {
        "id": "-6nWWy0vdKs7"
      },
      "source": [
        "Определите долю пропусков в каждом столбце (могут пригодиться методы ```isnull``` и ```mean```)"
      ]
    },
    {
      "cell_type": "code",
      "metadata": {
        "id": "GLiQIrvwdKs7"
      },
      "source": [
        ""
      ],
      "execution_count": null,
      "outputs": []
    },
    {
      "cell_type": "markdown",
      "metadata": {
        "id": "vxVMh9UDdKs7"
      },
      "source": [
        "## Задача 3\n",
        "\n",
        " Определите долю заемщиков, которые не выплатили кредит (колонка ```defaulted```)"
      ]
    },
    {
      "cell_type": "code",
      "metadata": {
        "id": "s5IS56FNdKs8"
      },
      "source": [
        ""
      ],
      "execution_count": null,
      "outputs": []
    },
    {
      "cell_type": "markdown",
      "metadata": {
        "id": "2euhSaR8dKs8"
      },
      "source": [
        "## Задача 4\n",
        "\n",
        " Определите количество заемщиков, у которых ежемесячный доход ```MonthlyIncome``` выше среднего."
      ]
    },
    {
      "cell_type": "code",
      "metadata": {
        "id": "OrFyCw-NdKs8"
      },
      "source": [
        ""
      ],
      "execution_count": null,
      "outputs": []
    },
    {
      "cell_type": "markdown",
      "metadata": {
        "id": "FD9j5sQGdKs8"
      },
      "source": [
        "## Задача 5\n",
        "\n",
        " Вычислите медианный возраст заемщиков, которые не вернули кредит (```defaulted=1```). Он больше или меньше медианного возраста всех заемщиков?"
      ]
    },
    {
      "cell_type": "code",
      "metadata": {
        "id": "freki_-VdKs9"
      },
      "source": [
        ""
      ],
      "execution_count": null,
      "outputs": []
    },
    {
      "cell_type": "code",
      "metadata": {
        "id": "UYB4hW8kdKs9"
      },
      "source": [
        ""
      ],
      "execution_count": null,
      "outputs": []
    },
    {
      "cell_type": "markdown",
      "metadata": {
        "id": "YsaEANcFdKs9"
      },
      "source": [
        "## Задача 6\n",
        "\n",
        " Сколько заемщиков старше 40 лет имеют ежемесячный доход больше среднего ежемесячного дохода по всей выборке?"
      ]
    },
    {
      "cell_type": "code",
      "metadata": {
        "id": "NeQv8cFDdKs-"
      },
      "source": [
        ""
      ],
      "execution_count": null,
      "outputs": []
    },
    {
      "cell_type": "markdown",
      "metadata": {
        "id": "XwLzrBY3dKs-"
      },
      "source": [
        "# Вычисление новых признаков и группировка данных"
      ]
    },
    {
      "cell_type": "markdown",
      "metadata": {
        "id": "Ww14rrZBdKs-"
      },
      "source": [
        "## Задача 7 \n",
        "\n",
        "Вычислите новый признак ```age_group``` на основе признака ```age```, который разбивает заемщиков на 3 возрастные группы:\n",
        "- до 30 лет включительно (операция ```<=```) - группа 1\n",
        "- от 30 лет не включительно и до 50 лет включительно - группа 2\n",
        "- строго старше 50 лет - группа 3\n",
        "\n",
        "Для этого заведите отдельную функцию ```calculate_age_group``` и передайте ее в метод ```apply```, который позовете от столбца ```age```"
      ]
    },
    {
      "cell_type": "code",
      "metadata": {
        "id": "vwJeahmkdKs_"
      },
      "source": [
        ""
      ],
      "execution_count": null,
      "outputs": []
    },
    {
      "cell_type": "markdown",
      "metadata": {
        "id": "UIe-sOOGdKs_"
      },
      "source": [
        "## Задача 8\n",
        "\n",
        "Вычислите количество заемщиков в каждой группе нового вычисленного признака ```age_group``` с помощью метода ```value_counts```"
      ]
    },
    {
      "cell_type": "code",
      "metadata": {
        "id": "bqk4zcxzdKs_"
      },
      "source": [
        ""
      ],
      "execution_count": null,
      "outputs": []
    },
    {
      "cell_type": "markdown",
      "metadata": {
        "id": "dYIbwaKndKs_"
      },
      "source": [
        "## Задача 9\n",
        "Посчитайте долю заемщиков, которые не вернули кредит, в каждой из вычисленных возрастных групп (группировка по возрастной группе и применение метода ```mean``` к колонке ```defaulted```)"
      ]
    },
    {
      "cell_type": "code",
      "metadata": {
        "id": "KD0nUE4BdKtA"
      },
      "source": [
        ""
      ],
      "execution_count": null,
      "outputs": []
    },
    {
      "cell_type": "markdown",
      "metadata": {
        "id": "x-BCEZc7dKtA"
      },
      "source": [
        "## Задача 10\n",
        "\n",
        "Визуализируйте полученные данные в виде гистограммы\n",
        "\n",
        "Добавьте сетку на график, дайте графику название"
      ]
    },
    {
      "cell_type": "code",
      "metadata": {
        "id": "Zjus1bJSdKtA"
      },
      "source": [
        "# Импортируем модуль для визуализации данных\n",
        "from matplotlib import pyplot as plt"
      ],
      "execution_count": null,
      "outputs": []
    },
    {
      "cell_type": "code",
      "metadata": {
        "id": "9J9aWeh7dKtA"
      },
      "source": [
        ""
      ],
      "execution_count": null,
      "outputs": []
    },
    {
      "cell_type": "markdown",
      "metadata": {
        "id": "deEBZ0v7dKtB"
      },
      "source": [
        "## Задача 11\n",
        "\n",
        " Какие выводы вы можете сделать? С увеличением возраста заемщика риск невозврата кредита становится больше или меньше? Дайте ответ на вопрос в текстовой ячейке ниже"
      ]
    },
    {
      "cell_type": "markdown",
      "metadata": {
        "id": "89NKup8voVna"
      },
      "source": [
        "Ответ:"
      ]
    },
    {
      "cell_type": "markdown",
      "metadata": {
        "id": "I89l2WAsdKtB"
      },
      "source": [
        "## Задача 12\n",
        "\n",
        " Вычислите новый признак ```alone_and_poor```, который равен ```1``` у заемщиков, которые не содержат никого, кроме себя (```NumberOfDependents == 0```) и у которых месячный доход (```MonthlyIncome```) меньше 10% квантили по этому признаку среди всех заемщиков. Инече этот признак сделайте равным 0\n",
        "\n",
        "Для этого напишите функцию ```calculate_alone_and_poor```, в которой вы будете принимать строку, доставать нужные поля у этой строки, и проверять перечисленные выше условия.\n",
        "\n",
        "Заранее посчитайте значение 10% квантили по столбцу ```MonthlyIncome```, и передайте это значение в функцию как дефолтный аргумент\n",
        "\n",
        "Затем полученную функцию примените ко всему датайрейму с помощью метода ```apply```. Не забудьте указать параметр ```axis=1``` в методе ```apply``` (применять переданную функцию ко строкам), иначе код упадет с ошибкой."
      ]
    },
    {
      "cell_type": "code",
      "metadata": {
        "id": "x4QpASAIdKtB"
      },
      "source": [
        ""
      ],
      "execution_count": null,
      "outputs": []
    },
    {
      "cell_type": "code",
      "metadata": {
        "id": "-gX1A2iRdKtB"
      },
      "source": [
        "# 10%-квантиль\n"
      ],
      "execution_count": null,
      "outputs": []
    },
    {
      "cell_type": "code",
      "metadata": {
        "id": "1mBNA7S6dKtC"
      },
      "source": [
        ""
      ],
      "execution_count": null,
      "outputs": []
    },
    {
      "cell_type": "markdown",
      "metadata": {
        "id": "x7P_z7KYdKtC"
      },
      "source": [
        "Сколько получилось людей с признаком ```alone_and_poor``` равным 1?"
      ]
    },
    {
      "cell_type": "code",
      "metadata": {
        "id": "OjhMTSrydKtC"
      },
      "source": [
        ""
      ],
      "execution_count": null,
      "outputs": []
    },
    {
      "cell_type": "markdown",
      "metadata": {
        "id": "3_mIoa_OdKtC"
      },
      "source": [
        "# Визуализация данных"
      ]
    },
    {
      "cell_type": "markdown",
      "metadata": {
        "id": "hktewsS_dKtC"
      },
      "source": [
        "## Задача 13\n",
        "\n",
        "Постройте гистограмму распределения возрастов всех заемщиков. Для этого вам может понадобиться метод ```plot.hist()```. Обратите внимание, что у метода ```hist()``` есть параметр ```bins```, который отвечает за мелкость разбиения гистограммы. Постройте два отдельных графика с параметрами ```bins=10``` и ```bins=30```.\n",
        "\n",
        "Подпишите оси, добавьте сетку на графики, дайте графикам название.\n",
        "\n",
        "Также не забывайте, что чтобы картинка отрисовалась, нужно последней строкой кода написать ```plt.show()```"
      ]
    },
    {
      "cell_type": "code",
      "metadata": {
        "id": "gsM3gYpHdKtD"
      },
      "source": [
        "from matplotlib import pyplot as plt"
      ],
      "execution_count": null,
      "outputs": []
    },
    {
      "cell_type": "markdown",
      "metadata": {
        "id": "lFW3P9etdKtE"
      },
      "source": [
        "## Задача 14\n",
        "Теперь постройте гистограмму распределения числа открытых кредитных линий (```NumberOfOpenCreditLinesAndLoans```) с помощью функции ```distplot()``` из модуля ```seaborn```\n",
        "\n",
        "Подпишите оси, добавьте сетку на графики, дайте графику название."
      ]
    },
    {
      "cell_type": "code",
      "metadata": {
        "id": "vm36okVzdKtF"
      },
      "source": [
        ""
      ],
      "execution_count": null,
      "outputs": []
    },
    {
      "cell_type": "markdown",
      "metadata": {
        "id": "CzQrvJ68dKtF"
      },
      "source": [
        "## Задача 15\n",
        "Постройте гистограмму распределения признака ```NumberOfDependents``` для заемщиков, которые успешно вернули кредит (```defaulted = 0```)\n",
        "\n",
        "Подпишите оси, добавьте сетку на графики, дайте графику название."
      ]
    },
    {
      "cell_type": "code",
      "metadata": {
        "id": "081qlJDbdKtF"
      },
      "source": [
        ""
      ],
      "execution_count": null,
      "outputs": []
    },
    {
      "cell_type": "markdown",
      "metadata": {
        "id": "nDEgPKhPdKtF"
      },
      "source": [
        "## Задача 16\n",
        "Вычислите среднее значение признака ```NumberOfDependents``` для каждого возраста (```groupby``` по возрасту и ```mean``` от столбца ```NumberOfDependents```) и постройте гистограмму распределения полученных значений (```plot.bar()```)\n",
        "\n",
        "Сделайте график покрупнее, например 14 на 10 дюймов с помощью параметра ```figsize```\n",
        "\n",
        "Подпишите оси, добавьте сетку на графики, дайте графику название."
      ]
    },
    {
      "cell_type": "code",
      "metadata": {
        "id": "A0QhpgqadKtG"
      },
      "source": [
        ""
      ],
      "execution_count": null,
      "outputs": []
    },
    {
      "cell_type": "markdown",
      "metadata": {
        "id": "EuUZjHsDdKtG"
      },
      "source": [
        "## Задача 17\n",
        "\n",
        " Видите ли вы теперь какие-то аномалии в данных? Определите, что это за аномалии, и очистите данные от этих аномалий. Затем снова постройте такой же график, как в предыдущем задании, только уже на датафрейме с очищенными выбросами"
      ]
    },
    {
      "cell_type": "code",
      "metadata": {
        "id": "nWCx_9NEdKtG"
      },
      "source": [
        ""
      ],
      "execution_count": null,
      "outputs": []
    }
  ]
}