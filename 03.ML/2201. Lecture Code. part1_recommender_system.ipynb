{
  "cells": [
    {
      "cell_type": "markdown",
      "metadata": {
        "collapsed": true,
        "id": "rDkF84U7_UNb"
      },
      "source": [
        "# Рекомендательные системы\n",
        "\n",
        "Идея рекомендательных систем на основе ближайшего соседа – использовать предпочтения некоторой группы людей, похожих на данного пользователя, чтобы рекомендовать ему что-либо.\n",
        "\n",
        "У такой модели много применений:\n",
        "\n",
        "- рекомендация товаров интернет-магазинов\n",
        "- рекомендация музыки или фильмов\n",
        "- рекомендация людей/контента в социальных сетях\n",
        "\n",
        "![Amazon](https://github.com/v-goncharenko/madmo-adv/raw/83af16ed575aa75377b31d2e1c67288b42f46db5/09_recommendations/images/amazon.jpg)\n",
        "\n",
        "Пример рекомендательной системы Amazon.com\n",
        "\n",
        "![Imdb](https://github.com/v-goncharenko/madmo-adv/raw/255e43e0ee146c0b5c1c4cf9305abc0034fed5e2/09_recommendations/images/imdb.png)\n",
        "\n",
        "Рекомендация фильмов от IMDb.\n",
        "\n",
        "Естественный способ получить рекомендацию о чем-либо - спросить мнение об этом у друзей или любых людей, которым нравится то же, что и вам. Эту идею можно использовать и для машины: для каждого человека алгоритм просматривает большую группу людей и ищет в ней подгруппу с похожим на данного человека вкусом. Далее создается список того, что еще нравится этим людям, а затем человеку рекомендуются предложения из этого списка. Такой алгоритм называется алгоритмом **коллаборативной фильтрации**.\n",
        "\n",
        "Для красивого вывода на экран сложных объектов будем использовать **pprint**"
      ]
    },
    {
      "cell_type": "code",
      "execution_count": null,
      "metadata": {
        "ExecuteTime": {
          "end_time": "2022-07-05T16:12:17.323601Z",
          "start_time": "2022-07-05T16:12:17.313733Z"
        },
        "id": "PHSLMDPN_UN4"
      },
      "outputs": [],
      "source": [
        "import pprint\n",
        "\n",
        "\n",
        "pp = pprint.PrettyPrinter(indent=4)"
      ]
    },
    {
      "cell_type": "markdown",
      "metadata": {
        "id": "cPGF-dVQ_UOA"
      },
      "source": [
        "## Подготовка данных\n",
        "\n",
        "Чтобы хранить сразу много предпочтений для каждого человека, удобнее всего воспользоваться **вложенным словарем**.\n",
        "\n",
        "Самый простой способ создать словарь в python - использовать фигурные скобки {}. Данные в словаре хранятся в формате ключ – значение, разделенные двоеточием:\n",
        "\n",
        "```python\n",
        "dict = {'key': value}\n",
        "```\n",
        "\n",
        "Мы будем работать с *вложенным словарем* кинокритиков и выставленных ими оценок для небольшого набора данных о фильмах. Построим его следующим образом:\n",
        "\n",
        "1. для каждого кинокритика создаем словарь оценок фильмов в формате\n",
        "\n",
        "   ```python\n",
        "    scores_dict = {\n",
        "        'film_1': 'score_1', \n",
        "        'film_2': 'score_2', \n",
        "        ...\n",
        "    }\n",
        "   ```\n",
        "\n",
        "1. создаем словарь кинокритиков, где в качестве значений будет соответствующий ему словарь оценок\n",
        "\n",
        "   ```python\n",
        "     critics = {\n",
        "         'critic_name_1': <scores_dict_1>, \n",
        "         'critic_name_2': <scores_dict_2>,\n",
        "         ...\n",
        "     }\n",
        "   ```"
      ]
    },
    {
      "cell_type": "code",
      "execution_count": null,
      "metadata": {
        "ExecuteTime": {
          "end_time": "2022-07-05T16:12:17.333502Z",
          "start_time": "2022-07-05T16:12:17.325757Z"
        },
        "id": "GgmLknLa_UOC"
      },
      "outputs": [],
      "source": [
        "# Словарь кинокритиков и выставленных ими оценок\n",
        "critics = {\n",
        "    \"Lisa Rose\": {\n",
        "        \"Lady in the Water\": 2.5,\n",
        "        \"Snakes on a Plane\": 3.5,\n",
        "        \"Just My Luck\": 3.0,\n",
        "        \"Superman Returns\": 3.5,\n",
        "        \"You, Me and Dupree\": 2.5,\n",
        "        \"The Night Listener\": 3.0,\n",
        "    },\n",
        "    \"Gene Seymour\": {\n",
        "        \"Lady in the Water\": 3.0,\n",
        "        \"Snakes on a Plane\": 3.5,\n",
        "        \"Just My Luck\": 1.5,\n",
        "        \"Superman Returns\": 5.0,\n",
        "        \"The Night Listener\": 3.0,\n",
        "        \"You, Me and Dupree\": 3.5,\n",
        "    },\n",
        "    \"Michael Phillips\": {\n",
        "        \"Lady in the Water\": 2.5,\n",
        "        \"Snakes on a Plane\": 3.0,\n",
        "        \"Superman Returns\": 3.5,\n",
        "        \"The Night Listener\": 4.0,\n",
        "    },\n",
        "    \"Claudia Puig\": {\n",
        "        \"Snakes on a Plane\": 3.5,\n",
        "        \"Just My Luck\": 3.0,\n",
        "        \"The Night Listener\": 4.5,\n",
        "        \"Superman Returns\": 4.0,\n",
        "        \"You, Me and Dupree\": 2.5,\n",
        "    },\n",
        "    \"Mick LaSalle\": {\n",
        "        \"Lady in the Water\": 3.0,\n",
        "        \"Snakes on a Plane\": 4.0,\n",
        "        \"Just My Luck\": 2.0,\n",
        "        \"Superman Returns\": 3.0,\n",
        "        \"The Night Listener\": 3.0,\n",
        "        \"You, Me and Dupree\": 2.0,\n",
        "    },\n",
        "    \"Jack Matthews\": {\n",
        "        \"Lady in the Water\": 3.0,\n",
        "        \"Snakes on a Plane\": 4.0,\n",
        "        \"The Night Listener\": 3.0,\n",
        "        \"Superman Returns\": 5.0,\n",
        "        \"You, Me and Dupree\": 3.5,\n",
        "    },\n",
        "    \"Toby\": {\"Snakes on a Plane\": 4.5, \"You, Me and Dupree\": 1.0, \"Superman Returns\": 4.0},\n",
        "}"
      ]
    },
    {
      "cell_type": "markdown",
      "metadata": {
        "id": "AWuJJu46_UOa"
      },
      "source": [
        "## Критерий похожести\n",
        "\n",
        "Как мы уже говорили, чтобы выделить подгруппу людей с похожим вкусом, необходимо как-то определить, насколько люди похожи.\n",
        "В нашем случае мы будем сравнивать оценки людей у одинаковых фильмов.\n",
        "Мы рассмотрим два способа сравнения. С помощью:\n",
        "\n",
        "- расстояния Евклида\n",
        "- корреляции Пирсона\n",
        "\n",
        "### Оценка по евклидову расстоянию\n",
        "\n",
        "Евклидово расстояние для точек $x = (x_1, x_2, ... , x_n)$ и $y = (y_1, y_2, ... , y_n)$ определяется следующим образом:\n",
        "\n",
        "$$\n",
        "\\begin{equation}\n",
        "d(x, y) = \\sqrt{\\sum_{i = 1}^n (x_i - y_i)^2}\n",
        "\\end{equation}\n",
        "$$"
      ]
    },
    {
      "cell_type": "code",
      "execution_count": null,
      "metadata": {
        "ExecuteTime": {
          "end_time": "2022-07-05T16:12:17.338754Z",
          "start_time": "2022-07-05T16:12:17.336438Z"
        },
        "id": "QRL9xHpD_UOi"
      },
      "outputs": [],
      "source": [
        "from math import sqrt"
      ]
    },
    {
      "cell_type": "markdown",
      "metadata": {
        "id": "dh44bqPR_UOl"
      },
      "source": [
        "Для понимания расстояния Евклида рассмотрим случай, когда *n = 2*. То есть каждый объект выборки (точка) описывается двумя параметрами (координатами). $x = (x_1, x_2)$ и $y = (y_1, y_2)$. Тогда Евклидово расстояние равно расстоянию между точками на плоскости.\n",
        "\n",
        "\\begin{equation}\n",
        "d(x, y) = \\sqrt{\\sum_{i = 1}^n (x_i - y_i)^2} = \\sqrt{(x_2 - x_1)^2 + (y_2 - y_1)^2}\n",
        "\\end{equation}\n",
        "\n",
        "Или, если представить задачу геометрически:\n",
        "\n",
        "![](https://github.com/v-goncharenko/madmo-adv/raw/255e43e0ee146c0b5c1c4cf9305abc0034fed5e2/09_recommendations/images/euclid2d.png)"
      ]
    },
    {
      "cell_type": "markdown",
      "metadata": {
        "id": "GbG9JJaI_UOn"
      },
      "source": [
        "Для примера вычислим расстояния Евклида для близких точек с координатам (1, 1) и (2, 3):"
      ]
    },
    {
      "cell_type": "code",
      "execution_count": null,
      "metadata": {
        "ExecuteTime": {
          "end_time": "2022-07-05T16:12:17.344669Z",
          "start_time": "2022-07-05T16:12:17.340221Z"
        },
        "colab": {
          "base_uri": "https://localhost:8080/"
        },
        "id": "FPi8cSZg_UOo",
        "outputId": "90e81b81-b78e-4e8c-a844-6a45b0ac762f"
      },
      "outputs": [
        {
          "output_type": "execute_result",
          "data": {
            "text/plain": [
              "2.23606797749979"
            ]
          },
          "metadata": {},
          "execution_count": 4
        }
      ],
      "source": [
        "sqrt(pow(2 - 1, 2) + pow(3 - 1, 2))"
      ]
    },
    {
      "cell_type": "markdown",
      "metadata": {
        "id": "8mNl75u2_UOs"
      },
      "source": [
        "Теперь вычислим расстояния Евклида для точек, которые находятся далеко (1, 1) и (8, 10):"
      ]
    },
    {
      "cell_type": "code",
      "execution_count": null,
      "metadata": {
        "ExecuteTime": {
          "end_time": "2022-07-05T16:12:17.347523Z",
          "start_time": "2022-07-05T16:12:17.345506Z"
        },
        "colab": {
          "base_uri": "https://localhost:8080/"
        },
        "id": "v-uToPKM_UOw",
        "outputId": "87809bff-5b8e-4e99-e657-cafd22fc42dc"
      },
      "outputs": [
        {
          "output_type": "execute_result",
          "data": {
            "text/plain": [
              "12.206555615733702"
            ]
          },
          "metadata": {},
          "execution_count": 5
        }
      ],
      "source": [
        "sqrt(pow(8 - 1, 2) + pow(10 - 0, 2))"
      ]
    },
    {
      "cell_type": "markdown",
      "metadata": {
        "id": "Zd_WOtl5_UO0"
      },
      "source": [
        "Расстояние, вычисленное по этой формуле, будет тем меньше, чем больше сходство людей (чем ближе точки). Нам же нужна функция, значение которой будет, наоборот, большое, если люди сильно похожи друг на друга. То есть схожесть больше (от 0 до 1), если точки ближе друг другу\n",
        "\n",
        "Для этого будем использовать функцию \"похожести\" в таком виде:\n",
        "\n",
        "\\begin{equation}\n",
        "\\text{similarity }(x, y) = \\dfrac{1}{1 + d(x, y)},\n",
        "\\end{equation}\n",
        "\n",
        "где $d(x, y)$ - расстояние Евклида.\n",
        "\n",
        "Пример вычисления сходства по новой функции для точек с координатами (1, 1) и (2, 3):"
      ]
    },
    {
      "cell_type": "code",
      "execution_count": null,
      "metadata": {
        "ExecuteTime": {
          "end_time": "2022-07-05T16:12:17.350044Z",
          "start_time": "2022-07-05T16:12:17.348229Z"
        },
        "colab": {
          "base_uri": "https://localhost:8080/"
        },
        "id": "h-_1Qjny_UO3",
        "outputId": "04588475-04ed-4a10-ba5e-3170373be873"
      },
      "outputs": [
        {
          "output_type": "execute_result",
          "data": {
            "text/plain": [
              "0.3090169943749474"
            ]
          },
          "metadata": {},
          "execution_count": 6
        }
      ],
      "source": [
        "1 / (1 + sqrt(pow(2 - 1, 2) + pow(3 - 1, 2)))"
      ]
    },
    {
      "cell_type": "markdown",
      "metadata": {
        "id": "gFXNPs3-_UO7"
      },
      "source": [
        "Пример вычисления сходства по новой функции для точек с координатами (1, 1) и (8, 10):"
      ]
    },
    {
      "cell_type": "code",
      "execution_count": null,
      "metadata": {
        "ExecuteTime": {
          "end_time": "2022-07-05T16:12:17.352489Z",
          "start_time": "2022-07-05T16:12:17.350752Z"
        },
        "colab": {
          "base_uri": "https://localhost:8080/"
        },
        "id": "tnfEapUX_UO8",
        "outputId": "4df5dd06-bc57-4a7d-8f20-aaf9233cabb4"
      },
      "outputs": [
        {
          "output_type": "execute_result",
          "data": {
            "text/plain": [
              "0.08063375388365411"
            ]
          },
          "metadata": {},
          "execution_count": 7
        }
      ],
      "source": [
        "1 / (1 + sqrt(pow(8 - 1, 2) + pow(10 - 1, 2)))"
      ]
    },
    {
      "cell_type": "markdown",
      "metadata": {
        "id": "laKWmvSq_UPP"
      },
      "source": [
        "Функцию для подсчета сходства двух критиков на основе расстояния Евклида реализована ниже. Функция принимает на вход три аргумента:\n",
        "\n",
        "- словарь критиков\n",
        "- имя первого критика для сравнения\n",
        "- имя второго критика для сравнения"
      ]
    },
    {
      "cell_type": "code",
      "execution_count": null,
      "metadata": {
        "ExecuteTime": {
          "end_time": "2022-07-05T16:12:17.355858Z",
          "start_time": "2022-07-05T16:12:17.354200Z"
        },
        "id": "cQHjThXAJmSX"
      },
      "outputs": [],
      "source": [
        "# Получить список фильмов, оцененных обоими критиками\n",
        "def similar_films(critics_dict, person1, person2):\n",
        "    # создаем пустой список фильмов\n",
        "    sim_film = []\n",
        "\n",
        "    # для всех фильмов у person1...\n",
        "    for film in critics_dict[person1]:\n",
        "        # если такой фильм оценивался person 2...\n",
        "        if film in critics_dict[person2]:\n",
        "            # добавляем этот фильм в список sim_film\n",
        "            sim_film.append(film)\n",
        "\n",
        "    return sim_film"
      ]
    },
    {
      "cell_type": "code",
      "execution_count": null,
      "metadata": {
        "ExecuteTime": {
          "end_time": "2022-07-05T16:12:17.359375Z",
          "start_time": "2022-07-05T16:12:17.357315Z"
        },
        "id": "l_vmbx1NJmSX"
      },
      "outputs": [],
      "source": [
        "def sim_distance(critics: dict, person1: str, person2: str) -> float:\n",
        "    \"\"\"Calculates euclidian distance based similarity score for persons\"\"\"\n",
        "    # используем написанную функцию для получения фильмов, оцененных обоими критиками\n",
        "    sim_films = similar_films(critics, person1, person2)\n",
        "\n",
        "    # если нет ни одной общей оценки, то есть длина sim_film равна 0 - вернуть 0\n",
        "    if len(sim_films) == 0:\n",
        "        return 0\n",
        "\n",
        "    # для каждого фильма из sim_film посчитаем евклидово расстояние и просуммируем все полученные значения\n",
        "    sum_of_euclead_dist = 0\n",
        "\n",
        "    for film in sim_films:\n",
        "        sum_of_euclead_dist += pow(critics[person1][film] - critics[person2][film], 2)\n",
        "\n",
        "    # считаем похожесть\n",
        "    return 1 / (1 + sum_of_euclead_dist)"
      ]
    },
    {
      "cell_type": "markdown",
      "metadata": {
        "id": "eUKtM_ZJJmSX"
      },
      "source": [
        "Посмотрим, как работает эта функция для двух критиков Lisa Rose и Toby:"
      ]
    },
    {
      "cell_type": "code",
      "execution_count": null,
      "metadata": {
        "ExecuteTime": {
          "end_time": "2022-07-05T16:12:17.362043Z",
          "start_time": "2022-07-05T16:12:17.360149Z"
        },
        "colab": {
          "base_uri": "https://localhost:8080/"
        },
        "id": "VFRi1-pO_UPS",
        "outputId": "ee529700-fdd4-495a-8dd5-8a65bf3586eb"
      },
      "outputs": [
        {
          "output_type": "execute_result",
          "data": {
            "text/plain": [
              "0.2222222222222222"
            ]
          },
          "metadata": {},
          "execution_count": 10
        }
      ],
      "source": [
        "sim_distance(critics, \"Lisa Rose\", \"Toby\")"
      ]
    },
    {
      "cell_type": "code",
      "execution_count": null,
      "metadata": {
        "ExecuteTime": {
          "end_time": "2022-07-05T16:12:17.444039Z",
          "start_time": "2022-07-05T16:12:17.363040Z"
        },
        "id": "Sgdn1B0yJmSX"
      },
      "outputs": [],
      "source": [
        "import numpy as np"
      ]
    },
    {
      "cell_type": "code",
      "execution_count": null,
      "metadata": {
        "ExecuteTime": {
          "end_time": "2022-07-05T16:12:17.509980Z",
          "start_time": "2022-07-05T16:12:17.490493Z"
        },
        "colab": {
          "base_uri": "https://localhost:8080/"
        },
        "id": "B0CE7stfJmSY",
        "outputId": "913ae38f-e12f-48e9-cd21-2a39a2d5ba5e"
      },
      "outputs": [
        {
          "output_type": "execute_result",
          "data": {
            "text/plain": [
              "array([[1.   , 0.148, 0.444, 0.286, 0.333, 0.211, 0.222],\n",
              "       [0.148, 1.   , 0.211, 0.133, 0.129, 0.8  , 0.108],\n",
              "       [0.444, 0.211, 1.   , 0.571, 0.286, 0.182, 0.286],\n",
              "       [0.286, 0.133, 0.571, 1.   , 0.174, 0.182, 0.235],\n",
              "       [0.333, 0.129, 0.286, 0.174, 1.   , 0.138, 0.308],\n",
              "       [0.211, 0.8  , 0.182, 0.182, 0.138, 1.   , 0.118],\n",
              "       [0.222, 0.108, 0.286, 0.235, 0.308, 0.118, 1.   ]])"
            ]
          },
          "metadata": {},
          "execution_count": 12
        }
      ],
      "source": [
        "dist_sim_vals = np.zeros((len(critics), len(critics)))\n",
        "\n",
        "for i, source in enumerate(critics):\n",
        "    for j, referer in enumerate(critics):\n",
        "        dist_sim_vals[i, j] = sim_distance(critics, source, referer)\n",
        "\n",
        "dist_sim_vals.round(3)"
      ]
    },
    {
      "cell_type": "code",
      "execution_count": null,
      "metadata": {
        "ExecuteTime": {
          "end_time": "2022-07-05T16:12:17.533402Z",
          "start_time": "2022-07-05T16:12:17.523704Z"
        },
        "colab": {
          "base_uri": "https://localhost:8080/"
        },
        "id": "pJNGlsoDJmSY",
        "outputId": "53090f96-3dd5-4ac6-f71d-ea89fe4067d7"
      },
      "outputs": [
        {
          "output_type": "execute_result",
          "data": {
            "text/plain": [
              "(0.36752489116590864, 0.2993937425464388)"
            ]
          },
          "metadata": {},
          "execution_count": 13
        }
      ],
      "source": [
        "dist_sim_vals.mean(), dist_sim_vals.std()"
      ]
    },
    {
      "cell_type": "code",
      "execution_count": null,
      "metadata": {
        "ExecuteTime": {
          "end_time": "2022-07-05T16:12:17.544013Z",
          "start_time": "2022-07-05T16:12:17.535367Z"
        },
        "colab": {
          "base_uri": "https://localhost:8080/"
        },
        "id": "NnTR7JeRJmSY",
        "outputId": "467938d2-aabe-4fab-e69c-6c189fec5cc3"
      },
      "outputs": [
        {
          "output_type": "execute_result",
          "data": {
            "text/plain": [
              "array([0.148, 0.444, 0.211, 0.286, 0.133, 0.571, 0.333, 0.129, 0.286,\n",
              "       0.174, 0.211, 0.8  , 0.182, 0.182, 0.138, 0.222, 0.108, 0.286,\n",
              "       0.235, 0.308, 0.118])"
            ]
          },
          "metadata": {},
          "execution_count": 14
        }
      ],
      "source": [
        "tirangle_mask = np.tri(len(critics), k=-1, dtype=np.bool_)\n",
        "\n",
        "norm_dist_sim_vals = dist_sim_vals[tirangle_mask]\n",
        "\n",
        "norm_dist_sim_vals.round(3)"
      ]
    },
    {
      "cell_type": "code",
      "execution_count": null,
      "metadata": {
        "ExecuteTime": {
          "end_time": "2022-07-05T16:12:17.554798Z",
          "start_time": "2022-07-05T16:12:17.547871Z"
        },
        "colab": {
          "base_uri": "https://localhost:8080/"
        },
        "id": "2stDMjHcJmSY",
        "outputId": "b8a679a3-5a9f-4186-ccc8-462fb9cf070b"
      },
      "outputs": [
        {
          "output_type": "execute_result",
          "data": {
            "text/plain": [
              "(0.26211237302689333, 0.1636870664584294)"
            ]
          },
          "metadata": {},
          "execution_count": 15
        }
      ],
      "source": [
        "norm_dist_sim_vals.mean(), norm_dist_sim_vals.std()"
      ]
    },
    {
      "cell_type": "code",
      "execution_count": null,
      "metadata": {
        "ExecuteTime": {
          "end_time": "2022-07-05T16:12:17.674178Z",
          "start_time": "2022-07-05T16:12:17.557718Z"
        },
        "id": "9H8izLhTJmSY"
      },
      "outputs": [],
      "source": [
        "import matplotlib.pyplot as plt\n",
        "\n",
        "\n",
        "def plot_pdf(values: np.ndarray, title: str):\n",
        "    \"\"\"Plots `values` distribution density\"\"\"\n",
        "    plt.figure(figsize=(10, 5))\n",
        "    plt.violinplot(values.flatten(), vert=False, showmedians=True)\n",
        "    plt.xlabel(\"Similarity\")\n",
        "    plt.grid()\n",
        "    plt.title(title)\n",
        "    plt.show()"
      ]
    },
    {
      "cell_type": "code",
      "execution_count": null,
      "metadata": {
        "ExecuteTime": {
          "end_time": "2022-07-05T16:12:17.728966Z",
          "start_time": "2022-07-05T16:12:17.675231Z"
        },
        "colab": {
          "base_uri": "https://localhost:8080/",
          "height": 350
        },
        "id": "Hww1zB2aJmSY",
        "outputId": "fb296daf-57a5-4725-db37-2c32563babb6"
      },
      "outputs": [
        {
          "output_type": "display_data",
          "data": {
            "text/plain": [
              "<Figure size 720x360 with 1 Axes>"
            ],
            "image/png": "[encoded data removed]"
          },
          "metadata": {
            "needs_background": "light"
          }
        }
      ],
      "source": [
        "plot_pdf(dist_sim_vals, \"Euclidian similarity distribution\")"
      ]
    },
    {
      "cell_type": "code",
      "execution_count": null,
      "metadata": {
        "ExecuteTime": {
          "end_time": "2022-07-05T16:12:17.781578Z",
          "start_time": "2022-07-05T16:12:17.729807Z"
        },
        "colab": {
          "base_uri": "https://localhost:8080/",
          "height": 350
        },
        "id": "iNXXMnMmJmSZ",
        "outputId": "f19d2621-3bd1-48eb-c947-1012eadb2123"
      },
      "outputs": [
        {
          "output_type": "display_data",
          "data": {
            "text/plain": [
              "<Figure size 720x360 with 1 Axes>"
            ],
            "image/png": "[encoded data removed]"
          },
          "metadata": {
            "needs_background": "light"
          }
        }
      ],
      "source": [
        "plot_pdf(norm_dist_sim_vals, \"Normalized euclidian similarity distribution\")"
      ]
    },
    {
      "cell_type": "markdown",
      "metadata": {
        "id": "4xSa0SN2_UPU"
      },
      "source": [
        "Эта функция работает также как:\n",
        "\n",
        "\\begin{equation}\n",
        "\\text{similarity}(x, y) = \\dfrac{1}{1 + d(x, y)},\n",
        "\\end{equation}\n",
        "\n",
        "где $d(x, y)$ - расстояние Евклида.\n",
        "\n",
        "Однако, по осям будет фильмы и оценки от критиков. Если у критиков нет одинаковых фильмов, то мы этих критиков не рассматриваем"
      ]
    },
    {
      "cell_type": "markdown",
      "metadata": {
        "id": "e7RF8iYA_UPV"
      },
      "source": [
        "### Коэффициент корреляции Пирсона\n",
        "\n",
        "Другой способ определять степень схожести - использовать коэффициент корреляции Пирсона. Этот коэффициент показывает, насколько два набора данных хорошо ложатся на прямую.\n",
        "\n",
        "![](https://github.com/v-goncharenko/madmo-adv/raw/255e43e0ee146c0b5c1c4cf9305abc0034fed5e2/09_recommendations/images/pearson.jpg)\n",
        "\n",
        "Два кинокритика со средним значением корреляции 0.41 (слева) и два кинокритика с высоким значением корреляции 0.75 (справа).\n",
        "\n",
        "Корреляция Пирсона считается по формуле:\n",
        "\n",
        "\\begin{equation}\n",
        "\\text{corr}(x, y) = \\dfrac{\\sum_{i = 1}^n (x_i - \\frac{\\sum_{j = 1}^n x_j}{n}) (y_i - \\frac{\\sum_{j = 1}^n y_j}{n})}{\\sqrt{\\sum_{i = 1}^n (x_i - \\frac{\\sum_{j = 1}^n x_j}{n})^2 \\sum_{i = 1}^n (y_i - \\frac{\\sum_{j = 1}^n y_j}{n})^2}}\n",
        "\\end{equation}"
      ]
    },
    {
      "cell_type": "markdown",
      "metadata": {
        "id": "YuwEP5n4_UPb"
      },
      "source": [
        "По аналогии с функцией **sim_distance()** в модуле **recommendations** реализована функция для подсчета сходства двух критиков на основе корреляции Пирсона. Она называется **sim_pearson()**. Функция принимает на вход те же самые аргументы, что и **sim_distance()**:\n",
        "\n",
        "- словарь критиков\n",
        "- имя первого критика для сравнения\n",
        "- имя второго критика для сравнения\n",
        "\n",
        "Посмотрим, как работает эта функция для двух критиков Lisa Rose и Gene Seymour:"
      ]
    },
    {
      "cell_type": "code",
      "execution_count": null,
      "metadata": {
        "ExecuteTime": {
          "end_time": "2022-07-05T16:12:17.886207Z",
          "start_time": "2022-07-05T16:12:17.782632Z"
        },
        "id": "ZzDR8aGsJmSZ"
      },
      "outputs": [],
      "source": [
        "from math import isnan\n",
        "\n",
        "from scipy.stats import pearsonr\n",
        "\n",
        "\n",
        "# Возвращает коэффициент корреляции Пирсона между person1 и person2\n",
        "def sim_pearson(critics_dict, person1, person2):\n",
        "    \"\"\"Calculates pearson correlation based similarity between persons\"\"\"\n",
        "    # получить список фильмов, оцененных обоими критиками\n",
        "    sim_films = similar_films(critics_dict, person1, person2)\n",
        "\n",
        "    # если нет ни одной общей оценки, вернуть 0\n",
        "    if len(sim_films) < 2:\n",
        "        return 0\n",
        "\n",
        "    # получим оценки критиков для фильмов из пересечения\n",
        "    scores1 = []\n",
        "    scores2 = []\n",
        "    for film in sim_films:\n",
        "        scores1.append(critics_dict[person1][film])\n",
        "        scores2.append(critics_dict[person2][film])\n",
        "\n",
        "    # посчитаем коэффициент корреляции\n",
        "    # берем [0] от результата, так как функция pearsonr() возвращает еще значение p-value\n",
        "    correlation = pearsonr(scores1, scores2)[0]\n",
        "\n",
        "    # если вдруг было деление на ноль и функция вернула nan, то присваиваем ноль\n",
        "    if isnan(correlation):\n",
        "        correlation = 0\n",
        "\n",
        "    return correlation"
      ]
    },
    {
      "cell_type": "code",
      "execution_count": null,
      "metadata": {
        "ExecuteTime": {
          "end_time": "2022-07-05T16:12:17.889542Z",
          "start_time": "2022-07-05T16:12:17.887136Z"
        },
        "colab": {
          "base_uri": "https://localhost:8080/"
        },
        "id": "6vn27sKY_UPf",
        "outputId": "7d56d00e-6601-4ad9-a53c-74f1cbb22a3a"
      },
      "outputs": [
        {
          "output_type": "execute_result",
          "data": {
            "text/plain": [
              "0.3960590171906697"
            ]
          },
          "metadata": {},
          "execution_count": 20
        }
      ],
      "source": [
        "sim_pearson(critics, \"Lisa Rose\", \"Gene Seymour\")"
      ]
    },
    {
      "cell_type": "code",
      "execution_count": null,
      "metadata": {
        "ExecuteTime": {
          "end_time": "2022-07-05T16:12:17.892408Z",
          "start_time": "2022-07-05T16:12:17.890368Z"
        },
        "colab": {
          "base_uri": "https://localhost:8080/"
        },
        "id": "7vDNOirgJmSZ",
        "outputId": "08871f8d-bfcc-4d7d-e4de-4dde891e6ba8"
      },
      "outputs": [
        {
          "output_type": "execute_result",
          "data": {
            "text/plain": [
              "0.9912407071619302"
            ]
          },
          "metadata": {},
          "execution_count": 21
        }
      ],
      "source": [
        "sim_pearson(critics, \"Lisa Rose\", \"Toby\")"
      ]
    },
    {
      "cell_type": "markdown",
      "metadata": {
        "id": "CDumrqf-JmSZ"
      },
      "source": [
        "Исследуем распределение такой величины схожести"
      ]
    },
    {
      "cell_type": "code",
      "execution_count": null,
      "metadata": {
        "ExecuteTime": {
          "end_time": "2022-07-05T16:12:17.899545Z",
          "start_time": "2022-07-05T16:12:17.893049Z"
        },
        "colab": {
          "base_uri": "https://localhost:8080/"
        },
        "id": "qwcpsaTpJmSa",
        "outputId": "33e1fcbb-cb21-4ebb-9086-075e2e5ea06f"
      },
      "outputs": [
        {
          "output_type": "execute_result",
          "data": {
            "text/plain": [
              "array([[ 1.   ,  0.396,  0.405,  0.567,  0.594,  0.747,  0.991],\n",
              "       [ 0.396,  1.   ,  0.205,  0.315,  0.412,  0.964,  0.381],\n",
              "       [ 0.405,  0.205,  1.   ,  1.   , -0.258,  0.135, -1.   ],\n",
              "       [ 0.567,  0.315,  1.   ,  1.   ,  0.567,  0.029,  0.893],\n",
              "       [ 0.594,  0.412, -0.258,  0.567,  1.   ,  0.211,  0.924],\n",
              "       [ 0.747,  0.964,  0.135,  0.029,  0.211,  1.   ,  0.663],\n",
              "       [ 0.991,  0.381, -1.   ,  0.893,  0.924,  0.663,  1.   ]])"
            ]
          },
          "metadata": {},
          "execution_count": 22
        }
      ],
      "source": [
        "dist_pear_vals = np.zeros((len(critics), len(critics)))\n",
        "\n",
        "for i, source in enumerate(critics):\n",
        "    for j, referer in enumerate(critics):\n",
        "        dist_pear_vals[i, j] = sim_pearson(critics, source, referer)\n",
        "\n",
        "dist_pear_vals.round(3)"
      ]
    },
    {
      "cell_type": "code",
      "execution_count": null,
      "metadata": {
        "ExecuteTime": {
          "end_time": "2022-07-05T16:12:17.905456Z",
          "start_time": "2022-07-05T16:12:17.903261Z"
        },
        "colab": {
          "base_uri": "https://localhost:8080/"
        },
        "id": "0yFKkXAxJmSa",
        "outputId": "d8c21542-1dd7-46db-d4b0-27e505c7bad7"
      },
      "outputs": [
        {
          "output_type": "execute_result",
          "data": {
            "text/plain": [
              "(0.5159356584296166, 0.4713252827635987)"
            ]
          },
          "metadata": {},
          "execution_count": 23
        }
      ],
      "source": [
        "dist_pear_vals.mean(), dist_pear_vals.std()"
      ]
    },
    {
      "cell_type": "code",
      "execution_count": null,
      "metadata": {
        "ExecuteTime": {
          "end_time": "2022-07-05T16:12:17.909413Z",
          "start_time": "2022-07-05T16:12:17.907078Z"
        },
        "colab": {
          "base_uri": "https://localhost:8080/"
        },
        "id": "3OpijYG9JmSa",
        "outputId": "703c0079-dc09-4b26-90c5-3ff845b25588"
      },
      "outputs": [
        {
          "output_type": "execute_result",
          "data": {
            "text/plain": [
              "array([ 0.396,  0.405,  0.205,  0.567,  0.315,  1.   ,  0.594,  0.412,\n",
              "       -0.258,  0.567,  0.747,  0.964,  0.135,  0.029,  0.211,  0.991,\n",
              "        0.381, -1.   ,  0.893,  0.924,  0.663])"
            ]
          },
          "metadata": {},
          "execution_count": 24
        }
      ],
      "source": [
        "tirangle_mask = np.tri(len(critics), k=-1, dtype=np.bool_)\n",
        "\n",
        "norm_pear_sim_vals = dist_pear_vals[tirangle_mask]\n",
        "\n",
        "norm_pear_sim_vals.round(3)"
      ]
    },
    {
      "cell_type": "code",
      "execution_count": null,
      "metadata": {
        "ExecuteTime": {
          "end_time": "2022-07-05T16:12:17.912179Z",
          "start_time": "2022-07-05T16:12:17.910194Z"
        },
        "colab": {
          "base_uri": "https://localhost:8080/"
        },
        "id": "-xolXHrYJmSa",
        "outputId": "bf02d5f7-189d-4548-afd4-1718aa652320"
      },
      "outputs": [
        {
          "output_type": "execute_result",
          "data": {
            "text/plain": [
              "(0.43525826816788604, 0.4621798568790931)"
            ]
          },
          "metadata": {},
          "execution_count": 25
        }
      ],
      "source": [
        "norm_pear_sim_vals.mean(), norm_pear_sim_vals.std()"
      ]
    },
    {
      "cell_type": "code",
      "execution_count": null,
      "metadata": {
        "ExecuteTime": {
          "end_time": "2022-07-05T16:12:17.977311Z",
          "start_time": "2022-07-05T16:12:17.912905Z"
        },
        "colab": {
          "base_uri": "https://localhost:8080/",
          "height": 350
        },
        "id": "jXdvz9qzJmSa",
        "outputId": "d16c0108-7082-4dbe-fbb4-202b77c80567"
      },
      "outputs": [
        {
          "output_type": "display_data",
          "data": {
            "text/plain": [
              "<Figure size 720x360 with 1 Axes>"
            ],
            "image/png": "[encoded data removed]"
          },
          "metadata": {
            "needs_background": "light"
          }
        }
      ],
      "source": [
        "plot_pdf(dist_pear_vals, \"Pearson similarity distribution\")"
      ]
    },
    {
      "cell_type": "code",
      "execution_count": null,
      "metadata": {
        "ExecuteTime": {
          "end_time": "2022-07-05T16:12:18.065317Z",
          "start_time": "2022-07-05T16:12:17.978203Z"
        },
        "colab": {
          "base_uri": "https://localhost:8080/",
          "height": 350
        },
        "id": "sGFjJ4dCJmSa",
        "outputId": "c6c99e4c-8f9d-4eaf-815e-f4946c32928c"
      },
      "outputs": [
        {
          "output_type": "display_data",
          "data": {
            "text/plain": [
              "<Figure size 720x360 with 1 Axes>"
            ],
            "image/png": "[encoded data removed]"
          },
          "metadata": {
            "needs_background": "light"
          }
        }
      ],
      "source": [
        "plot_pdf(norm_pear_sim_vals, \"Normalized pearson similarity distribution\")"
      ]
    },
    {
      "cell_type": "markdown",
      "metadata": {
        "id": "nHdaw1RB_UPi"
      },
      "source": [
        "## Ранжирование критиков"
      ]
    },
    {
      "cell_type": "markdown",
      "metadata": {
        "id": "xlFS82dj_UPi"
      },
      "source": [
        "После того как мы выбрали критерий для сравнения двух людей, можно начать искать для каждого человека подгруппу других людей с наиболее похожими вкусами.\n",
        "\n",
        "Для этого ниже реализована функция **top_matches()**. Функция возвращает список n наилучших соответствий для человека из словаря critics.\n",
        "\n",
        "Соответственно, аргументы у функции:\n",
        "\n",
        "- словарь критиков *critics*\n",
        "- имя персоны *person*, для которой подбираем соответствия\n",
        "- число *n* наилучших соответствий\n",
        "\n",
        "Кроме этого, так как мы хотим использовать различные расстояния, то в качестве аргумента мы будем также передавать имя функции-расстояния (*sim_fn*)."
      ]
    },
    {
      "cell_type": "code",
      "execution_count": null,
      "metadata": {
        "ExecuteTime": {
          "end_time": "2022-07-05T16:12:18.068747Z",
          "start_time": "2022-07-05T16:12:18.066658Z"
        },
        "id": "oco6VTTIJmSa"
      },
      "outputs": [],
      "source": [
        "from typing import Callable\n",
        "\n",
        "\n",
        "# возвращает топ-n наиболее похожих на person человек из critics_dict\n",
        "def top_matches(critics: dict, person: str, n: int = 5, similarity_fn: Callable = sim_pearson):\n",
        "    \"\"\"Retruns top-n most similar critics\"\"\"\n",
        "    # инициализируем лист оценок похожести\n",
        "    scores = []\n",
        "\n",
        "    # для каждого человека в словаре критиков\n",
        "    for other in critics:\n",
        "        if other == person:\n",
        "            continue\n",
        "\n",
        "        # добавить в scores похожесть, вычисленную с помощью функции, записанной в similarity, и имя человека\n",
        "        similarity_score = similarity_fn(critics, person, other)\n",
        "        scores.append((similarity_score, other))\n",
        "\n",
        "    # отсортировать список по убыванию оценок\n",
        "    scores.sort(reverse=True)  # аргумент reverse=True отвечает за убывающий порядок\n",
        "\n",
        "    # возвращаем первые n человек\n",
        "    return scores[0:n]"
      ]
    },
    {
      "cell_type": "markdown",
      "metadata": {
        "id": "8rIwr1LP_UPk"
      },
      "source": [
        "Пример вычисления топ-3 критиков похожих на Toby по корреляции Пирсона:"
      ]
    },
    {
      "cell_type": "code",
      "execution_count": null,
      "metadata": {
        "ExecuteTime": {
          "end_time": "2022-07-05T16:12:18.072628Z",
          "start_time": "2022-07-05T16:12:18.069583Z"
        },
        "colab": {
          "base_uri": "https://localhost:8080/"
        },
        "id": "3dRiz0NF_UPk",
        "outputId": "99879eab-78ba-4c39-9e41-dc8e3f3db588"
      },
      "outputs": [
        {
          "output_type": "execute_result",
          "data": {
            "text/plain": [
              "[(0.9912407071619302, 'Lisa Rose'),\n",
              " (0.9244734516419049, 'Mick LaSalle'),\n",
              " (0.8934051474415642, 'Claudia Puig')]"
            ]
          },
          "metadata": {},
          "execution_count": 29
        }
      ],
      "source": [
        "top_matches(critics, \"Toby\", 3, sim_pearson)"
      ]
    },
    {
      "cell_type": "markdown",
      "metadata": {
        "id": "Ab2yEqVL_UPm"
      },
      "source": [
        "Как работает эта функция:\n",
        "\n",
        "- считаем схожесть интересующего нас критика с каждым другим критиком используя функцию **similarity**\n",
        "- сортируем результаты\n",
        "- возвращаем топ **n** результатов\n",
        "\n",
        "Пример вычисления топ-3 критиков похожих на Toby по евклидову расстоянию:"
      ]
    },
    {
      "cell_type": "code",
      "execution_count": null,
      "metadata": {
        "ExecuteTime": {
          "end_time": "2022-07-05T16:12:18.075433Z",
          "start_time": "2022-07-05T16:12:18.073506Z"
        },
        "colab": {
          "base_uri": "https://localhost:8080/"
        },
        "id": "QKOTDXirJmSb",
        "outputId": "0742613a-f859-4a60-dbdd-ae595faead28"
      },
      "outputs": [
        {
          "output_type": "stream",
          "name": "stdout",
          "text": [
            "{   'Lisa Rose': {   'Just My Luck': 3.0,\n",
            "                     'Lady in the Water': 2.5,\n",
            "                     'Snakes on a Plane': 3.5,\n",
            "                     'Superman Returns': 3.5,\n",
            "                     'The Night Listener': 3.0,\n",
            "                     'You, Me and Dupree': 2.5},\n",
            "    'Mick LaSalle': {   'Just My Luck': 2.0,\n",
            "                        'Lady in the Water': 3.0,\n",
            "                        'Snakes on a Plane': 4.0,\n",
            "                        'Superman Returns': 3.0,\n",
            "                        'The Night Listener': 3.0,\n",
            "                        'You, Me and Dupree': 2.0},\n",
            "    'Toby': {   'Snakes on a Plane': 4.5,\n",
            "                'Superman Returns': 4.0,\n",
            "                'You, Me and Dupree': 1.0}}\n"
          ]
        }
      ],
      "source": [
        "pp.pprint({k: v for k, v in critics.items() if k in (\"Toby\", \"Mick LaSalle\", \"Lisa Rose\")})"
      ]
    },
    {
      "cell_type": "code",
      "execution_count": null,
      "metadata": {
        "ExecuteTime": {
          "end_time": "2022-07-05T16:12:18.077900Z",
          "start_time": "2022-07-05T16:12:18.076158Z"
        },
        "colab": {
          "base_uri": "https://localhost:8080/"
        },
        "id": "brjogX-B_UPp",
        "outputId": "81e4ef67-5238-4bb2-dd1c-70a1cd9d3a8d"
      },
      "outputs": [
        {
          "output_type": "execute_result",
          "data": {
            "text/plain": [
              "[(0.3076923076923077, 'Mick LaSalle'),\n",
              " (0.2857142857142857, 'Michael Phillips'),\n",
              " (0.23529411764705882, 'Claudia Puig')]"
            ]
          },
          "metadata": {},
          "execution_count": 31
        }
      ],
      "source": [
        "top_matches(critics, \"Toby\", 3, sim_distance)"
      ]
    },
    {
      "cell_type": "markdown",
      "metadata": {
        "id": "epcfG-45_UPu"
      },
      "source": [
        "Выбор расстояния для подбора похожести зависит от конкретной задачи. Имеет смысл попробовать разные критерии и посмотреть, какой из них дает наилучший результат."
      ]
    },
    {
      "cell_type": "markdown",
      "metadata": {
        "id": "Eus_ti7o_UPu"
      },
      "source": [
        "## Рекомендация фильмов (User-based подход)"
      ]
    },
    {
      "cell_type": "markdown",
      "metadata": {
        "id": "mGV5SoZH_UPv"
      },
      "source": [
        "Мы умеем находить людей с похожим мнением как у рассматриваемого человека. Но как получить конкретную рекомендацию с набором фильмов? Можно было бы просто посмотреть на то, какие фильмы понравились похожему человеку, и выбрать из них не просмотренные. Однако, такой способ не стабилен: можем, например, отобрать критика, которому по каким-то причинам понравился фильм, получивший негативные оценки от остальных.\n",
        "\n",
        "Чтобы разрешить эту проблему, можно ранжировать сами фильмы, вычисляя взвешенную сумму оценок критиков. Мы будем брать оценку фильма у критика и умножать его на коэффициент похожести с тем, для которого мы строим рекомендацию. Затем полученный результат суммировать и нормировать.\n",
        "\n",
        "Идея такого подхода в том, что люди похожие на тебя вносят больший вклад в \"рейтинг\" фильма."
      ]
    },
    {
      "cell_type": "markdown",
      "metadata": {
        "id": "Ps7-hjHV_UPw"
      },
      "source": [
        "<p align=\"center\">\n",
        "  <img src=\"https://drive.google.com/uc?id=1FllGQ-zOF_37EZs8GamE2LTV6rp5WGyn\" alt=\"Drawing\" style=\"width: 700px;\" width=\"700\"/>\n",
        "</p>"
      ]
    },
    {
      "cell_type": "markdown",
      "metadata": {
        "id": "zRfh4yer_UPx"
      },
      "source": [
        "Этот подход реализован в модуле **recommendations** в функции **get_recommendations()**. Функция принимает на вход следующие аргументы:\n",
        "\n",
        "- словарь критиков *critics_dict*\n",
        "- имя персоны *person*, для которой подбираем соответствия\n",
        "- имя функции-критерия для сравнения"
      ]
    },
    {
      "cell_type": "code",
      "execution_count": null,
      "metadata": {
        "ExecuteTime": {
          "end_time": "2022-07-05T16:12:18.081426Z",
          "start_time": "2022-07-05T16:12:18.078580Z"
        },
        "id": "XvsRP1aWJmSb"
      },
      "outputs": [],
      "source": [
        "# Получить рекомендации для заданного человека, пользуясь взвешенным средним\n",
        "# оценок, данных всеми остальными пользователями\n",
        "def get_recommendations(prefs, person, similarity=sim_pearson):\n",
        "    # инициализируем словари\n",
        "    totals = {}\n",
        "    sim_sums = {}\n",
        "\n",
        "    # для каждого пользователя\n",
        "    for other in prefs:\n",
        "        # сравнивать person с person не нужно\n",
        "        if other == person:\n",
        "            continue\n",
        "        # считаем похожесть\n",
        "        sim = similarity(prefs, person, other)\n",
        "\n",
        "        # игнорировать нулевые и отрицательные значения похожести\n",
        "        if sim <= 0:\n",
        "            continue\n",
        "\n",
        "        # для каждого фильма в оцененных other\n",
        "        for item in prefs[other]:\n",
        "            # оценивать только фильмы, которые я еще не смотрел\n",
        "            if item not in prefs[person] or prefs[person][item] == 0:\n",
        "\n",
        "                # коэффициент подобия * Оценка\n",
        "                totals.setdefault(item, 0)\n",
        "                totals[item] = totals[item] + prefs[other][item] * sim\n",
        "\n",
        "                # cумма коэффициентов подобия\n",
        "                sim_sums.setdefault(item, 0)\n",
        "                sim_sums[item] = sim_sums[item] + sim\n",
        "    # создать нормированный список\n",
        "    rankings = [(total / sim_sums[item], item) for item, total in totals.items()]\n",
        "\n",
        "    # вернуть отсортированный список\n",
        "    rankings.sort(reverse=True)\n",
        "    return rankings"
      ]
    },
    {
      "cell_type": "code",
      "execution_count": null,
      "metadata": {
        "ExecuteTime": {
          "end_time": "2022-07-05T16:12:18.084884Z",
          "start_time": "2022-07-05T16:12:18.082399Z"
        },
        "colab": {
          "base_uri": "https://localhost:8080/"
        },
        "id": "zJh5vXT0_UPy",
        "outputId": "f3c36d6b-dd22-4f3f-9975-2a40a7d3906b"
      },
      "outputs": [
        {
          "output_type": "execute_result",
          "data": {
            "text/plain": [
              "[(3.347789526713101, 'The Night Listener'),\n",
              " (2.832549918264162, 'Lady in the Water'),\n",
              " (2.5309807037655645, 'Just My Luck')]"
            ]
          },
          "metadata": {},
          "execution_count": 34
        }
      ],
      "source": [
        "get_recommendations(critics, \"Toby\", sim_pearson)"
      ]
    },
    {
      "cell_type": "code",
      "execution_count": null,
      "metadata": {
        "ExecuteTime": {
          "end_time": "2022-07-05T16:12:18.087126Z",
          "start_time": "2022-07-05T16:12:18.085527Z"
        },
        "colab": {
          "base_uri": "https://localhost:8080/"
        },
        "id": "-peDbStUHhFR",
        "outputId": "fe5d60ab-2dea-441d-91ce-047f34ea1e6a"
      },
      "outputs": [
        {
          "output_type": "execute_result",
          "data": {
            "text/plain": [
              "{'Snakes on a Plane': 4.5, 'You, Me and Dupree': 1.0, 'Superman Returns': 4.0}"
            ]
          },
          "metadata": {},
          "execution_count": 35
        }
      ],
      "source": [
        "critics[\"Toby\"]"
      ]
    },
    {
      "cell_type": "code",
      "source": [
        "critics['Lisa Rose']"
      ],
      "metadata": {
        "colab": {
          "base_uri": "https://localhost:8080/"
        },
        "id": "1jbsJP5gqBAp",
        "outputId": "d4877dbb-d50a-40a5-fb2e-7ed39b535066"
      },
      "execution_count": null,
      "outputs": [
        {
          "output_type": "execute_result",
          "data": {
            "text/plain": [
              "{'Lady in the Water': 2.5,\n",
              " 'Snakes on a Plane': 3.5,\n",
              " 'Just My Luck': 3.0,\n",
              " 'Superman Returns': 3.5,\n",
              " 'You, Me and Dupree': 2.5,\n",
              " 'The Night Listener': 3.0}"
            ]
          },
          "metadata": {},
          "execution_count": 37
        }
      ]
    },
    {
      "cell_type": "markdown",
      "metadata": {
        "id": "3KtJ5piw_UP0"
      },
      "source": [
        "Как работает эта функция:\n",
        "\n",
        "- считаем схожесть пользователя с каждым другим пользователем\n",
        "- перебираем фильмы, которые смотрели другие пользователи, но не смотрел текущий пользователь\n",
        "- нормируем рейтинг фильмов на основе того насколько он понравился другим пользователям, и того насколько каждый из других пользователей похож на текущего пользователя\n",
        "- сортируем список"
      ]
    },
    {
      "cell_type": "code",
      "execution_count": null,
      "metadata": {
        "ExecuteTime": {
          "end_time": "2022-07-05T16:12:18.089769Z",
          "start_time": "2022-07-05T16:12:18.087879Z"
        },
        "colab": {
          "base_uri": "https://localhost:8080/"
        },
        "id": "bxb6b8UH_UP1",
        "outputId": "a7a56274-f140-4bc7-cf93-48db87477496"
      },
      "outputs": [
        {
          "output_type": "execute_result",
          "data": {
            "text/plain": [
              "[(3.5002478401415877, 'The Night Listener'),\n",
              " (2.7561242939959363, 'Lady in the Water'),\n",
              " (2.461988486074374, 'Just My Luck')]"
            ]
          },
          "metadata": {},
          "execution_count": 38
        }
      ],
      "source": [
        "get_recommendations(critics, \"Toby\", sim_distance)"
      ]
    },
    {
      "cell_type": "markdown",
      "metadata": {
        "id": "DtdRcrIB_UP3"
      },
      "source": [
        "Мы получили ранжированный список фильмов, а также прогноз оценки, которую поставит Toby этим фильмам."
      ]
    },
    {
      "cell_type": "markdown",
      "metadata": {
        "id": "ISMyknUc_UP4"
      },
      "source": [
        "## Коллаборативная фильтрация по сходству объектов (Item-based collaborative filtering)\n",
        "\n",
        "Мы реализовали механизм выдачи рекомендаций таким образом, что для создания набора данных необходимы оценки, выставленные каждым\n",
        "пользователем. Для нескольких тысяч людей это, возможно, и будет работать, но, когда речь идет о миллионах пользователей и товаров, сравнение каждого пользователя со всеми другими, а затем сравнение товаров, займет недопустимо много времени.\n",
        "\n",
        "<p align=\"center\">\n",
        "  <img src=\"https://drive.google.com/uc?id=1ojBsHkO0Do1MApgULhAJye3pVFDm_-bZ\" alt=\"Drawing\" style=\"width: 700px;\"/>\n",
        "</p>"
      ]
    },
    {
      "cell_type": "markdown",
      "metadata": {
        "id": "ZQ2FwE5n_UP5"
      },
      "source": [
        "Техника, которую мы применяли до сих пор, называется **коллаборативной фильтрацией по схожести пользователей**. Альтернатива известна под названием **коллаборативная фильтрация по схожести образцов**. \n",
        "\n",
        "Основная идея процедуры фильтрации по схожести образцов заключается в том, чтобы для каждого образца заранее вычислить большинство похожих на него. Тогда для выдачи рекомендаций алгоритму достаточно будет найти те образцы, которым пользователь выставил наивысшие оценки, а затем сформировать список образцов, максимально похожих на эти. \n",
        "\n",
        "Отметим одно существенное отличие: хотя на первом шаге необходимо исследовать все данные, результаты сравнения образцов изменяются не так часто, как результаты сравнения пользователей.\n",
        "\n",
        "<p align=\"center\">\n",
        "  <img src=\"https://drive.google.com/uc?id=1FexrozBH2sZR3TCgVs1-eKGtwdEtdmaP\" alt=\"Drawing\" style=\"width: 700px;\" width=\"700\"/>\n",
        "</p>"
      ]
    },
    {
      "cell_type": "markdown",
      "metadata": {
        "collapsed": true,
        "id": "iKjMD6J8_UP8"
      },
      "source": [
        "Чтобы сравнивать образцы, нужно первым делом построить полный набор данных о похожих образцах. В первую очередь, нам нужно переделать словарь предпочтений критиков таким образом, чтобы теперь был словарь фильмов и их оценок:\n",
        "\n",
        "```python\n",
        "film_dict = {\n",
        "    'film_name_1': \n",
        "    {'critic_1': 'score_1', \n",
        "     'critic_2': 'score_2', \n",
        "     ...\n",
        "    }, \n",
        "    ...\n",
        "}\n",
        "```\n",
        "\n",
        "Далее для каждого фильма посчитать наиболее похожие образцы и коэффициенты похожести для них. Для подсчета схожести будем использовать евклидово расстояние.\n",
        "\n",
        "В модуле **recommendations** есть функция **calculate_similar_items()**, которая делает сразу оба шага. На вход её нужно подать словарь с оценками критиков *critics* и число образцов, которые мы считаем наиболее похожими (остальные не выводим)."
      ]
    },
    {
      "cell_type": "code",
      "execution_count": null,
      "metadata": {
        "ExecuteTime": {
          "end_time": "2022-07-05T16:12:18.092506Z",
          "start_time": "2022-07-05T16:12:18.090792Z"
        },
        "id": "zynYU5CeJmSc"
      },
      "outputs": [],
      "source": [
        "# обращает матрицу предпочтений, чтобы строки соответствовали образцам\n",
        "def transform_prefs(critics_dict):\n",
        "    # инициилизируем новый словарь с фильмами и их оценками\n",
        "    result = {}\n",
        "\n",
        "    # для каждого критика в словаре\n",
        "    for person in critics_dict:\n",
        "        # для каждого оцененного им фильма\n",
        "        for item in critics_dict[person]:\n",
        "            # добавляем такой объект в словарь\n",
        "            result.setdefault(item, {})\n",
        "            # меняеи местами человека и предмет\n",
        "            result[item][person] = critics_dict[person][item]\n",
        "    return result"
      ]
    },
    {
      "cell_type": "code",
      "execution_count": null,
      "metadata": {
        "ExecuteTime": {
          "end_time": "2022-07-05T16:12:18.095182Z",
          "start_time": "2022-07-05T16:12:18.093297Z"
        },
        "id": "TMUQS2zvJmSc"
      },
      "outputs": [],
      "source": [
        "# Создать словарь, содержащий для каждого образца те образцы, которые больше всего похожи на него.\n",
        "def calculate_similar_items(prefs, n=10):\n",
        "    result = {}\n",
        "    # обращаем матрицу предпочтений, чтобы строки соответствовали образцам\n",
        "    item_prefs = transform_prefs(prefs)\n",
        "\n",
        "    c = 0\n",
        "    for item in item_prefs:\n",
        "        # проверка состояния для больших наборов данных\n",
        "        c = c + 1\n",
        "        if c % 100 == 0:\n",
        "            print(\"%d / %d\" % (c, len(item_prefs)))\n",
        "\n",
        "        # найти образцы, максимально похожие на данный\n",
        "        scores = top_matches(item_prefs, item, n, sim_distance)\n",
        "        result[item] = scores\n",
        "    return result\n"
      ]
    },
    {
      "cell_type": "code",
      "execution_count": null,
      "metadata": {
        "ExecuteTime": {
          "end_time": "2022-07-05T16:12:18.097520Z",
          "start_time": "2022-07-05T16:12:18.096162Z"
        },
        "id": "adYIzV9d_UP8"
      },
      "outputs": [],
      "source": [
        "itemsim = calculate_similar_items(critics, n=10)"
      ]
    },
    {
      "cell_type": "code",
      "execution_count": null,
      "metadata": {
        "ExecuteTime": {
          "end_time": "2022-07-05T16:12:18.100595Z",
          "start_time": "2022-07-05T16:12:18.098453Z"
        },
        "colab": {
          "base_uri": "https://localhost:8080/"
        },
        "id": "jAbK3axg_UQA",
        "outputId": "cd38fba0-39a7-4bf9-c7b2-f05ca8158d06"
      },
      "outputs": [
        {
          "output_type": "stream",
          "name": "stdout",
          "text": [
            "{   'Just My Luck': [   (0.2222222222222222, 'Lady in the Water'),\n",
            "                        (0.18181818181818182, 'You, Me and Dupree'),\n",
            "                        (0.15384615384615385, 'The Night Listener'),\n",
            "                        (0.10526315789473684, 'Snakes on a Plane'),\n",
            "                        (0.06451612903225806, 'Superman Returns')],\n",
            "    'Lady in the Water': [   (0.4, 'You, Me and Dupree'),\n",
            "                             (0.2857142857142857, 'The Night Listener'),\n",
            "                             (0.2222222222222222, 'Snakes on a Plane'),\n",
            "                             (0.2222222222222222, 'Just My Luck'),\n",
            "                             (0.09090909090909091, 'Superman Returns')],\n",
            "    'Snakes on a Plane': [   (0.2222222222222222, 'Lady in the Water'),\n",
            "                             (0.18181818181818182, 'The Night Listener'),\n",
            "                             (0.16666666666666666, 'Superman Returns'),\n",
            "                             (0.10526315789473684, 'Just My Luck'),\n",
            "                             (0.05128205128205128, 'You, Me and Dupree')],\n",
            "    'Superman Returns': [   (0.16666666666666666, 'Snakes on a Plane'),\n",
            "                            (0.10256410256410256, 'The Night Listener'),\n",
            "                            (0.09090909090909091, 'Lady in the Water'),\n",
            "                            (0.06451612903225806, 'Just My Luck'),\n",
            "                            (0.05333333333333334, 'You, Me and Dupree')],\n",
            "    'The Night Listener': [   (0.2857142857142857, 'Lady in the Water'),\n",
            "                              (0.18181818181818182, 'Snakes on a Plane'),\n",
            "                              (0.15384615384615385, 'Just My Luck'),\n",
            "                              (0.14814814814814814, 'You, Me and Dupree'),\n",
            "                              (0.10256410256410256, 'Superman Returns')],\n",
            "    'You, Me and Dupree': [   (0.4, 'Lady in the Water'),\n",
            "                              (0.18181818181818182, 'Just My Luck'),\n",
            "                              (0.14814814814814814, 'The Night Listener'),\n",
            "                              (0.05333333333333334, 'Superman Returns'),\n",
            "                              (0.05128205128205128, 'Snakes on a Plane')]}\n"
          ]
        }
      ],
      "source": [
        "pp.pprint(itemsim)"
      ]
    },
    {
      "cell_type": "code",
      "execution_count": null,
      "metadata": {
        "ExecuteTime": {
          "end_time": "2022-07-05T16:12:18.103579Z",
          "start_time": "2022-07-05T16:12:18.101677Z"
        },
        "colab": {
          "base_uri": "https://localhost:8080/"
        },
        "id": "gRdOzNm9IQWl",
        "outputId": "e673528c-ed18-46e5-b47c-02b799466ffd",
        "scrolled": true
      },
      "outputs": [
        {
          "output_type": "execute_result",
          "data": {
            "text/plain": [
              "[(0.16666666666666666, 'Snakes on a Plane'),\n",
              " (0.10256410256410256, 'The Night Listener'),\n",
              " (0.09090909090909091, 'Lady in the Water'),\n",
              " (0.06451612903225806, 'Just My Luck'),\n",
              " (0.05333333333333334, 'You, Me and Dupree')]"
            ]
          },
          "metadata": {},
          "execution_count": 43
        }
      ],
      "source": [
        "itemsim[\"Superman Returns\"]"
      ]
    },
    {
      "cell_type": "markdown",
      "metadata": {
        "id": "cNqKm0c7_UQC"
      },
      "source": [
        "Получили вложенный словарь с фильмами и их похожестью на другие фильмы.\n",
        "\n",
        "Теперь мы готовы выдавать рекомендации, пользуясь словарем данных о схожести образцов. По аналогии с тем, что мы уже делали, необходимо получить список всех образцов, которым пользователь выставлял оценки, найти похожие и взвесить их с учетом коэффициентов подобия (умножить оценку на коэффициент подобия).\n",
        "\n",
        "<p align=\"center\">\n",
        "  <img src=\"https://drive.google.com/uc?id=1KW6PdGw7D4tmln9BlTuqB7W3_svQBVl_\" alt=\"Drawing\" style=\"width: 700px;\" width=\"700\"/>\n",
        "</p>"
      ]
    },
    {
      "cell_type": "markdown",
      "metadata": {
        "id": "8f7bximq_UQE"
      },
      "source": [
        "Этот механизм реализован в функции **get_recommended_items()** из **recommendations**. На вход подается:\n",
        "\n",
        "- словарь с оценками пользователя (в нашем случае это словарь критиков, *critics*)\n",
        "- словарь с данными о схожести образцов, *itemsim*\n",
        "- имя критика, для которого строим рекомендации\n",
        "\n",
        "Получим рекомендации для пользователя Toby:"
      ]
    },
    {
      "cell_type": "code",
      "execution_count": null,
      "metadata": {
        "ExecuteTime": {
          "end_time": "2022-07-05T16:12:18.106598Z",
          "start_time": "2022-07-05T16:12:18.104504Z"
        },
        "colab": {
          "base_uri": "https://localhost:8080/"
        },
        "id": "8LjM5MBFJmSc",
        "outputId": "0a89c94b-507f-4a68-e4e5-94c70ac0d33c"
      },
      "outputs": [
        {
          "output_type": "execute_result",
          "data": {
            "text/plain": [
              "{'Snakes on a Plane': 4.5, 'You, Me and Dupree': 1.0, 'Superman Returns': 4.0}"
            ]
          },
          "metadata": {},
          "execution_count": 44
        }
      ],
      "source": [
        "critics[\"Toby\"]"
      ]
    },
    {
      "cell_type": "code",
      "execution_count": null,
      "metadata": {
        "ExecuteTime": {
          "end_time": "2022-07-05T16:12:18.110149Z",
          "start_time": "2022-07-05T16:12:18.107609Z"
        },
        "id": "L-bC3kecJmSd"
      },
      "outputs": [],
      "source": [
        "# Получить рекомендации для заданного человека, пользуясь взвешенным средним\n",
        "# оценок, похожих на оцененные пользователем объектов\n",
        "def get_recommended_items(prefs, item_match, user):\n",
        "    # инициализируем словари\n",
        "    user_ratings = prefs[user]\n",
        "    scores = {}\n",
        "    total_sim = {}\n",
        "\n",
        "    # цикл по образцам, оцененным данным пользователем (хранятся в user_ratings)\n",
        "    for (item, rating) in user_ratings.items():\n",
        "        # цикл по образцам, похожим на данный (хранятся в словаре item_match)\n",
        "        for (similarity, item2) in item_match[item]:\n",
        "            # пропускаем объект, если пользователь уже оценивал данный образец\n",
        "            if item2 in user_ratings:\n",
        "                continue\n",
        "            # взвешенная суммы оценок, умноженных на коэффициент подобия\n",
        "            scores.setdefault(item2, 0)\n",
        "            scores[item2] = scores[item2] + similarity * rating\n",
        "            # сумма всех коэффициентов подобия\n",
        "            total_sim.setdefault(item2, 0)\n",
        "            total_sim[item2] = total_sim[item2] + similarity\n",
        "            if total_sim[item2] == 0:\n",
        "                total_sim[item2] = 0.0000001  # чтобы избежать деления на ноль\n",
        "    # делим каждую итоговую оценку на взвешенную сумму, чтобы вычислить среднее\n",
        "    rankings = [(score / total_sim[item], item) for item, score in scores.items()]\n",
        "\n",
        "    # возвращает список rankings, отсортированный по убыванию\n",
        "    rankings.sort(reverse=True)\n",
        "    return rankings"
      ]
    },
    {
      "cell_type": "code",
      "execution_count": null,
      "metadata": {
        "ExecuteTime": {
          "end_time": "2022-07-05T16:12:18.113330Z",
          "start_time": "2022-07-05T16:12:18.111149Z"
        },
        "colab": {
          "base_uri": "https://localhost:8080/"
        },
        "id": "Au-TzhYH_UQE",
        "outputId": "0ba2e04f-9400-446c-9ed9-4cfd9ea87f12"
      },
      "outputs": [
        {
          "output_type": "execute_result",
          "data": {
            "text/plain": [
              "[(3.182634730538922, 'The Night Listener'),\n",
              " (2.5983318700614575, 'Just My Luck'),\n",
              " (2.4730878186968837, 'Lady in the Water')]"
            ]
          },
          "metadata": {},
          "execution_count": 46
        }
      ],
      "source": [
        "get_recommended_items(critics, itemsim, \"Toby\")"
      ]
    },
    {
      "cell_type": "markdown",
      "metadata": {
        "id": "kboZa2t0_UQH"
      },
      "source": [
        "## Метрики качества для рекомендательных систем\n",
        "\n",
        "Для оценки качества работы рекомендательных систем можно рассмотреть две специальные метрики **Hit Rate** (HR) и **Mean Reciprocal Rank** (MRR).\n",
        "\n",
        "Определим как **попадание** (**hit**) - ситуацию, когда фильм был рекомендован пользователю в топ-N и пользователь посмотрел его."
      ]
    },
    {
      "cell_type": "markdown",
      "metadata": {
        "id": "FRnU59A9_UQJ"
      },
      "source": [
        "### Hit Rate at k (HR@k)\n",
        "\n",
        "**Hit Rate at k (процент попаданий из k предсказаний)** определяется как общее число попаданий, нормированное на количество пользователей. Попаданием считается наличие верной рекомендации среди предложенных k вариантов (обычно берётся топ самых релевантных объектов, предложенных нашей моделью).\n",
        "\n",
        "$$\n",
        "\\text{HR} = \\frac{1}{\\text{# test users}} \\sum_{\\text{test users}}{\\text{hit}}\n",
        "$$\n",
        "\n",
        "Чем больше процент попаданий, тем лучше будет наша система рекомендаций.\n",
        "\n",
        "*Замечание*: в некотором смысле, Hit Rate представляет собой производное от классических ML метрик precision и recall."
      ]
    },
    {
      "cell_type": "markdown",
      "metadata": {
        "id": "7v4hQXwA_UQM"
      },
      "source": [
        "### Mean Reciprocal Rank (MRR)\n",
        "\n",
        "Отличие метрики **Mean Reciprocal Rank** от предыдущей в том, что мы учитываем не общее количество попаданий, а обратное рангу (месту в списке рекомендаций) **первое попадание**.\\\n",
        "Например, если фильм, просмотренный пользователем (попадание), стоял на втором месте, обратное рангу будет равно $\\frac{1}{2}$, а если бы стоял на третьем - $\\frac{1}{3}$ и так далее.\n",
        "\n",
        "$$\n",
        "\\text{MRR} = \\frac{1}{\\text{# test users}} \\sum_{\\text{test users}}{\\frac{1}{\\text{hit rank}}}\n",
        "$$\n",
        "\n",
        "Рассмотрим на примере. Toby получил следующий список рекомендаций:"
      ]
    },
    {
      "cell_type": "code",
      "execution_count": null,
      "metadata": {
        "ExecuteTime": {
          "end_time": "2022-07-05T16:12:18.117319Z",
          "start_time": "2022-07-05T16:12:18.114286Z"
        },
        "colab": {
          "base_uri": "https://localhost:8080/"
        },
        "id": "xkD151Wi_UQP",
        "outputId": "99ee8078-9ad0-49b7-e47a-3e4c22a40a21"
      },
      "outputs": [
        {
          "output_type": "execute_result",
          "data": {
            "text/plain": [
              "[(3.347789526713101, 'The Night Listener'),\n",
              " (2.832549918264162, 'Lady in the Water'),\n",
              " (2.5309807037655645, 'Just My Luck')]"
            ]
          },
          "metadata": {},
          "execution_count": 47
        }
      ],
      "source": [
        "get_recommendations(critics, \"Toby\", sim_pearson)"
      ]
    },
    {
      "cell_type": "markdown",
      "metadata": {
        "id": "NWid3AD0_UQS"
      },
      "source": [
        "Допустим, после этого Toby посмотрел 5 фильмов и выставил им следующие оценки:\n",
        "\n",
        "|Film|Score\n",
        "|--------------------|----\n",
        "| The Departed |4.5 \n",
        "| The Night Listener |4   \n",
        "| Lady in the Water |3.9 \n",
        "| The Firm |3.7 \n",
        "| Just My Luck |3   "
      ]
    },
    {
      "cell_type": "markdown",
      "metadata": {
        "id": "Vb3ymJfX_UQT"
      },
      "source": [
        "Как мы видим, только два фильма из списка рекомендаций попали в личный топ-3 Toby.\\\n",
        "Получается, что **попадание (hits)** у него 2.\n",
        "\n",
        "**HR = $\\dfrac{1}{1} * 2 = 2$**, так как выборка тестовых пользователей (test_users) состоит из одного Toby.\n",
        "\n",
        "Далее посчитаем MRR:\n",
        "\n",
        "- **$\\frac{1}{hit\\,rank}$** для фильма The Night Listener - это $\\dfrac{1}{2}$\n",
        "- **$\\frac{1}{hit\\,rank}$** для фильма Lady in the Water - это $\\dfrac{1}{3}$\n",
        "\n",
        "Но фильм **The Night Listener** стоит выше в рейтинге Toby, чем **Lady in the Water**, поэтому:\n",
        "\n",
        "**MRR = $\\dfrac{1}{1}*\\dfrac{1}{2} = \\dfrac{1}{2}$**, так как, опять же, выборка тестовых пользователей (test_users) состоит из одного Toby."
      ]
    },
    {
      "cell_type": "markdown",
      "metadata": {
        "id": "uVz--JCg_UQV"
      },
      "source": [
        "## Бонус\\* : Рекомендация на данных MovieLens"
      ]
    },
    {
      "cell_type": "markdown",
      "metadata": {
        "id": "hswKQL4m_UQW"
      },
      "source": [
        "В этом примере мы рассмотрим реальный набор данных с оценками фильмов, который называется MovieLens.\\\n",
        "Источник данных: http://grouplens.org/datasets/movielens/"
      ]
    },
    {
      "cell_type": "markdown",
      "metadata": {
        "id": "AZts6qpz_UQX"
      },
      "source": [
        "Датасет представляет собой набор фильмов, которые 162541 пользователей сайта MovieLens оценивали по 5-бальной шкале. В наборе также есть дополнительная информация такая как описание фильмов тегами, но в нашем упражнении мы её использовать не будем для упрощения. Также, чтобы уменьшить время вычислений, будем использовать данный только 943 пользователей. Каждый пользователь в датасете оценил минимум 20 фильмов.\n",
        "\n",
        "Загруженный датасет будет в следующем виде:\n",
        "\n",
        "```python\n",
        "\n",
        "preferences = {\n",
        "    'user_id_1' : {\n",
        "        'film_name_1' : rate,\n",
        "        'film_name_2' : rate,\n",
        "        ...\n",
        "        'film_name_21' : rate,\n",
        "    },\n",
        "    ...\n",
        "    'user_id_943' : {\n",
        "        'film_name_1' : rate,\n",
        "        'film_name_2' : rate,\n",
        "        ...\n",
        "        'film_name_30' : rate,\n",
        "    }\n",
        "}\n",
        "\n",
        "```"
      ]
    },
    {
      "cell_type": "markdown",
      "metadata": {
        "collapsed": true,
        "id": "sLW7AFQe_UQX"
      },
      "source": [
        "Чтобы загрузить набор данных MovieLens, в модуле **recommendations** есть функция **load_movie_lens()**. Она возвращает словарь предпочтений фильмов для набора людей. Пользователи зашифрованы идентификатором. Для каждого пользователя имеется название\n",
        "фильма, а также оценка, выставленная фильму данным пользователе.\n",
        "\n",
        "Перед запуском функции необходимо предварительно загрузить из внешнего источника файлы с данными с помощью **wget**."
      ]
    },
    {
      "cell_type": "code",
      "execution_count": null,
      "metadata": {
        "ExecuteTime": {
          "end_time": "2022-07-05T16:12:18.367400Z",
          "start_time": "2022-07-05T16:12:18.118178Z"
        },
        "colab": {
          "base_uri": "https://localhost:8080/"
        },
        "id": "mhF7cLORFOIK",
        "outputId": "b92d4732-a8d1-4707-e0d4-9dbcac4eb5f7",
        "scrolled": true
      },
      "outputs": [
        {
          "output_type": "stream",
          "name": "stdout",
          "text": [
            "--2022-07-05 16:17:09--  https://www.dropbox.com/s/e0nehgkgv3uoad3/u.item\n",
            "Resolving www.dropbox.com (www.dropbox.com)... 162.125.5.18, 2620:100:601d:18::a27d:512\n",
            "Connecting to www.dropbox.com (www.dropbox.com)|162.125.5.18|:443... connected.\n",
            "HTTP request sent, awaiting response... 301 Moved Permanently\n",
            "Location: /s/raw/e0nehgkgv3uoad3/u.item [following]\n",
            "--2022-07-05 16:17:10--  https://www.dropbox.com/s/raw/e0nehgkgv3uoad3/u.item\n",
            "Reusing existing connection to www.dropbox.com:443.\n",
            "HTTP request sent, awaiting response... 302 Found\n",
            "Location: https://uc2a489dc05f591088929657da16.dl.dropboxusercontent.com/cd/0/inline/BojdMcWr3BtJ902U30GESz6KYc2Uv51UVthoeqeZMXZuicyJu8UqZIUUgJsmUPKZ7Lli6Z_AOKqHTmNG2rY6Yrf3MK8EVGhWBAMN3JX_7k92qVAh_fek7KB8jDTFzQR1go5ySTNiUyTbvPEt9osDus7OgHINnDaT9-12Fn5DVLmIrQ/file# [following]\n",
            "--2022-07-05 16:17:10--  https://uc2a489dc05f591088929657da16.dl.dropboxusercontent.com/cd/0/inline/BojdMcWr3BtJ902U30GESz6KYc2Uv51UVthoeqeZMXZuicyJu8UqZIUUgJsmUPKZ7Lli6Z_AOKqHTmNG2rY6Yrf3MK8EVGhWBAMN3JX_7k92qVAh_fek7KB8jDTFzQR1go5ySTNiUyTbvPEt9osDus7OgHINnDaT9-12Fn5DVLmIrQ/file\n",
            "Resolving uc2a489dc05f591088929657da16.dl.dropboxusercontent.com (uc2a489dc05f591088929657da16.dl.dropboxusercontent.com)... 162.125.5.15, 2620:100:601d:15::a27d:50f\n",
            "Connecting to uc2a489dc05f591088929657da16.dl.dropboxusercontent.com (uc2a489dc05f591088929657da16.dl.dropboxusercontent.com)|162.125.5.15|:443... connected.\n",
            "HTTP request sent, awaiting response... 200 OK\n",
            "Length: 236344 (231K) [text/plain]\n",
            "Saving to: ‘u.item’\n",
            "\n",
            "u.item              100%[===================>] 230.80K  --.-KB/s    in 0.06s   \n",
            "\n",
            "2022-07-05 16:17:10 (3.59 MB/s) - ‘u.item’ saved [236344/236344]\n",
            "\n",
            "--2022-07-05 16:17:11--  https://www.dropbox.com/s/7sy6mzs6d2skp8h/u.data\n",
            "Resolving www.dropbox.com (www.dropbox.com)... 162.125.5.18, 2620:100:601d:18::a27d:512\n",
            "Connecting to www.dropbox.com (www.dropbox.com)|162.125.5.18|:443... connected.\n",
            "HTTP request sent, awaiting response... 301 Moved Permanently\n",
            "Location: /s/raw/7sy6mzs6d2skp8h/u.data [following]\n",
            "--2022-07-05 16:17:11--  https://www.dropbox.com/s/raw/7sy6mzs6d2skp8h/u.data\n",
            "Reusing existing connection to www.dropbox.com:443.\n",
            "HTTP request sent, awaiting response... 302 Found\n",
            "Location: https://uc547109c9d84866f967a3ad686f.dl.dropboxusercontent.com/cd/0/inline/BogIT5lQN0EilYCfGSfGXabNQUY5bYr2MWVeBfClOJgAVfBOzrxYXSa9GbfgIOcuwITuYya8xaxMYBC69_tSXN0fJjAo1y_OUgx388esTeM5CpVLHh6wORBxEn7cx4lSvGS9Y78Jj0u3S2YuA_-apyM6Yy_Pvm5W0FoOKea4VB_PXg/file# [following]\n",
            "--2022-07-05 16:17:11--  https://uc547109c9d84866f967a3ad686f.dl.dropboxusercontent.com/cd/0/inline/BogIT5lQN0EilYCfGSfGXabNQUY5bYr2MWVeBfClOJgAVfBOzrxYXSa9GbfgIOcuwITuYya8xaxMYBC69_tSXN0fJjAo1y_OUgx388esTeM5CpVLHh6wORBxEn7cx4lSvGS9Y78Jj0u3S2YuA_-apyM6Yy_Pvm5W0FoOKea4VB_PXg/file\n",
            "Resolving uc547109c9d84866f967a3ad686f.dl.dropboxusercontent.com (uc547109c9d84866f967a3ad686f.dl.dropboxusercontent.com)... 162.125.5.15, 2620:100:601d:15::a27d:50f\n",
            "Connecting to uc547109c9d84866f967a3ad686f.dl.dropboxusercontent.com (uc547109c9d84866f967a3ad686f.dl.dropboxusercontent.com)|162.125.5.15|:443... connected.\n",
            "HTTP request sent, awaiting response... 200 OK\n",
            "Length: 1979173 (1.9M) [text/plain]\n",
            "Saving to: ‘u.data’\n",
            "\n",
            "u.data              100%[===================>]   1.89M  --.-KB/s    in 0.1s    \n",
            "\n",
            "2022-07-05 16:17:12 (15.7 MB/s) - ‘u.data’ saved [1979173/1979173]\n",
            "\n"
          ]
        }
      ],
      "source": [
        "!wget -nc https://www.dropbox.com/s/e0nehgkgv3uoad3/u.item\n",
        "!wget -nc https://www.dropbox.com/s/7sy6mzs6d2skp8h/u.data"
      ]
    },
    {
      "cell_type": "code",
      "execution_count": null,
      "metadata": {
        "ExecuteTime": {
          "end_time": "2022-07-05T16:12:18.377009Z",
          "start_time": "2022-07-05T16:12:18.372083Z"
        },
        "id": "t-2paOYtJmSd"
      },
      "outputs": [],
      "source": [
        "# Функция для загрузки данных MovieLens\n",
        "def load_movie_lens():\n",
        "    # получить названия фильмов\n",
        "    movies = {}\n",
        "    for line in open(\"u.item\", encoding=\"ISO-8859-1\"):\n",
        "        (fid, title) = line.split(\"|\")[0:2]\n",
        "        movies[fid] = title\n",
        "\n",
        "    # загрузить данные\n",
        "    prefs = {}\n",
        "    for line in open(\"u.data\"):\n",
        "        (user, movieid, rating, ts) = line.split(\"\\t\")\n",
        "        prefs.setdefault(user, {})\n",
        "        prefs[user][movies[movieid]] = float(rating)\n",
        "\n",
        "    return prefs"
      ]
    },
    {
      "cell_type": "code",
      "execution_count": null,
      "metadata": {
        "ExecuteTime": {
          "end_time": "2022-07-05T16:12:18.432213Z",
          "start_time": "2022-07-05T16:12:18.378336Z"
        },
        "id": "e9gPRH23_UQZ"
      },
      "outputs": [],
      "source": [
        "preferences = load_movie_lens()"
      ]
    },
    {
      "cell_type": "markdown",
      "metadata": {
        "id": "71KUt9P7_UQc"
      },
      "source": [
        "Выведем фильмы для пользователя с ID 87 и рейтинги этих фильмов"
      ]
    },
    {
      "cell_type": "code",
      "execution_count": null,
      "metadata": {
        "ExecuteTime": {
          "end_time": "2022-07-05T16:12:18.440900Z",
          "start_time": "2022-07-05T16:12:18.433429Z"
        },
        "colab": {
          "base_uri": "https://localhost:8080/"
        },
        "id": "O6auJMKg_UQd",
        "outputId": "56dc0cf8-6e6f-446a-f2a6-11a205a22de7"
      },
      "outputs": [
        {
          "output_type": "stream",
          "name": "stdout",
          "text": [
            "{   '2001: A Space Odyssey (1968)': 5.0,\n",
            "    'Ace Ventura: Pet Detective (1994)': 4.0,\n",
            "    'Addams Family Values (1993)': 2.0,\n",
            "    'Addicted to Love (1997)': 4.0,\n",
            "    'Adventures of Priscilla, Queen of the Desert, The (1994)': 3.0,\n",
            "    'Adventures of Robin Hood, The (1938)': 5.0,\n",
            "    'Air Force One (1997)': 3.0,\n",
            "    'Air Up There, The (1994)': 3.0,\n",
            "    'Alien (1979)': 4.0,\n",
            "    'American President, The (1995)': 5.0,\n",
            "    'Annie Hall (1977)': 4.0,\n",
            "    'Apocalypse Now (1979)': 4.0,\n",
            "    'Babe (1995)': 5.0,\n",
            "    'Baby-Sitters Club, The (1995)': 2.0,\n",
            "    'Back to the Future (1985)': 5.0,\n",
            "    'Bad Boys (1995)': 4.0,\n",
            "    'Bananas (1971)': 5.0,\n",
            "    'Barcelona (1994)': 3.0,\n",
            "    'Batman & Robin (1997)': 4.0,\n",
            "    'Batman (1989)': 3.0,\n",
            "    'Batman Returns (1992)': 3.0,\n",
            "    'Big Green, The (1995)': 3.0,\n",
            "    'Big Squeeze, The (1996)': 2.0,\n",
            "    'Birdcage, The (1996)': 4.0,\n",
            "    'Blade Runner (1982)': 4.0,\n",
            "    'Blues Brothers, The (1980)': 5.0,\n",
            "    'Boomerang (1992)': 3.0,\n",
            "    'Boot, Das (1981)': 4.0,\n",
            "    'Brady Bunch Movie, The (1995)': 2.0,\n",
            "    'Braveheart (1995)': 4.0,\n",
            "    'Bridge on the River Kwai, The (1957)': 5.0,\n",
            "    'Broken Arrow (1996)': 3.0,\n",
            "    'Butch Cassidy and the Sundance Kid (1969)': 5.0,\n",
            "    'Citizen Kane (1941)': 4.0,\n",
            "    \"City Slickers II: The Legend of Curly's Gold (1994)\": 3.0,\n",
            "    'Clear and Present Danger (1994)': 5.0,\n",
            "    'Cliffhanger (1993)': 3.0,\n",
            "    'Clockwork Orange, A (1971)': 4.0,\n",
            "    'Clueless (1995)': 4.0,\n",
            "    'Con Air (1997)': 4.0,\n",
            "    'Conan the Barbarian (1981)': 3.0,\n",
            "    'Coneheads (1993)': 4.0,\n",
            "    'Cool Hand Luke (1967)': 5.0,\n",
            "    'Cops and Robbersons (1994)': 3.0,\n",
            "    'Cowboy Way, The (1994)': 3.0,\n",
            "    'Crow, The (1994)': 3.0,\n",
            "    'Dances with Wolves (1990)': 5.0,\n",
            "    \"Dante's Peak (1997)\": 3.0,\n",
            "    'Dave (1993)': 4.0,\n",
            "    'Days of Thunder (1990)': 5.0,\n",
            "    'Dead Man Walking (1995)': 4.0,\n",
            "    'Dead Poets Society (1989)': 5.0,\n",
            "    'Deer Hunter, The (1978)': 3.0,\n",
            "    'Demolition Man (1993)': 3.0,\n",
            "    'Desperado (1995)': 3.0,\n",
            "    'Die Hard (1988)': 4.0,\n",
            "    'Die Hard: With a Vengeance (1995)': 4.0,\n",
            "    'Down Periscope (1996)': 4.0,\n",
            "    'Dragonheart (1996)': 4.0,\n",
            "    'Dumb & Dumber (1994)': 4.0,\n",
            "    'Dunston Checks In (1996)': 1.0,\n",
            "    'E.T. the Extra-Terrestrial (1982)': 3.0,\n",
            "    'Ed Wood (1994)': 3.0,\n",
            "    'Empire Strikes Back, The (1980)': 5.0,\n",
            "    'Endless Summer 2, The (1994)': 3.0,\n",
            "    'Evil Dead II (1987)': 2.0,\n",
            "    'Executive Decision (1996)': 3.0,\n",
            "    'Fargo (1996)': 5.0,\n",
            "    'First Wives Club, The (1996)': 2.0,\n",
            "    'Fish Called Wanda, A (1988)': 5.0,\n",
            "    'Forget Paris (1995)': 4.0,\n",
            "    'Four Weddings and a Funeral (1994)': 5.0,\n",
            "    'French Kiss (1995)': 5.0,\n",
            "    'Fugitive, The (1993)': 5.0,\n",
            "    'Full Metal Jacket (1987)': 4.0,\n",
            "    'Get Shorty (1995)': 5.0,\n",
            "    'Glory (1989)': 4.0,\n",
            "    'Godfather, The (1972)': 4.0,\n",
            "    'GoldenEye (1995)': 4.0,\n",
            "    'Good, The Bad and The Ugly, The (1966)': 5.0,\n",
            "    'GoodFellas (1990)': 4.0,\n",
            "    'Grease (1978)': 4.0,\n",
            "    'Great White Hype, The (1996)': 3.0,\n",
            "    'Groundhog Day (1993)': 5.0,\n",
            "    'Grumpier Old Men (1995)': 4.0,\n",
            "    'Hard Target (1993)': 4.0,\n",
            "    'Heat (1995)': 3.0,\n",
            "    'Heathers (1989)': 3.0,\n",
            "    'Home Alone (1990)': 4.0,\n",
            "    'Hoop Dreams (1994)': 4.0,\n",
            "    'Hot Shots! Part Deux (1993)': 4.0,\n",
            "    'House Arrest (1996)': 3.0,\n",
            "    'I Love Trouble (1994)': 3.0,\n",
            "    'I.Q. (1994)': 5.0,\n",
            "    'In the Army Now (1994)': 4.0,\n",
            "    'In the Line of Fire (1993)': 5.0,\n",
            "    'Independence Day (ID4) (1996)': 5.0,\n",
            "    'Indiana Jones and the Last Crusade (1989)': 5.0,\n",
            "    'Inkwell, The (1994)': 3.0,\n",
            "    \"It's a Wonderful Life (1946)\": 5.0,\n",
            "    'Jack (1996)': 3.0,\n",
            "    'Jeffrey (1995)': 3.0,\n",
            "    'Jimmy Hollywood (1994)': 3.0,\n",
            "    \"Joe's Apartment (1996)\": 2.0,\n",
            "    'Junior (1994)': 4.0,\n",
            "    'Jurassic Park (1993)': 5.0,\n",
            "    'Kingpin (1996)': 4.0,\n",
            "    'Lightning Jack (1994)': 3.0,\n",
            "    'Lost World: Jurassic Park, The (1997)': 3.0,\n",
            "    'Low Down Dirty Shame, A (1994)': 3.0,\n",
            "    'M*A*S*H (1970)': 5.0,\n",
            "    'Magnificent Seven, The (1954)': 5.0,\n",
            "    'Major Payne (1994)': 3.0,\n",
            "    'Man of the House (1995)': 3.0,\n",
            "    'Manchurian Candidate, The (1962)': 4.0,\n",
            "    'Mars Attacks! (1996)': 3.0,\n",
            "    'Mask, The (1994)': 3.0,\n",
            "    'Matilda (1996)': 3.0,\n",
            "    'Maverick (1994)': 3.0,\n",
            "    'Michael (1996)': 4.0,\n",
            "    'Mighty Aphrodite (1995)': 3.0,\n",
            "    'Milk Money (1994)': 4.0,\n",
            "    'Mission: Impossible (1996)': 4.0,\n",
            "    \"Monty Python's Life of Brian (1979)\": 4.0,\n",
            "    'Mother (1996)': 2.0,\n",
            "    'Mrs. Doubtfire (1993)': 4.0,\n",
            "    'Multiplicity (1996)': 3.0,\n",
            "    'Muppet Treasure Island (1996)': 3.0,\n",
            "    'My Favorite Year (1982)': 3.0,\n",
            "    'Naked Gun 33 1/3: The Final Insult (1994)': 4.0,\n",
            "    'Net, The (1995)': 5.0,\n",
            "    'Nine Months (1995)': 4.0,\n",
            "    'Nutty Professor, The (1996)': 4.0,\n",
            "    'Platoon (1986)': 3.0,\n",
            "    'Prefontaine (1997)': 5.0,\n",
            "    'Private Benjamin (1980)': 4.0,\n",
            "    'Professional, The (1994)': 4.0,\n",
            "    'Program, The (1993)': 3.0,\n",
            "    'Pulp Fiction (1994)': 4.0,\n",
            "    \"Pyromaniac's Love Story, A (1995)\": 3.0,\n",
            "    'Quiet Man, The (1952)': 5.0,\n",
            "    'Raging Bull (1980)': 3.0,\n",
            "    'Raiders of the Lost Ark (1981)': 5.0,\n",
            "    'Raising Arizona (1987)': 3.0,\n",
            "    'Reality Bites (1994)': 3.0,\n",
            "    'Renaissance Man (1994)': 5.0,\n",
            "    'Return of the Jedi (1983)': 5.0,\n",
            "    'Return of the Pink Panther, The (1974)': 4.0,\n",
            "    'River Wild, The (1994)': 4.0,\n",
            "    'Sabrina (1995)': 4.0,\n",
            "    'Santa Clause, The (1994)': 4.0,\n",
            "    \"Schindler's List (1993)\": 4.0,\n",
            "    'Searching for Bobby Fischer (1993)': 4.0,\n",
            "    'Serial Mom (1994)': 1.0,\n",
            "    'Shadow, The (1994)': 3.0,\n",
            "    'Shawshank Redemption, The (1994)': 5.0,\n",
            "    \"Singin' in the Rain (1952)\": 4.0,\n",
            "    'Sleeper (1973)': 4.0,\n",
            "    'Sleepers (1996)': 4.0,\n",
            "    'Sleepless in Seattle (1993)': 5.0,\n",
            "    'Sneakers (1992)': 4.0,\n",
            "    'So I Married an Axe Murderer (1993)': 2.0,\n",
            "    'Something to Talk About (1995)': 2.0,\n",
            "    'Son in Law (1993)': 4.0,\n",
            "    'Speechless (1994)': 4.0,\n",
            "    'Speed (1994)': 5.0,\n",
            "    'Speed 2: Cruise Control (1997)': 3.0,\n",
            "    'Star Trek III: The Search for Spock (1984)': 4.0,\n",
            "    'Star Trek IV: The Voyage Home (1986)': 5.0,\n",
            "    'Star Trek: First Contact (1996)': 4.0,\n",
            "    'Star Trek: The Motion Picture (1979)': 3.0,\n",
            "    'Star Trek: The Wrath of Khan (1982)': 5.0,\n",
            "    'Star Wars (1977)': 5.0,\n",
            "    'Stargate (1994)': 5.0,\n",
            "    'Sting, The (1973)': 5.0,\n",
            "    'Strange Days (1995)': 3.0,\n",
            "    'Strictly Ballroom (1992)': 3.0,\n",
            "    'Striptease (1996)': 2.0,\n",
            "    'Supercop (1992)': 3.0,\n",
            "    'Swimming with Sharks (1995)': 3.0,\n",
            "    'Switchblade Sisters (1975)': 2.0,\n",
            "    'Terminator 2: Judgment Day (1991)': 5.0,\n",
            "    'Terminator, The (1984)': 5.0,\n",
            "    'That Old Feeling (1997)': 4.0,\n",
            "    'That Thing You Do! (1996)': 4.0,\n",
            "    'This Is Spinal Tap (1984)': 5.0,\n",
            "    'To Die For (1995)': 3.0,\n",
            "    'To Kill a Mockingbird (1962)': 4.0,\n",
            "    'To Wong Foo, Thanks for Everything! Julie Newmar (1995)': 3.0,\n",
            "    'Tommy Boy (1995)': 4.0,\n",
            "    'Top Gun (1986)': 5.0,\n",
            "    'Treasure of the Sierra Madre, The (1948)': 4.0,\n",
            "    'True Lies (1994)': 5.0,\n",
            "    'Truth About Cats & Dogs, The (1996)': 4.0,\n",
            "    'Twelve Monkeys (1995)': 4.0,\n",
            "    'Twister (1996)': 4.0,\n",
            "    \"Ulee's Gold (1997)\": 3.0,\n",
            "    'Under Siege (1992)': 4.0,\n",
            "    'Up in Smoke (1978)': 3.0,\n",
            "    'Vegas Vacation (1997)': 4.0,\n",
            "    'Victor/Victoria (1982)': 4.0,\n",
            "    'Waterworld (1995)': 4.0,\n",
            "    \"Weekend at Bernie's (1989)\": 3.0,\n",
            "    'When Harry Met Sally... (1989)': 5.0,\n",
            "    'While You Were Sleeping (1995)': 5.0,\n",
            "    'Wizard of Oz, The (1939)': 5.0,\n",
            "    'Wyatt Earp (1994)': 3.0,\n",
            "    'Young Frankenstein (1974)': 5.0,\n",
            "    'Young Guns (1988)': 3.0,\n",
            "    'Young Guns II (1990)': 2.0}\n"
          ]
        }
      ],
      "source": [
        "pp.pprint(preferences[\"87\"])"
      ]
    },
    {
      "cell_type": "markdown",
      "metadata": {
        "id": "WJcyGO4c_UQf"
      },
      "source": [
        "Посмотрим, какие рекомендации получим с помощью коллаборативной фильтрации по схожести пользователей. Напомним, что для этого реализована функция **get_recommendations()**, которая выдает рекомендации для данного пользователя по похожести на других и предположительную его оценку фильму.\n",
        "\n",
        "Функция принимает на вход следующие аргументы:\n",
        "\n",
        "- словарь пользователей, в этом случае это *preferences*\n",
        "- имя персоны *person*, для которой подбираем соответствия\n",
        "- имя функции-критерия для сравнения\n",
        "\n",
        "Выведем первые топ-30 рекомендаций для пользователя с ID 87, для этого в квадратных скобочках укажем \\[0:30\\].\n",
        "\n",
        "*Замечание*: может появиться предупреждение RuntimeWarning, это связано с тем, что теперь мы работаем с большой выборкой и при подсчете корреляции Пирсона может возникать деление на ноль. В этом случае мы присваиваем корреляции значение ноль."
      ]
    },
    {
      "cell_type": "code",
      "execution_count": null,
      "metadata": {
        "ExecuteTime": {
          "end_time": "2022-07-05T16:12:48.915794Z",
          "start_time": "2022-07-05T16:12:22.973341Z"
        },
        "colab": {
          "base_uri": "https://localhost:8080/"
        },
        "id": "RBM810xK_UQg",
        "outputId": "30e5475b-9b83-40e0-a18e-f86579bf0c90",
        "scrolled": true
      },
      "outputs": [
        {
          "output_type": "stream",
          "name": "stderr",
          "text": [
            "/usr/local/lib/python3.7/dist-packages/scipy/stats/stats.py:3508: PearsonRConstantInputWarning: An input array is constant; the correlation coefficent is not defined.\n",
            "  warnings.warn(PearsonRConstantInputWarning())\n"
          ]
        },
        {
          "output_type": "execute_result",
          "data": {
            "text/plain": [
              "[(5.0, 'They Made Me a Criminal (1939)'),\n",
              " (5.0, 'Star Kid (1997)'),\n",
              " (5.0, 'Santa with Muscles (1996)'),\n",
              " (5.0, 'Saint of Fort Washington, The (1993)'),\n",
              " (5.0, 'Marlene Dietrich: Shadow and Light (1996) '),\n",
              " (5.0, 'Great Day in Harlem, A (1994)'),\n",
              " (5.0, 'Entertaining Angels: The Dorothy Day Story (1996)'),\n",
              " (5.0, 'Boys, Les (1997)'),\n",
              " (4.898844431289231, 'Legal Deceit (1997)'),\n",
              " (4.815019082242706, 'Letter From Death Row, A (1998)')]"
            ]
          },
          "metadata": {},
          "execution_count": 49
        }
      ],
      "source": [
        "get_recommendations(preferences, \"87\", sim_pearson)[0:10]"
      ]
    },
    {
      "cell_type": "markdown",
      "metadata": {
        "id": "IQkH89RB_UQj"
      },
      "source": [
        "Интересно также сравнить полученный результат с рекомендациями по схожести образцов. Напомним, чтобы сравнить образцы, нужно в первую очередь перестроить наш набор данных из набора предпочтений пользователей в набор оценок фильмов. Для этого используем функцию **calculate_similar_items()**. На вход её нужно подать словарь с оценками пользователей *prefernces*. Кроме этого, мы передадим аргумент *n = 50*, так как хотим оставить только 50 наиболее похожих образцов в новом словаре.\n",
        "\n",
        "В этот раз мы работаем с большим набором данных и вычисления могут занять некоторое время, поэтому функция также будет выводить сообщение о том, сколько фильмов она уже просмотрела."
      ]
    },
    {
      "cell_type": "code",
      "execution_count": null,
      "metadata": {
        "ExecuteTime": {
          "end_time": "2022-07-05T16:13:11.146893Z",
          "start_time": "2022-07-05T16:12:59.863823Z"
        },
        "colab": {
          "base_uri": "https://localhost:8080/"
        },
        "id": "CPt61njj_UQk",
        "outputId": "06400a5e-45e2-4b5b-a659-3bb740685571"
      },
      "outputs": [
        {
          "output_type": "stream",
          "name": "stdout",
          "text": [
            "100 / 1664\n",
            "200 / 1664\n",
            "300 / 1664\n",
            "400 / 1664\n",
            "500 / 1664\n",
            "600 / 1664\n",
            "700 / 1664\n",
            "800 / 1664\n",
            "900 / 1664\n",
            "1000 / 1664\n",
            "1100 / 1664\n",
            "1200 / 1664\n",
            "1300 / 1664\n",
            "1400 / 1664\n",
            "1500 / 1664\n",
            "1600 / 1664\n"
          ]
        }
      ],
      "source": [
        "item_similarities = calculate_similar_items(preferences, n=50)"
      ]
    },
    {
      "cell_type": "markdown",
      "metadata": {
        "id": "Ygkn4Aq2_UQm"
      },
      "source": [
        "Посмотрим на результат:"
      ]
    },
    {
      "cell_type": "code",
      "execution_count": null,
      "metadata": {
        "ExecuteTime": {
          "end_time": "2022-07-05T16:13:12.645241Z",
          "start_time": "2022-07-05T16:13:12.631080Z"
        },
        "colab": {
          "base_uri": "https://localhost:8080/"
        },
        "id": "CSl0P34A_UQn",
        "outputId": "be75c89c-515d-47d4-f4e5-53f70faf9236",
        "scrolled": true
      },
      "outputs": [
        {
          "output_type": "execute_result",
          "data": {
            "text/plain": [
              "[(1.0, 'Yankee Zulu (1994)'),\n",
              " (1.0, 'Woman in Question, The (1950)'),\n",
              " (1.0, 'Witness (1985)'),\n",
              " (1.0, \"Wend Kuuni (God's Gift) (1982)\"),\n",
              " (1.0, 'Vie est belle, La (Life is Rosey) (1987)'),\n",
              " (1.0, 'Vermont Is For Lovers (1992)'),\n",
              " (1.0, 'Van, The (1996)'),\n",
              " (1.0, 'Two or Three Things I Know About Her (1966)'),\n",
              " (1.0, 'Two Much (1996)'),\n",
              " (1.0, 'Two Deaths (1995)'),\n",
              " (1.0, 'Two Bits (1995)'),\n",
              " (1.0, 'Touki Bouki (Journey of the Hyena) (1973)'),\n",
              " (1.0, 'Total Eclipse (1995)'),\n",
              " (1.0, 'To Have, or Not (1995)'),\n",
              " (1.0, 'To Cross the Rubicon (1991)'),\n",
              " (1.0, 'Tigrero: A Film That Was Never Made (1994)'),\n",
              " (1.0, 'The Courtyard (1995)'),\n",
              " (1.0, 'Terror in a Texas Town (1958)'),\n",
              " (1.0, 'Talking About Sex (1994)'),\n",
              " (1.0, 'T-Men (1947)'),\n",
              " (1.0, 'Symphonie pastorale, La (1946)'),\n",
              " (1.0, 'Swept from the Sea (1997)'),\n",
              " (1.0, 'Stranger in the House (1997)'),\n",
              " (1.0, 'Stonewall (1995)'),\n",
              " (1.0, 'Squeeze (1996)'),\n",
              " (1.0, 'Spirits of the Dead (Tre passi nel delirio) (1968)'),\n",
              " (1.0, 'Somebody to Love (1994)'),\n",
              " (1.0, 'So Dear to My Heart (1949)'),\n",
              " (1.0, 'Sliding Doors (1998)'),\n",
              " (1.0, 'Shooting Fish (1997)'),\n",
              " (1.0, 'Shadows (Cienie) (1988)'),\n",
              " (1.0, 'Secret Adventures of Tom Thumb, The (1993)'),\n",
              " (1.0, 'Scream of Stone (Schrei aus Stein) (1991)'),\n",
              " (1.0, 'Salut cousin! (1996)'),\n",
              " (1.0, 'Romper Stomper (1992)'),\n",
              " (1.0, 'Relative Fear (1994)'),\n",
              " (1.0, 'Quartier Mozart (1992)'),\n",
              " (1.0, 'Promise, The (Versprechen, Das) (1994)'),\n",
              " (1.0, 'Prefontaine (1997)'),\n",
              " (1.0, \"Pharaoh's Army (1995)\"),\n",
              " (1.0, 'Nosferatu a Venezia (1986)'),\n",
              " (1.0, 'Nina Takes a Lover (1994)'),\n",
              " (1.0, 'Niagara, Niagara (1997)'),\n",
              " (1.0, 'Mr. Jones (1993)'),\n",
              " (1.0, 'Mostro, Il (1994)'),\n",
              " (1.0, 'Modern Affair, A (1995)'),\n",
              " (1.0, 'Mighty, The (1998)'),\n",
              " (1.0, 'Metisse (Café au Lait) (1993)'),\n",
              " (1.0, 'Man from Down Under, The (1943)'),\n",
              " (1.0, 'Liebelei (1933)')]"
            ]
          },
          "metadata": {},
          "execution_count": 51
        }
      ],
      "source": [
        "item_similarities[\"What's Eating Gilbert Grape (1993)\"]"
      ]
    },
    {
      "cell_type": "markdown",
      "metadata": {
        "id": "CljYM-UW_UQq"
      },
      "source": [
        "Теперь получим топ-30 рекомендаций для пользователя с учетом похожести фильмов. Используем функцию **get_recommended_items()**, которой на вход подается:\n",
        "\n",
        "- словарь с оценками пользователя (*preferences*)\n",
        "- словарь с данными о схожести фильмов, *item_similarities*\n",
        "- ID пользователя, для которого строим рекомендации\n",
        "\n",
        "**Code 24:**"
      ]
    },
    {
      "cell_type": "code",
      "execution_count": null,
      "metadata": {
        "ExecuteTime": {
          "end_time": "2022-07-05T16:13:27.298710Z",
          "start_time": "2022-07-05T16:13:27.279330Z"
        },
        "colab": {
          "base_uri": "https://localhost:8080/"
        },
        "id": "PBBRcaPK_UQq",
        "outputId": "93ec5824-52a8-40e4-fcfe-546c475ebd4e"
      },
      "outputs": [
        {
          "output_type": "execute_result",
          "data": {
            "text/plain": [
              "[(5.0, \"What's Eating Gilbert Grape (1993)\"),\n",
              " (5.0, 'Vertigo (1958)'),\n",
              " (5.0, 'Usual Suspects, The (1995)'),\n",
              " (5.0, 'Toy Story (1995)'),\n",
              " (5.0, 'Titanic (1997)'),\n",
              " (5.0, 'Sword in the Stone, The (1963)'),\n",
              " (5.0, 'Stand by Me (1986)'),\n",
              " (5.0, 'Sling Blade (1996)'),\n",
              " (5.0, 'Silence of the Lambs, The (1991)'),\n",
              " (5.0, 'Shining, The (1980)'),\n",
              " (5.0, 'Shine (1996)'),\n",
              " (5.0, 'Sense and Sensibility (1995)'),\n",
              " (5.0, 'Scream (1996)'),\n",
              " (5.0, 'Rumble in the Bronx (1995)'),\n",
              " (5.0, 'Rock, The (1996)'),\n",
              " (5.0, 'Robin Hood: Prince of Thieves (1991)'),\n",
              " (5.0, 'Reservoir Dogs (1992)'),\n",
              " (5.0, 'Police Story 4: Project S (Chao ji ji hua) (1993)'),\n",
              " (5.0, 'House of the Spirits, The (1993)'),\n",
              " (5.0, 'Fresh (1994)'),\n",
              " (5.0, 'Denise Calls Up (1995)'),\n",
              " (5.0, 'Day the Sun Turned Cold, The (Tianguo niezi) (1994)'),\n",
              " (5.0, 'Before the Rain (Pred dozhdot) (1994)'),\n",
              " (5.0, 'Assignment, The (1997)'),\n",
              " (5.0, '1-900 (1994)'),\n",
              " (4.875, \"Ed's Next Move (1996)\"),\n",
              " (4.833333333333333, 'Anna (1996)'),\n",
              " (4.8, 'Dark City (1998)'),\n",
              " (4.75, 'Flower of My Secret, The (Flor de mi secreto, La) (1995)'),\n",
              " (4.75, 'Broken English (1996)')]"
            ]
          },
          "metadata": {},
          "execution_count": 52
        }
      ],
      "source": [
        "get_recommended_items(preferences, item_similarities, \"87\")[0:30]"
      ]
    },
    {
      "cell_type": "markdown",
      "metadata": {
        "id": "zNZtg9hy_UQt"
      },
      "source": [
        "Выведем список фильмов, которые пользователь с id `87` оценил максимальным баллом:"
      ]
    },
    {
      "cell_type": "code",
      "execution_count": null,
      "metadata": {
        "ExecuteTime": {
          "end_time": "2022-07-05T16:13:53.330935Z",
          "start_time": "2022-07-05T16:13:53.323633Z"
        },
        "colab": {
          "base_uri": "https://localhost:8080/"
        },
        "id": "K1BUEJFc_UQt",
        "outputId": "01eed2c0-471a-47f8-8010-da4c207d2497",
        "scrolled": true
      },
      "outputs": [
        {
          "output_type": "execute_result",
          "data": {
            "text/plain": [
              "{'2001: A Space Odyssey (1968)': 5.0,\n",
              " 'Adventures of Robin Hood, The (1938)': 5.0,\n",
              " 'American President, The (1995)': 5.0,\n",
              " 'Babe (1995)': 5.0,\n",
              " 'Back to the Future (1985)': 5.0,\n",
              " 'Bananas (1971)': 5.0,\n",
              " 'Blues Brothers, The (1980)': 5.0,\n",
              " 'Bridge on the River Kwai, The (1957)': 5.0,\n",
              " 'Butch Cassidy and the Sundance Kid (1969)': 5.0,\n",
              " 'Clear and Present Danger (1994)': 5.0,\n",
              " 'Cool Hand Luke (1967)': 5.0,\n",
              " 'Dances with Wolves (1990)': 5.0,\n",
              " 'Days of Thunder (1990)': 5.0,\n",
              " 'Dead Poets Society (1989)': 5.0,\n",
              " 'Empire Strikes Back, The (1980)': 5.0,\n",
              " 'Fargo (1996)': 5.0,\n",
              " 'Fish Called Wanda, A (1988)': 5.0,\n",
              " 'Four Weddings and a Funeral (1994)': 5.0,\n",
              " 'French Kiss (1995)': 5.0,\n",
              " 'Fugitive, The (1993)': 5.0,\n",
              " 'Get Shorty (1995)': 5.0,\n",
              " 'Good, The Bad and The Ugly, The (1966)': 5.0,\n",
              " 'Groundhog Day (1993)': 5.0,\n",
              " 'I.Q. (1994)': 5.0,\n",
              " 'In the Line of Fire (1993)': 5.0,\n",
              " 'Independence Day (ID4) (1996)': 5.0,\n",
              " 'Indiana Jones and the Last Crusade (1989)': 5.0,\n",
              " \"It's a Wonderful Life (1946)\": 5.0,\n",
              " 'Jurassic Park (1993)': 5.0,\n",
              " 'M*A*S*H (1970)': 5.0,\n",
              " 'Magnificent Seven, The (1954)': 5.0,\n",
              " 'Net, The (1995)': 5.0,\n",
              " 'Prefontaine (1997)': 5.0,\n",
              " 'Quiet Man, The (1952)': 5.0,\n",
              " 'Raiders of the Lost Ark (1981)': 5.0,\n",
              " 'Renaissance Man (1994)': 5.0,\n",
              " 'Return of the Jedi (1983)': 5.0,\n",
              " 'Shawshank Redemption, The (1994)': 5.0,\n",
              " 'Sleepless in Seattle (1993)': 5.0,\n",
              " 'Speed (1994)': 5.0,\n",
              " 'Star Trek IV: The Voyage Home (1986)': 5.0,\n",
              " 'Star Trek: The Wrath of Khan (1982)': 5.0,\n",
              " 'Star Wars (1977)': 5.0,\n",
              " 'Stargate (1994)': 5.0,\n",
              " 'Sting, The (1973)': 5.0,\n",
              " 'Terminator 2: Judgment Day (1991)': 5.0,\n",
              " 'Terminator, The (1984)': 5.0,\n",
              " 'This Is Spinal Tap (1984)': 5.0,\n",
              " 'Top Gun (1986)': 5.0,\n",
              " 'True Lies (1994)': 5.0,\n",
              " 'When Harry Met Sally... (1989)': 5.0,\n",
              " 'While You Were Sleeping (1995)': 5.0,\n",
              " 'Wizard of Oz, The (1939)': 5.0,\n",
              " 'Young Frankenstein (1974)': 5.0}"
            ]
          },
          "metadata": {},
          "execution_count": 53
        }
      ],
      "source": [
        "{x: preferences[\"87\"][x] for x in preferences[\"87\"] if preferences[\"87\"][x] == 5}"
      ]
    },
    {
      "cell_type": "markdown",
      "metadata": {
        "id": "Z97RjzWY_UQz"
      },
      "source": [
        "Валидация для моделей рекомендательных систем устроена достаточно сложно.\n",
        "Например, нам нужно забыть часть рейтингов фильмов для пользователя, а потом попытаться восстановить их с\n",
        "помощью нашей модели.\n",
        "\n",
        "В данном случае, мы можем оценить адекватность полученных рекомендаций, просмотрев списки фильмов. Однако, на текущем датасете, из-за размера выборки, такое сделать сложно.\n",
        "\n",
        "Приведем примеры интерпретации:\n",
        "\n",
        "- В случае использования расстояния, основанного на коррелции, модель рекомендует в первую очередь боевики\n",
        "- В случае использование похожестей фильмов мы видим как общепризнанные шедевры, так и боевики\n",
        "- В реальности пользователю нравятся фильмы, которые нравятся всем, приключенческие фильмы и боевики\n",
        "\n",
        "С такой точки зрения оба списка рекомендаций кажутся адекватным, а то, что они не пересекаются связано с тем,\n",
        "что есть много похожих друг на друга фильмов - и мы не можем рекомендовать сразу все такие фильмы пользователю."
      ]
    },
    {
      "cell_type": "markdown",
      "metadata": {
        "id": "vNcZplo7_UQz"
      },
      "source": [
        "Для рекомендательных систем есть специальные библиотеки, например, https://surprise.readthedocs.io/, однако, их применение требует более глубокого знакомства с темой (которое мы проведём далее)."
      ]
    },
    {
      "cell_type": "code",
      "execution_count": null,
      "metadata": {
        "ExecuteTime": {
          "end_time": "2022-07-05T16:14:07.094582Z",
          "start_time": "2022-07-05T16:14:07.088728Z"
        },
        "id": "cfxwVA9jM5GG"
      },
      "outputs": [],
      "source": [
        "real = list(\n",
        "    {x: preferences[\"87\"][x] for x in preferences[\"87\"] if preferences[\"87\"][x] == 5}.keys()\n",
        ")"
      ]
    },
    {
      "cell_type": "code",
      "execution_count": null,
      "metadata": {
        "ExecuteTime": {
          "end_time": "2022-07-05T16:14:09.376183Z",
          "start_time": "2022-07-05T16:14:09.221167Z"
        },
        "colab": {
          "base_uri": "https://localhost:8080/"
        },
        "id": "Ww7DmG03NfnJ",
        "outputId": "c2a14ff5-082e-4f74-c8de-0d12755acdde",
        "scrolled": true
      },
      "outputs": [
        {
          "output_type": "stream",
          "name": "stdout",
          "text": [
            "False\n",
            "False\n",
            "False\n",
            "False\n",
            "False\n",
            "False\n",
            "False\n",
            "False\n",
            "False\n",
            "False\n",
            "False\n",
            "False\n",
            "False\n",
            "False\n",
            "False\n",
            "False\n",
            "False\n",
            "False\n",
            "False\n",
            "False\n",
            "False\n",
            "False\n",
            "False\n",
            "False\n",
            "False\n",
            "False\n",
            "False\n",
            "False\n",
            "False\n",
            "False\n",
            "False\n",
            "False\n",
            "False\n",
            "False\n",
            "False\n",
            "False\n",
            "False\n",
            "False\n",
            "False\n",
            "False\n",
            "False\n",
            "False\n",
            "False\n",
            "False\n",
            "False\n",
            "False\n",
            "False\n",
            "False\n",
            "False\n",
            "False\n"
          ]
        }
      ],
      "source": [
        "for i in range(0, 50):\n",
        "    print(get_recommended_items(preferences, item_similarities, \"87\")[:50][i][1] in real)"
      ]
    }
  ],
  "metadata": {
    "colab": {
      "provenance": [],
      "toc_visible": true
    },
    "kernelspec": {
      "display_name": "Python [conda env:ml-mipt]",
      "language": "python",
      "name": "conda-env-ml-mipt-py"
    },
    "language_info": {
      "codemirror_mode": {
        "name": "ipython",
        "version": 3
      },
      "file_extension": ".py",
      "mimetype": "text/x-python",
      "name": "python",
      "nbconvert_exporter": "python",
      "pygments_lexer": "ipython3",
      "version": "3.8.13"
    },
    "name": "lesson11_recsys.ipynb",
    "toc": {
      "base_numbering": 1,
      "nav_menu": {},
      "number_sections": true,
      "sideBar": true,
      "skip_h1_title": false,
      "title_cell": "Table of Contents",
      "title_sidebar": "Contents",
      "toc_cell": false,
      "toc_position": {
        "height": "calc(100% - 180px)",
        "left": "10px",
        "top": "150px",
        "width": "384px"
      },
      "toc_section_display": true,
      "toc_window_display": true
    }
  },
  "nbformat": 4,
  "nbformat_minor": 0
}