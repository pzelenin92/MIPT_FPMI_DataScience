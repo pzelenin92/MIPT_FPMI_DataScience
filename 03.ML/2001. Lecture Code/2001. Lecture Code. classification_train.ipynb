{
  "cells": [
    {
      "cell_type": "code",
      "execution_count": null,
      "metadata": {
        "id": "-s_hcakfCyQ5"
      },
      "outputs": [],
      "source": [
        "import os\n",
        "os.environ['CUDA_LAUNCH_BLOCKING'] = '1'"
      ]
    },
    {
      "cell_type": "code",
      "execution_count": null,
      "metadata": {
        "id": "pVzmA5pVCyQ6"
      },
      "outputs": [],
      "source": [
        "# загрузка и предобработка\n",
        "import pandas as pd \n",
        "import numpy as np\n",
        "import seaborn as sns\n",
        "from matplotlib.pyplot import figure\n",
        "import matplotlib.pyplot as plt\n",
        "\n",
        "# https://github.com/huggingface/transformers\n",
        "# обучение, загрузка по формату библиотеки, оптимизаторы\n",
        "# !pip install transformers\n",
        "# !pip install datasets\n",
        "# !pip install umap-learn\n",
        "from datasets import load_dataset, load_metric\n",
        "from transformers import AutoTokenizer, AutoModel, AutoModelForSequenceClassification, AdamW, get_scheduler\n",
        "# обучение\n",
        "import torch\n",
        "from torch.utils.data import DataLoader\n",
        "# предобработка и финальный отчет по метрикам\n",
        "from sklearn import preprocessing\n",
        "from sklearn.metrics import classification_report\n",
        "# кластеризация\n",
        "from sklearn.feature_extraction.text import CountVectorizer\n",
        "import umap\n",
        "from sklearn.cluster import DBSCAN\n",
        "# прогресс бар\n",
        "from tqdm import tqdm\n",
        "# очистка кешей\n",
        "import gc\n",
        "# размер шрифта в графиках\n",
        "import matplotlib\n",
        "matplotlib.rcParams.update({'font.size': 22})"
      ]
    },
    {
      "cell_type": "code",
      "execution_count": null,
      "metadata": {
        "id": "Jqcj4mnCCyQ7"
      },
      "outputs": [],
      "source": [
        "df_old = pd.read_csv('tech-requests-analysis\\cleared.csv')\n",
        "df = pd.read_csv('data_df.csv')"
      ]
    },
    {
      "cell_type": "code",
      "execution_count": null,
      "metadata": {
        "id": "Iqyd0awzCyQ7",
        "outputId": "f587ca9c-cf08-4ede-cca8-2ab58f6176f5"
      },
      "outputs": [
        {
          "data": {
            "text/html": [
              "<div>\n",
              "<style scoped>\n",
              "    .dataframe tbody tr th:only-of-type {\n",
              "        vertical-align: middle;\n",
              "    }\n",
              "\n",
              "    .dataframe tbody tr th {\n",
              "        vertical-align: top;\n",
              "    }\n",
              "\n",
              "    .dataframe thead th {\n",
              "        text-align: right;\n",
              "    }\n",
              "</style>\n",
              "<table border=\"1\" class=\"dataframe\">\n",
              "  <thead>\n",
              "    <tr style=\"text-align: right;\">\n",
              "      <th></th>\n",
              "      <th>description</th>\n",
              "      <th>team_direct</th>\n",
              "    </tr>\n",
              "  </thead>\n",
              "  <tbody>\n",
              "    <tr>\n",
              "      <th>0</th>\n",
              "      <td>сим-карты получены В данный момент, запросил д...</td>\n",
              "      <td>Disp</td>\n",
              "    </tr>\n",
              "    <tr>\n",
              "      <th>1</th>\n",
              "      <td>Гарнитура предоставлена Здравствуйте. Прошу пр...</td>\n",
              "      <td>IT</td>\n",
              "    </tr>\n",
              "    <tr>\n",
              "      <th>2</th>\n",
              "      <td>Доступ в продуктивную базу SAP Прошу дать дост...</td>\n",
              "      <td>Access</td>\n",
              "    </tr>\n",
              "    <tr>\n",
              "      <th>3</th>\n",
              "      <td>Программа загрузки ОЗМ скорректирована. Поиск ...</td>\n",
              "      <td>MDM</td>\n",
              "    </tr>\n",
              "    <tr>\n",
              "      <th>4</th>\n",
              "      <td>Учетная запись создана: r.skorkin@agroinvest.c...</td>\n",
              "      <td>IT</td>\n",
              "    </tr>\n",
              "    <tr>\n",
              "      <th>...</th>\n",
              "      <td>...</td>\n",
              "      <td>...</td>\n",
              "    </tr>\n",
              "    <tr>\n",
              "      <th>44903</th>\n",
              "      <td>Не найден 83ДРС с ФП= G210090000 для даты 09.0...</td>\n",
              "      <td>DMS</td>\n",
              "    </tr>\n",
              "    <tr>\n",
              "      <th>44904</th>\n",
              "      <td>при выводе на печать документов выходит сообще...</td>\n",
              "      <td>Disp</td>\n",
              "    </tr>\n",
              "    <tr>\n",
              "      <th>44905</th>\n",
              "      <td>Добрый день!  При фактурировании исходящей пос...</td>\n",
              "      <td>Disp</td>\n",
              "    </tr>\n",
              "    <tr>\n",
              "      <th>44906</th>\n",
              "      <td>Добрый день! Документы внесены. Добавление дов...</td>\n",
              "      <td>DMS</td>\n",
              "    </tr>\n",
              "    <tr>\n",
              "      <th>44907</th>\n",
              "      <td>Добрый день. Просим отсоединить аппаратуру в В...</td>\n",
              "      <td>Disp</td>\n",
              "    </tr>\n",
              "  </tbody>\n",
              "</table>\n",
              "<p>44908 rows × 2 columns</p>\n",
              "</div>"
            ],
            "text/plain": [
              "                                             description team_direct\n",
              "0      сим-карты получены В данный момент, запросил д...        Disp\n",
              "1      Гарнитура предоставлена Здравствуйте. Прошу пр...          IT\n",
              "2      Доступ в продуктивную базу SAP Прошу дать дост...      Access\n",
              "3      Программа загрузки ОЗМ скорректирована. Поиск ...         MDM\n",
              "4      Учетная запись создана: r.skorkin@agroinvest.c...          IT\n",
              "...                                                  ...         ...\n",
              "44903  Не найден 83ДРС с ФП= G210090000 для даты 09.0...         DMS\n",
              "44904  при выводе на печать документов выходит сообще...        Disp\n",
              "44905  Добрый день!  При фактурировании исходящей пос...        Disp\n",
              "44906  Добрый день! Документы внесены. Добавление дов...         DMS\n",
              "44907  Добрый день. Просим отсоединить аппаратуру в В...        Disp\n",
              "\n",
              "[44908 rows x 2 columns]"
            ]
          },
          "execution_count": 28,
          "metadata": {},
          "output_type": "execute_result"
        }
      ],
      "source": [
        "df_old[['description', 'team_direct']]"
      ]
    },
    {
      "cell_type": "code",
      "execution_count": null,
      "metadata": {
        "id": "nFE6J6fDCyQ8",
        "outputId": "b73a9fec-a71f-4889-ffdd-526736fc381c"
      },
      "outputs": [
        {
          "data": {
            "text/html": [
              "<div>\n",
              "<style scoped>\n",
              "    .dataframe tbody tr th:only-of-type {\n",
              "        vertical-align: middle;\n",
              "    }\n",
              "\n",
              "    .dataframe tbody tr th {\n",
              "        vertical-align: top;\n",
              "    }\n",
              "\n",
              "    .dataframe thead th {\n",
              "        text-align: right;\n",
              "    }\n",
              "</style>\n",
              "<table border=\"1\" class=\"dataframe\">\n",
              "  <thead>\n",
              "    <tr style=\"text-align: right;\">\n",
              "      <th></th>\n",
              "      <th>description</th>\n",
              "      <th>team_direct</th>\n",
              "    </tr>\n",
              "  </thead>\n",
              "  <tbody>\n",
              "    <tr>\n",
              "      <th>0</th>\n",
              "      <td>Добрый день!  При создании, в момент проводки ...</td>\n",
              "      <td>FI_FM</td>\n",
              "    </tr>\n",
              "    <tr>\n",
              "      <th>1</th>\n",
              "      <td>Налоговая карточка открыта. Задача не отдела Н...</td>\n",
              "      <td>FI_FM</td>\n",
              "    </tr>\n",
              "    <tr>\n",
              "      <th>2</th>\n",
              "      <td>Добрый день! Данные внесены.</td>\n",
              "      <td>MDM</td>\n",
              "    </tr>\n",
              "    <tr>\n",
              "      <th>3</th>\n",
              "      <td>Добавлено права доступа в САП Прошу предостави...</td>\n",
              "      <td>Access</td>\n",
              "    </tr>\n",
              "    <tr>\n",
              "      <th>4</th>\n",
              "      <td>Добавлено добавить права к существующим транза...</td>\n",
              "      <td>Access</td>\n",
              "    </tr>\n",
              "    <tr>\n",
              "      <th>...</th>\n",
              "      <td>...</td>\n",
              "      <td>...</td>\n",
              "    </tr>\n",
              "    <tr>\n",
              "      <th>21302</th>\n",
              "      <td>оплата пайщикам ФИО*: Шевцова Марина Владимиро...</td>\n",
              "      <td>RE_FX</td>\n",
              "    </tr>\n",
              "    <tr>\n",
              "      <th>21303</th>\n",
              "      <td>Добрый день, прошу выслать Логин и пароль САП ...</td>\n",
              "      <td>Access</td>\n",
              "    </tr>\n",
              "    <tr>\n",
              "      <th>21304</th>\n",
              "      <td>Прошу выслать актуальный пароль СМД   [https:/...</td>\n",
              "      <td>Access</td>\n",
              "    </tr>\n",
              "    <tr>\n",
              "      <th>21305</th>\n",
              "      <td>Согласовано Добрый день!  Просим согласовать з...</td>\n",
              "      <td>MDM</td>\n",
              "    </tr>\n",
              "    <tr>\n",
              "      <th>21306</th>\n",
              "      <td>Добрый день!  Просим согласовать запчасти  Спа...</td>\n",
              "      <td>MDM</td>\n",
              "    </tr>\n",
              "  </tbody>\n",
              "</table>\n",
              "<p>21307 rows × 2 columns</p>\n",
              "</div>"
            ],
            "text/plain": [
              "                                             description team_direct\n",
              "0      Добрый день!  При создании, в момент проводки ...       FI_FM\n",
              "1      Налоговая карточка открыта. Задача не отдела Н...       FI_FM\n",
              "2                           Добрый день! Данные внесены.         MDM\n",
              "3      Добавлено права доступа в САП Прошу предостави...      Access\n",
              "4      Добавлено добавить права к существующим транза...      Access\n",
              "...                                                  ...         ...\n",
              "21302  оплата пайщикам ФИО*: Шевцова Марина Владимиро...       RE_FX\n",
              "21303  Добрый день, прошу выслать Логин и пароль САП ...      Access\n",
              "21304  Прошу выслать актуальный пароль СМД   [https:/...      Access\n",
              "21305  Согласовано Добрый день!  Просим согласовать з...         MDM\n",
              "21306  Добрый день!  Просим согласовать запчасти  Спа...         MDM\n",
              "\n",
              "[21307 rows x 2 columns]"
            ]
          },
          "execution_count": 29,
          "metadata": {},
          "output_type": "execute_result"
        }
      ],
      "source": [
        "df[['description', 'team_direct']]"
      ]
    },
    {
      "cell_type": "code",
      "execution_count": null,
      "metadata": {
        "id": "vQyS1fleCyQ8",
        "outputId": "1a4ff87f-d719-48ca-f3c2-7f96410598b9"
      },
      "outputs": [
        {
          "data": {
            "text/html": [
              "<div>\n",
              "<style scoped>\n",
              "    .dataframe tbody tr th:only-of-type {\n",
              "        vertical-align: middle;\n",
              "    }\n",
              "\n",
              "    .dataframe tbody tr th {\n",
              "        vertical-align: top;\n",
              "    }\n",
              "\n",
              "    .dataframe thead th {\n",
              "        text-align: right;\n",
              "    }\n",
              "</style>\n",
              "<table border=\"1\" class=\"dataframe\">\n",
              "  <thead>\n",
              "    <tr style=\"text-align: right;\">\n",
              "      <th></th>\n",
              "      <th>description</th>\n",
              "      <th>team_direct</th>\n",
              "    </tr>\n",
              "  </thead>\n",
              "  <tbody>\n",
              "    <tr>\n",
              "      <th>0</th>\n",
              "      <td>сим-карты получены В данный момент, запросил д...</td>\n",
              "      <td>Disp</td>\n",
              "    </tr>\n",
              "    <tr>\n",
              "      <th>1</th>\n",
              "      <td>Гарнитура предоставлена Здравствуйте. Прошу пр...</td>\n",
              "      <td>IT</td>\n",
              "    </tr>\n",
              "    <tr>\n",
              "      <th>2</th>\n",
              "      <td>Доступ в продуктивную базу SAP Прошу дать дост...</td>\n",
              "      <td>Access</td>\n",
              "    </tr>\n",
              "    <tr>\n",
              "      <th>3</th>\n",
              "      <td>Программа загрузки ОЗМ скорректирована. Поиск ...</td>\n",
              "      <td>MDM</td>\n",
              "    </tr>\n",
              "    <tr>\n",
              "      <th>4</th>\n",
              "      <td>Учетная запись создана: r.skorkin@agroinvest.c...</td>\n",
              "      <td>IT</td>\n",
              "    </tr>\n",
              "    <tr>\n",
              "      <th>...</th>\n",
              "      <td>...</td>\n",
              "      <td>...</td>\n",
              "    </tr>\n",
              "    <tr>\n",
              "      <th>21302</th>\n",
              "      <td>оплата пайщикам ФИО*: Шевцова Марина Владимиро...</td>\n",
              "      <td>RE_FX</td>\n",
              "    </tr>\n",
              "    <tr>\n",
              "      <th>21303</th>\n",
              "      <td>Добрый день, прошу выслать Логин и пароль САП ...</td>\n",
              "      <td>Access</td>\n",
              "    </tr>\n",
              "    <tr>\n",
              "      <th>21304</th>\n",
              "      <td>Прошу выслать актуальный пароль СМД   [https:/...</td>\n",
              "      <td>Access</td>\n",
              "    </tr>\n",
              "    <tr>\n",
              "      <th>21305</th>\n",
              "      <td>Согласовано Добрый день!  Просим согласовать з...</td>\n",
              "      <td>MDM</td>\n",
              "    </tr>\n",
              "    <tr>\n",
              "      <th>21306</th>\n",
              "      <td>Добрый день!  Просим согласовать запчасти  Спа...</td>\n",
              "      <td>MDM</td>\n",
              "    </tr>\n",
              "  </tbody>\n",
              "</table>\n",
              "<p>66215 rows × 2 columns</p>\n",
              "</div>"
            ],
            "text/plain": [
              "                                             description team_direct\n",
              "0      сим-карты получены В данный момент, запросил д...        Disp\n",
              "1      Гарнитура предоставлена Здравствуйте. Прошу пр...          IT\n",
              "2      Доступ в продуктивную базу SAP Прошу дать дост...      Access\n",
              "3      Программа загрузки ОЗМ скорректирована. Поиск ...         MDM\n",
              "4      Учетная запись создана: r.skorkin@agroinvest.c...          IT\n",
              "...                                                  ...         ...\n",
              "21302  оплата пайщикам ФИО*: Шевцова Марина Владимиро...       RE_FX\n",
              "21303  Добрый день, прошу выслать Логин и пароль САП ...      Access\n",
              "21304  Прошу выслать актуальный пароль СМД   [https:/...      Access\n",
              "21305  Согласовано Добрый день!  Просим согласовать з...         MDM\n",
              "21306  Добрый день!  Просим согласовать запчасти  Спа...         MDM\n",
              "\n",
              "[66215 rows x 2 columns]"
            ]
          },
          "execution_count": 30,
          "metadata": {},
          "output_type": "execute_result"
        }
      ],
      "source": [
        "df = pd.concat([df_old[['description', 'team_direct']], df[['description', 'team_direct']]])\n",
        "df"
      ]
    },
    {
      "cell_type": "code",
      "execution_count": null,
      "metadata": {
        "id": "EEIV3V7nCyQ9",
        "outputId": "50f0cee2-1bc8-4b6e-957a-8c1d2ca2d87a"
      },
      "outputs": [
        {
          "data": {
            "text/plain": [
              "MDM            22526\n",
              "IT             10270\n",
              "Access          6671\n",
              "FI_FM           5056\n",
              "HCM             4783\n",
              "Disp            2830\n",
              "MM              2468\n",
              "DMS             2389\n",
              "ITTelematic     1486\n",
              "ARM             1385\n",
              "PP              1348\n",
              "MM_SD            890\n",
              "Directum         806\n",
              "PM               711\n",
              "RE_FX            678\n",
              "1C               629\n",
              "Novatech         519\n",
              "SD               295\n",
              "CO               261\n",
              "PS                96\n",
              "BC                43\n",
              "FI_MSFO           40\n",
              "FI_AA             29\n",
              "Office             4\n",
              "Print              1\n",
              "ALL                1\n",
              "Name: team_direct, dtype: int64"
            ]
          },
          "execution_count": 31,
          "metadata": {},
          "output_type": "execute_result"
        }
      ],
      "source": [
        "df.team_direct.value_counts()"
      ]
    },
    {
      "cell_type": "code",
      "execution_count": null,
      "metadata": {
        "id": "KWZHXzuMCyQ9",
        "outputId": "e5774b69-ea2e-4910-a617-192dc254e949"
      },
      "outputs": [
        {
          "data": {
            "text/html": [
              "<div>\n",
              "<style scoped>\n",
              "    .dataframe tbody tr th:only-of-type {\n",
              "        vertical-align: middle;\n",
              "    }\n",
              "\n",
              "    .dataframe tbody tr th {\n",
              "        vertical-align: top;\n",
              "    }\n",
              "\n",
              "    .dataframe thead th {\n",
              "        text-align: right;\n",
              "    }\n",
              "</style>\n",
              "<table border=\"1\" class=\"dataframe\">\n",
              "  <thead>\n",
              "    <tr style=\"text-align: right;\">\n",
              "      <th></th>\n",
              "      <th>description</th>\n",
              "      <th>team_direct</th>\n",
              "    </tr>\n",
              "  </thead>\n",
              "  <tbody>\n",
              "    <tr>\n",
              "      <th>0</th>\n",
              "      <td>сим-карты получены В данный момент, запросил д...</td>\n",
              "      <td>Disp</td>\n",
              "    </tr>\n",
              "    <tr>\n",
              "      <th>1</th>\n",
              "      <td>Гарнитура предоставлена Здравствуйте. Прошу пр...</td>\n",
              "      <td>IT</td>\n",
              "    </tr>\n",
              "    <tr>\n",
              "      <th>2</th>\n",
              "      <td>Доступ в продуктивную базу SAP Прошу дать дост...</td>\n",
              "      <td>Access</td>\n",
              "    </tr>\n",
              "    <tr>\n",
              "      <th>3</th>\n",
              "      <td>Программа загрузки ОЗМ скорректирована. Поиск ...</td>\n",
              "      <td>MDM</td>\n",
              "    </tr>\n",
              "    <tr>\n",
              "      <th>4</th>\n",
              "      <td>Учетная запись создана: r.skorkin@agroinvest.c...</td>\n",
              "      <td>IT</td>\n",
              "    </tr>\n",
              "    <tr>\n",
              "      <th>...</th>\n",
              "      <td>...</td>\n",
              "      <td>...</td>\n",
              "    </tr>\n",
              "    <tr>\n",
              "      <th>21302</th>\n",
              "      <td>оплата пайщикам ФИО*: Шевцова Марина Владимиро...</td>\n",
              "      <td>RE_FX</td>\n",
              "    </tr>\n",
              "    <tr>\n",
              "      <th>21303</th>\n",
              "      <td>Добрый день, прошу выслать Логин и пароль САП ...</td>\n",
              "      <td>Access</td>\n",
              "    </tr>\n",
              "    <tr>\n",
              "      <th>21304</th>\n",
              "      <td>Прошу выслать актуальный пароль СМД   [https:/...</td>\n",
              "      <td>Access</td>\n",
              "    </tr>\n",
              "    <tr>\n",
              "      <th>21305</th>\n",
              "      <td>Согласовано Добрый день!  Просим согласовать з...</td>\n",
              "      <td>MDM</td>\n",
              "    </tr>\n",
              "    <tr>\n",
              "      <th>21306</th>\n",
              "      <td>Добрый день!  Просим согласовать запчасти  Спа...</td>\n",
              "      <td>MDM</td>\n",
              "    </tr>\n",
              "  </tbody>\n",
              "</table>\n",
              "<p>66001 rows × 2 columns</p>\n",
              "</div>"
            ],
            "text/plain": [
              "                                             description team_direct\n",
              "0      сим-карты получены В данный момент, запросил д...        Disp\n",
              "1      Гарнитура предоставлена Здравствуйте. Прошу пр...          IT\n",
              "2      Доступ в продуктивную базу SAP Прошу дать дост...      Access\n",
              "3      Программа загрузки ОЗМ скорректирована. Поиск ...         MDM\n",
              "4      Учетная запись создана: r.skorkin@agroinvest.c...          IT\n",
              "...                                                  ...         ...\n",
              "21302  оплата пайщикам ФИО*: Шевцова Марина Владимиро...       RE_FX\n",
              "21303  Добрый день, прошу выслать Логин и пароль САП ...      Access\n",
              "21304  Прошу выслать актуальный пароль СМД   [https:/...      Access\n",
              "21305  Согласовано Добрый день!  Просим согласовать з...         MDM\n",
              "21306  Добрый день!  Просим согласовать запчасти  Спа...         MDM\n",
              "\n",
              "[66001 rows x 2 columns]"
            ]
          },
          "execution_count": 32,
          "metadata": {},
          "output_type": "execute_result"
        }
      ],
      "source": [
        "# удаляем команды описанные малым числом примеров (>min_req)\n",
        "min_req = 100\n",
        "\n",
        "filtered_classes = df.team_direct.value_counts()[df.team_direct.value_counts() > min_req].index.values\n",
        "\n",
        "df = df[df.team_direct.apply(lambda x: True if x in filtered_classes else False)]\n",
        "df"
      ]
    },
    {
      "cell_type": "code",
      "execution_count": null,
      "metadata": {
        "id": "OSdPIxmBCyQ9",
        "outputId": "7ac1a342-5c3d-41cb-f070-d9cf78e33b7c"
      },
      "outputs": [
        {
          "name": "stderr",
          "output_type": "stream",
          "text": [
            "<ipython-input-33-fe64f5d1839f>:2: SettingWithCopyWarning: \n",
            "A value is trying to be set on a copy of a slice from a DataFrame.\n",
            "Try using .loc[row_indexer,col_indexer] = value instead\n",
            "\n",
            "See the caveats in the documentation: https://pandas.pydata.org/pandas-docs/stable/user_guide/indexing.html#returning-a-view-versus-a-copy\n",
            "  df['description'] = df['description'].apply(lambda x: ' '.join(x.split()[:400]) if len(x.split())>400 else x)\n"
          ]
        }
      ],
      "source": [
        "# убираем длинные описания\n",
        "df['description'] = df['description'].apply(lambda x: ' '.join(x.split()[:400]) if len(x.split())>400 else x)"
      ]
    },
    {
      "cell_type": "code",
      "execution_count": null,
      "metadata": {
        "id": "ohSjpOEJCyQ-",
        "outputId": "401222e0-e8cf-4c15-aeeb-412513d1aba5"
      },
      "outputs": [
        {
          "data": {
            "text/plain": [
              "<AxesSubplot:>"
            ]
          },
          "execution_count": 34,
          "metadata": {},
          "output_type": "execute_result"
        },
        {
          "data": {
            "image/png": "[encoded data removed]",
            "text/plain": [
              "<Figure size 1080x720 with 1 Axes>"
            ]
          },
          "metadata": {
            "needs_background": "light"
          },
          "output_type": "display_data"
        }
      ],
      "source": [
        "df['description'].apply(lambda x: len(x.split())).hist(figsize=(15, 10))"
      ]
    },
    {
      "cell_type": "code",
      "execution_count": null,
      "metadata": {
        "id": "20WXrTXxCyQ-",
        "outputId": "d630f02f-8d5d-4996-d0c8-ae8773445a1a"
      },
      "outputs": [
        {
          "data": {
            "text/plain": [
              "237                                                   test\n",
              "429                                                   тест\n",
              "703                                                   test\n",
              "948                                                   тест\n",
              "1773                                                  test\n",
              "                               ...                        \n",
              "11746                                          Согласовано\n",
              "11981                                          Согласовано\n",
              "12855                                          Согласовано\n",
              "16507    2082820829208389858109361123130424012029769509...\n",
              "17545                                          Согласовано\n",
              "Name: description, Length: 83, dtype: object"
            ]
          },
          "execution_count": 35,
          "metadata": {},
          "output_type": "execute_result"
        }
      ],
      "source": [
        "# 83 примера из 1 слова\n",
        "df['description'][df['description'].apply(lambda x: True if len(x.split()) == 1 else False)]"
      ]
    },
    {
      "cell_type": "code",
      "execution_count": null,
      "metadata": {
        "id": "rG1eAn3YCyQ-"
      },
      "outputs": [],
      "source": [
        "# убираем mm_ssd т.к. ее больше не существует\n",
        "df = df[df['team_direct'] != 'MM_SD']"
      ]
    },
    {
      "cell_type": "code",
      "execution_count": null,
      "metadata": {
        "id": "7P5mTGiZCyQ_",
        "outputId": "c7be23c6-fdea-4dc9-fe4f-f1047917485f"
      },
      "outputs": [
        {
          "data": {
            "text/html": [
              "<div>\n",
              "<style scoped>\n",
              "    .dataframe tbody tr th:only-of-type {\n",
              "        vertical-align: middle;\n",
              "    }\n",
              "\n",
              "    .dataframe tbody tr th {\n",
              "        vertical-align: top;\n",
              "    }\n",
              "\n",
              "    .dataframe thead th {\n",
              "        text-align: right;\n",
              "    }\n",
              "</style>\n",
              "<table border=\"1\" class=\"dataframe\">\n",
              "  <thead>\n",
              "    <tr style=\"text-align: right;\">\n",
              "      <th></th>\n",
              "      <th>description</th>\n",
              "      <th>labels</th>\n",
              "    </tr>\n",
              "  </thead>\n",
              "  <tbody>\n",
              "    <tr>\n",
              "      <th>0</th>\n",
              "      <td>сим-карты получены В данный момент, запросил д...</td>\n",
              "      <td>Disp</td>\n",
              "    </tr>\n",
              "    <tr>\n",
              "      <th>1</th>\n",
              "      <td>Гарнитура предоставлена Здравствуйте. Прошу пр...</td>\n",
              "      <td>IT</td>\n",
              "    </tr>\n",
              "    <tr>\n",
              "      <th>2</th>\n",
              "      <td>Доступ в продуктивную базу SAP Прошу дать дост...</td>\n",
              "      <td>Access</td>\n",
              "    </tr>\n",
              "    <tr>\n",
              "      <th>3</th>\n",
              "      <td>Программа загрузки ОЗМ скорректирована. Поиск ...</td>\n",
              "      <td>MDM</td>\n",
              "    </tr>\n",
              "    <tr>\n",
              "      <th>4</th>\n",
              "      <td>Учетная запись создана: r.skorkin@agroinvest.c...</td>\n",
              "      <td>IT</td>\n",
              "    </tr>\n",
              "    <tr>\n",
              "      <th>...</th>\n",
              "      <td>...</td>\n",
              "      <td>...</td>\n",
              "    </tr>\n",
              "    <tr>\n",
              "      <th>21302</th>\n",
              "      <td>оплата пайщикам ФИО*: Шевцова Марина Владимиро...</td>\n",
              "      <td>RE_FX</td>\n",
              "    </tr>\n",
              "    <tr>\n",
              "      <th>21303</th>\n",
              "      <td>Добрый день, прошу выслать Логин и пароль САП ...</td>\n",
              "      <td>Access</td>\n",
              "    </tr>\n",
              "    <tr>\n",
              "      <th>21304</th>\n",
              "      <td>Прошу выслать актуальный пароль СМД   [https:/...</td>\n",
              "      <td>Access</td>\n",
              "    </tr>\n",
              "    <tr>\n",
              "      <th>21305</th>\n",
              "      <td>Согласовано Добрый день!  Просим согласовать з...</td>\n",
              "      <td>MDM</td>\n",
              "    </tr>\n",
              "    <tr>\n",
              "      <th>21306</th>\n",
              "      <td>Добрый день!  Просим согласовать запчасти  Спа...</td>\n",
              "      <td>MDM</td>\n",
              "    </tr>\n",
              "  </tbody>\n",
              "</table>\n",
              "<p>65111 rows × 2 columns</p>\n",
              "</div>"
            ],
            "text/plain": [
              "                                             description  labels\n",
              "0      сим-карты получены В данный момент, запросил д...    Disp\n",
              "1      Гарнитура предоставлена Здравствуйте. Прошу пр...      IT\n",
              "2      Доступ в продуктивную базу SAP Прошу дать дост...  Access\n",
              "3      Программа загрузки ОЗМ скорректирована. Поиск ...     MDM\n",
              "4      Учетная запись создана: r.skorkin@agroinvest.c...      IT\n",
              "...                                                  ...     ...\n",
              "21302  оплата пайщикам ФИО*: Шевцова Марина Владимиро...   RE_FX\n",
              "21303  Добрый день, прошу выслать Логин и пароль САП ...  Access\n",
              "21304  Прошу выслать актуальный пароль СМД   [https:/...  Access\n",
              "21305  Согласовано Добрый день!  Просим согласовать з...     MDM\n",
              "21306  Добрый день!  Просим согласовать запчасти  Спа...     MDM\n",
              "\n",
              "[65111 rows x 2 columns]"
            ]
          },
          "execution_count": 37,
          "metadata": {},
          "output_type": "execute_result"
        }
      ],
      "source": [
        "# меняем названия колонок под huggin face\n",
        "df.columns = ['description', 'labels']\n",
        "df"
      ]
    },
    {
      "cell_type": "code",
      "execution_count": null,
      "metadata": {
        "id": "ckn7NtBICyQ_",
        "outputId": "5fdedbf4-5040-4027-861b-d2db5c7daafc"
      },
      "outputs": [
        {
          "data": {
            "text/plain": [
              "array(['1C', 'ARM', 'Access', 'CO', 'DMS', 'Directum', 'Disp', 'FI_FM',\n",
              "       'HCM', 'IT', 'ITTelematic', 'MDM', 'MM', 'Novatech', 'PM', 'PP',\n",
              "       'RE_FX', 'SD'], dtype=object)"
            ]
          },
          "execution_count": 38,
          "metadata": {},
          "output_type": "execute_result"
        }
      ],
      "source": [
        "\n",
        "from sklearn import preprocessing\n",
        "Label_encoder = preprocessing.LabelEncoder()\n",
        "Label_encoder.fit(df['labels'])\n",
        "Label_encoder.classes_"
      ]
    },
    {
      "cell_type": "code",
      "execution_count": null,
      "metadata": {
        "id": "f0qpwCriCyQ_",
        "outputId": "cdf5fe7b-3ce7-4f98-b101-8508da388819"
      },
      "outputs": [
        {
          "name": "stderr",
          "output_type": "stream",
          "text": [
            "<ipython-input-39-0f55a7c08fa3>:1: SettingWithCopyWarning: \n",
            "A value is trying to be set on a copy of a slice from a DataFrame.\n",
            "Try using .loc[row_indexer,col_indexer] = value instead\n",
            "\n",
            "See the caveats in the documentation: https://pandas.pydata.org/pandas-docs/stable/user_guide/indexing.html#returning-a-view-versus-a-copy\n",
            "  df['labels'] = Label_encoder.fit_transform(df['labels'])\n"
          ]
        }
      ],
      "source": [
        "df['labels'] = Label_encoder.fit_transform(df['labels'])"
      ]
    },
    {
      "cell_type": "code",
      "execution_count": null,
      "metadata": {
        "id": "6-5o6pzrCyRA",
        "outputId": "4acdadb9-e972-4945-de2c-3134450c67d6"
      },
      "outputs": [
        {
          "data": {
            "text/html": [
              "<div>\n",
              "<style scoped>\n",
              "    .dataframe tbody tr th:only-of-type {\n",
              "        vertical-align: middle;\n",
              "    }\n",
              "\n",
              "    .dataframe tbody tr th {\n",
              "        vertical-align: top;\n",
              "    }\n",
              "\n",
              "    .dataframe thead th {\n",
              "        text-align: right;\n",
              "    }\n",
              "</style>\n",
              "<table border=\"1\" class=\"dataframe\">\n",
              "  <thead>\n",
              "    <tr style=\"text-align: right;\">\n",
              "      <th></th>\n",
              "      <th>description</th>\n",
              "      <th>labels</th>\n",
              "    </tr>\n",
              "  </thead>\n",
              "  <tbody>\n",
              "    <tr>\n",
              "      <th>0</th>\n",
              "      <td>сим-карты получены В данный момент, запросил д...</td>\n",
              "      <td>6</td>\n",
              "    </tr>\n",
              "    <tr>\n",
              "      <th>1</th>\n",
              "      <td>Гарнитура предоставлена Здравствуйте. Прошу пр...</td>\n",
              "      <td>9</td>\n",
              "    </tr>\n",
              "    <tr>\n",
              "      <th>2</th>\n",
              "      <td>Доступ в продуктивную базу SAP Прошу дать дост...</td>\n",
              "      <td>2</td>\n",
              "    </tr>\n",
              "    <tr>\n",
              "      <th>3</th>\n",
              "      <td>Программа загрузки ОЗМ скорректирована. Поиск ...</td>\n",
              "      <td>11</td>\n",
              "    </tr>\n",
              "    <tr>\n",
              "      <th>4</th>\n",
              "      <td>Учетная запись создана: r.skorkin@agroinvest.c...</td>\n",
              "      <td>9</td>\n",
              "    </tr>\n",
              "    <tr>\n",
              "      <th>...</th>\n",
              "      <td>...</td>\n",
              "      <td>...</td>\n",
              "    </tr>\n",
              "    <tr>\n",
              "      <th>21302</th>\n",
              "      <td>оплата пайщикам ФИО*: Шевцова Марина Владимиро...</td>\n",
              "      <td>16</td>\n",
              "    </tr>\n",
              "    <tr>\n",
              "      <th>21303</th>\n",
              "      <td>Добрый день, прошу выслать Логин и пароль САП ...</td>\n",
              "      <td>2</td>\n",
              "    </tr>\n",
              "    <tr>\n",
              "      <th>21304</th>\n",
              "      <td>Прошу выслать актуальный пароль СМД   [https:/...</td>\n",
              "      <td>2</td>\n",
              "    </tr>\n",
              "    <tr>\n",
              "      <th>21305</th>\n",
              "      <td>Согласовано Добрый день!  Просим согласовать з...</td>\n",
              "      <td>11</td>\n",
              "    </tr>\n",
              "    <tr>\n",
              "      <th>21306</th>\n",
              "      <td>Добрый день!  Просим согласовать запчасти  Спа...</td>\n",
              "      <td>11</td>\n",
              "    </tr>\n",
              "  </tbody>\n",
              "</table>\n",
              "<p>65111 rows × 2 columns</p>\n",
              "</div>"
            ],
            "text/plain": [
              "                                             description  labels\n",
              "0      сим-карты получены В данный момент, запросил д...       6\n",
              "1      Гарнитура предоставлена Здравствуйте. Прошу пр...       9\n",
              "2      Доступ в продуктивную базу SAP Прошу дать дост...       2\n",
              "3      Программа загрузки ОЗМ скорректирована. Поиск ...      11\n",
              "4      Учетная запись создана: r.skorkin@agroinvest.c...       9\n",
              "...                                                  ...     ...\n",
              "21302  оплата пайщикам ФИО*: Шевцова Марина Владимиро...      16\n",
              "21303  Добрый день, прошу выслать Логин и пароль САП ...       2\n",
              "21304  Прошу выслать актуальный пароль СМД   [https:/...       2\n",
              "21305  Согласовано Добрый день!  Просим согласовать з...      11\n",
              "21306  Добрый день!  Просим согласовать запчасти  Спа...      11\n",
              "\n",
              "[65111 rows x 2 columns]"
            ]
          },
          "execution_count": 40,
          "metadata": {},
          "output_type": "execute_result"
        }
      ],
      "source": [
        "df"
      ]
    },
    {
      "cell_type": "code",
      "execution_count": null,
      "metadata": {
        "id": "GxgGtsPLCyRA"
      },
      "outputs": [],
      "source": [
        "# сохраняем\n",
        "df.to_csv('df_updated_2021.csv', index=False)"
      ]
    },
    {
      "cell_type": "code",
      "execution_count": null,
      "metadata": {
        "id": "vneVHIUqCyRA"
      },
      "outputs": [],
      "source": [
        "np.save('classes.npy', Label_encoder.classes_)"
      ]
    },
    {
      "cell_type": "code",
      "execution_count": null,
      "metadata": {
        "id": "RTorBb8DCyRA"
      },
      "outputs": [],
      "source": [
        "# перемешиваем и рабиваем на train test\n",
        "df = df.sample(frac=1).reset_index(drop=True)\n",
        "train = df[:int(len(df)*0.8)]\n",
        "test =  df[int(len(df)*0.8):]"
      ]
    },
    {
      "cell_type": "code",
      "execution_count": null,
      "metadata": {
        "id": "F-HNfm74CyRA",
        "outputId": "d4806445-735d-4764-89c1-6255bb06ad2e"
      },
      "outputs": [
        {
          "data": {
            "text/plain": [
              "(52088, 13023)"
            ]
          },
          "execution_count": 44,
          "metadata": {},
          "output_type": "execute_result"
        }
      ],
      "source": [
        "len(train), len(test)"
      ]
    },
    {
      "cell_type": "code",
      "execution_count": null,
      "metadata": {
        "id": "n_pvXjSKCyRB",
        "outputId": "364fa2b7-12de-44c8-b3d7-3974689cdcda"
      },
      "outputs": [
        {
          "name": "stdout",
          "output_type": "stream",
          "text": [
            "18\n"
          ]
        },
        {
          "data": {
            "text/html": [
              "<div>\n",
              "<style scoped>\n",
              "    .dataframe tbody tr th:only-of-type {\n",
              "        vertical-align: middle;\n",
              "    }\n",
              "\n",
              "    .dataframe tbody tr th {\n",
              "        vertical-align: top;\n",
              "    }\n",
              "\n",
              "    .dataframe thead th {\n",
              "        text-align: right;\n",
              "    }\n",
              "</style>\n",
              "<table border=\"1\" class=\"dataframe\">\n",
              "  <thead>\n",
              "    <tr style=\"text-align: right;\">\n",
              "      <th></th>\n",
              "      <th>description</th>\n",
              "      <th>labels</th>\n",
              "    </tr>\n",
              "  </thead>\n",
              "  <tbody>\n",
              "    <tr>\n",
              "      <th>0</th>\n",
              "      <td>Материал добавлен:  1000060618 01.06.2021 1005...</td>\n",
              "      <td>11</td>\n",
              "    </tr>\n",
              "    <tr>\n",
              "      <th>1</th>\n",
              "      <td>Добрый день. Необходима консультация по 45* за...</td>\n",
              "      <td>12</td>\n",
              "    </tr>\n",
              "    <tr>\n",
              "      <th>2</th>\n",
              "      <td>Сотрудник заходил под старой учётной записью. ...</td>\n",
              "      <td>13</td>\n",
              "    </tr>\n",
              "    <tr>\n",
              "      <th>3</th>\n",
              "      <td>Где необходимо поменять подписанта? Добрый ден...</td>\n",
              "      <td>7</td>\n",
              "    </tr>\n",
              "    <tr>\n",
              "      <th>4</th>\n",
              "      <td>Интернет Добрый день.Неполадки с интернет подк...</td>\n",
              "      <td>9</td>\n",
              "    </tr>\n",
              "    <tr>\n",
              "      <th>...</th>\n",
              "      <td>...</td>\n",
              "      <td>...</td>\n",
              "    </tr>\n",
              "    <tr>\n",
              "      <th>52083</th>\n",
              "      <td>Добрый день! Группа изменена 100585 Ремни Ремн...</td>\n",
              "      <td>11</td>\n",
              "    </tr>\n",
              "    <tr>\n",
              "      <th>52084</th>\n",
              "      <td>расширить делового партнера ФИО*: Калагарцева ...</td>\n",
              "      <td>11</td>\n",
              "    </tr>\n",
              "    <tr>\n",
              "      <th>52085</th>\n",
              "      <td>1000057955 29.03.2021 100531011 ШТ 70-2409027 ...</td>\n",
              "      <td>11</td>\n",
              "    </tr>\n",
              "    <tr>\n",
              "      <th>52086</th>\n",
              "      <td>Добрый день, команда \"Руднянский Хлеб\" создано...</td>\n",
              "      <td>9</td>\n",
              "    </tr>\n",
              "    <tr>\n",
              "      <th>52087</th>\n",
              "      <td>Не можем провести фактуру по доб.дебетованию Д...</td>\n",
              "      <td>7</td>\n",
              "    </tr>\n",
              "  </tbody>\n",
              "</table>\n",
              "<p>52088 rows × 2 columns</p>\n",
              "</div>"
            ],
            "text/plain": [
              "                                             description  labels\n",
              "0      Материал добавлен:  1000060618 01.06.2021 1005...      11\n",
              "1      Добрый день. Необходима консультация по 45* за...      12\n",
              "2      Сотрудник заходил под старой учётной записью. ...      13\n",
              "3      Где необходимо поменять подписанта? Добрый ден...       7\n",
              "4      Интернет Добрый день.Неполадки с интернет подк...       9\n",
              "...                                                  ...     ...\n",
              "52083  Добрый день! Группа изменена 100585 Ремни Ремн...      11\n",
              "52084  расширить делового партнера ФИО*: Калагарцева ...      11\n",
              "52085  1000057955 29.03.2021 100531011 ШТ 70-2409027 ...      11\n",
              "52086  Добрый день, команда \"Руднянский Хлеб\" создано...       9\n",
              "52087  Не можем провести фактуру по доб.дебетованию Д...       7\n",
              "\n",
              "[52088 rows x 2 columns]"
            ]
          },
          "execution_count": 45,
          "metadata": {},
          "output_type": "execute_result"
        }
      ],
      "source": [
        "# проверяем что кол-во классов всего df == кол-ву классов train\n",
        "print(len(train['labels'].value_counts()))\n",
        "train"
      ]
    },
    {
      "cell_type": "code",
      "execution_count": null,
      "metadata": {
        "id": "C5vT26_TCyRB",
        "outputId": "778c99e3-fcd2-4edb-c751-4f86fb918ce4"
      },
      "outputs": [
        {
          "name": "stdout",
          "output_type": "stream",
          "text": [
            "18\n"
          ]
        }
      ],
      "source": [
        "# проверяем что кол-во классов всего df == кол-ву классов test\n",
        "print(len(test['labels'].value_counts()))"
      ]
    },
    {
      "cell_type": "code",
      "execution_count": null,
      "metadata": {
        "id": "G29goCCDCyRB"
      },
      "outputs": [],
      "source": [
        "train.to_csv('train.csv', index=False)\n",
        "test.to_csv('test.csv', index=False)"
      ]
    },
    {
      "cell_type": "code",
      "execution_count": null,
      "metadata": {
        "id": "emfXfFBpCyRB",
        "outputId": "81a039ea-59dd-4fa6-962f-1126471a610a"
      },
      "outputs": [
        {
          "name": "stderr",
          "output_type": "stream",
          "text": [
            "Some weights of BertForSequenceClassification were not initialized from the model checkpoint at sberbank-ai/sbert_large_nlu_ru and are newly initialized: ['classifier.weight', 'classifier.bias']\n",
            "You should probably TRAIN this model on a down-stream task to be able to use it for predictions and inference.\n"
          ]
        }
      ],
      "source": [
        "model_name = \"sberbank-ai/sbert_large_nlu_ru\"\n",
        "\n",
        "tokenizer = AutoTokenizer.from_pretrained(model_name)\n",
        "# если есть желание дообучить лучшую модель - оставить эту строчку кода, иначе убрать\n",
        "# model_name = 'sber-80(-84)'\n",
        "model = AutoModelForSequenceClassification.from_pretrained(model_name, num_labels=18)"
      ]
    },
    {
      "cell_type": "code",
      "execution_count": null,
      "metadata": {
        "id": "ht0I7DnbCyRB"
      },
      "outputs": [],
      "source": [
        "# for param in model.bert.parameters():\n",
        "#     param.requires_grad = False\n",
        "\n",
        "# for param in model.bert.embeddings.parameters():\n",
        "#     param.requires_grad = True"
      ]
    },
    {
      "cell_type": "code",
      "execution_count": null,
      "metadata": {
        "id": "jz72jK7jCyRC",
        "outputId": "ae5b329a-f011-49ab-fff8-6823f9aadb19"
      },
      "outputs": [
        {
          "data": {
            "text/plain": [
              "[('bert.embeddings.word_embeddings.weight',\n",
              "  Parameter containing:\n",
              "  tensor([[ 0.0606, -0.0615,  0.0168,  ..., -0.0138, -0.0484, -0.0585],\n",
              "          [ 0.0038, -0.0852,  0.0023,  ..., -0.0053,  0.0156, -0.0284],\n",
              "          [ 0.0240, -0.0408, -0.0073,  ..., -0.0014,  0.0304,  0.0227],\n",
              "          ...,\n",
              "          [ 0.0440, -0.0153,  0.0383,  ..., -0.0643, -0.0344, -0.0135],\n",
              "          [ 0.0465, -0.0162,  0.0522,  ..., -0.0459,  0.0222, -0.0480],\n",
              "          [ 0.0326,  0.0194,  0.0508,  ...,  0.0417, -0.0545, -0.0163]],\n",
              "         device='cuda:0', requires_grad=True)),\n",
              " ('bert.embeddings.position_embeddings.weight',\n",
              "  Parameter containing:\n",
              "  tensor([[ 3.9556e-04,  1.1412e-02, -7.9491e-03,  ..., -2.6713e-04,\n",
              "           -3.0242e-03, -1.2221e-02],\n",
              "          [-4.3789e-03,  8.2686e-03,  7.2317e-03,  ...,  5.0034e-03,\n",
              "            2.9022e-03,  1.4276e-03],\n",
              "          [ 5.3956e-03,  2.1844e-02,  1.8691e-02,  ..., -1.1598e-03,\n",
              "           -3.7614e-03, -3.7767e-05],\n",
              "          ...,\n",
              "          [-4.0377e-03, -8.1262e-03, -1.7772e-02,  ...,  3.5470e-03,\n",
              "            1.0189e-02, -9.9601e-03],\n",
              "          [ 1.2782e-02, -5.6220e-03, -2.1037e-02,  ...,  5.0247e-03,\n",
              "            2.6418e-02,  1.1322e-02],\n",
              "          [-9.2223e-03, -4.3405e-02,  5.0960e-02,  ...,  3.5942e-02,\n",
              "            7.8482e-03,  1.4025e-02]], device='cuda:0', requires_grad=True)),\n",
              " ('bert.embeddings.token_type_embeddings.weight',\n",
              "  Parameter containing:\n",
              "  tensor([[-0.0003, -0.0077, -0.0004,  ...,  0.0037, -0.0048,  0.0028],\n",
              "          [-0.0008, -0.0037, -0.0119,  ...,  0.0005, -0.0055,  0.0019]],\n",
              "         device='cuda:0', requires_grad=True)),\n",
              " ('bert.embeddings.LayerNorm.weight',\n",
              "  Parameter containing:\n",
              "  tensor([0.9050, 1.0629, 0.5835,  ..., 1.0128, 1.0788, 1.0907], device='cuda:0',\n",
              "         requires_grad=True)),\n",
              " ('bert.embeddings.LayerNorm.bias',\n",
              "  Parameter containing:\n",
              "  tensor([-0.0033,  0.0044, -0.0018,  ...,  0.0021,  0.0032,  0.0043],\n",
              "         device='cuda:0', requires_grad=True)),\n",
              " ('bert.encoder.layer.0.attention.self.query.weight',\n",
              "  Parameter containing:\n",
              "  tensor([[-0.0020,  0.0097, -0.0088,  ..., -0.0079,  0.0154,  0.0043],\n",
              "          [ 0.0307, -0.0295,  0.0078,  ...,  0.0419, -0.0104,  0.0034],\n",
              "          [-0.0390, -0.0315, -0.0372,  ...,  0.0186,  0.0355,  0.0332],\n",
              "          ...,\n",
              "          [-0.0432,  0.0061, -0.0328,  ...,  0.0179,  0.0206,  0.0433],\n",
              "          [-0.0112,  0.0011, -0.0019,  ..., -0.0269, -0.0109,  0.0095],\n",
              "          [ 0.0164, -0.0396,  0.0172,  ..., -0.0543,  0.0277, -0.0393]],\n",
              "         device='cuda:0', requires_grad=True))]"
            ]
          },
          "execution_count": 178,
          "metadata": {},
          "output_type": "execute_result"
        }
      ],
      "source": [
        "names = list(model.named_parameters())\n",
        "names[:6]"
      ]
    },
    {
      "cell_type": "code",
      "execution_count": null,
      "metadata": {
        "id": "pui5JVCSCyRC",
        "outputId": "13dc262c-b957-46cc-8dee-6a98bc511212"
      },
      "outputs": [
        {
          "data": {
            "text/plain": [
              "28630"
            ]
          },
          "execution_count": 4,
          "metadata": {},
          "output_type": "execute_result"
        }
      ],
      "source": [
        "torch.cuda.empty_cache()\n",
        "import gc\n",
        "gc.collect()"
      ]
    },
    {
      "cell_type": "code",
      "execution_count": null,
      "metadata": {
        "id": "pw_RXXHhCyRC",
        "outputId": "6c452993-b71d-4e74-8469-59a31c3ea132"
      },
      "outputs": [
        {
          "data": {
            "text/plain": [
              "device(type='cuda')"
            ]
          },
          "execution_count": 5,
          "metadata": {},
          "output_type": "execute_result"
        }
      ],
      "source": [
        "device = torch.device(\"cuda\") if torch.cuda.is_available() else torch.device(\"cpu\")\n",
        "model.to(device)\n",
        "device"
      ]
    },
    {
      "cell_type": "code",
      "execution_count": null,
      "metadata": {
        "id": "COeHa4gzCyRC",
        "outputId": "ac80de85-1620-4a79-96ae-1c5da2852780"
      },
      "outputs": [
        {
          "name": "stderr",
          "output_type": "stream",
          "text": [
            "Using custom data configuration default-c716c783a19492d1\n",
            "Reusing dataset csv (C:\\Users\\tixon\\.cache\\huggingface\\datasets\\csv\\default-c716c783a19492d1\\0.0.0\\2dc6629a9ff6b5697d82c25b73731dd440507a69cbce8b425db50b751e8fcfd0)\n"
          ]
        }
      ],
      "source": [
        "dataset = load_dataset('csv', data_files={'train': 'train.csv', 'test': 'test.csv'})"
      ]
    },
    {
      "cell_type": "code",
      "execution_count": null,
      "metadata": {
        "id": "04DzooMqCyRD",
        "outputId": "be0a01c8-d9eb-4651-ba02-5f5034ee2e7d"
      },
      "outputs": [
        {
          "name": "stderr",
          "output_type": "stream",
          "text": [
            "Loading cached processed dataset at C:\\Users\\tixon\\.cache\\huggingface\\datasets\\csv\\default-c716c783a19492d1\\0.0.0\\2dc6629a9ff6b5697d82c25b73731dd440507a69cbce8b425db50b751e8fcfd0\\cache-7e1df1bce8bed17b.arrow\n",
            "Loading cached processed dataset at C:\\Users\\tixon\\.cache\\huggingface\\datasets\\csv\\default-c716c783a19492d1\\0.0.0\\2dc6629a9ff6b5697d82c25b73731dd440507a69cbce8b425db50b751e8fcfd0\\cache-6317354144cdf1fa.arrow\n"
          ]
        }
      ],
      "source": [
        "dataset = dataset.map(lambda e: tokenizer(e['description'], truncation = True, max_length=100, padding='max_length'), batched=True)"
      ]
    },
    {
      "cell_type": "code",
      "execution_count": null,
      "metadata": {
        "id": "BBzHOrCdCyRD"
      },
      "outputs": [],
      "source": [
        "# это стандартные колонки для формата пайторча, все кроме них убираем\n",
        "pytorch_style_columns = ['input_ids', 'token_type_ids', 'attention_mask', 'labels']  # \n",
        "# убираем их из загрузчика\n",
        "dataset = dataset.remove_columns(list(set(list(dataset['train'].features.keys())) - set(pytorch_style_columns))) "
      ]
    },
    {
      "cell_type": "code",
      "execution_count": null,
      "metadata": {
        "id": "mGRpA3FmCyRD",
        "outputId": "d61f1ecd-db20-4f92-daf3-2aff2446de75"
      },
      "outputs": [
        {
          "data": {
            "text/plain": [
              "DatasetDict({\n",
              "    train: Dataset({\n",
              "        features: ['attention_mask', 'input_ids', 'labels', 'token_type_ids'],\n",
              "        num_rows: 52088\n",
              "    })\n",
              "    test: Dataset({\n",
              "        features: ['attention_mask', 'input_ids', 'labels', 'token_type_ids'],\n",
              "        num_rows: 13023\n",
              "    })\n",
              "})"
            ]
          },
          "execution_count": 90,
          "metadata": {},
          "output_type": "execute_result"
        }
      ],
      "source": [
        "dataset"
      ]
    },
    {
      "cell_type": "code",
      "execution_count": null,
      "metadata": {
        "id": "V8Dd-Z6aCyRD"
      },
      "outputs": [],
      "source": [
        "# переврдим в формат пайторча\n",
        "# сразу грузим на gpu, если есть cuda, иначе девайс стоит убрать из аргумента\n",
        "dataset.set_format(type='torch', columns=pytorch_style_columns, device='cuda') \n",
        "# dataset.set_format(type='torch', columns=\"input_ids\", device='cuda') "
      ]
    },
    {
      "cell_type": "code",
      "execution_count": null,
      "metadata": {
        "id": "PNCZ1hHACyRD"
      },
      "outputs": [],
      "source": [
        "# установить 8 или больше, если более 16 гб видеопамяти\n",
        "train_dataloader = DataLoader(dataset['train'], shuffle=True, batch_size=1)\n",
        "test_dataloader = DataLoader(dataset['test'], shuffle=False, batch_size=1)"
      ]
    },
    {
      "cell_type": "code",
      "execution_count": null,
      "metadata": {
        "id": "ilYez_t6CyRD",
        "outputId": "94bddf50-379e-40aa-8839-561388dc7035"
      },
      "outputs": [
        {
          "data": {
            "text/plain": [
              "52088"
            ]
          },
          "execution_count": 93,
          "metadata": {},
          "output_type": "execute_result"
        }
      ],
      "source": [
        "len(train_dataloader)"
      ]
    },
    {
      "cell_type": "code",
      "execution_count": null,
      "metadata": {
        "id": "UVO2p98wCyRE"
      },
      "outputs": [],
      "source": [
        "# оптимизатор AdamW, лр стоит поперебирать\n",
        "optimizer = AdamW(model.parameters(), lr=2e-6)\n",
        "# количество эпох можно побольше поставить\n",
        "num_epochs = 4\n",
        "# количество шагов\n",
        "num_training_steps = num_epochs * len(train_dataloader)\n",
        "\n",
        "# будем линейно увеличивать первые 200 шагов\n",
        "lr_scheduler = get_scheduler(\n",
        "    \"constant_with_warmup\",\n",
        "    optimizer=optimizer,\n",
        "    num_warmup_steps=2000,\n",
        "    num_training_steps=num_training_steps\n",
        ")"
      ]
    },
    {
      "cell_type": "code",
      "execution_count": null,
      "metadata": {
        "id": "8GXgnP2sCyRE"
      },
      "outputs": [],
      "source": [
        "torch.cuda.empty_cache()"
      ]
    },
    {
      "cell_type": "code",
      "execution_count": null,
      "metadata": {
        "id": "HZk_25iHCyRE",
        "outputId": "96449ff1-8cc4-4e3c-a313-fff881e5e766"
      },
      "outputs": [
        {
          "data": {
            "text/plain": [
              "26"
            ]
          },
          "execution_count": 96,
          "metadata": {},
          "output_type": "execute_result"
        }
      ],
      "source": [
        "import gc\n",
        "gc.collect()"
      ]
    },
    {
      "cell_type": "code",
      "execution_count": null,
      "metadata": {
        "id": "4UUN3FxQCyRE",
        "outputId": "520ff01d-f47f-4372-f12a-e86eef53c6d8"
      },
      "outputs": [
        {
          "data": {
            "text/plain": [
              "{'attention_mask': tensor([[1, 1, 1, 1, 1, 1, 1, 1, 1, 1, 1, 1, 1, 1, 1, 1, 1, 1, 1, 1, 1, 1, 1, 1,\n",
              "          1, 1, 1, 1, 1, 0, 0, 0, 0, 0, 0, 0, 0, 0, 0, 0, 0, 0, 0, 0, 0, 0, 0, 0,\n",
              "          0, 0, 0, 0, 0, 0, 0, 0, 0, 0, 0, 0, 0, 0, 0, 0, 0, 0, 0, 0, 0, 0, 0, 0,\n",
              "          0, 0, 0, 0, 0, 0, 0, 0, 0, 0, 0, 0, 0, 0, 0, 0, 0, 0, 0, 0, 0, 0, 0, 0,\n",
              "          0, 0, 0, 0]], device='cuda:0'),\n",
              " 'input_ids': tensor([[  101, 10858, 12047,  2945,   113, 90569,   660,  6980,   197, 61712,\n",
              "          39958,   121, 15718,  1684,   385, 25165,   121, 17562, 65136, 10239,\n",
              "          14927, 67436,   378,   689,  2233,  8740, 62173,  5397,   102,     0,\n",
              "              0,     0,     0,     0,     0,     0,     0,     0,     0,     0,\n",
              "              0,     0,     0,     0,     0,     0,     0,     0,     0,     0,\n",
              "              0,     0,     0,     0,     0,     0,     0,     0,     0,     0,\n",
              "              0,     0,     0,     0,     0,     0,     0,     0,     0,     0,\n",
              "              0,     0,     0,     0,     0,     0,     0,     0,     0,     0,\n",
              "              0,     0,     0,     0,     0,     0,     0,     0,     0,     0,\n",
              "              0,     0,     0,     0,     0,     0,     0,     0,     0,     0]],\n",
              "        device='cuda:0'),\n",
              " 'labels': tensor([2], device='cuda:0'),\n",
              " 'token_type_ids': tensor([[0, 0, 0, 0, 0, 0, 0, 0, 0, 0, 0, 0, 0, 0, 0, 0, 0, 0, 0, 0, 0, 0, 0, 0,\n",
              "          0, 0, 0, 0, 0, 0, 0, 0, 0, 0, 0, 0, 0, 0, 0, 0, 0, 0, 0, 0, 0, 0, 0, 0,\n",
              "          0, 0, 0, 0, 0, 0, 0, 0, 0, 0, 0, 0, 0, 0, 0, 0, 0, 0, 0, 0, 0, 0, 0, 0,\n",
              "          0, 0, 0, 0, 0, 0, 0, 0, 0, 0, 0, 0, 0, 0, 0, 0, 0, 0, 0, 0, 0, 0, 0, 0,\n",
              "          0, 0, 0, 0]], device='cuda:0')}"
            ]
          },
          "execution_count": 97,
          "metadata": {},
          "output_type": "execute_result"
        }
      ],
      "source": [
        "next(iter(train_dataloader))"
      ]
    },
    {
      "cell_type": "code",
      "execution_count": null,
      "metadata": {
        "id": "_O2GpJspCyRE",
        "outputId": "41eb42ff-dbb3-4e66-bd86-496f28daf9be"
      },
      "outputs": [
        {
          "name": "stdout",
          "output_type": "stream",
          "text": [
            "---------------------------------------- \n",
            "epoch 1\n"
          ]
        },
        {
          "ename": "RuntimeError",
          "evalue": "CUDA out of memory. Tried to allocate 2.00 MiB (GPU 0; 8.00 GiB total capacity; 6.58 GiB already allocated; 0 bytes free; 6.59 GiB reserved in total by PyTorch)",
          "output_type": "error",
          "traceback": [
            "\u001b[1;31m---------------------------------------------------------------------------\u001b[0m",
            "\u001b[1;31mRuntimeError\u001b[0m                              Traceback (most recent call last)",
            "\u001b[1;32m<ipython-input-98-fd267bc93a99>\u001b[0m in \u001b[0;36m<module>\u001b[1;34m\u001b[0m\n\u001b[0;32m     22\u001b[0m         \u001b[1;31m# print(batch)\u001b[0m\u001b[1;33m\u001b[0m\u001b[1;33m\u001b[0m\u001b[1;33m\u001b[0m\u001b[0m\n\u001b[0;32m     23\u001b[0m         \u001b[1;31m# получаем прогнозы\u001b[0m\u001b[1;33m\u001b[0m\u001b[1;33m\u001b[0m\u001b[1;33m\u001b[0m\u001b[0m\n\u001b[1;32m---> 24\u001b[1;33m         \u001b[0moutputs\u001b[0m \u001b[1;33m=\u001b[0m \u001b[0mmodel\u001b[0m\u001b[1;33m(\u001b[0m\u001b[1;33m**\u001b[0m\u001b[0mbatch\u001b[0m\u001b[1;33m)\u001b[0m\u001b[1;33m\u001b[0m\u001b[1;33m\u001b[0m\u001b[0m\n\u001b[0m\u001b[0;32m     25\u001b[0m         \u001b[1;31m# print(outputs)\u001b[0m\u001b[1;33m\u001b[0m\u001b[1;33m\u001b[0m\u001b[1;33m\u001b[0m\u001b[0m\n\u001b[0;32m     26\u001b[0m         \u001b[1;31m# получаем лосс встроенный вместе с моделью (кросс-энтропия)\u001b[0m\u001b[1;33m\u001b[0m\u001b[1;33m\u001b[0m\u001b[1;33m\u001b[0m\u001b[0m\n",
            "\u001b[1;32mC:\\Python39\\lib\\site-packages\\torch\\nn\\modules\\module.py\u001b[0m in \u001b[0;36m_call_impl\u001b[1;34m(self, *input, **kwargs)\u001b[0m\n\u001b[0;32m   1049\u001b[0m         if not (self._backward_hooks or self._forward_hooks or self._forward_pre_hooks or _global_backward_hooks\n\u001b[0;32m   1050\u001b[0m                 or _global_forward_hooks or _global_forward_pre_hooks):\n\u001b[1;32m-> 1051\u001b[1;33m             \u001b[1;32mreturn\u001b[0m \u001b[0mforward_call\u001b[0m\u001b[1;33m(\u001b[0m\u001b[1;33m*\u001b[0m\u001b[0minput\u001b[0m\u001b[1;33m,\u001b[0m \u001b[1;33m**\u001b[0m\u001b[0mkwargs\u001b[0m\u001b[1;33m)\u001b[0m\u001b[1;33m\u001b[0m\u001b[1;33m\u001b[0m\u001b[0m\n\u001b[0m\u001b[0;32m   1052\u001b[0m         \u001b[1;31m# Do not call functions when jit is used\u001b[0m\u001b[1;33m\u001b[0m\u001b[1;33m\u001b[0m\u001b[1;33m\u001b[0m\u001b[0m\n\u001b[0;32m   1053\u001b[0m         \u001b[0mfull_backward_hooks\u001b[0m\u001b[1;33m,\u001b[0m \u001b[0mnon_full_backward_hooks\u001b[0m \u001b[1;33m=\u001b[0m \u001b[1;33m[\u001b[0m\u001b[1;33m]\u001b[0m\u001b[1;33m,\u001b[0m \u001b[1;33m[\u001b[0m\u001b[1;33m]\u001b[0m\u001b[1;33m\u001b[0m\u001b[1;33m\u001b[0m\u001b[0m\n",
            "\u001b[1;32mC:\\Python39\\lib\\site-packages\\transformers\\models\\bert\\modeling_bert.py\u001b[0m in \u001b[0;36mforward\u001b[1;34m(self, input_ids, attention_mask, token_type_ids, position_ids, head_mask, inputs_embeds, labels, output_attentions, output_hidden_states, return_dict)\u001b[0m\n\u001b[0;32m   1500\u001b[0m         \u001b[0mreturn_dict\u001b[0m \u001b[1;33m=\u001b[0m \u001b[0mreturn_dict\u001b[0m \u001b[1;32mif\u001b[0m \u001b[0mreturn_dict\u001b[0m \u001b[1;32mis\u001b[0m \u001b[1;32mnot\u001b[0m \u001b[1;32mNone\u001b[0m \u001b[1;32melse\u001b[0m \u001b[0mself\u001b[0m\u001b[1;33m.\u001b[0m\u001b[0mconfig\u001b[0m\u001b[1;33m.\u001b[0m\u001b[0muse_return_dict\u001b[0m\u001b[1;33m\u001b[0m\u001b[1;33m\u001b[0m\u001b[0m\n\u001b[0;32m   1501\u001b[0m \u001b[1;33m\u001b[0m\u001b[0m\n\u001b[1;32m-> 1502\u001b[1;33m         outputs = self.bert(\n\u001b[0m\u001b[0;32m   1503\u001b[0m             \u001b[0minput_ids\u001b[0m\u001b[1;33m,\u001b[0m\u001b[1;33m\u001b[0m\u001b[1;33m\u001b[0m\u001b[0m\n\u001b[0;32m   1504\u001b[0m             \u001b[0mattention_mask\u001b[0m\u001b[1;33m=\u001b[0m\u001b[0mattention_mask\u001b[0m\u001b[1;33m,\u001b[0m\u001b[1;33m\u001b[0m\u001b[1;33m\u001b[0m\u001b[0m\n",
            "\u001b[1;32mC:\\Python39\\lib\\site-packages\\torch\\nn\\modules\\module.py\u001b[0m in \u001b[0;36m_call_impl\u001b[1;34m(self, *input, **kwargs)\u001b[0m\n\u001b[0;32m   1049\u001b[0m         if not (self._backward_hooks or self._forward_hooks or self._forward_pre_hooks or _global_backward_hooks\n\u001b[0;32m   1050\u001b[0m                 or _global_forward_hooks or _global_forward_pre_hooks):\n\u001b[1;32m-> 1051\u001b[1;33m             \u001b[1;32mreturn\u001b[0m \u001b[0mforward_call\u001b[0m\u001b[1;33m(\u001b[0m\u001b[1;33m*\u001b[0m\u001b[0minput\u001b[0m\u001b[1;33m,\u001b[0m \u001b[1;33m**\u001b[0m\u001b[0mkwargs\u001b[0m\u001b[1;33m)\u001b[0m\u001b[1;33m\u001b[0m\u001b[1;33m\u001b[0m\u001b[0m\n\u001b[0m\u001b[0;32m   1052\u001b[0m         \u001b[1;31m# Do not call functions when jit is used\u001b[0m\u001b[1;33m\u001b[0m\u001b[1;33m\u001b[0m\u001b[1;33m\u001b[0m\u001b[0m\n\u001b[0;32m   1053\u001b[0m         \u001b[0mfull_backward_hooks\u001b[0m\u001b[1;33m,\u001b[0m \u001b[0mnon_full_backward_hooks\u001b[0m \u001b[1;33m=\u001b[0m \u001b[1;33m[\u001b[0m\u001b[1;33m]\u001b[0m\u001b[1;33m,\u001b[0m \u001b[1;33m[\u001b[0m\u001b[1;33m]\u001b[0m\u001b[1;33m\u001b[0m\u001b[1;33m\u001b[0m\u001b[0m\n",
            "\u001b[1;32mC:\\Python39\\lib\\site-packages\\transformers\\models\\bert\\modeling_bert.py\u001b[0m in \u001b[0;36mforward\u001b[1;34m(self, input_ids, attention_mask, token_type_ids, position_ids, head_mask, inputs_embeds, encoder_hidden_states, encoder_attention_mask, past_key_values, use_cache, output_attentions, output_hidden_states, return_dict)\u001b[0m\n\u001b[0;32m    969\u001b[0m             \u001b[0mpast_key_values_length\u001b[0m\u001b[1;33m=\u001b[0m\u001b[0mpast_key_values_length\u001b[0m\u001b[1;33m,\u001b[0m\u001b[1;33m\u001b[0m\u001b[1;33m\u001b[0m\u001b[0m\n\u001b[0;32m    970\u001b[0m         )\n\u001b[1;32m--> 971\u001b[1;33m         encoder_outputs = self.encoder(\n\u001b[0m\u001b[0;32m    972\u001b[0m             \u001b[0membedding_output\u001b[0m\u001b[1;33m,\u001b[0m\u001b[1;33m\u001b[0m\u001b[1;33m\u001b[0m\u001b[0m\n\u001b[0;32m    973\u001b[0m             \u001b[0mattention_mask\u001b[0m\u001b[1;33m=\u001b[0m\u001b[0mextended_attention_mask\u001b[0m\u001b[1;33m,\u001b[0m\u001b[1;33m\u001b[0m\u001b[1;33m\u001b[0m\u001b[0m\n",
            "\u001b[1;32mC:\\Python39\\lib\\site-packages\\torch\\nn\\modules\\module.py\u001b[0m in \u001b[0;36m_call_impl\u001b[1;34m(self, *input, **kwargs)\u001b[0m\n\u001b[0;32m   1049\u001b[0m         if not (self._backward_hooks or self._forward_hooks or self._forward_pre_hooks or _global_backward_hooks\n\u001b[0;32m   1050\u001b[0m                 or _global_forward_hooks or _global_forward_pre_hooks):\n\u001b[1;32m-> 1051\u001b[1;33m             \u001b[1;32mreturn\u001b[0m \u001b[0mforward_call\u001b[0m\u001b[1;33m(\u001b[0m\u001b[1;33m*\u001b[0m\u001b[0minput\u001b[0m\u001b[1;33m,\u001b[0m \u001b[1;33m**\u001b[0m\u001b[0mkwargs\u001b[0m\u001b[1;33m)\u001b[0m\u001b[1;33m\u001b[0m\u001b[1;33m\u001b[0m\u001b[0m\n\u001b[0m\u001b[0;32m   1052\u001b[0m         \u001b[1;31m# Do not call functions when jit is used\u001b[0m\u001b[1;33m\u001b[0m\u001b[1;33m\u001b[0m\u001b[1;33m\u001b[0m\u001b[0m\n\u001b[0;32m   1053\u001b[0m         \u001b[0mfull_backward_hooks\u001b[0m\u001b[1;33m,\u001b[0m \u001b[0mnon_full_backward_hooks\u001b[0m \u001b[1;33m=\u001b[0m \u001b[1;33m[\u001b[0m\u001b[1;33m]\u001b[0m\u001b[1;33m,\u001b[0m \u001b[1;33m[\u001b[0m\u001b[1;33m]\u001b[0m\u001b[1;33m\u001b[0m\u001b[1;33m\u001b[0m\u001b[0m\n",
            "\u001b[1;32mC:\\Python39\\lib\\site-packages\\transformers\\models\\bert\\modeling_bert.py\u001b[0m in \u001b[0;36mforward\u001b[1;34m(self, hidden_states, attention_mask, head_mask, encoder_hidden_states, encoder_attention_mask, past_key_values, use_cache, output_attentions, output_hidden_states, return_dict)\u001b[0m\n\u001b[0;32m    566\u001b[0m                 )\n\u001b[0;32m    567\u001b[0m             \u001b[1;32melse\u001b[0m\u001b[1;33m:\u001b[0m\u001b[1;33m\u001b[0m\u001b[1;33m\u001b[0m\u001b[0m\n\u001b[1;32m--> 568\u001b[1;33m                 layer_outputs = layer_module(\n\u001b[0m\u001b[0;32m    569\u001b[0m                     \u001b[0mhidden_states\u001b[0m\u001b[1;33m,\u001b[0m\u001b[1;33m\u001b[0m\u001b[1;33m\u001b[0m\u001b[0m\n\u001b[0;32m    570\u001b[0m                     \u001b[0mattention_mask\u001b[0m\u001b[1;33m,\u001b[0m\u001b[1;33m\u001b[0m\u001b[1;33m\u001b[0m\u001b[0m\n",
            "\u001b[1;32mC:\\Python39\\lib\\site-packages\\torch\\nn\\modules\\module.py\u001b[0m in \u001b[0;36m_call_impl\u001b[1;34m(self, *input, **kwargs)\u001b[0m\n\u001b[0;32m   1049\u001b[0m         if not (self._backward_hooks or self._forward_hooks or self._forward_pre_hooks or _global_backward_hooks\n\u001b[0;32m   1050\u001b[0m                 or _global_forward_hooks or _global_forward_pre_hooks):\n\u001b[1;32m-> 1051\u001b[1;33m             \u001b[1;32mreturn\u001b[0m \u001b[0mforward_call\u001b[0m\u001b[1;33m(\u001b[0m\u001b[1;33m*\u001b[0m\u001b[0minput\u001b[0m\u001b[1;33m,\u001b[0m \u001b[1;33m**\u001b[0m\u001b[0mkwargs\u001b[0m\u001b[1;33m)\u001b[0m\u001b[1;33m\u001b[0m\u001b[1;33m\u001b[0m\u001b[0m\n\u001b[0m\u001b[0;32m   1052\u001b[0m         \u001b[1;31m# Do not call functions when jit is used\u001b[0m\u001b[1;33m\u001b[0m\u001b[1;33m\u001b[0m\u001b[1;33m\u001b[0m\u001b[0m\n\u001b[0;32m   1053\u001b[0m         \u001b[0mfull_backward_hooks\u001b[0m\u001b[1;33m,\u001b[0m \u001b[0mnon_full_backward_hooks\u001b[0m \u001b[1;33m=\u001b[0m \u001b[1;33m[\u001b[0m\u001b[1;33m]\u001b[0m\u001b[1;33m,\u001b[0m \u001b[1;33m[\u001b[0m\u001b[1;33m]\u001b[0m\u001b[1;33m\u001b[0m\u001b[1;33m\u001b[0m\u001b[0m\n",
            "\u001b[1;32mC:\\Python39\\lib\\site-packages\\transformers\\models\\bert\\modeling_bert.py\u001b[0m in \u001b[0;36mforward\u001b[1;34m(self, hidden_states, attention_mask, head_mask, encoder_hidden_states, encoder_attention_mask, past_key_value, output_attentions)\u001b[0m\n\u001b[0;32m    454\u001b[0m         \u001b[1;31m# decoder uni-directional self-attention cached key/values tuple is at positions 1,2\u001b[0m\u001b[1;33m\u001b[0m\u001b[1;33m\u001b[0m\u001b[1;33m\u001b[0m\u001b[0m\n\u001b[0;32m    455\u001b[0m         \u001b[0mself_attn_past_key_value\u001b[0m \u001b[1;33m=\u001b[0m \u001b[0mpast_key_value\u001b[0m\u001b[1;33m[\u001b[0m\u001b[1;33m:\u001b[0m\u001b[1;36m2\u001b[0m\u001b[1;33m]\u001b[0m \u001b[1;32mif\u001b[0m \u001b[0mpast_key_value\u001b[0m \u001b[1;32mis\u001b[0m \u001b[1;32mnot\u001b[0m \u001b[1;32mNone\u001b[0m \u001b[1;32melse\u001b[0m \u001b[1;32mNone\u001b[0m\u001b[1;33m\u001b[0m\u001b[1;33m\u001b[0m\u001b[0m\n\u001b[1;32m--> 456\u001b[1;33m         self_attention_outputs = self.attention(\n\u001b[0m\u001b[0;32m    457\u001b[0m             \u001b[0mhidden_states\u001b[0m\u001b[1;33m,\u001b[0m\u001b[1;33m\u001b[0m\u001b[1;33m\u001b[0m\u001b[0m\n\u001b[0;32m    458\u001b[0m             \u001b[0mattention_mask\u001b[0m\u001b[1;33m,\u001b[0m\u001b[1;33m\u001b[0m\u001b[1;33m\u001b[0m\u001b[0m\n",
            "\u001b[1;32mC:\\Python39\\lib\\site-packages\\torch\\nn\\modules\\module.py\u001b[0m in \u001b[0;36m_call_impl\u001b[1;34m(self, *input, **kwargs)\u001b[0m\n\u001b[0;32m   1049\u001b[0m         if not (self._backward_hooks or self._forward_hooks or self._forward_pre_hooks or _global_backward_hooks\n\u001b[0;32m   1050\u001b[0m                 or _global_forward_hooks or _global_forward_pre_hooks):\n\u001b[1;32m-> 1051\u001b[1;33m             \u001b[1;32mreturn\u001b[0m \u001b[0mforward_call\u001b[0m\u001b[1;33m(\u001b[0m\u001b[1;33m*\u001b[0m\u001b[0minput\u001b[0m\u001b[1;33m,\u001b[0m \u001b[1;33m**\u001b[0m\u001b[0mkwargs\u001b[0m\u001b[1;33m)\u001b[0m\u001b[1;33m\u001b[0m\u001b[1;33m\u001b[0m\u001b[0m\n\u001b[0m\u001b[0;32m   1052\u001b[0m         \u001b[1;31m# Do not call functions when jit is used\u001b[0m\u001b[1;33m\u001b[0m\u001b[1;33m\u001b[0m\u001b[1;33m\u001b[0m\u001b[0m\n\u001b[0;32m   1053\u001b[0m         \u001b[0mfull_backward_hooks\u001b[0m\u001b[1;33m,\u001b[0m \u001b[0mnon_full_backward_hooks\u001b[0m \u001b[1;33m=\u001b[0m \u001b[1;33m[\u001b[0m\u001b[1;33m]\u001b[0m\u001b[1;33m,\u001b[0m \u001b[1;33m[\u001b[0m\u001b[1;33m]\u001b[0m\u001b[1;33m\u001b[0m\u001b[1;33m\u001b[0m\u001b[0m\n",
            "\u001b[1;32mC:\\Python39\\lib\\site-packages\\transformers\\models\\bert\\modeling_bert.py\u001b[0m in \u001b[0;36mforward\u001b[1;34m(self, hidden_states, attention_mask, head_mask, encoder_hidden_states, encoder_attention_mask, past_key_value, output_attentions)\u001b[0m\n\u001b[0;32m    385\u001b[0m         \u001b[0moutput_attentions\u001b[0m\u001b[1;33m=\u001b[0m\u001b[1;32mFalse\u001b[0m\u001b[1;33m,\u001b[0m\u001b[1;33m\u001b[0m\u001b[1;33m\u001b[0m\u001b[0m\n\u001b[0;32m    386\u001b[0m     ):\n\u001b[1;32m--> 387\u001b[1;33m         self_outputs = self.self(\n\u001b[0m\u001b[0;32m    388\u001b[0m             \u001b[0mhidden_states\u001b[0m\u001b[1;33m,\u001b[0m\u001b[1;33m\u001b[0m\u001b[1;33m\u001b[0m\u001b[0m\n\u001b[0;32m    389\u001b[0m             \u001b[0mattention_mask\u001b[0m\u001b[1;33m,\u001b[0m\u001b[1;33m\u001b[0m\u001b[1;33m\u001b[0m\u001b[0m\n",
            "\u001b[1;32mC:\\Python39\\lib\\site-packages\\torch\\nn\\modules\\module.py\u001b[0m in \u001b[0;36m_call_impl\u001b[1;34m(self, *input, **kwargs)\u001b[0m\n\u001b[0;32m   1049\u001b[0m         if not (self._backward_hooks or self._forward_hooks or self._forward_pre_hooks or _global_backward_hooks\n\u001b[0;32m   1050\u001b[0m                 or _global_forward_hooks or _global_forward_pre_hooks):\n\u001b[1;32m-> 1051\u001b[1;33m             \u001b[1;32mreturn\u001b[0m \u001b[0mforward_call\u001b[0m\u001b[1;33m(\u001b[0m\u001b[1;33m*\u001b[0m\u001b[0minput\u001b[0m\u001b[1;33m,\u001b[0m \u001b[1;33m**\u001b[0m\u001b[0mkwargs\u001b[0m\u001b[1;33m)\u001b[0m\u001b[1;33m\u001b[0m\u001b[1;33m\u001b[0m\u001b[0m\n\u001b[0m\u001b[0;32m   1052\u001b[0m         \u001b[1;31m# Do not call functions when jit is used\u001b[0m\u001b[1;33m\u001b[0m\u001b[1;33m\u001b[0m\u001b[1;33m\u001b[0m\u001b[0m\n\u001b[0;32m   1053\u001b[0m         \u001b[0mfull_backward_hooks\u001b[0m\u001b[1;33m,\u001b[0m \u001b[0mnon_full_backward_hooks\u001b[0m \u001b[1;33m=\u001b[0m \u001b[1;33m[\u001b[0m\u001b[1;33m]\u001b[0m\u001b[1;33m,\u001b[0m \u001b[1;33m[\u001b[0m\u001b[1;33m]\u001b[0m\u001b[1;33m\u001b[0m\u001b[1;33m\u001b[0m\u001b[0m\n",
            "\u001b[1;32mC:\\Python39\\lib\\site-packages\\transformers\\models\\bert\\modeling_bert.py\u001b[0m in \u001b[0;36mforward\u001b[1;34m(self, hidden_states, attention_mask, head_mask, encoder_hidden_states, encoder_attention_mask, past_key_value, output_attentions)\u001b[0m\n\u001b[0;32m    273\u001b[0m             \u001b[0mvalue_layer\u001b[0m \u001b[1;33m=\u001b[0m \u001b[0mtorch\u001b[0m\u001b[1;33m.\u001b[0m\u001b[0mcat\u001b[0m\u001b[1;33m(\u001b[0m\u001b[1;33m[\u001b[0m\u001b[0mpast_key_value\u001b[0m\u001b[1;33m[\u001b[0m\u001b[1;36m1\u001b[0m\u001b[1;33m]\u001b[0m\u001b[1;33m,\u001b[0m \u001b[0mvalue_layer\u001b[0m\u001b[1;33m]\u001b[0m\u001b[1;33m,\u001b[0m \u001b[0mdim\u001b[0m\u001b[1;33m=\u001b[0m\u001b[1;36m2\u001b[0m\u001b[1;33m)\u001b[0m\u001b[1;33m\u001b[0m\u001b[1;33m\u001b[0m\u001b[0m\n\u001b[0;32m    274\u001b[0m         \u001b[1;32melse\u001b[0m\u001b[1;33m:\u001b[0m\u001b[1;33m\u001b[0m\u001b[1;33m\u001b[0m\u001b[0m\n\u001b[1;32m--> 275\u001b[1;33m             \u001b[0mkey_layer\u001b[0m \u001b[1;33m=\u001b[0m \u001b[0mself\u001b[0m\u001b[1;33m.\u001b[0m\u001b[0mtranspose_for_scores\u001b[0m\u001b[1;33m(\u001b[0m\u001b[0mself\u001b[0m\u001b[1;33m.\u001b[0m\u001b[0mkey\u001b[0m\u001b[1;33m(\u001b[0m\u001b[0mhidden_states\u001b[0m\u001b[1;33m)\u001b[0m\u001b[1;33m)\u001b[0m\u001b[1;33m\u001b[0m\u001b[1;33m\u001b[0m\u001b[0m\n\u001b[0m\u001b[0;32m    276\u001b[0m             \u001b[0mvalue_layer\u001b[0m \u001b[1;33m=\u001b[0m \u001b[0mself\u001b[0m\u001b[1;33m.\u001b[0m\u001b[0mtranspose_for_scores\u001b[0m\u001b[1;33m(\u001b[0m\u001b[0mself\u001b[0m\u001b[1;33m.\u001b[0m\u001b[0mvalue\u001b[0m\u001b[1;33m(\u001b[0m\u001b[0mhidden_states\u001b[0m\u001b[1;33m)\u001b[0m\u001b[1;33m)\u001b[0m\u001b[1;33m\u001b[0m\u001b[1;33m\u001b[0m\u001b[0m\n\u001b[0;32m    277\u001b[0m \u001b[1;33m\u001b[0m\u001b[0m\n",
            "\u001b[1;32mC:\\Python39\\lib\\site-packages\\torch\\nn\\modules\\module.py\u001b[0m in \u001b[0;36m_call_impl\u001b[1;34m(self, *input, **kwargs)\u001b[0m\n\u001b[0;32m   1049\u001b[0m         if not (self._backward_hooks or self._forward_hooks or self._forward_pre_hooks or _global_backward_hooks\n\u001b[0;32m   1050\u001b[0m                 or _global_forward_hooks or _global_forward_pre_hooks):\n\u001b[1;32m-> 1051\u001b[1;33m             \u001b[1;32mreturn\u001b[0m \u001b[0mforward_call\u001b[0m\u001b[1;33m(\u001b[0m\u001b[1;33m*\u001b[0m\u001b[0minput\u001b[0m\u001b[1;33m,\u001b[0m \u001b[1;33m**\u001b[0m\u001b[0mkwargs\u001b[0m\u001b[1;33m)\u001b[0m\u001b[1;33m\u001b[0m\u001b[1;33m\u001b[0m\u001b[0m\n\u001b[0m\u001b[0;32m   1052\u001b[0m         \u001b[1;31m# Do not call functions when jit is used\u001b[0m\u001b[1;33m\u001b[0m\u001b[1;33m\u001b[0m\u001b[1;33m\u001b[0m\u001b[0m\n\u001b[0;32m   1053\u001b[0m         \u001b[0mfull_backward_hooks\u001b[0m\u001b[1;33m,\u001b[0m \u001b[0mnon_full_backward_hooks\u001b[0m \u001b[1;33m=\u001b[0m \u001b[1;33m[\u001b[0m\u001b[1;33m]\u001b[0m\u001b[1;33m,\u001b[0m \u001b[1;33m[\u001b[0m\u001b[1;33m]\u001b[0m\u001b[1;33m\u001b[0m\u001b[1;33m\u001b[0m\u001b[0m\n",
            "\u001b[1;32mC:\\Python39\\lib\\site-packages\\torch\\nn\\modules\\linear.py\u001b[0m in \u001b[0;36mforward\u001b[1;34m(self, input)\u001b[0m\n\u001b[0;32m     94\u001b[0m \u001b[1;33m\u001b[0m\u001b[0m\n\u001b[0;32m     95\u001b[0m     \u001b[1;32mdef\u001b[0m \u001b[0mforward\u001b[0m\u001b[1;33m(\u001b[0m\u001b[0mself\u001b[0m\u001b[1;33m,\u001b[0m \u001b[0minput\u001b[0m\u001b[1;33m:\u001b[0m \u001b[0mTensor\u001b[0m\u001b[1;33m)\u001b[0m \u001b[1;33m->\u001b[0m \u001b[0mTensor\u001b[0m\u001b[1;33m:\u001b[0m\u001b[1;33m\u001b[0m\u001b[1;33m\u001b[0m\u001b[0m\n\u001b[1;32m---> 96\u001b[1;33m         \u001b[1;32mreturn\u001b[0m \u001b[0mF\u001b[0m\u001b[1;33m.\u001b[0m\u001b[0mlinear\u001b[0m\u001b[1;33m(\u001b[0m\u001b[0minput\u001b[0m\u001b[1;33m,\u001b[0m \u001b[0mself\u001b[0m\u001b[1;33m.\u001b[0m\u001b[0mweight\u001b[0m\u001b[1;33m,\u001b[0m \u001b[0mself\u001b[0m\u001b[1;33m.\u001b[0m\u001b[0mbias\u001b[0m\u001b[1;33m)\u001b[0m\u001b[1;33m\u001b[0m\u001b[1;33m\u001b[0m\u001b[0m\n\u001b[0m\u001b[0;32m     97\u001b[0m \u001b[1;33m\u001b[0m\u001b[0m\n\u001b[0;32m     98\u001b[0m     \u001b[1;32mdef\u001b[0m \u001b[0mextra_repr\u001b[0m\u001b[1;33m(\u001b[0m\u001b[0mself\u001b[0m\u001b[1;33m)\u001b[0m \u001b[1;33m->\u001b[0m \u001b[0mstr\u001b[0m\u001b[1;33m:\u001b[0m\u001b[1;33m\u001b[0m\u001b[1;33m\u001b[0m\u001b[0m\n",
            "\u001b[1;32mC:\\Python39\\lib\\site-packages\\torch\\nn\\functional.py\u001b[0m in \u001b[0;36mlinear\u001b[1;34m(input, weight, bias)\u001b[0m\n\u001b[0;32m   1845\u001b[0m     \u001b[1;32mif\u001b[0m \u001b[0mhas_torch_function_variadic\u001b[0m\u001b[1;33m(\u001b[0m\u001b[0minput\u001b[0m\u001b[1;33m,\u001b[0m \u001b[0mweight\u001b[0m\u001b[1;33m)\u001b[0m\u001b[1;33m:\u001b[0m\u001b[1;33m\u001b[0m\u001b[1;33m\u001b[0m\u001b[0m\n\u001b[0;32m   1846\u001b[0m         \u001b[1;32mreturn\u001b[0m \u001b[0mhandle_torch_function\u001b[0m\u001b[1;33m(\u001b[0m\u001b[0mlinear\u001b[0m\u001b[1;33m,\u001b[0m \u001b[1;33m(\u001b[0m\u001b[0minput\u001b[0m\u001b[1;33m,\u001b[0m \u001b[0mweight\u001b[0m\u001b[1;33m)\u001b[0m\u001b[1;33m,\u001b[0m \u001b[0minput\u001b[0m\u001b[1;33m,\u001b[0m \u001b[0mweight\u001b[0m\u001b[1;33m,\u001b[0m \u001b[0mbias\u001b[0m\u001b[1;33m=\u001b[0m\u001b[0mbias\u001b[0m\u001b[1;33m)\u001b[0m\u001b[1;33m\u001b[0m\u001b[1;33m\u001b[0m\u001b[0m\n\u001b[1;32m-> 1847\u001b[1;33m     \u001b[1;32mreturn\u001b[0m \u001b[0mtorch\u001b[0m\u001b[1;33m.\u001b[0m\u001b[0m_C\u001b[0m\u001b[1;33m.\u001b[0m\u001b[0m_nn\u001b[0m\u001b[1;33m.\u001b[0m\u001b[0mlinear\u001b[0m\u001b[1;33m(\u001b[0m\u001b[0minput\u001b[0m\u001b[1;33m,\u001b[0m \u001b[0mweight\u001b[0m\u001b[1;33m,\u001b[0m \u001b[0mbias\u001b[0m\u001b[1;33m)\u001b[0m\u001b[1;33m\u001b[0m\u001b[1;33m\u001b[0m\u001b[0m\n\u001b[0m\u001b[0;32m   1848\u001b[0m \u001b[1;33m\u001b[0m\u001b[0m\n\u001b[0;32m   1849\u001b[0m \u001b[1;33m\u001b[0m\u001b[0m\n",
            "\u001b[1;31mRuntimeError\u001b[0m: CUDA out of memory. Tried to allocate 2.00 MiB (GPU 0; 8.00 GiB total capacity; 6.58 GiB already allocated; 0 bytes free; 6.59 GiB reserved in total by PyTorch)"
          ]
        }
      ],
      "source": [
        "# лучший f1, по нему будем сохранять\n",
        "best_f1 = 0.\n",
        "# будем отображать каждые 10% эпохи\n",
        "show_train_loss_every_num_epoch = 0.1\n",
        "\n",
        "# проходимся по всем эпохам\n",
        "for epoch in range(num_epochs):\n",
        "    # отображаем номера эпох\n",
        "    print(40*'-', '\\nepoch', epoch+1)\n",
        "    # переводим в режим тренировки\n",
        "    model.train()\n",
        "    # смотрим на средний лосс за 10% эпохи\n",
        "    losses = []\n",
        "    # итерируемся по треин части \n",
        "    for i, batch in enumerate(train_dataloader):\n",
        "        \n",
        "        # переводим в режим тренировки\n",
        "        model.train()\n",
        "        # print(batch)\n",
        "        # переносим батч на гпу, где и модель\n",
        "        batch = {k: v.to(device) for k, v in batch.items()}\n",
        "        # print(batch)\n",
        "        # получаем прогнозы\n",
        "        outputs = model(**batch)\n",
        "        # print(outputs)\n",
        "        # получаем лосс встроенный вместе с моделью (кросс-энтропия)\n",
        "        loss = outputs.loss\n",
        "        # делаем обратный проход\n",
        "        loss.backward()\n",
        "        # шаг по градиенту\n",
        "        optimizer.step()\n",
        "        # шаг по скорости\n",
        "        lr_scheduler.step()\n",
        "        # шаг по оптимизатору\n",
        "        optimizer.zero_grad()\n",
        "        # фиксируем потери на треин\n",
        "        losses.append(loss.item())\n",
        "        # отображаем каждый 10% эпохи\n",
        "        if i%int(len(train_dataloader)*show_train_loss_every_num_epoch)==int(len(train_dataloader)*show_train_loss_every_num_epoch)-1:\n",
        "            print(f'train loss [{i*100/len(train_dataloader):.2f}%]: {np.array(losses).mean():.3f}')\n",
        "            losses = []\n",
        "            # валидируемся в конце эпохи\n",
        "            print('\\nvalidating')\n",
        "            # загружаем все основные метрики\n",
        "            f1 = load_metric('f1')\n",
        "            acc = load_metric('accuracy')\n",
        "            precision = load_metric('precision')\n",
        "            recall = load_metric('recall')\n",
        "            with torch.no_grad():\n",
        "                # переводим в режим валидации\n",
        "                model.eval()\n",
        "                # проходимся по всем батчам из теста\n",
        "                for batch in tqdm(test_dataloader):\n",
        "                    # переносим их на гпу\n",
        "                    batch = {k: v.to(device) for k, v in batch.items()}\n",
        "                    # не обновляя параметры получаем прогнозы\n",
        "                    with torch.no_grad():\n",
        "                        outputs = model(**batch)\n",
        "                    # получаем сразу логиты\n",
        "                    logits = outputs.logits\n",
        "                    # находим верный ответ\n",
        "                    predictions = torch.argmax(logits, dim=-1)\n",
        "                    # логируем в метрики по f1\n",
        "                    f1.add_batch(predictions=predictions, references=batch[\"labels\"])    \n",
        "                    acc.add_batch(predictions=predictions, references=batch[\"labels\"])    \n",
        "                    precision.add_batch(predictions=predictions, references=batch[\"labels\"])    \n",
        "                    recall.add_batch(predictions=predictions, references=batch[\"labels\"])    \n",
        "                # находим взвешенные по кол-ву примеров на тест метрики\n",
        "                print('weighted summary:')\n",
        "                print('Test acc:', acc.compute()['accuracy'])\n",
        "                print('Test precision:', precision.compute(average = 'weighted')['precision'])\n",
        "                print('Test recall:', recall.compute(average = 'weighted')['recall'])\n",
        "                f1_weighted = f1.compute(average = 'weighted')['f1']\n",
        "                print('Test f1:', f1_weighted, '\\n')\n",
        "                # если текущая f1 лучше максимальной\n",
        "                if f1_weighted > best_f1:\n",
        "                    # максмальная становится текущей\n",
        "                    best_f1 = f1_weighted\n",
        "                    # сохраняем модель\n",
        "                    model.save_pretrained(f\"best_model_nov_2021_f1_max={best_f1}_len=100\")\n",
        "\n",
        "    # переводим обратно в режим тренировки для следующей эпохи\n",
        "    model.train()"
      ]
    },
    {
      "cell_type": "code",
      "execution_count": null,
      "metadata": {
        "id": "caSJWMGzCyRF",
        "outputId": "9756546f-289a-4b7b-d16f-9e865cd593de"
      },
      "outputs": [
        {
          "name": "stderr",
          "output_type": "stream",
          "text": [
            "100%|██████████████████████████████████████████████████████████████████████████████| 8972/8972 [14:04<00:00, 10.62it/s]"
          ]
        },
        {
          "name": "stdout",
          "output_type": "stream",
          "text": [
            "              precision    recall  f1-score   support\n",
            "\n",
            "          1C       0.50      0.47      0.49       121\n",
            "         ARM       0.58      0.51      0.54        93\n",
            "      Access       0.90      0.90      0.90       849\n",
            "          CO       0.76      0.62      0.68        45\n",
            "         DMS       0.84      0.75      0.79       172\n",
            "    Directum       0.84      0.72      0.78       159\n",
            "        Disp       0.50      0.44      0.47       537\n",
            "       FI_FM       0.79      0.85      0.82       508\n",
            "         HCM       0.84      0.92      0.88       712\n",
            "          IT       0.85      0.86      0.86      2065\n",
            " ITTelematic       0.96      0.95      0.95       294\n",
            "         MDM       0.97      0.98      0.97      2646\n",
            "          MM       0.53      0.48      0.50       185\n",
            "       MM_SD       0.48      0.51      0.50        61\n",
            "    Novatech       0.89      0.86      0.87        97\n",
            "          PM       0.84      0.73      0.78       110\n",
            "          PP       0.65      0.73      0.69       213\n",
            "       RE_FX       0.61      0.67      0.64        85\n",
            "          SD       0.39      0.45      0.42        20\n",
            "\n",
            "    accuracy                           0.85      8972\n",
            "   macro avg       0.72      0.70      0.71      8972\n",
            "weighted avg       0.85      0.85      0.85      8972\n",
            "\n"
          ]
        },
        {
          "name": "stderr",
          "output_type": "stream",
          "text": [
            "\n"
          ]
        }
      ],
      "source": [
        "# np.save('classes.npy', Label_encoder.classes_)\n",
        "Label_encoder = preprocessing.LabelEncoder()\n",
        "\n",
        "# для того, чтобы восстановить кодировку целевых признаков как при обучении\n",
        "Label_encoder.classes_ = np.load('classes.npy', allow_pickle=True)\n",
        "\n",
        "# валидируем по тесту\n",
        "# реальные ответы и предсказания\n",
        "true = []\n",
        "preds = []\n",
        "\n",
        "# переводим модель в режим инференса\n",
        "model.eval()\n",
        "# проходимся по батчам теста\n",
        "for batch in tqdm(test_dataloader):\n",
        "    # переносим батч на GPU\n",
        "    batch = {k: v.to(device) for k, v in batch.items()}\n",
        "    # без обновления параметров находим прогнозы\n",
        "    with torch.no_grad():\n",
        "        outputs = model(**batch)\n",
        "    # получаем логиты\n",
        "    logits = outputs.logits\n",
        "    # из логитов прогноз\n",
        "    predictions = torch.argmax(logits, dim=-1)\n",
        "    # добавляем пачки ответов и прогнозов в массивы\n",
        "    true += batch[\"labels\"].detach().cpu().numpy().tolist()\n",
        "    preds += predictions.detach().cpu().numpy().tolist()\n",
        "\n",
        "# ковертируем ответы и прогнозы обратно в человеко-читаемые названия классов, смотрим report по всем метрикам по каждому классу\n",
        "print(classification_report(Label_encoder.inverse_transform(true), Label_encoder.inverse_transform(preds)))"
      ]
    },
    {
      "cell_type": "code",
      "execution_count": null,
      "metadata": {
        "id": "CTAQb0NMCyRF"
      },
      "outputs": [],
      "source": []
    }
  ],
  "metadata": {
    "interpreter": {
      "hash": "63fd5069d213b44bf678585dea6b12cceca9941eaf7f819626cde1f2670de90d"
    },
    "kernelspec": {
      "display_name": "Python 3.9.5 64-bit",
      "name": "python3"
    },
    "language_info": {
      "codemirror_mode": {
        "name": "ipython",
        "version": 3
      },
      "file_extension": ".py",
      "mimetype": "text/x-python",
      "name": "python",
      "nbconvert_exporter": "python",
      "pygments_lexer": "ipython3",
      "version": "3.9.5"
    },
    "colab": {
      "provenance": []
    }
  },
  "nbformat": 4,
  "nbformat_minor": 0
}