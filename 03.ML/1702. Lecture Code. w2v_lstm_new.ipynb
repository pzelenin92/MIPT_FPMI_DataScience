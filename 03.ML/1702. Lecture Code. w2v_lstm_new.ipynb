{
  "nbformat": 4,
  "nbformat_minor": 0,
  "metadata": {
    "colab": {
      "provenance": [],
      "toc_visible": true
    },
    "kernelspec": {
      "name": "python3",
      "display_name": "Python 3"
    },
    "language_info": {
      "name": "python"
    },
    "widgets": {
      "application/vnd.jupyter.widget-state+json": {
        "8e3c9a09cc464eb28c6ae322a6439416": {
          "model_module": "@jupyter-widgets/controls",
          "model_name": "HBoxModel",
          "model_module_version": "1.5.0",
          "state": {
            "_dom_classes": [],
            "_model_module": "@jupyter-widgets/controls",
            "_model_module_version": "1.5.0",
            "_model_name": "HBoxModel",
            "_view_count": null,
            "_view_module": "@jupyter-widgets/controls",
            "_view_module_version": "1.5.0",
            "_view_name": "HBoxView",
            "box_style": "",
            "children": [
              "IPY_MODEL_dcc065d276ce4d35a832894f07d2e5e3",
              "IPY_MODEL_46334fac17704a03ab705964003228e4",
              "IPY_MODEL_db4c4cd0f0c94ad1bb8796bcc30dd7f2"
            ],
            "layout": "IPY_MODEL_6dd609922c074aa38009fee4d3d90ade"
          }
        },
        "dcc065d276ce4d35a832894f07d2e5e3": {
          "model_module": "@jupyter-widgets/controls",
          "model_name": "HTMLModel",
          "model_module_version": "1.5.0",
          "state": {
            "_dom_classes": [],
            "_model_module": "@jupyter-widgets/controls",
            "_model_module_version": "1.5.0",
            "_model_name": "HTMLModel",
            "_view_count": null,
            "_view_module": "@jupyter-widgets/controls",
            "_view_module_version": "1.5.0",
            "_view_name": "HTMLView",
            "description": "",
            "description_tooltip": null,
            "layout": "IPY_MODEL_5cdc3de410164a27a7fbd0fd3705c6c9",
            "placeholder": "​",
            "style": "IPY_MODEL_bbc58545e893455d8a6fb3f3a4716a63",
            "value": "100%"
          }
        },
        "46334fac17704a03ab705964003228e4": {
          "model_module": "@jupyter-widgets/controls",
          "model_name": "FloatProgressModel",
          "model_module_version": "1.5.0",
          "state": {
            "_dom_classes": [],
            "_model_module": "@jupyter-widgets/controls",
            "_model_module_version": "1.5.0",
            "_model_name": "FloatProgressModel",
            "_view_count": null,
            "_view_module": "@jupyter-widgets/controls",
            "_view_module_version": "1.5.0",
            "_view_name": "ProgressView",
            "bar_style": "success",
            "description": "",
            "description_tooltip": null,
            "layout": "IPY_MODEL_1c862bd2a824461c958405c9eb4c5d1a",
            "max": 8263,
            "min": 0,
            "orientation": "horizontal",
            "style": "IPY_MODEL_35f8e366ebe74cee9548a124f8aba3dc",
            "value": 8263
          }
        },
        "db4c4cd0f0c94ad1bb8796bcc30dd7f2": {
          "model_module": "@jupyter-widgets/controls",
          "model_name": "HTMLModel",
          "model_module_version": "1.5.0",
          "state": {
            "_dom_classes": [],
            "_model_module": "@jupyter-widgets/controls",
            "_model_module_version": "1.5.0",
            "_model_name": "HTMLModel",
            "_view_count": null,
            "_view_module": "@jupyter-widgets/controls",
            "_view_module_version": "1.5.0",
            "_view_name": "HTMLView",
            "description": "",
            "description_tooltip": null,
            "layout": "IPY_MODEL_678f4a028af34eab877c0f9ed8b055ab",
            "placeholder": "​",
            "style": "IPY_MODEL_7fb4db9baeed498f9c6bd0c3997226ae",
            "value": " 8263/8263 [00:04&lt;00:00, 2470.81it/s]"
          }
        },
        "6dd609922c074aa38009fee4d3d90ade": {
          "model_module": "@jupyter-widgets/base",
          "model_name": "LayoutModel",
          "model_module_version": "1.2.0",
          "state": {
            "_model_module": "@jupyter-widgets/base",
            "_model_module_version": "1.2.0",
            "_model_name": "LayoutModel",
            "_view_count": null,
            "_view_module": "@jupyter-widgets/base",
            "_view_module_version": "1.2.0",
            "_view_name": "LayoutView",
            "align_content": null,
            "align_items": null,
            "align_self": null,
            "border": null,
            "bottom": null,
            "display": null,
            "flex": null,
            "flex_flow": null,
            "grid_area": null,
            "grid_auto_columns": null,
            "grid_auto_flow": null,
            "grid_auto_rows": null,
            "grid_column": null,
            "grid_gap": null,
            "grid_row": null,
            "grid_template_areas": null,
            "grid_template_columns": null,
            "grid_template_rows": null,
            "height": null,
            "justify_content": null,
            "justify_items": null,
            "left": null,
            "margin": null,
            "max_height": null,
            "max_width": null,
            "min_height": null,
            "min_width": null,
            "object_fit": null,
            "object_position": null,
            "order": null,
            "overflow": null,
            "overflow_x": null,
            "overflow_y": null,
            "padding": null,
            "right": null,
            "top": null,
            "visibility": null,
            "width": null
          }
        },
        "5cdc3de410164a27a7fbd0fd3705c6c9": {
          "model_module": "@jupyter-widgets/base",
          "model_name": "LayoutModel",
          "model_module_version": "1.2.0",
          "state": {
            "_model_module": "@jupyter-widgets/base",
            "_model_module_version": "1.2.0",
            "_model_name": "LayoutModel",
            "_view_count": null,
            "_view_module": "@jupyter-widgets/base",
            "_view_module_version": "1.2.0",
            "_view_name": "LayoutView",
            "align_content": null,
            "align_items": null,
            "align_self": null,
            "border": null,
            "bottom": null,
            "display": null,
            "flex": null,
            "flex_flow": null,
            "grid_area": null,
            "grid_auto_columns": null,
            "grid_auto_flow": null,
            "grid_auto_rows": null,
            "grid_column": null,
            "grid_gap": null,
            "grid_row": null,
            "grid_template_areas": null,
            "grid_template_columns": null,
            "grid_template_rows": null,
            "height": null,
            "justify_content": null,
            "justify_items": null,
            "left": null,
            "margin": null,
            "max_height": null,
            "max_width": null,
            "min_height": null,
            "min_width": null,
            "object_fit": null,
            "object_position": null,
            "order": null,
            "overflow": null,
            "overflow_x": null,
            "overflow_y": null,
            "padding": null,
            "right": null,
            "top": null,
            "visibility": null,
            "width": null
          }
        },
        "bbc58545e893455d8a6fb3f3a4716a63": {
          "model_module": "@jupyter-widgets/controls",
          "model_name": "DescriptionStyleModel",
          "model_module_version": "1.5.0",
          "state": {
            "_model_module": "@jupyter-widgets/controls",
            "_model_module_version": "1.5.0",
            "_model_name": "DescriptionStyleModel",
            "_view_count": null,
            "_view_module": "@jupyter-widgets/base",
            "_view_module_version": "1.2.0",
            "_view_name": "StyleView",
            "description_width": ""
          }
        },
        "1c862bd2a824461c958405c9eb4c5d1a": {
          "model_module": "@jupyter-widgets/base",
          "model_name": "LayoutModel",
          "model_module_version": "1.2.0",
          "state": {
            "_model_module": "@jupyter-widgets/base",
            "_model_module_version": "1.2.0",
            "_model_name": "LayoutModel",
            "_view_count": null,
            "_view_module": "@jupyter-widgets/base",
            "_view_module_version": "1.2.0",
            "_view_name": "LayoutView",
            "align_content": null,
            "align_items": null,
            "align_self": null,
            "border": null,
            "bottom": null,
            "display": null,
            "flex": null,
            "flex_flow": null,
            "grid_area": null,
            "grid_auto_columns": null,
            "grid_auto_flow": null,
            "grid_auto_rows": null,
            "grid_column": null,
            "grid_gap": null,
            "grid_row": null,
            "grid_template_areas": null,
            "grid_template_columns": null,
            "grid_template_rows": null,
            "height": null,
            "justify_content": null,
            "justify_items": null,
            "left": null,
            "margin": null,
            "max_height": null,
            "max_width": null,
            "min_height": null,
            "min_width": null,
            "object_fit": null,
            "object_position": null,
            "order": null,
            "overflow": null,
            "overflow_x": null,
            "overflow_y": null,
            "padding": null,
            "right": null,
            "top": null,
            "visibility": null,
            "width": null
          }
        },
        "35f8e366ebe74cee9548a124f8aba3dc": {
          "model_module": "@jupyter-widgets/controls",
          "model_name": "ProgressStyleModel",
          "model_module_version": "1.5.0",
          "state": {
            "_model_module": "@jupyter-widgets/controls",
            "_model_module_version": "1.5.0",
            "_model_name": "ProgressStyleModel",
            "_view_count": null,
            "_view_module": "@jupyter-widgets/base",
            "_view_module_version": "1.2.0",
            "_view_name": "StyleView",
            "bar_color": null,
            "description_width": ""
          }
        },
        "678f4a028af34eab877c0f9ed8b055ab": {
          "model_module": "@jupyter-widgets/base",
          "model_name": "LayoutModel",
          "model_module_version": "1.2.0",
          "state": {
            "_model_module": "@jupyter-widgets/base",
            "_model_module_version": "1.2.0",
            "_model_name": "LayoutModel",
            "_view_count": null,
            "_view_module": "@jupyter-widgets/base",
            "_view_module_version": "1.2.0",
            "_view_name": "LayoutView",
            "align_content": null,
            "align_items": null,
            "align_self": null,
            "border": null,
            "bottom": null,
            "display": null,
            "flex": null,
            "flex_flow": null,
            "grid_area": null,
            "grid_auto_columns": null,
            "grid_auto_flow": null,
            "grid_auto_rows": null,
            "grid_column": null,
            "grid_gap": null,
            "grid_row": null,
            "grid_template_areas": null,
            "grid_template_columns": null,
            "grid_template_rows": null,
            "height": null,
            "justify_content": null,
            "justify_items": null,
            "left": null,
            "margin": null,
            "max_height": null,
            "max_width": null,
            "min_height": null,
            "min_width": null,
            "object_fit": null,
            "object_position": null,
            "order": null,
            "overflow": null,
            "overflow_x": null,
            "overflow_y": null,
            "padding": null,
            "right": null,
            "top": null,
            "visibility": null,
            "width": null
          }
        },
        "7fb4db9baeed498f9c6bd0c3997226ae": {
          "model_module": "@jupyter-widgets/controls",
          "model_name": "DescriptionStyleModel",
          "model_module_version": "1.5.0",
          "state": {
            "_model_module": "@jupyter-widgets/controls",
            "_model_module_version": "1.5.0",
            "_model_name": "DescriptionStyleModel",
            "_view_count": null,
            "_view_module": "@jupyter-widgets/base",
            "_view_module_version": "1.2.0",
            "_view_name": "StyleView",
            "description_width": ""
          }
        }
      }
    }
  },
  "cells": [
    {
      "cell_type": "markdown",
      "source": [
        "# Обучение LSTM на основе предобученного W2V"
      ],
      "metadata": {
        "id": "cc4diB1I0Ucc"
      }
    },
    {
      "cell_type": "markdown",
      "source": [
        "## Данные"
      ],
      "metadata": {
        "id": "yh3FQTlf0aSs"
      }
    },
    {
      "cell_type": "markdown",
      "source": [
        "Источник:\n",
        "https://www.kaggle.com/competitions/sentiment-analysis-in-russian/data?select=train.json\n",
        "\n",
        "Семантическая классификация на 3 класса.\n"
      ],
      "metadata": {
        "id": "-JWSTirr0cNW"
      }
    },
    {
      "cell_type": "code",
      "source": [
        "!wget -O train.json https://dl.uploadgram.me/637cc99913d70h?raw"
      ],
      "metadata": {
        "colab": {
          "base_uri": "https://localhost:8080/"
        },
        "id": "SYj7U2dGaaZb",
        "outputId": "aa21b6f9-d855-41db-e488-43bc9e2378b0"
      },
      "execution_count": null,
      "outputs": [
        {
          "output_type": "stream",
          "name": "stdout",
          "text": [
            "--2022-11-22 19:03:29--  https://dl.uploadgram.me/637cc99913d70h?raw\n",
            "Resolving dl.uploadgram.me (dl.uploadgram.me)... 176.9.247.226, 2a01:4f8:120:30f9:3::1\n",
            "Connecting to dl.uploadgram.me (dl.uploadgram.me)|176.9.247.226|:443... connected.\n",
            "HTTP request sent, awaiting response... 200 OK\n",
            "Length: 59298269 (57M) [application/json]\n",
            "Saving to: ‘train.json’\n",
            "\n",
            "train.json          100%[===================>]  56.55M  4.01MB/s    in 15s     \n",
            "\n",
            "2022-11-22 19:03:44 (3.89 MB/s) - ‘train.json’ saved [59298269/59298269]\n",
            "\n"
          ]
        }
      ]
    },
    {
      "cell_type": "code",
      "source": [
        "import pandas as pd\n",
        "\n",
        "df = pd.read_json('train.json')\n",
        "df"
      ],
      "metadata": {
        "colab": {
          "base_uri": "https://localhost:8080/",
          "height": 424
        },
        "id": "s5WwdhTmez8S",
        "outputId": "6f11b553-cadd-474d-edac-629c1d8470c1"
      },
      "execution_count": null,
      "outputs": [
        {
          "output_type": "execute_result",
          "data": {
            "text/plain": [
              "                                                   text     id sentiment\n",
              "0     Досудебное расследование по факту покупки ЕНПФ...   1945  negative\n",
              "1     Медики рассказали о состоянии пострадавшего му...   1957  negative\n",
              "2     Прошел почти год, как железнодорожным оператор...   1969  negative\n",
              "3     По итогам 12 месяцев 2016 года на территории р...   1973  negative\n",
              "4     Астана. 21 ноября. Kazakhstan Today - Агентств...   1975  negative\n",
              "...                                                 ...    ...       ...\n",
              "8258  Как мы писали еще весной, для увеличения сбыта...  10312  positive\n",
              "8259  Но молодой министр национальной экономики Биши...  10313  negative\n",
              "8260  \\n \\nВ ЕНПФ назначен новый председатель правле...  10314   neutral\n",
              "8261  В Алматы у отделения банка произошло нападение...  10315  negative\n",
              "8262  НПП РК «Атамекен» предлагает создать Националь...  10316   neutral\n",
              "\n",
              "[8263 rows x 3 columns]"
            ],
            "text/html": [
              "\n",
              "  <div id=\"df-51e30008-c5ed-4e9b-9bb0-6bca062a5dad\">\n",
              "    <div class=\"colab-df-container\">\n",
              "      <div>\n",
              "<style scoped>\n",
              "    .dataframe tbody tr th:only-of-type {\n",
              "        vertical-align: middle;\n",
              "    }\n",
              "\n",
              "    .dataframe tbody tr th {\n",
              "        vertical-align: top;\n",
              "    }\n",
              "\n",
              "    .dataframe thead th {\n",
              "        text-align: right;\n",
              "    }\n",
              "</style>\n",
              "<table border=\"1\" class=\"dataframe\">\n",
              "  <thead>\n",
              "    <tr style=\"text-align: right;\">\n",
              "      <th></th>\n",
              "      <th>text</th>\n",
              "      <th>id</th>\n",
              "      <th>sentiment</th>\n",
              "    </tr>\n",
              "  </thead>\n",
              "  <tbody>\n",
              "    <tr>\n",
              "      <th>0</th>\n",
              "      <td>Досудебное расследование по факту покупки ЕНПФ...</td>\n",
              "      <td>1945</td>\n",
              "      <td>negative</td>\n",
              "    </tr>\n",
              "    <tr>\n",
              "      <th>1</th>\n",
              "      <td>Медики рассказали о состоянии пострадавшего му...</td>\n",
              "      <td>1957</td>\n",
              "      <td>negative</td>\n",
              "    </tr>\n",
              "    <tr>\n",
              "      <th>2</th>\n",
              "      <td>Прошел почти год, как железнодорожным оператор...</td>\n",
              "      <td>1969</td>\n",
              "      <td>negative</td>\n",
              "    </tr>\n",
              "    <tr>\n",
              "      <th>3</th>\n",
              "      <td>По итогам 12 месяцев 2016 года на территории р...</td>\n",
              "      <td>1973</td>\n",
              "      <td>negative</td>\n",
              "    </tr>\n",
              "    <tr>\n",
              "      <th>4</th>\n",
              "      <td>Астана. 21 ноября. Kazakhstan Today - Агентств...</td>\n",
              "      <td>1975</td>\n",
              "      <td>negative</td>\n",
              "    </tr>\n",
              "    <tr>\n",
              "      <th>...</th>\n",
              "      <td>...</td>\n",
              "      <td>...</td>\n",
              "      <td>...</td>\n",
              "    </tr>\n",
              "    <tr>\n",
              "      <th>8258</th>\n",
              "      <td>Как мы писали еще весной, для увеличения сбыта...</td>\n",
              "      <td>10312</td>\n",
              "      <td>positive</td>\n",
              "    </tr>\n",
              "    <tr>\n",
              "      <th>8259</th>\n",
              "      <td>Но молодой министр национальной экономики Биши...</td>\n",
              "      <td>10313</td>\n",
              "      <td>negative</td>\n",
              "    </tr>\n",
              "    <tr>\n",
              "      <th>8260</th>\n",
              "      <td>\\n \\nВ ЕНПФ назначен новый председатель правле...</td>\n",
              "      <td>10314</td>\n",
              "      <td>neutral</td>\n",
              "    </tr>\n",
              "    <tr>\n",
              "      <th>8261</th>\n",
              "      <td>В Алматы у отделения банка произошло нападение...</td>\n",
              "      <td>10315</td>\n",
              "      <td>negative</td>\n",
              "    </tr>\n",
              "    <tr>\n",
              "      <th>8262</th>\n",
              "      <td>НПП РК «Атамекен» предлагает создать Националь...</td>\n",
              "      <td>10316</td>\n",
              "      <td>neutral</td>\n",
              "    </tr>\n",
              "  </tbody>\n",
              "</table>\n",
              "<p>8263 rows × 3 columns</p>\n",
              "</div>\n",
              "      <button class=\"colab-df-convert\" onclick=\"convertToInteractive('df-51e30008-c5ed-4e9b-9bb0-6bca062a5dad')\"\n",
              "              title=\"Convert this dataframe to an interactive table.\"\n",
              "              style=\"display:none;\">\n",
              "        \n",
              "  <svg xmlns=\"http://www.w3.org/2000/svg\" height=\"24px\"viewBox=\"0 0 24 24\"\n",
              "       width=\"24px\">\n",
              "    <path d=\"M0 0h24v24H0V0z\" fill=\"none\"/>\n",
              "    <path d=\"M18.56 5.44l.94 2.06.94-2.06 2.06-.94-2.06-.94-.94-2.06-.94 2.06-2.06.94zm-11 1L8.5 8.5l.94-2.06 2.06-.94-2.06-.94L8.5 2.5l-.94 2.06-2.06.94zm10 10l.94 2.06.94-2.06 2.06-.94-2.06-.94-.94-2.06-.94 2.06-2.06.94z\"/><path d=\"M17.41 7.96l-1.37-1.37c-.4-.4-.92-.59-1.43-.59-.52 0-1.04.2-1.43.59L10.3 9.45l-7.72 7.72c-.78.78-.78 2.05 0 2.83L4 21.41c.39.39.9.59 1.41.59.51 0 1.02-.2 1.41-.59l7.78-7.78 2.81-2.81c.8-.78.8-2.07 0-2.86zM5.41 20L4 18.59l7.72-7.72 1.47 1.35L5.41 20z\"/>\n",
              "  </svg>\n",
              "      </button>\n",
              "      \n",
              "  <style>\n",
              "    .colab-df-container {\n",
              "      display:flex;\n",
              "      flex-wrap:wrap;\n",
              "      gap: 12px;\n",
              "    }\n",
              "\n",
              "    .colab-df-convert {\n",
              "      background-color: #E8F0FE;\n",
              "      border: none;\n",
              "      border-radius: 50%;\n",
              "      cursor: pointer;\n",
              "      display: none;\n",
              "      fill: #1967D2;\n",
              "      height: 32px;\n",
              "      padding: 0 0 0 0;\n",
              "      width: 32px;\n",
              "    }\n",
              "\n",
              "    .colab-df-convert:hover {\n",
              "      background-color: #E2EBFA;\n",
              "      box-shadow: 0px 1px 2px rgba(60, 64, 67, 0.3), 0px 1px 3px 1px rgba(60, 64, 67, 0.15);\n",
              "      fill: #174EA6;\n",
              "    }\n",
              "\n",
              "    [theme=dark] .colab-df-convert {\n",
              "      background-color: #3B4455;\n",
              "      fill: #D2E3FC;\n",
              "    }\n",
              "\n",
              "    [theme=dark] .colab-df-convert:hover {\n",
              "      background-color: #434B5C;\n",
              "      box-shadow: 0px 1px 3px 1px rgba(0, 0, 0, 0.15);\n",
              "      filter: drop-shadow(0px 1px 2px rgba(0, 0, 0, 0.3));\n",
              "      fill: #FFFFFF;\n",
              "    }\n",
              "  </style>\n",
              "\n",
              "      <script>\n",
              "        const buttonEl =\n",
              "          document.querySelector('#df-51e30008-c5ed-4e9b-9bb0-6bca062a5dad button.colab-df-convert');\n",
              "        buttonEl.style.display =\n",
              "          google.colab.kernel.accessAllowed ? 'block' : 'none';\n",
              "\n",
              "        async function convertToInteractive(key) {\n",
              "          const element = document.querySelector('#df-51e30008-c5ed-4e9b-9bb0-6bca062a5dad');\n",
              "          const dataTable =\n",
              "            await google.colab.kernel.invokeFunction('convertToInteractive',\n",
              "                                                     [key], {});\n",
              "          if (!dataTable) return;\n",
              "\n",
              "          const docLinkHtml = 'Like what you see? Visit the ' +\n",
              "            '<a target=\"_blank\" href=https://colab.research.google.com/notebooks/data_table.ipynb>data table notebook</a>'\n",
              "            + ' to learn more about interactive tables.';\n",
              "          element.innerHTML = '';\n",
              "          dataTable['output_type'] = 'display_data';\n",
              "          await google.colab.output.renderOutput(dataTable, element);\n",
              "          const docLink = document.createElement('div');\n",
              "          docLink.innerHTML = docLinkHtml;\n",
              "          element.appendChild(docLink);\n",
              "        }\n",
              "      </script>\n",
              "    </div>\n",
              "  </div>\n",
              "  "
            ]
          },
          "metadata": {},
          "execution_count": 2
        }
      ]
    },
    {
      "cell_type": "markdown",
      "source": [
        "Проведем базовую предобработку, уберем пунктуацию и кавычки."
      ],
      "metadata": {
        "id": "AAR5HU_r0sx7"
      }
    },
    {
      "cell_type": "code",
      "source": [
        "import string\n",
        "# реализуем предобработку\n",
        "def preprocess(doc):\n",
        "    # к нижнему регистру\n",
        "    doc = doc.lower()\n",
        "    # убираем пунктуацию, пробелы, прочее\n",
        "    for p in string.punctuation + string.whitespace + 'http': \n",
        "        doc = doc.replace(p, ' ')\n",
        "    # убираем кавычки\n",
        "    for p in ['«', '»', '\\'', '\\\"']:\n",
        "        doc = doc.replace(p, ' ')\n",
        "    # убираем лишние пробелы, объединяем обратно\n",
        "    doc = doc.strip()\n",
        "    doc = ' '.join([w for w in doc.split(' ') if w != ''])\n",
        "    return doc\n",
        "\n",
        "df['text'] = df['text'].map(preprocess)\n",
        "df"
      ],
      "metadata": {
        "colab": {
          "base_uri": "https://localhost:8080/",
          "height": 424
        },
        "id": "v-EFzihue7pL",
        "outputId": "17ccd47f-cb12-4193-bc58-c707db15fbbd"
      },
      "execution_count": null,
      "outputs": [
        {
          "output_type": "execute_result",
          "data": {
            "text/plain": [
              "                                                   text     id sentiment\n",
              "0     досудебное расследование по факту покупки енпф...   1945  negative\n",
              "1     медики рассказали о состоянии пострадавшего му...   1957  negative\n",
              "2     прошел почти год как железнодорожным оператора...   1969  negative\n",
              "3     по итогам 12 месяцев 2016 года на территории р...   1973  negative\n",
              "4     астана 21 ноября kazak s an oday агентство рк ...   1975  negative\n",
              "...                                                 ...    ...       ...\n",
              "8258  как мы писали еще весной для увеличения сбыта ...  10312  positive\n",
              "8259  но молодой министр национальной экономики биши...  10313  negative\n",
              "8260  в енпф назначен новый председатель правления е...  10314   neutral\n",
              "8261  в алматы у отделения банка произошло нападение...  10315  negative\n",
              "8262  нпп рк атамекен предлагает создать национальны...  10316   neutral\n",
              "\n",
              "[8263 rows x 3 columns]"
            ],
            "text/html": [
              "\n",
              "  <div id=\"df-2994be2e-3455-406c-9268-1b0ad8ef8c4b\">\n",
              "    <div class=\"colab-df-container\">\n",
              "      <div>\n",
              "<style scoped>\n",
              "    .dataframe tbody tr th:only-of-type {\n",
              "        vertical-align: middle;\n",
              "    }\n",
              "\n",
              "    .dataframe tbody tr th {\n",
              "        vertical-align: top;\n",
              "    }\n",
              "\n",
              "    .dataframe thead th {\n",
              "        text-align: right;\n",
              "    }\n",
              "</style>\n",
              "<table border=\"1\" class=\"dataframe\">\n",
              "  <thead>\n",
              "    <tr style=\"text-align: right;\">\n",
              "      <th></th>\n",
              "      <th>text</th>\n",
              "      <th>id</th>\n",
              "      <th>sentiment</th>\n",
              "    </tr>\n",
              "  </thead>\n",
              "  <tbody>\n",
              "    <tr>\n",
              "      <th>0</th>\n",
              "      <td>досудебное расследование по факту покупки енпф...</td>\n",
              "      <td>1945</td>\n",
              "      <td>negative</td>\n",
              "    </tr>\n",
              "    <tr>\n",
              "      <th>1</th>\n",
              "      <td>медики рассказали о состоянии пострадавшего му...</td>\n",
              "      <td>1957</td>\n",
              "      <td>negative</td>\n",
              "    </tr>\n",
              "    <tr>\n",
              "      <th>2</th>\n",
              "      <td>прошел почти год как железнодорожным оператора...</td>\n",
              "      <td>1969</td>\n",
              "      <td>negative</td>\n",
              "    </tr>\n",
              "    <tr>\n",
              "      <th>3</th>\n",
              "      <td>по итогам 12 месяцев 2016 года на территории р...</td>\n",
              "      <td>1973</td>\n",
              "      <td>negative</td>\n",
              "    </tr>\n",
              "    <tr>\n",
              "      <th>4</th>\n",
              "      <td>астана 21 ноября kazak s an oday агентство рк ...</td>\n",
              "      <td>1975</td>\n",
              "      <td>negative</td>\n",
              "    </tr>\n",
              "    <tr>\n",
              "      <th>...</th>\n",
              "      <td>...</td>\n",
              "      <td>...</td>\n",
              "      <td>...</td>\n",
              "    </tr>\n",
              "    <tr>\n",
              "      <th>8258</th>\n",
              "      <td>как мы писали еще весной для увеличения сбыта ...</td>\n",
              "      <td>10312</td>\n",
              "      <td>positive</td>\n",
              "    </tr>\n",
              "    <tr>\n",
              "      <th>8259</th>\n",
              "      <td>но молодой министр национальной экономики биши...</td>\n",
              "      <td>10313</td>\n",
              "      <td>negative</td>\n",
              "    </tr>\n",
              "    <tr>\n",
              "      <th>8260</th>\n",
              "      <td>в енпф назначен новый председатель правления е...</td>\n",
              "      <td>10314</td>\n",
              "      <td>neutral</td>\n",
              "    </tr>\n",
              "    <tr>\n",
              "      <th>8261</th>\n",
              "      <td>в алматы у отделения банка произошло нападение...</td>\n",
              "      <td>10315</td>\n",
              "      <td>negative</td>\n",
              "    </tr>\n",
              "    <tr>\n",
              "      <th>8262</th>\n",
              "      <td>нпп рк атамекен предлагает создать национальны...</td>\n",
              "      <td>10316</td>\n",
              "      <td>neutral</td>\n",
              "    </tr>\n",
              "  </tbody>\n",
              "</table>\n",
              "<p>8263 rows × 3 columns</p>\n",
              "</div>\n",
              "      <button class=\"colab-df-convert\" onclick=\"convertToInteractive('df-2994be2e-3455-406c-9268-1b0ad8ef8c4b')\"\n",
              "              title=\"Convert this dataframe to an interactive table.\"\n",
              "              style=\"display:none;\">\n",
              "        \n",
              "  <svg xmlns=\"http://www.w3.org/2000/svg\" height=\"24px\"viewBox=\"0 0 24 24\"\n",
              "       width=\"24px\">\n",
              "    <path d=\"M0 0h24v24H0V0z\" fill=\"none\"/>\n",
              "    <path d=\"M18.56 5.44l.94 2.06.94-2.06 2.06-.94-2.06-.94-.94-2.06-.94 2.06-2.06.94zm-11 1L8.5 8.5l.94-2.06 2.06-.94-2.06-.94L8.5 2.5l-.94 2.06-2.06.94zm10 10l.94 2.06.94-2.06 2.06-.94-2.06-.94-.94-2.06-.94 2.06-2.06.94z\"/><path d=\"M17.41 7.96l-1.37-1.37c-.4-.4-.92-.59-1.43-.59-.52 0-1.04.2-1.43.59L10.3 9.45l-7.72 7.72c-.78.78-.78 2.05 0 2.83L4 21.41c.39.39.9.59 1.41.59.51 0 1.02-.2 1.41-.59l7.78-7.78 2.81-2.81c.8-.78.8-2.07 0-2.86zM5.41 20L4 18.59l7.72-7.72 1.47 1.35L5.41 20z\"/>\n",
              "  </svg>\n",
              "      </button>\n",
              "      \n",
              "  <style>\n",
              "    .colab-df-container {\n",
              "      display:flex;\n",
              "      flex-wrap:wrap;\n",
              "      gap: 12px;\n",
              "    }\n",
              "\n",
              "    .colab-df-convert {\n",
              "      background-color: #E8F0FE;\n",
              "      border: none;\n",
              "      border-radius: 50%;\n",
              "      cursor: pointer;\n",
              "      display: none;\n",
              "      fill: #1967D2;\n",
              "      height: 32px;\n",
              "      padding: 0 0 0 0;\n",
              "      width: 32px;\n",
              "    }\n",
              "\n",
              "    .colab-df-convert:hover {\n",
              "      background-color: #E2EBFA;\n",
              "      box-shadow: 0px 1px 2px rgba(60, 64, 67, 0.3), 0px 1px 3px 1px rgba(60, 64, 67, 0.15);\n",
              "      fill: #174EA6;\n",
              "    }\n",
              "\n",
              "    [theme=dark] .colab-df-convert {\n",
              "      background-color: #3B4455;\n",
              "      fill: #D2E3FC;\n",
              "    }\n",
              "\n",
              "    [theme=dark] .colab-df-convert:hover {\n",
              "      background-color: #434B5C;\n",
              "      box-shadow: 0px 1px 3px 1px rgba(0, 0, 0, 0.15);\n",
              "      filter: drop-shadow(0px 1px 2px rgba(0, 0, 0, 0.3));\n",
              "      fill: #FFFFFF;\n",
              "    }\n",
              "  </style>\n",
              "\n",
              "      <script>\n",
              "        const buttonEl =\n",
              "          document.querySelector('#df-2994be2e-3455-406c-9268-1b0ad8ef8c4b button.colab-df-convert');\n",
              "        buttonEl.style.display =\n",
              "          google.colab.kernel.accessAllowed ? 'block' : 'none';\n",
              "\n",
              "        async function convertToInteractive(key) {\n",
              "          const element = document.querySelector('#df-2994be2e-3455-406c-9268-1b0ad8ef8c4b');\n",
              "          const dataTable =\n",
              "            await google.colab.kernel.invokeFunction('convertToInteractive',\n",
              "                                                     [key], {});\n",
              "          if (!dataTable) return;\n",
              "\n",
              "          const docLinkHtml = 'Like what you see? Visit the ' +\n",
              "            '<a target=\"_blank\" href=https://colab.research.google.com/notebooks/data_table.ipynb>data table notebook</a>'\n",
              "            + ' to learn more about interactive tables.';\n",
              "          element.innerHTML = '';\n",
              "          dataTable['output_type'] = 'display_data';\n",
              "          await google.colab.output.renderOutput(dataTable, element);\n",
              "          const docLink = document.createElement('div');\n",
              "          docLink.innerHTML = docLinkHtml;\n",
              "          element.appendChild(docLink);\n",
              "        }\n",
              "      </script>\n",
              "    </div>\n",
              "  </div>\n",
              "  "
            ]
          },
          "metadata": {},
          "execution_count": 3
        }
      ]
    },
    {
      "cell_type": "markdown",
      "source": [
        "### Модель из RusVectores"
      ],
      "metadata": {
        "id": "Vc2oJOgX03NX"
      }
    },
    {
      "cell_type": "markdown",
      "source": [
        "Рассмотрим модель взятую с сайта [RusVectores](https://rusvectores.org/ru/models/):"
      ],
      "metadata": {
        "id": "R5alKwwM06zj"
      }
    },
    {
      "cell_type": "code",
      "source": [
        "!wget http://vectors.nlpl.eu/repository/20/182.zip"
      ],
      "metadata": {
        "colab": {
          "base_uri": "https://localhost:8080/"
        },
        "id": "LIIONUUpagYI",
        "outputId": "fb80070f-2639-4b04-f821-1b5c049ae217"
      },
      "execution_count": null,
      "outputs": [
        {
          "output_type": "stream",
          "name": "stdout",
          "text": [
            "--2022-11-22 12:55:56--  http://vectors.nlpl.eu/repository/20/182.zip\n",
            "Resolving vectors.nlpl.eu (vectors.nlpl.eu)... 129.240.189.181\n",
            "Connecting to vectors.nlpl.eu (vectors.nlpl.eu)|129.240.189.181|:80... connected.\n",
            "HTTP request sent, awaiting response... 200 OK\n",
            "Length: 637613799 (608M) [application/zip]\n",
            "Saving to: ‘182.zip’\n",
            "\n",
            "182.zip             100%[===================>] 608.08M  51.8MB/s    in 8.5s    \n",
            "\n",
            "2022-11-22 12:56:05 (71.3 MB/s) - ‘182.zip’ saved [637613799/637613799]\n",
            "\n"
          ]
        }
      ]
    },
    {
      "cell_type": "code",
      "source": [
        "!unzip 182.zip"
      ],
      "metadata": {
        "colab": {
          "base_uri": "https://localhost:8080/"
        },
        "id": "540gb_HebPZ9",
        "outputId": "04527d19-7569-4d2b-b894-e7f815585b2a"
      },
      "execution_count": null,
      "outputs": [
        {
          "output_type": "stream",
          "name": "stdout",
          "text": [
            "Archive:  182.zip\n",
            "  inflating: meta.json               \n",
            "  inflating: model.bin               \n",
            "  inflating: model.txt               \n",
            "  inflating: README                  \n"
          ]
        }
      ]
    },
    {
      "cell_type": "markdown",
      "source": [
        "Загрузим бинарник в библиотеку генсим:"
      ],
      "metadata": {
        "id": "Avd2h2CU1C34"
      }
    },
    {
      "cell_type": "code",
      "execution_count": null,
      "metadata": {
        "id": "PDOuwt-GZrSt"
      },
      "outputs": [],
      "source": [
        "import gensim\n",
        "\n",
        "# Load pre-trained Word2Vec model.\n",
        "model = gensim.models.KeyedVectors.load_word2vec_format(\"model.bin\", binary=True)"
      ]
    },
    {
      "cell_type": "markdown",
      "source": [
        "Здесь храняться эмбеддинги каждого слова:"
      ],
      "metadata": {
        "id": "Ak_DQDfn1GTu"
      }
    },
    {
      "cell_type": "code",
      "source": [
        "model.vectors"
      ],
      "metadata": {
        "colab": {
          "base_uri": "https://localhost:8080/"
        },
        "id": "k-gL-Ad2asez",
        "outputId": "11204b8e-4334-403b-ba4a-9511b3f477bb"
      },
      "execution_count": null,
      "outputs": [
        {
          "output_type": "execute_result",
          "data": {
            "text/plain": [
              "array([[ 0.10170885,  0.39118028, -0.11257593, ..., -0.26011124,\n",
              "        -0.22354175, -0.05451489],\n",
              "       [-0.0765425 ,  0.00272068,  0.13925782, ...,  0.04234103,\n",
              "         0.14165562, -0.05366017],\n",
              "       [ 0.06187516,  0.27902287, -0.05537887, ..., -0.10523774,\n",
              "        -0.1231246 , -0.05266157],\n",
              "       ...,\n",
              "       [-0.14584658,  0.11688806, -0.05803058, ..., -0.2306832 ,\n",
              "         0.04572624, -0.12377718],\n",
              "       [-0.29234073,  0.03835703,  0.10110392, ..., -0.19030648,\n",
              "         0.1415805 ,  0.53483826],\n",
              "       [-0.33604336,  0.01729247, -0.09148607, ..., -0.10110047,\n",
              "         0.24950679,  0.17947015]], dtype=float32)"
            ]
          },
          "metadata": {},
          "execution_count": 8
        }
      ]
    },
    {
      "cell_type": "code",
      "source": [
        "# их форма\n",
        "model.vectors.shape"
      ],
      "metadata": {
        "id": "bAqAOOvmcg-j"
      },
      "execution_count": null,
      "outputs": []
    },
    {
      "cell_type": "code",
      "source": [
        "# словарь для каждого слова\n",
        "model.vocab"
      ],
      "metadata": {
        "colab": {
          "base_uri": "https://localhost:8080/"
        },
        "id": "g_XyGIfGcmxU",
        "outputId": "6e110c3b-cca2-4b89-8f40-a30083efe73d"
      },
      "execution_count": null,
      "outputs": [
        {
          "output_type": "execute_result",
          "data": {
            "text/plain": [
              "{'xxxxxxxx_NUM': <gensim.models.keyedvectors.Vocab at 0x7f2fe1da86d0>,\n",
              " 'год_NOUN': <gensim.models.keyedvectors.Vocab at 0x7f2fe1da8710>,\n",
              " 'xxxxxx_NUM': <gensim.models.keyedvectors.Vocab at 0x7f2fe118f350>,\n",
              " 'xxxxxxx_NUM': <gensim.models.keyedvectors.Vocab at 0x7f2fe118f490>,\n",
              " 'человек_NOUN': <gensim.models.keyedvectors.Vocab at 0x7f2fe118f250>,\n",
              " 'время_NOUN': <gensim.models.keyedvectors.Vocab at 0x7f2fe118f4d0>,\n",
              " 'первый_ADJ': <gensim.models.keyedvectors.Vocab at 0x7f2fe118f550>,\n",
              " 'один_NUM': <gensim.models.keyedvectors.Vocab at 0x7f2fe118f590>,\n",
              " 'так_ADV': <gensim.models.keyedvectors.Vocab at 0x7f2fe118f510>,\n",
              " 'мочь_VERB': <gensim.models.keyedvectors.Vocab at 0x7f2fe118f310>,\n",
              " 'также_ADV': <gensim.models.keyedvectors.Vocab at 0x7f2fe118f5d0>,\n",
              " 'быть_VERB': <gensim.models.keyedvectors.Vocab at 0x7f2fe118f610>,\n",
              " 'район_NOUN': <gensim.models.keyedvectors.Vocab at 0x7f2fe118f650>,\n",
              " 'другой_ADJ': <gensim.models.keyedvectors.Vocab at 0x7f2fe118f6d0>,\n",
              " 'город_NOUN': <gensim.models.keyedvectors.Vocab at 0x7f2fe118f750>,\n",
              " 'становиться_VERB': <gensim.models.keyedvectors.Vocab at 0x7f2fe118f790>,\n",
              " 'область_NOUN': <gensim.models.keyedvectors.Vocab at 0x7f2fe118f7d0>,\n",
              " 'новый_ADJ': <gensim.models.keyedvectors.Vocab at 0x7f2fe118f810>,\n",
              " 'два_NUM': <gensim.models.keyedvectors.Vocab at 0x7f2fe118f850>,\n",
              " 'еще_ADV': <gensim.models.keyedvectors.Vocab at 0x7f2fe118f890>,\n",
              " 'россия_PROPN': <gensim.models.keyedvectors.Vocab at 0x7f2fe118f8d0>,\n",
              " 'место_NOUN': <gensim.models.keyedvectors.Vocab at 0x7f2fe118f910>,\n",
              " 'уже_ADV': <gensim.models.keyedvectors.Vocab at 0x7f2fe118f950>,\n",
              " 'являться_VERB': <gensim.models.keyedvectors.Vocab at 0x7f2fe118f990>,\n",
              " 'состав_NOUN': <gensim.models.keyedvectors.Vocab at 0x7f2fe118f9d0>,\n",
              " 'получать_VERB': <gensim.models.keyedvectors.Vocab at 0x7f2fe118fa10>,\n",
              " 'иметь_VERB': <gensim.models.keyedvectors.Vocab at 0x7f2fe118fa50>,\n",
              " 'часть_NOUN': <gensim.models.keyedvectors.Vocab at 0x7f2fe118fa90>,\n",
              " 'где_ADV': <gensim.models.keyedvectors.Vocab at 0x7f2fe118fad0>,\n",
              " 'работа_NOUN': <gensim.models.keyedvectors.Vocab at 0x7f2fe118fb10>,\n",
              " 'самый_ADJ': <gensim.models.keyedvectors.Vocab at 0x7f2fe118fb50>,\n",
              " 'сказать_VERB': <gensim.models.keyedvectors.Vocab at 0x7f2fe118fb90>,\n",
              " 'говорить_VERB': <gensim.models.keyedvectors.Vocab at 0x7f2fe118fbd0>,\n",
              " 'война_NOUN': <gensim.models.keyedvectors.Vocab at 0x7f2fe118f690>,\n",
              " 'большой_ADJ': <gensim.models.keyedvectors.Vocab at 0x7f2fe118f710>,\n",
              " 'день_NOUN': <gensim.models.keyedvectors.Vocab at 0x7f2fe118fc10>,\n",
              " 'жизнь_NOUN': <gensim.models.keyedvectors.Vocab at 0x7f2fe118fc50>,\n",
              " 'сам_ADJ': <gensim.models.keyedvectors.Vocab at 0x7f2fe118f450>,\n",
              " 'более_ADV': <gensim.models.keyedvectors.Vocab at 0x7f2fe118f3d0>,\n",
              " 'второй_ADJ': <gensim.models.keyedvectors.Vocab at 0x7f2fe118fc90>,\n",
              " 'имя_NOUN': <gensim.models.keyedvectors.Vocab at 0x7f2fe118fcd0>,\n",
              " 'мир_NOUN': <gensim.models.keyedvectors.Vocab at 0x7f2fe118fd10>,\n",
              " 'дело_NOUN': <gensim.models.keyedvectors.Vocab at 0x7f2fe118fd50>,\n",
              " 'российский_ADJ': <gensim.models.keyedvectors.Vocab at 0x7f2fe118fd90>,\n",
              " 'делать_VERB': <gensim.models.keyedvectors.Vocab at 0x7f2fe118fdd0>,\n",
              " 'река_NOUN': <gensim.models.keyedvectors.Vocab at 0x7f2fe118fe10>,\n",
              " 'советский_ADJ': <gensim.models.keyedvectors.Vocab at 0x7f2fe118fe50>,\n",
              " 'находиться_VERB': <gensim.models.keyedvectors.Vocab at 0x7f2fe118fe90>,\n",
              " 'русский_ADJ': <gensim.models.keyedvectors.Vocab at 0x7f2fe118fed0>,\n",
              " 'группа_NOUN': <gensim.models.keyedvectors.Vocab at 0x7f2fe118ff10>,\n",
              " 'смотреть_VERB': <gensim.models.keyedvectors.Vocab at 0x7f2fe118ff50>,\n",
              " 'фильм_NOUN': <gensim.models.keyedvectors.Vocab at 0x7f2fe118ff90>,\n",
              " 'игра_NOUN': <gensim.models.keyedvectors.Vocab at 0x7f2fe118ffd0>,\n",
              " 'входить_VERB': <gensim.models.keyedvectors.Vocab at 0x7f2fe1198050>,\n",
              " 'принимать_VERB': <gensim.models.keyedvectors.Vocab at 0x7f2fe1198090>,\n",
              " 'государственный_ADJ': <gensim.models.keyedvectors.Vocab at 0x7f2fe11980d0>,\n",
              " 'век_NOUN': <gensim.models.keyedvectors.Vocab at 0x7f2fe1198110>,\n",
              " 'начинать_VERB': <gensim.models.keyedvectors.Vocab at 0x7f2fe1198150>,\n",
              " 'километр_NOUN': <gensim.models.keyedvectors.Vocab at 0x7f2fe1198190>,\n",
              " 'составлять_VERB': <gensim.models.keyedvectors.Vocab at 0x7f2fe11981d0>,\n",
              " 'работать_VERB': <gensim.models.keyedvectors.Vocab at 0x7f2fe1198210>,\n",
              " 'вид_NOUN': <gensim.models.keyedvectors.Vocab at 0x7f2fe1198250>,\n",
              " 'известный_ADJ': <gensim.models.keyedvectors.Vocab at 0x7f2fe1198290>,\n",
              " 'москва_PROPN': <gensim.models.keyedvectors.Vocab at 0x7f2fe11982d0>,\n",
              " 'знать_VERB': <gensim.models.keyedvectors.Vocab at 0x7f2fe1198310>,\n",
              " 'деревня_NOUN': <gensim.models.keyedvectors.Vocab at 0x7f2fe1198350>,\n",
              " 'язык_NOUN': <gensim.models.keyedvectors.Vocab at 0x7f2fe1198390>,\n",
              " 'несколько_NUM': <gensim.models.keyedvectors.Vocab at 0x7f2fe11983d0>,\n",
              " 'очень_ADV': <gensim.models.keyedvectors.Vocab at 0x7f2fe1198410>,\n",
              " 'население_NOUN': <gensim.models.keyedvectors.Vocab at 0x7f2fe1198450>,\n",
              " 'раз_NOUN': <gensim.models.keyedvectors.Vocab at 0x7f2fe1198490>,\n",
              " 'давать_VERB': <gensim.models.keyedvectors.Vocab at 0x7f2fe11984d0>,\n",
              " 'главный_ADJ': <gensim.models.keyedvectors.Vocab at 0x7f2fe1198510>,\n",
              " 'выходить_VERB': <gensim.models.keyedvectors.Vocab at 0x7f2fe1198550>,\n",
              " 'военный_ADJ': <gensim.models.keyedvectors.Vocab at 0x7f2fe1198590>,\n",
              " 'однако_ADV': <gensim.models.keyedvectors.Vocab at 0x7f2fe11985d0>,\n",
              " 'улица_NOUN': <gensim.models.keyedvectors.Vocab at 0x7f2fe1198610>,\n",
              " 'сша_PROPN': <gensim.models.keyedvectors.Vocab at 0x7f2fe1198650>,\n",
              " 'слово_NOUN': <gensim.models.keyedvectors.Vocab at 0x7f2fe1198690>,\n",
              " 'видеть_VERB': <gensim.models.keyedvectors.Vocab at 0x7f2fe11986d0>,\n",
              " 'последний_ADJ': <gensim.models.keyedvectors.Vocab at 0x7f2fe1198710>,\n",
              " 'член_NOUN': <gensim.models.keyedvectors.Vocab at 0x7f2fe1198750>,\n",
              " 'число_NOUN': <gensim.models.keyedvectors.Vocab at 0x7f2fe1198790>,\n",
              " 'должен_ADJ': <gensim.models.keyedvectors.Vocab at 0x7f2fe11987d0>,\n",
              " 'три_NUM': <gensim.models.keyedvectors.Vocab at 0x7f2fe1198810>,\n",
              " 'писать_VERB': <gensim.models.keyedvectors.Vocab at 0x7f2fe1198850>,\n",
              " 'сторона_NOUN': <gensim.models.keyedvectors.Vocab at 0x7f2fe1198890>,\n",
              " 'рука_NOUN': <gensim.models.keyedvectors.Vocab at 0x7f2fe11988d0>,\n",
              " 'сентябрь_NOUN': <gensim.models.keyedvectors.Vocab at 0x7f2fe1198910>,\n",
              " 'дом_NOUN': <gensim.models.keyedvectors.Vocab at 0x7f2fe1198950>,\n",
              " 'страна_NOUN': <gensim.models.keyedvectors.Vocab at 0x7f2fe1198990>,\n",
              " 'проходить_VERB': <gensim.models.keyedvectors.Vocab at 0x7f2fe11989d0>,\n",
              " 'конец_NOUN': <gensim.models.keyedvectors.Vocab at 0x7f2fe1198a10>,\n",
              " 'центр_NOUN': <gensim.models.keyedvectors.Vocab at 0x7f2fe1198a50>,\n",
              " 'как_ADV': <gensim.models.keyedvectors.Vocab at 0x7f2fe1198a90>,\n",
              " 'октябрь_NOUN': <gensim.models.keyedvectors.Vocab at 0x7f2fe1198ad0>,\n",
              " 'каждый_ADJ': <gensim.models.keyedvectors.Vocab at 0x7f2fe1198b10>,\n",
              " 'система_NOUN': <gensim.models.keyedvectors.Vocab at 0x7f2fe1198b50>,\n",
              " 'название_NOUN': <gensim.models.keyedvectors.Vocab at 0x7f2fe1198b90>,\n",
              " 'начало_NOUN': <gensim.models.keyedvectors.Vocab at 0x7f2fe1198bd0>,\n",
              " 'январь_NOUN': <gensim.models.keyedvectors.Vocab at 0x7f2fe1198c10>,\n",
              " 'декабрь_NOUN': <gensim.models.keyedvectors.Vocab at 0x7f2fe1198c50>,\n",
              " 'сайт_NOUN': <gensim.models.keyedvectors.Vocab at 0x7f2fe1198c90>,\n",
              " 'март_NOUN': <gensim.models.keyedvectors.Vocab at 0x7f2fe1198cd0>,\n",
              " 'of_X': <gensim.models.keyedvectors.Vocab at 0x7f2fe1198d50>,\n",
              " 'можно_ADV': <gensim.models.keyedvectors.Vocab at 0x7f2fe1198d90>,\n",
              " 'ссср_PROPN': <gensim.models.keyedvectors.Vocab at 0x7f2fe1198dd0>,\n",
              " 'команда_NOUN': <gensim.models.keyedvectors.Vocab at 0x7f2fe1198e10>,\n",
              " 'использовать_VERB': <gensim.models.keyedvectors.Vocab at 0x7f2fe1198e50>,\n",
              " 'август_NOUN': <gensim.models.keyedvectors.Vocab at 0x7f2fe1198e90>,\n",
              " 'оставаться_VERB': <gensim.models.keyedvectors.Vocab at 0x7f2fe1198ed0>,\n",
              " 'школа_NOUN': <gensim.models.keyedvectors.Vocab at 0x7f2fe1198f10>,\n",
              " 'сила_NOUN': <gensim.models.keyedvectors.Vocab at 0x7f2fe1198f50>,\n",
              " 'май_NOUN': <gensim.models.keyedvectors.Vocab at 0x7f2fe1198f90>,\n",
              " 'село_NOUN': <gensim.models.keyedvectors.Vocab at 0x7f2fe1198fd0>,\n",
              " 'the_PROPN': <gensim.models.keyedvectors.Vocab at 0x7f2fe119d090>,\n",
              " 'сельский_ADJ': <gensim.models.keyedvectors.Vocab at 0x7f2fe119d0d0>,\n",
              " 'называть_VERB': <gensim.models.keyedvectors.Vocab at 0x7f2fe119d110>,\n",
              " 'июль_NOUN': <gensim.models.keyedvectors.Vocab at 0x7f2fe119d150>,\n",
              " 'апрель_NOUN': <gensim.models.keyedvectors.Vocab at 0x7f2fe119d190>,\n",
              " 'занимать_VERB': <gensim.models.keyedvectors.Vocab at 0x7f2fe119d1d0>,\n",
              " 'история_NOUN': <gensim.models.keyedvectors.Vocab at 0x7f2fe119d210>,\n",
              " 'ноябрь_NOUN': <gensim.models.keyedvectors.Vocab at 0x7f2fe119d250>,\n",
              " 'проводить_VERB': <gensim.models.keyedvectors.Vocab at 0x7f2fe119d290>,\n",
              " 'июнь_NOUN': <gensim.models.keyedvectors.Vocab at 0x7f2fe119d2d0>,\n",
              " 'пункт_NOUN': <gensim.models.keyedvectors.Vocab at 0x7f2fe119d310>,\n",
              " 'лучший_ADJ': <gensim.models.keyedvectors.Vocab at 0x7f2fe119d350>,\n",
              " 'основной_ADJ': <gensim.models.keyedvectors.Vocab at 0x7f2fe119d390>,\n",
              " 'метр_NOUN': <gensim.models.keyedvectors.Vocab at 0x7f2fe119d3d0>,\n",
              " 'там_ADV': <gensim.models.keyedvectors.Vocab at 0x7f2fe119d410>,\n",
              " 'великий_ADJ': <gensim.models.keyedvectors.Vocab at 0x7f2fe119d450>,\n",
              " 'общий_ADJ': <gensim.models.keyedvectors.Vocab at 0x7f2fe119d490>,\n",
              " 'лицо_NOUN': <gensim.models.keyedvectors.Vocab at 0x7f2fe119d4d0>,\n",
              " 'округ_NOUN': <gensim.models.keyedvectors.Vocab at 0x7f2fe119d510>,\n",
              " 'университет_NOUN': <gensim.models.keyedvectors.Vocab at 0x7f2fe119d550>,\n",
              " 'армия_NOUN': <gensim.models.keyedvectors.Vocab at 0x7f2fe119d590>,\n",
              " 'друг_NOUN': <gensim.models.keyedvectors.Vocab at 0x7f2fe119d5d0>,\n",
              " 'жить_VERB': <gensim.models.keyedvectors.Vocab at 0x7f2fe119d610>,\n",
              " 'идти_VERB': <gensim.models.keyedvectors.Vocab at 0x7f2fe119d650>,\n",
              " 'февраль_NOUN': <gensim.models.keyedvectors.Vocab at 0x7f2fe119d690>,\n",
              " 'представлять_VERB': <gensim.models.keyedvectors.Vocab at 0x7f2fe119d6d0>,\n",
              " 'национальный_ADJ': <gensim.models.keyedvectors.Vocab at 0x7f2fe119d710>,\n",
              " 'книга_NOUN': <gensim.models.keyedvectors.Vocab at 0x7f2fe119d750>,\n",
              " 'рождаться_VERB': <gensim.models.keyedvectors.Vocab at 0x7f2fe119d790>,\n",
              " 'создавать_VERB': <gensim.models.keyedvectors.Vocab at 0x7f2fe119d7d0>,\n",
              " 'клуб_NOUN': <gensim.models.keyedvectors.Vocab at 0x7f2fe119d810>,\n",
              " 'московский_ADJ': <gensim.models.keyedvectors.Vocab at 0x7f2fe119d850>,\n",
              " 'ребенок_NOUN': <gensim.models.keyedvectors.Vocab at 0x7f2fe119d890>,\n",
              " 'территория_NOUN': <gensim.models.keyedvectors.Vocab at 0x7f2fe119d8d0>,\n",
              " 'здесь_ADV': <gensim.models.keyedvectors.Vocab at 0x7f2fe119d910>,\n",
              " 'случай_NOUN': <gensim.models.keyedvectors.Vocab at 0x7f2fe119d950>,\n",
              " 'вместе_ADV': <gensim.models.keyedvectors.Vocab at 0x7f2fe119d990>,\n",
              " 'данные_NOUN': <gensim.models.keyedvectors.Vocab at 0x7f2fe119d9d0>,\n",
              " 'женщина_NOUN': <gensim.models.keyedvectors.Vocab at 0x7f2fe119da10>,\n",
              " 'считать_VERB': <gensim.models.keyedvectors.Vocab at 0x7f2fe119da50>,\n",
              " 'затем_ADV': <gensim.models.keyedvectors.Vocab at 0x7f2fe119da90>,\n",
              " 'теперь_ADV': <gensim.models.keyedvectors.Vocab at 0x7f2fe119dad0>,\n",
              " 'результат_NOUN': <gensim.models.keyedvectors.Vocab at 0x7f2fe119db10>,\n",
              " 'роль_NOUN': <gensim.models.keyedvectors.Vocab at 0x7f2fe119db50>,\n",
              " 'брать_VERB': <gensim.models.keyedvectors.Vocab at 0x7f2fe119db90>,\n",
              " 'стать_VERB': <gensim.models.keyedvectors.Vocab at 0x7f2fe119dbd0>,\n",
              " 'красный_ADJ': <gensim.models.keyedvectors.Vocab at 0x7f2fe119dc10>,\n",
              " 'компания_NOUN': <gensim.models.keyedvectors.Vocab at 0x7f2fe119dc50>,\n",
              " 'матч_NOUN': <gensim.models.keyedvectors.Vocab at 0x7f2fe119dc90>,\n",
              " 'международный_ADJ': <gensim.models.keyedvectors.Vocab at 0x7f2fe119dcd0>,\n",
              " 'участие_NOUN': <gensim.models.keyedvectors.Vocab at 0x7f2fe119dd10>,\n",
              " 'наука_NOUN': <gensim.models.keyedvectors.Vocab at 0x7f2fe119dd50>,\n",
              " 'тогда_ADV': <gensim.models.keyedvectors.Vocab at 0x7f2fe119dd90>,\n",
              " 'хотеть_VERB': <gensim.models.keyedvectors.Vocab at 0x7f2fe119ddd0>,\n",
              " 'сын_NOUN': <gensim.models.keyedvectors.Vocab at 0x7f2fe119de10>,\n",
              " 'род_NOUN': <gensim.models.keyedvectors.Vocab at 0x7f2fe119de50>,\n",
              " 'образ_NOUN': <gensim.models.keyedvectors.Vocab at 0x7f2fe119de90>,\n",
              " 'земля_NOUN': <gensim.models.keyedvectors.Vocab at 0x7f2fe119ded0>,\n",
              " 'глаз_NOUN': <gensim.models.keyedvectors.Vocab at 0x7f2fe119df10>,\n",
              " 'образование_NOUN': <gensim.models.keyedvectors.Vocab at 0x7f2fe119df50>,\n",
              " 'многие_ADJ': <gensim.models.keyedvectors.Vocab at 0x7f2fe119df90>,\n",
              " 'чемпионат_NOUN': <gensim.models.keyedvectors.Vocab at 0x7f2fe119dfd0>,\n",
              " 'семья_NOUN': <gensim.models.keyedvectors.Vocab at 0x7f2fe11a1050>,\n",
              " 'голова_NOUN': <gensim.models.keyedvectors.Vocab at 0x7f2fe11a1090>,\n",
              " 'право_NOUN': <gensim.models.keyedvectors.Vocab at 0x7f2fe11a10d0>,\n",
              " 'вопрос_NOUN': <gensim.models.keyedvectors.Vocab at 0x7f2fe11a1110>,\n",
              " 'the_X': <gensim.models.keyedvectors.Vocab at 0x7f2fe11a1150>,\n",
              " 'поселение_NOUN': <gensim.models.keyedvectors.Vocab at 0x7f2fe11a11d0>,\n",
              " 'нет_VERB': <gensim.models.keyedvectors.Vocab at 0x7f2fe11a1210>,\n",
              " 'выступать_VERB': <gensim.models.keyedvectors.Vocab at 0x7f2fe11a1250>,\n",
              " 'сезон_NOUN': <gensim.models.keyedvectors.Vocab at 0x7f2fe11a1290>,\n",
              " 'отношение_NOUN': <gensim.models.keyedvectors.Vocab at 0x7f2fe11a12d0>,\n",
              " 'официальный_ADJ': <gensim.models.keyedvectors.Vocab at 0x7f2fe11a1310>,\n",
              " 'альбом_NOUN': <gensim.models.keyedvectors.Vocab at 0x7f2fe11a1350>,\n",
              " 'происходить_VERB': <gensim.models.keyedvectors.Vocab at 0x7f2fe11a1390>,\n",
              " 'понимать_VERB': <gensim.models.keyedvectors.Vocab at 0x7f2fe11a13d0>,\n",
              " 'украина_PROPN': <gensim.models.keyedvectors.Vocab at 0x7f2fe11a1410>,\n",
              " 'качество_NOUN': <gensim.models.keyedvectors.Vocab at 0x7f2fe11a1450>,\n",
              " 'вода_NOUN': <gensim.models.keyedvectors.Vocab at 0x7f2fe11a1490>,\n",
              " 'песня_NOUN': <gensim.models.keyedvectors.Vocab at 0x7f2fe11a14d0>,\n",
              " 'тысяча_NOUN': <gensim.models.keyedvectors.Vocab at 0x7f2fe11a1510>,\n",
              " 'один_ADJ': <gensim.models.keyedvectors.Vocab at 0x7f2fe11a1550>,\n",
              " 'приходить_VERB': <gensim.models.keyedvectors.Vocab at 0x7f2fe11a1590>,\n",
              " 'партия_NOUN': <gensim.models.keyedvectors.Vocab at 0x7f2fe11a15d0>,\n",
              " 'отец_NOUN': <gensim.models.keyedvectors.Vocab at 0x7f2fe11a1610>,\n",
              " 'много_ADV': <gensim.models.keyedvectors.Vocab at 0x7f2fe11a1650>,\n",
              " 'следующий_ADJ': <gensim.models.keyedvectors.Vocab at 0x7f2fe11a1690>,\n",
              " 'появляться_VERB': <gensim.models.keyedvectors.Vocab at 0x7f2fe11a16d0>,\n",
              " 'дорога_NOUN': <gensim.models.keyedvectors.Vocab at 0x7f2fe11a1710>,\n",
              " 'потом_ADV': <gensim.models.keyedvectors.Vocab at 0x7f2fe11a1750>,\n",
              " 'церковь_NOUN': <gensim.models.keyedvectors.Vocab at 0x7f2fe11a1790>,\n",
              " 'xxxxxxxxx_NUM': <gensim.models.keyedvectors.Vocab at 0x7f2fe11a1810>,\n",
              " 'американский_ADJ': <gensim.models.keyedvectors.Vocab at 0x7f2fe11a1850>,\n",
              " 'высокий_ADJ': <gensim.models.keyedvectors.Vocab at 0x7f2fe11a1890>,\n",
              " 'связь_NOUN': <gensim.models.keyedvectors.Vocab at 0x7f2fe11a18d0>,\n",
              " 'игрок_PROPN': <gensim.models.keyedvectors.Vocab at 0x7f2fe11a1910>,\n",
              " 'оказываться_VERB': <gensim.models.keyedvectors.Vocab at 0x7f2fe11a1950>,\n",
              " 'находить_VERB': <gensim.models.keyedvectors.Vocab at 0x7f2fe11a1990>,\n",
              " 'развитие_NOUN': <gensim.models.keyedvectors.Vocab at 0x7f2fe11a19d0>,\n",
              " 'городской_ADJ': <gensim.models.keyedvectors.Vocab at 0x7f2fe11a1a10>,\n",
              " 'bar_X': <gensim.models.keyedvectors.Vocab at 0x7f2fe11a1a50>,\n",
              " 'институт_NOUN': <gensim.models.keyedvectors.Vocab at 0x7f2fe11a1ad0>,\n",
              " 'власть_NOUN': <gensim.models.keyedvectors.Vocab at 0x7f2fe11a1b10>,\n",
              " 'организация_NOUN': <gensim.models.keyedvectors.Vocab at 0x7f2fe11a1b50>,\n",
              " 'театр_NOUN': <gensim.models.keyedvectors.Vocab at 0x7f2fe11a1b90>,\n",
              " 'потому_ADV': <gensim.models.keyedvectors.Vocab at 0x7f2fe11a1bd0>,\n",
              " 'проект_NOUN': <gensim.models.keyedvectors.Vocab at 0x7f2fe11a1c10>,\n",
              " 'станция_NOUN': <gensim.models.keyedvectors.Vocab at 0x7f2fe11a1c50>,\n",
              " 'орден_NOUN': <gensim.models.keyedvectors.Vocab at 0x7f2fe11a1c90>,\n",
              " 'средний_ADJ': <gensim.models.keyedvectors.Vocab at 0x7f2fe11a1cd0>,\n",
              " 'степень_NOUN': <gensim.models.keyedvectors.Vocab at 0x7f2fe11a1d10>,\n",
              " 'статья_NOUN': <gensim.models.keyedvectors.Vocab at 0x7f2fe11a1d50>,\n",
              " 'период_NOUN': <gensim.models.keyedvectors.Vocab at 0x7f2fe11a1d90>,\n",
              " 'крупный_ADJ': <gensim.models.keyedvectors.Vocab at 0x7f2fe11a1dd0>,\n",
              " 'народ_NOUN': <gensim.models.keyedvectors.Vocab at 0x7f2fe11a1e10>,\n",
              " 'франция_PROPN': <gensim.models.keyedvectors.Vocab at 0x7f2fe11a1e50>,\n",
              " 'деятельность_NOUN': <gensim.models.keyedvectors.Vocab at 0x7f2fe11a1e90>,\n",
              " 'научный_ADJ': <gensim.models.keyedvectors.Vocab at 0x7f2fe11a1ed0>,\n",
              " 'войска_NOUN': <gensim.models.keyedvectors.Vocab at 0x7f2fe11a1f10>,\n",
              " 'южный_ADJ': <gensim.models.keyedvectors.Vocab at 0x7f2fe11a1f50>,\n",
              " 'площадь_NOUN': <gensim.models.keyedvectors.Vocab at 0x7f2fe11a1f90>,\n",
              " 'хороший_ADJ': <gensim.models.keyedvectors.Vocab at 0x7f2fe11a1fd0>,\n",
              " 'северный_ADJ': <gensim.models.keyedvectors.Vocab at 0x7f2fe11a6050>,\n",
              " 'казаться_VERB': <gensim.models.keyedvectors.Vocab at 0x7f2fe11a6090>,\n",
              " 'участник_NOUN': <gensim.models.keyedvectors.Vocab at 0x7f2fe11a60d0>,\n",
              " 'третий_ADJ': <gensim.models.keyedvectors.Vocab at 0x7f2fe11a6110>,\n",
              " 'форма_NOUN': <gensim.models.keyedvectors.Vocab at 0x7f2fe11a6150>,\n",
              " 'народный_ADJ': <gensim.models.keyedvectors.Vocab at 0x7f2fe11a6190>,\n",
              " 'действие_NOUN': <gensim.models.keyedvectors.Vocab at 0x7f2fe11a61d0>,\n",
              " 'играть_VERB': <gensim.models.keyedvectors.Vocab at 0x7f2fe11a6210>,\n",
              " 'современный_ADJ': <gensim.models.keyedvectors.Vocab at 0x7f2fe11a6250>,\n",
              " 'общество_NOUN': <gensim.models.keyedvectors.Vocab at 0x7f2fe11a6290>,\n",
              " 'молодой_ADJ': <gensim.models.keyedvectors.Vocab at 0x7f2fe11a62d0>,\n",
              " 'сборная_NOUN': <gensim.models.keyedvectors.Vocab at 0x7f2fe11a6310>,\n",
              " 'стоять_VERB': <gensim.models.keyedvectors.Vocab at 0x7f2fe11a6350>,\n",
              " 'белый_ADJ': <gensim.models.keyedvectors.Vocab at 0x7f2fe11a6390>,\n",
              " 'путь_NOUN': <gensim.models.keyedvectors.Vocab at 0x7f2fe11a63d0>,\n",
              " 'почти_ADV': <gensim.models.keyedvectors.Vocab at 0x7f2fe11a6410>,\n",
              " 'строить_VERB': <gensim.models.keyedvectors.Vocab at 0x7f2fe11a6450>,\n",
              " 'политический_ADJ': <gensim.models.keyedvectors.Vocab at 0x7f2fe11a6490>,\n",
              " 'настоящий_ADJ': <gensim.models.keyedvectors.Vocab at 0x7f2fe11a64d0>,\n",
              " 'старый_ADJ': <gensim.models.keyedvectors.Vocab at 0x7f2fe11a6510>,\n",
              " 'умирать_VERB': <gensim.models.keyedvectors.Vocab at 0x7f2fe11a6550>,\n",
              " 'помощь_NOUN': <gensim.models.keyedvectors.Vocab at 0x7f2fe11a6590>,\n",
              " 'олимпийский_ADJ': <gensim.models.keyedvectors.Vocab at 0x7f2fe11a65d0>,\n",
              " 'тут_ADV': <gensim.models.keyedvectors.Vocab at 0x7f2fe11a6610>,\n",
              " 'жена_NOUN': <gensim.models.keyedvectors.Vocab at 0x7f2fe11a6650>,\n",
              " 'смерть_NOUN': <gensim.models.keyedvectors.Vocab at 0x7f2fe11a6690>,\n",
              " 'надо_ADV': <gensim.models.keyedvectors.Vocab at 0x7f2fe11a66d0>,\n",
              " 'ряд_NOUN': <gensim.models.keyedvectors.Vocab at 0x7f2fe11a6710>,\n",
              " 'европа_PROPN': <gensim.models.keyedvectors.Vocab at 0x7f2fe11a6750>,\n",
              " 'полный_ADJ': <gensim.models.keyedvectors.Vocab at 0x7f2fe11a6790>,\n",
              " 'берег_NOUN': <gensim.models.keyedvectors.Vocab at 0x7f2fe11a67d0>,\n",
              " 'думать_VERB': <gensim.models.keyedvectors.Vocab at 0x7f2fe11a6810>,\n",
              " 'культура_NOUN': <gensim.models.keyedvectors.Vocab at 0x7f2fe11a6850>,\n",
              " 'часто_ADV': <gensim.models.keyedvectors.Vocab at 0x7f2fe11a6890>,\n",
              " 'существовать_VERB': <gensim.models.keyedvectors.Vocab at 0x7f2fe11a68d0>,\n",
              " 'решение_NOUN': <gensim.models.keyedvectors.Vocab at 0x7f2fe11a6910>,\n",
              " 'нужный_ADJ': <gensim.models.keyedvectors.Vocab at 0x7f2fe11a6950>,\n",
              " 'решать_VERB': <gensim.models.keyedvectors.Vocab at 0x7f2fe11a6990>,\n",
              " 'немецкий_ADJ': <gensim.models.keyedvectors.Vocab at 0x7f2fe11a69d0>,\n",
              " 'час_NOUN': <gensim.models.keyedvectors.Vocab at 0x7f2fe11a6a10>,\n",
              " 'поздно_ADV': <gensim.models.keyedvectors.Vocab at 0x7f2fe11a6a50>,\n",
              " 'совет_NOUN': <gensim.models.keyedvectors.Vocab at 0x7f2fe11a6a90>,\n",
              " 'искусство_NOUN': <gensim.models.keyedvectors.Vocab at 0x7f2fe11a6ad0>,\n",
              " 'расположенный_ADJ': <gensim.models.keyedvectors.Vocab at 0x7f2fe11a6b10>,\n",
              " 'спрашивать_VERB': <gensim.models.keyedvectors.Vocab at 0x7f2fe11a6b50>,\n",
              " 'начинаться_VERB': <gensim.models.keyedvectors.Vocab at 0x7f2fe11a6b90>,\n",
              " 'сейчас_ADV': <gensim.models.keyedvectors.Vocab at 0x7f2fe11a6bd0>,\n",
              " 'премия_NOUN': <gensim.models.keyedvectors.Vocab at 0x7f2fe11a6c10>,\n",
              " 'управление_NOUN': <gensim.models.keyedvectors.Vocab at 0x7f2fe11a6c50>,\n",
              " 'отвечать_VERB': <gensim.models.keyedvectors.Vocab at 0x7f2fe11a6c90>,\n",
              " 'движение_NOUN': <gensim.models.keyedvectors.Vocab at 0x7f2fe11a6cd0>,\n",
              " 'например_ADV': <gensim.models.keyedvectors.Vocab at 0x7f2fe11a6d10>,\n",
              " 'служба_NOUN': <gensim.models.keyedvectors.Vocab at 0x7f2fe11a6d50>,\n",
              " 'остров_NOUN': <gensim.models.keyedvectors.Vocab at 0x7f2fe11a6d90>,\n",
              " 'ii_NUM': <gensim.models.keyedvectors.Vocab at 0x7f2fe11a6dd0>,\n",
              " 'германия_PROPN': <gensim.models.keyedvectors.Vocab at 0x7f2fe11a6e50>,\n",
              " 'бой_NOUN': <gensim.models.keyedvectors.Vocab at 0x7f2fe11a6e90>,\n",
              " 'уровень_NOUN': <gensim.models.keyedvectors.Vocab at 0x7f2fe11a6ed0>,\n",
              " 'французский_ADJ': <gensim.models.keyedvectors.Vocab at 0x7f2fe11a6f10>,\n",
              " 'различный_ADJ': <gensim.models.keyedvectors.Vocab at 0x7f2fe11a6f50>,\n",
              " 'состоять_VERB': <gensim.models.keyedvectors.Vocab at 0x7f2fe11a6f90>,\n",
              " 'черный_ADJ': <gensim.models.keyedvectors.Vocab at 0x7f2fe11a6fd0>,\n",
              " 'завод_NOUN': <gensim.models.keyedvectors.Vocab at 0x7f2fe11ac050>,\n",
              " 'брат_NOUN': <gensim.models.keyedvectors.Vocab at 0x7f2fe11ac090>,\n",
              " 'цель_NOUN': <gensim.models.keyedvectors.Vocab at 0x7f2fe11ac0d0>,\n",
              " 'всегда_ADV': <gensim.models.keyedvectors.Vocab at 0x7f2fe11ac110>,\n",
              " 'мировой_ADJ': <gensim.models.keyedvectors.Vocab at 0x7f2fe11ac150>,\n",
              " 'серия_NOUN': <gensim.models.keyedvectors.Vocab at 0x7f2fe11ac190>,\n",
              " 'заниматься_VERB': <gensim.models.keyedvectors.Vocab at 0x7f2fe11ac1d0>,\n",
              " 'устанавливать_VERB': <gensim.models.keyedvectors.Vocab at 0x7f2fe11ac210>,\n",
              " 'количество_NOUN': <gensim.models.keyedvectors.Vocab at 0x7f2fe11ac250>,\n",
              " 'житель_NOUN': <gensim.models.keyedvectors.Vocab at 0x7f2fe11ac290>,\n",
              " 'and_X': <gensim.models.keyedvectors.Vocab at 0x7f2fe11ac2d0>,\n",
              " 'какой-то_ADJ': <gensim.models.keyedvectors.Vocab at 0x7f2fe11ac350>,\n",
              " 'местный_ADJ': <gensim.models.keyedvectors.Vocab at 0x7f2fe11ac390>,\n",
              " 'тип_NOUN': <gensim.models.keyedvectors.Vocab at 0x7f2fe11ac3d0>,\n",
              " 'участвовать_VERB': <gensim.models.keyedvectors.Vocab at 0x7f2fe11ac410>,\n",
              " 'разный_ADJ': <gensim.models.keyedvectors.Vocab at 0x7f2fe11ac450>,\n",
              " 'населенный_ADJ': <gensim.models.keyedvectors.Vocab at 0x7f2fe11ac490>,\n",
              " 'показывать_VERB': <gensim.models.keyedvectors.Vocab at 0x7f2fe11ac4d0>,\n",
              " 'писатель_NOUN': <gensim.models.keyedvectors.Vocab at 0x7f2fe11ac510>,\n",
              " 'отечественный_ADJ': <gensim.models.keyedvectors.Vocab at 0x7f2fe11ac550>,\n",
              " 'вернуться_VERB': <gensim.models.keyedvectors.Vocab at 0x7f2fe11ac590>,\n",
              " 'состояние_NOUN': <gensim.models.keyedvectors.Vocab at 0x7f2fe11ac5d0>,\n",
              " 'продолжать_VERB': <gensim.models.keyedvectors.Vocab at 0x7f2fe11ac610>,\n",
              " 'государство_NOUN': <gensim.models.keyedvectors.Vocab at 0x7f2fe11ac650>,\n",
              " 'выпускать_VERB': <gensim.models.keyedvectors.Vocab at 0x7f2fe11ac690>,\n",
              " 'возможность_NOUN': <gensim.models.keyedvectors.Vocab at 0x7f2fe11ac6d0>,\n",
              " 'вести_VERB': <gensim.models.keyedvectors.Vocab at 0x7f2fe11ac710>,\n",
              " 'старший_ADJ': <gensim.models.keyedvectors.Vocab at 0x7f2fe11ac750>,\n",
              " 'дивизия_NOUN': <gensim.models.keyedvectors.Vocab at 0x7f2fe11ac790>,\n",
              " 'высший_ADJ': <gensim.models.keyedvectors.Vocab at 0x7f2fe11ac7d0>,\n",
              " 'связывать_VERB': <gensim.models.keyedvectors.Vocab at 0x7f2fe11ac810>,\n",
              " 'здание_NOUN': <gensim.models.keyedvectors.Vocab at 0x7f2fe11ac850>,\n",
              " 'край_NOUN': <gensim.models.keyedvectors.Vocab at 0x7f2fe11ac890>,\n",
              " 'союз_PROPN': <gensim.models.keyedvectors.Vocab at 0x7f2fe11ac8d0>,\n",
              " 'течение_NOUN': <gensim.models.keyedvectors.Vocab at 0x7f2fe11ac910>,\n",
              " 'момент_NOUN': <gensim.models.keyedvectors.Vocab at 0x7f2fe11ac950>,\n",
              " 'позволять_VERB': <gensim.models.keyedvectors.Vocab at 0x7f2fe11ac990>,\n",
              " 'золотой_ADJ': <gensim.models.keyedvectors.Vocab at 0x7f2fe11ac9d0>,\n",
              " 'исторический_ADJ': <gensim.models.keyedvectors.Vocab at 0x7f2fe11aca10>,\n",
              " 'автор_NOUN': <gensim.models.keyedvectors.Vocab at 0x7f2fe11aca50>,\n",
              " 'программа_NOUN': <gensim.models.keyedvectors.Vocab at 0x7f2fe11aca90>,\n",
              " 'центральный_ADJ': <gensim.models.keyedvectors.Vocab at 0x7f2fe11acad0>,\n",
              " 'бывший_ADJ': <gensim.models.keyedvectors.Vocab at 0x7f2fe11acb10>,\n",
              " 'четыре_NUM': <gensim.models.keyedvectors.Vocab at 0x7f2fe11acb50>,\n",
              " 'фронт_NOUN': <gensim.models.keyedvectors.Vocab at 0x7f2fe11acb90>,\n",
              " 'фк_PROPN': <gensim.models.keyedvectors.Vocab at 0x7f2fe11acbd0>,\n",
              " 'святой_ADJ': <gensim.models.keyedvectors.Vocab at 0x7f2fe11acc10>,\n",
              " 'журнал_NOUN': <gensim.models.keyedvectors.Vocab at 0x7f2fe11acc50>,\n",
              " 'князь_NOUN': <gensim.models.keyedvectors.Vocab at 0x7f2fe11acc90>,\n",
              " 'уходить_VERB': <gensim.models.keyedvectors.Vocab at 0x7f2fe11accd0>,\n",
              " 'линия_NOUN': <gensim.models.keyedvectors.Vocab at 0x7f2fe11acd10>,\n",
              " 'минута_NOUN': <gensim.models.keyedvectors.Vocab at 0x7f2fe11acd50>,\n",
              " 'значение_NOUN': <gensim.models.keyedvectors.Vocab at 0x7f2fe11acd90>,\n",
              " 'мужчина_NOUN': <gensim.models.keyedvectors.Vocab at 0x7f2fe11acdd0>,\n",
              " 'турнир_NOUN': <gensim.models.keyedvectors.Vocab at 0x7f2fe11ace10>,\n",
              " 'пойти_VERB': <gensim.models.keyedvectors.Vocab at 0x7f2fe11ace50>,\n",
              " 'приходиться_VERB': <gensim.models.keyedvectors.Vocab at 0x7f2fe11ace90>,\n",
              " 'приводить_VERB': <gensim.models.keyedvectors.Vocab at 0x7f2fe11aced0>,\n",
              " 'класс_NOUN': <gensim.models.keyedvectors.Vocab at 0x7f2fe11acf10>,\n",
              " 'начальник_NOUN': <gensim.models.keyedvectors.Vocab at 0x7f2fe11acf50>,\n",
              " 'административный_ADJ': <gensim.models.keyedvectors.Vocab at 0x7f2fe11acf90>,\n",
              " 'художник_NOUN': <gensim.models.keyedvectors.Vocab at 0x7f2fe11acfd0>,\n",
              " 'собственный_ADJ': <gensim.models.keyedvectors.Vocab at 0x7f2fe11b3050>,\n",
              " 'from_X': <gensim.models.keyedvectors.Vocab at 0x7f2fe11b3090>,\n",
              " 'основывать_VERB': <gensim.models.keyedvectors.Vocab at 0x7f2fe11b3110>,\n",
              " 'процесс_NOUN': <gensim.models.keyedvectors.Vocab at 0x7f2fe11b3150>,\n",
              " 'производство_NOUN': <gensim.models.keyedvectors.Vocab at 0x7f2fe11b3190>,\n",
              " 'открывать_VERB': <gensim.models.keyedvectors.Vocab at 0x7f2fe11b31d0>,\n",
              " 'море_NOUN': <gensim.models.keyedvectors.Vocab at 0x7f2fe11b3210>,\n",
              " 'ставить_VERB': <gensim.models.keyedvectors.Vocab at 0x7f2fe11b3250>,\n",
              " 'создание_NOUN': <gensim.models.keyedvectors.Vocab at 0x7f2fe11b3290>,\n",
              " 'суд_NOUN': <gensim.models.keyedvectors.Vocab at 0x7f2fe11b32d0>,\n",
              " 'республика_PROPN': <gensim.models.keyedvectors.Vocab at 0x7f2fe11b3310>,\n",
              " 'английский_ADJ': <gensim.models.keyedvectors.Vocab at 0x7f2fe11b3350>,\n",
              " 'условие_NOUN': <gensim.models.keyedvectors.Vocab at 0x7f2fe11b3390>,\n",
              " 'назначать_VERB': <gensim.models.keyedvectors.Vocab at 0x7f2fe11b33d0>,\n",
              " 'труд_NOUN': <gensim.models.keyedvectors.Vocab at 0x7f2fe11b3410>,\n",
              " 'голос_NOUN': <gensim.models.keyedvectors.Vocab at 0x7f2fe11b3450>,\n",
              " 'исследование_NOUN': <gensim.models.keyedvectors.Vocab at 0x7f2fe11b3490>,\n",
              " 'положение_NOUN': <gensim.models.keyedvectors.Vocab at 0x7f2fe11b34d0>,\n",
              " 'карьера_NOUN': <gensim.models.keyedvectors.Vocab at 0x7f2fe11b3510>,\n",
              " 'важный_ADJ': <gensim.models.keyedvectors.Vocab at 0x7f2fe11b3550>,\n",
              " 'служить_VERB': <gensim.models.keyedvectors.Vocab at 0x7f2fe11b3590>,\n",
              " 'ход_NOUN': <gensim.models.keyedvectors.Vocab at 0x7f2fe11b35d0>,\n",
              " '2-й_ADJ': <gensim.models.keyedvectors.Vocab at 0x7f2fe11b3610>,\n",
              " 'относиться_VERB': <gensim.models.keyedvectors.Vocab at 0x7f2fe11b3650>,\n",
              " 'месяц_NOUN': <gensim.models.keyedvectors.Vocab at 0x7f2fe11b3690>,\n",
              " 'командир_NOUN': <gensim.models.keyedvectors.Vocab at 0x7f2fe11b36d0>,\n",
              " 'мать_NOUN': <gensim.models.keyedvectors.Vocab at 0x7f2fe11b3710>,\n",
              " 'музыкальный_ADJ': <gensim.models.keyedvectors.Vocab at 0x7f2fe11b3750>,\n",
              " 'федерация_PROPN': <gensim.models.keyedvectors.Vocab at 0x7f2fe11b3790>,\n",
              " 'ночь_NOUN': <gensim.models.keyedvectors.Vocab at 0x7f2fe11b37d0>,\n",
              " 'миллион_NOUN': <gensim.models.keyedvectors.Vocab at 0x7f2fe11b3810>,\n",
              " 'тело_NOUN': <gensim.models.keyedvectors.Vocab at 0x7f2fe11b3850>,\n",
              " 'представитель_NOUN': <gensim.models.keyedvectors.Vocab at 0x7f2fe11b3890>,\n",
              " 'западный_ADJ': <gensim.models.keyedvectors.Vocab at 0x7f2fe11b38d0>,\n",
              " 'включать_VERB': <gensim.models.keyedvectors.Vocab at 0x7f2fe11b3910>,\n",
              " 'оканчивать_VERB': <gensim.models.keyedvectors.Vocab at 0x7f2fe11b3950>,\n",
              " 'должность_NOUN': <gensim.models.keyedvectors.Vocab at 0x7f2fe11b3990>,\n",
              " 'медаль_NOUN': <gensim.models.keyedvectors.Vocab at 0x7f2fe11b39d0>,\n",
              " 'правительство_NOUN': <gensim.models.keyedvectors.Vocab at 0x7f2fe11b3a10>,\n",
              " 'оба_NUM': <gensim.models.keyedvectors.Vocab at 0x7f2fe11b3a50>,\n",
              " 'музыка_NOUN': <gensim.models.keyedvectors.Vocab at 0x7f2fe11b3a90>,\n",
              " 'режиссер_NOUN': <gensim.models.keyedvectors.Vocab at 0x7f2fe11b3ad0>,\n",
              " 'поселок_NOUN': <gensim.models.keyedvectors.Vocab at 0x7f2fe11b3b10>,\n",
              " 'любить_VERB': <gensim.models.keyedvectors.Vocab at 0x7f2fe11b3b50>,\n",
              " 'общественный_ADJ': <gensim.models.keyedvectors.Vocab at 0x7f2fe11b3b90>,\n",
              " 'душа_NOUN': <gensim.models.keyedvectors.Vocab at 0x7f2fe11b3bd0>,\n",
              " 'граница_NOUN': <gensim.models.keyedvectors.Vocab at 0x7f2fe11b3c10>,\n",
              " 'следовать_VERB': <gensim.models.keyedvectors.Vocab at 0x7f2fe11b3c50>,\n",
              " 'предлагать_VERB': <gensim.models.keyedvectors.Vocab at 0x7f2fe11b3c90>,\n",
              " 'корабль_NOUN': <gensim.models.keyedvectors.Vocab at 0x7f2fe11b3cd0>,\n",
              " 'отдельный_ADJ': <gensim.models.keyedvectors.Vocab at 0x7f2fe11b3d10>,\n",
              " 'действовать_VERB': <gensim.models.keyedvectors.Vocab at 0x7f2fe11b3d50>,\n",
              " 'двор_NOUN': <gensim.models.keyedvectors.Vocab at 0x7f2fe11b3d90>,\n",
              " 'профессор_NOUN': <gensim.models.keyedvectors.Vocab at 0x7f2fe11b3dd0>,\n",
              " 'объект_NOUN': <gensim.models.keyedvectors.Vocab at 0x7f2fe11b3e10>,\n",
              " 'корпус_NOUN': <gensim.models.keyedvectors.Vocab at 0x7f2fe11b3e50>,\n",
              " 'поэтому_ADV': <gensim.models.keyedvectors.Vocab at 0x7f2fe11b3e90>,\n",
              " 'нога_NOUN': <gensim.models.keyedvectors.Vocab at 0x7f2fe11b3ed0>,\n",
              " 'сидеть_VERB': <gensim.models.keyedvectors.Vocab at 0x7f2fe11b3f10>,\n",
              " 'de_X': <gensim.models.keyedvectors.Vocab at 0x7f2fe11b3f90>,\n",
              " 'версия_NOUN': <gensim.models.keyedvectors.Vocab at 0x7f2fe11b3fd0>,\n",
              " 'рассказывать_VERB': <gensim.models.keyedvectors.Vocab at 0x7f2fe11b9050>,\n",
              " 'директор_NOUN': <gensim.models.keyedvectors.Vocab at 0x7f2fe11b9090>,\n",
              " 'что-то_NOUN': <gensim.models.keyedvectors.Vocab at 0x7f2fe11b90d0>,\n",
              " 'впервые_ADV': <gensim.models.keyedvectors.Vocab at 0x7f2fe11b9110>,\n",
              " 'основа_NOUN': <gensim.models.keyedvectors.Vocab at 0x7f2fe11b9150>,\n",
              " 'проблема_NOUN': <gensim.models.keyedvectors.Vocab at 0x7f2fe11b9190>,\n",
              " 'газета_NOUN': <gensim.models.keyedvectors.Vocab at 0x7f2fe11b91d0>,\n",
              " 'материал_NOUN': <gensim.models.keyedvectors.Vocab at 0x7f2fe11b9210>,\n",
              " 'данный_ADJ': <gensim.models.keyedvectors.Vocab at 0x7f2fe11b9250>,\n",
              " 'полк_NOUN': <gensim.models.keyedvectors.Vocab at 0x7f2fe11b9290>,\n",
              " 'пять_NUM': <gensim.models.keyedvectors.Vocab at 0x7f2fe11b92d0>,\n",
              " 'небольшой_ADJ': <gensim.models.keyedvectors.Vocab at 0x7f2fe11b9310>,\n",
              " 'закон_NOUN': <gensim.models.keyedvectors.Vocab at 0x7f2fe11b9350>,\n",
              " 'длина_NOUN': <gensim.models.keyedvectors.Vocab at 0x7f2fe11b9390>,\n",
              " 'свет_NOUN': <gensim.models.keyedvectors.Vocab at 0x7f2fe11b93d0>,\n",
              " 'дочь_NOUN': <gensim.models.keyedvectors.Vocab at 0x7f2fe11b9410>,\n",
              " '1-й_ADJ': <gensim.models.keyedvectors.Vocab at 0x7f2fe11b9450>,\n",
              " 'боевой_ADJ': <gensim.models.keyedvectors.Vocab at 0x7f2fe11b9490>,\n",
              " 'штат_NOUN': <gensim.models.keyedvectors.Vocab at 0x7f2fe11b94d0>,\n",
              " 'внутренний_ADJ': <gensim.models.keyedvectors.Vocab at 0x7f2fe11b9510>,\n",
              " 'убивать_VERB': <gensim.models.keyedvectors.Vocab at 0x7f2fe11b9550>,\n",
              " 'глава_NOUN': <gensim.models.keyedvectors.Vocab at 0x7f2fe11b9590>,\n",
              " 'машина_NOUN': <gensim.models.keyedvectors.Vocab at 0x7f2fe11b95d0>,\n",
              " 'муниципальный_ADJ': <gensim.models.keyedvectors.Vocab at 0x7f2fe11b9610>,\n",
              " 'вызывать_VERB': <gensim.models.keyedvectors.Vocab at 0x7f2fe11b9650>,\n",
              " 'верховный_ADJ': <gensim.models.keyedvectors.Vocab at 0x7f2fe11b9690>,\n",
              " 'менее_ADV': <gensim.models.keyedvectors.Vocab at 0x7f2fe11b96d0>,\n",
              " 'деньги_NOUN': <gensim.models.keyedvectors.Vocab at 0x7f2fe11b9710>,\n",
              " 'список_PROPN': <gensim.models.keyedvectors.Vocab at 0x7f2fe11b9750>,\n",
              " 'борьба_NOUN': <gensim.models.keyedvectors.Vocab at 0x7f2fe11b9790>,\n",
              " 'возраст_NOUN': <gensim.models.keyedvectors.Vocab at 0x7f2fe11b97d0>,\n",
              " 'король_NOUN': <gensim.models.keyedvectors.Vocab at 0x7f2fe11b9810>,\n",
              " 'письмо_NOUN': <gensim.models.keyedvectors.Vocab at 0x7f2fe11b9850>,\n",
              " 'поле_NOUN': <gensim.models.keyedvectors.Vocab at 0x7f2fe11b9890>,\n",
              " 'конечно_ADV': <gensim.models.keyedvectors.Vocab at 0x7f2fe11b98d0>,\n",
              " 'причина_NOUN': <gensim.models.keyedvectors.Vocab at 0x7f2fe11b9910>,\n",
              " 'уезд_NOUN': <gensim.models.keyedvectors.Vocab at 0x7f2fe11b9950>,\n",
              " 'игрок_NOUN': <gensim.models.keyedvectors.Vocab at 0x7f2fe11b9990>,\n",
              " 'совет_PROPN': <gensim.models.keyedvectors.Vocab at 0x7f2fe11b99d0>,\n",
              " 'in_X': <gensim.models.keyedvectors.Vocab at 0x7f2fe11b9a50>,\n",
              " 'звание_NOUN': <gensim.models.keyedvectors.Vocab at 0x7f2fe11b9a90>,\n",
              " 'высота_NOUN': <gensim.models.keyedvectors.Vocab at 0x7f2fe11b9ad0>,\n",
              " 'чемпион_NOUN': <gensim.models.keyedvectors.Vocab at 0x7f2fe11b9b10>,\n",
              " 'отмечать_VERB': <gensim.models.keyedvectors.Vocab at 0x7f2fe11b9b50>,\n",
              " 'пора_NOUN': <gensim.models.keyedvectors.Vocab at 0x7f2fe11b9b90>,\n",
              " 'оставлять_VERB': <gensim.models.keyedvectors.Vocab at 0x7f2fe11b9bd0>,\n",
              " 'храм_NOUN': <gensim.models.keyedvectors.Vocab at 0x7f2fe11b9c10>,\n",
              " 'больше_ADV': <gensim.models.keyedvectors.Vocab at 0x7f2fe11b9c50>,\n",
              " 'попадать_VERB': <gensim.models.keyedvectors.Vocab at 0x7f2fe11b9c90>,\n",
              " 'необходимый_ADJ': <gensim.models.keyedvectors.Vocab at 0x7f2fe11b9cd0>,\n",
              " 'малый_ADJ': <gensim.models.keyedvectors.Vocab at 0x7f2fe11b9d10>,\n",
              " 'строительство_NOUN': <gensim.models.keyedvectors.Vocab at 0x7f2fe11b9d50>,\n",
              " 'деятель_NOUN': <gensim.models.keyedvectors.Vocab at 0x7f2fe11b9d90>,\n",
              " 'наиболее_ADV': <gensim.models.keyedvectors.Vocab at 0x7f2fe11b9dd0>,\n",
              " 'литература_NOUN': <gensim.models.keyedvectors.Vocab at 0x7f2fe11b9e10>,\n",
              " 'произведение_NOUN': <gensim.models.keyedvectors.Vocab at 0x7f2fe11b9e50>,\n",
              " 'направление_NOUN': <gensim.models.keyedvectors.Vocab at 0x7f2fe11b9e90>,\n",
              " 'империя_NOUN': <gensim.models.keyedvectors.Vocab at 0x7f2fe11b9ed0>,\n",
              " 'генерал_NOUN': <gensim.models.keyedvectors.Vocab at 0x7f2fe11b9f10>,\n",
              " 'музей_NOUN': <gensim.models.keyedvectors.Vocab at 0x7f2fe11b9f50>,\n",
              " 'далее_ADV': <gensim.models.keyedvectors.Vocab at 0x7f2fe11b9f90>,\n",
              " 'подобный_ADJ': <gensim.models.keyedvectors.Vocab at 0x7f2fe11b9fd0>,\n",
              " 'социальный_ADJ': <gensim.models.keyedvectors.Vocab at 0x7f2fe11be050>,\n",
              " 'сразу_ADV': <gensim.models.keyedvectors.Vocab at 0x7f2fe11be090>,\n",
              " 'пытаться_VERB': <gensim.models.keyedvectors.Vocab at 0x7f2fe11be0d0>,\n",
              " 'встречаться_VERB': <gensim.models.keyedvectors.Vocab at 0x7f2fe11be110>,\n",
              " 'восточный_ADJ': <gensim.models.keyedvectors.Vocab at 0x7f2fe11be150>,\n",
              " 'особенно_ADV': <gensim.models.keyedvectors.Vocab at 0x7f2fe11be190>,\n",
              " 'председатель_NOUN': <gensim.models.keyedvectors.Vocab at 0x7f2fe11be1d0>,\n",
              " 'хорошо_ADV': <gensim.models.keyedvectors.Vocab at 0x7f2fe11be210>,\n",
              " 'точка_NOUN': <gensim.models.keyedvectors.Vocab at 0x7f2fe11be250>,\n",
              " 'сельсовет_NOUN': <gensim.models.keyedvectors.Vocab at 0x7f2fe11be290>,\n",
              " 'академия_NOUN': <gensim.models.keyedvectors.Vocab at 0x7f2fe11be2d0>,\n",
              " 'президент_NOUN': <gensim.models.keyedvectors.Vocab at 0x7f2fe11be310>,\n",
              " 'план_NOUN': <gensim.models.keyedvectors.Vocab at 0x7f2fe11be350>,\n",
              " 'снимать_VERB': <gensim.models.keyedvectors.Vocab at 0x7f2fe11be390>,\n",
              " 'губерния_NOUN': <gensim.models.keyedvectors.Vocab at 0x7f2fe11be3d0>,\n",
              " 'проживать_VERB': <gensim.models.keyedvectors.Vocab at 0x7f2fe11be410>,\n",
              " 'победа_NOUN': <gensim.models.keyedvectors.Vocab at 0x7f2fe11be450>,\n",
              " 'граф_NOUN': <gensim.models.keyedvectors.Vocab at 0x7f2fe11be490>,\n",
              " 'помогать_VERB': <gensim.models.keyedvectors.Vocab at 0x7f2fe11be4d0>,\n",
              " 'история_PROPN': <gensim.models.keyedvectors.Vocab at 0x7f2fe11be510>,\n",
              " 'вдруг_ADV': <gensim.models.keyedvectors.Vocab at 0x7f2fe11be550>,\n",
              " 'коммуна_NOUN': <gensim.models.keyedvectors.Vocab at 0x7f2fe11be590>,\n",
              " 'украинский_ADJ': <gensim.models.keyedvectors.Vocab at 0x7f2fe11be5d0>,\n",
              " 'совсем_ADV': <gensim.models.keyedvectors.Vocab at 0x7f2fe11be610>,\n",
              " 'состояться_VERB': <gensim.models.keyedvectors.Vocab at 0x7f2fe11be650>,\n",
              " 'любой_ADJ': <gensim.models.keyedvectors.Vocab at 0x7f2fe11be690>,\n",
              " 'морской_ADJ': <gensim.models.keyedvectors.Vocab at 0x7f2fe11be6d0>,\n",
              " 'удаваться_VERB': <gensim.models.keyedvectors.Vocab at 0x7f2fe11be710>,\n",
              " 'тренер_NOUN': <gensim.models.keyedvectors.Vocab at 0x7f2fe11be750>,\n",
              " 'единственный_ADJ': <gensim.models.keyedvectors.Vocab at 0x7f2fe11be790>,\n",
              " 'иногда_ADV': <gensim.models.keyedvectors.Vocab at 0x7f2fe11be7d0>,\n",
              " 'никогда_ADV': <gensim.models.keyedvectors.Vocab at 0x7f2fe11be810>,\n",
              " 'хозяйство_NOUN': <gensim.models.keyedvectors.Vocab at 0x7f2fe11be850>,\n",
              " 'событие_NOUN': <gensim.models.keyedvectors.Vocab at 0x7f2fe11be890>,\n",
              " 'честь_NOUN': <gensim.models.keyedvectors.Vocab at 0x7f2fe11be8d0>,\n",
              " 'участок_NOUN': <gensim.models.keyedvectors.Vocab at 0x7f2fe11be910>,\n",
              " 'любовь_NOUN': <gensim.models.keyedvectors.Vocab at 0x7f2fe11be950>,\n",
              " 'мысль_NOUN': <gensim.models.keyedvectors.Vocab at 0x7f2fe11be990>,\n",
              " 'снова_ADV': <gensim.models.keyedvectors.Vocab at 0x7f2fe11be9d0>,\n",
              " 'мера_NOUN': <gensim.models.keyedvectors.Vocab at 0x7f2fe11bea10>,\n",
              " 'просить_VERB': <gensim.models.keyedvectors.Vocab at 0x7f2fe11bea50>,\n",
              " 'тяжелый_ADJ': <gensim.models.keyedvectors.Vocab at 0x7f2fe11bea90>,\n",
              " 'погибать_VERB': <gensim.models.keyedvectors.Vocab at 0x7f2fe11bead0>,\n",
              " 'регион_NOUN': <gensim.models.keyedvectors.Vocab at 0x7f2fe11beb10>,\n",
              " 'картина_NOUN': <gensim.models.keyedvectors.Vocab at 0x7f2fe11beb50>,\n",
              " 'информация_NOUN': <gensim.models.keyedvectors.Vocab at 0x7f2fe11beb90>,\n",
              " 'роман_NOUN': <gensim.models.keyedvectors.Vocab at 0x7f2fe11bebd0>,\n",
              " 'производить_VERB': <gensim.models.keyedvectors.Vocab at 0x7f2fe11bec10>,\n",
              " 'издание_NOUN': <gensim.models.keyedvectors.Vocab at 0x7f2fe11bec50>,\n",
              " 'перепись_NOUN': <gensim.models.keyedvectors.Vocab at 0x7f2fe11bec90>,\n",
              " 'операция_NOUN': <gensim.models.keyedvectors.Vocab at 0x7f2fe11becd0>,\n",
              " 'самолет_NOUN': <gensim.models.keyedvectors.Vocab at 0x7f2fe11bed10>,\n",
              " 'вечер_NOUN': <gensim.models.keyedvectors.Vocab at 0x7f2fe11bed50>,\n",
              " 'политика_NOUN': <gensim.models.keyedvectors.Vocab at 0x7f2fe11bed90>,\n",
              " 'маленький_ADJ': <gensim.models.keyedvectors.Vocab at 0x7f2fe11bedd0>,\n",
              " 'выполнять_VERB': <gensim.models.keyedvectors.Vocab at 0x7f2fe11bee10>,\n",
              " 'италия_PROPN': <gensim.models.keyedvectors.Vocab at 0x7f2fe11bee50>,\n",
              " 'большинство_NOUN': <gensim.models.keyedvectors.Vocab at 0x7f2fe11bee90>,\n",
              " 'определять_VERB': <gensim.models.keyedvectors.Vocab at 0x7f2fe11beed0>,\n",
              " 'узнавать_VERB': <gensim.models.keyedvectors.Vocab at 0x7f2fe11bef10>,\n",
              " 'передавать_VERB': <gensim.models.keyedvectors.Vocab at 0x7f2fe11bef50>,\n",
              " 'дверь_NOUN': <gensim.models.keyedvectors.Vocab at 0x7f2fe11bef90>,\n",
              " 'герой_PROPN': <gensim.models.keyedvectors.Vocab at 0x7f2fe11befd0>,\n",
              " 'лес_NOUN': <gensim.models.keyedvectors.Vocab at 0x7f2fe11c3050>,\n",
              " 'провинция_NOUN': <gensim.models.keyedvectors.Vocab at 0x7f2fe11c3090>,\n",
              " 'предприятие_NOUN': <gensim.models.keyedvectors.Vocab at 0x7f2fe11c30d0>,\n",
              " 'левый_ADJ': <gensim.models.keyedvectors.Vocab at 0x7f2fe11c3110>,\n",
              " 'гора_NOUN': <gensim.models.keyedvectors.Vocab at 0x7f2fe11c3150>,\n",
              " 'особый_ADJ': <gensim.models.keyedvectors.Vocab at 0x7f2fe11c3190>,\n",
              " 'личный_ADJ': <gensim.models.keyedvectors.Vocab at 0x7f2fe11c31d0>,\n",
              " 'художественный_ADJ': <gensim.models.keyedvectors.Vocab at 0x7f2fe11c3210>,\n",
              " 'сегодня_ADV': <gensim.models.keyedvectors.Vocab at 0x7f2fe11c3250>,\n",
              " 'till_NOUN': <gensim.models.keyedvectors.Vocab at 0x7f2fe11c32d0>,\n",
              " 'руководство_NOUN': <gensim.models.keyedvectors.Vocab at 0x7f2fe11c3310>,\n",
              " 'орган_NOUN': <gensim.models.keyedvectors.Vocab at 0x7f2fe11c3350>,\n",
              " 'гражданский_ADJ': <gensim.models.keyedvectors.Vocab at 0x7f2fe11c3390>,\n",
              " 'несмотря_ADV': <gensim.models.keyedvectors.Vocab at 0x7f2fe11c33d0>,\n",
              " 'метод_NOUN': <gensim.models.keyedvectors.Vocab at 0x7f2fe11c3410>,\n",
              " 'text_NOUN': <gensim.models.keyedvectors.Vocab at 0x7f2fe11c3490>,\n",
              " 'внимание_NOUN': <gensim.models.keyedvectors.Vocab at 0x7f2fe11c34d0>,\n",
              " 'футболист_NOUN': <gensim.models.keyedvectors.Vocab at 0x7f2fe11c3510>,\n",
              " 'иной_ADJ': <gensim.models.keyedvectors.Vocab at 0x7f2fe11c3550>,\n",
              " 'легкий_ADJ': <gensim.models.keyedvectors.Vocab at 0x7f2fe11c3590>,\n",
              " 'специальный_ADJ': <gensim.models.keyedvectors.Vocab at 0x7f2fe11c35d0>,\n",
              " 'актер_NOUN': <gensim.models.keyedvectors.Vocab at 0x7f2fe11c3610>,\n",
              " 'кубок_PROPN': <gensim.models.keyedvectors.Vocab at 0x7f2fe11c3650>,\n",
              " 'рубль_NOUN': <gensim.models.keyedvectors.Vocab at 0x7f2fe11c3690>,\n",
              " 'мнение_NOUN': <gensim.models.keyedvectors.Vocab at 0x7f2fe11c36d0>,\n",
              " 'железный_ADJ': <gensim.models.keyedvectors.Vocab at 0x7f2fe11c3710>,\n",
              " 'поступать_VERB': <gensim.models.keyedvectors.Vocab at 0x7f2fe11c3750>,\n",
              " 'живой_ADJ': <gensim.models.keyedvectors.Vocab at 0x7f2fe11c3790>,\n",
              " 'родалее_ADV': <gensim.models.keyedvectors.Vocab at 0x7f2fe11c37d0>,\n",
              " 'сильный_ADJ': <gensim.models.keyedvectors.Vocab at 0x7f2fe11c3810>,\n",
              " 'чемпионат_PROPN': <gensim.models.keyedvectors.Vocab at 0x7f2fe11c3850>,\n",
              " 'достигать_VERB': <gensim.models.keyedvectors.Vocab at 0x7f2fe11c3890>,\n",
              " 'водный_ADJ': <gensim.models.keyedvectors.Vocab at 0x7f2fe11c38d0>,\n",
              " 'летний_ADJ': <gensim.models.keyedvectors.Vocab at 0x7f2fe11c3910>,\n",
              " 'поэт_NOUN': <gensim.models.keyedvectors.Vocab at 0x7f2fe11c3950>,\n",
              " 'экономический_ADJ': <gensim.models.keyedvectors.Vocab at 0x7f2fe11c3990>,\n",
              " 'опять_ADV': <gensim.models.keyedvectors.Vocab at 0x7f2fe11c39d0>,\n",
              " 'министр_NOUN': <gensim.models.keyedvectors.Vocab at 0x7f2fe11c3a10>,\n",
              " 'источник_NOUN': <gensim.models.keyedvectors.Vocab at 0x7f2fe11c3a50>,\n",
              " 'комната_NOUN': <gensim.models.keyedvectors.Vocab at 0x7f2fe11c3a90>,\n",
              " 'задача_NOUN': <gensim.models.keyedvectors.Vocab at 0x7f2fe11c3ad0>,\n",
              " 'женский_ADJ': <gensim.models.keyedvectors.Vocab at 0x7f2fe11c3b10>,\n",
              " 'замечать_VERB': <gensim.models.keyedvectors.Vocab at 0x7f2fe11c3b50>,\n",
              " 'наконец_ADV': <gensim.models.keyedvectors.Vocab at 0x7f2fe11c3b90>,\n",
              " 'правило_NOUN': <gensim.models.keyedvectors.Vocab at 0x7f2fe11c3bd0>,\n",
              " 'стена_NOUN': <gensim.models.keyedvectors.Vocab at 0x7f2fe11c3c10>,\n",
              " 'размер_NOUN': <gensim.models.keyedvectors.Vocab at 0x7f2fe11c3c50>,\n",
              " 'указывать_VERB': <gensim.models.keyedvectors.Vocab at 0x7f2fe11c3c90>,\n",
              " 'использование_NOUN': <gensim.models.keyedvectors.Vocab at 0x7f2fe11c3cd0>,\n",
              " 'читать_VERB': <gensim.models.keyedvectors.Vocab at 0x7f2fe11c3d10>,\n",
              " 'принадлежать_VERB': <gensim.models.keyedvectors.Vocab at 0x7f2fe11c3d50>,\n",
              " 'описывать_VERB': <gensim.models.keyedvectors.Vocab at 0x7f2fe11c3d90>,\n",
              " 'противник_NOUN': <gensim.models.keyedvectors.Vocab at 0x7f2fe11c3dd0>,\n",
              " 'детский_ADJ': <gensim.models.keyedvectors.Vocab at 0x7f2fe11c3e10>,\n",
              " 'озеро_NOUN': <gensim.models.keyedvectors.Vocab at 0x7f2fe11c3e50>,\n",
              " 'сердце_NOUN': <gensim.models.keyedvectors.Vocab at 0x7f2fe11c3e90>,\n",
              " 'цвет_NOUN': <gensim.models.keyedvectors.Vocab at 0x7f2fe11c3ed0>,\n",
              " 'спорт_NOUN': <gensim.models.keyedvectors.Vocab at 0x7f2fe11c3f10>,\n",
              " 'быстро_ADV': <gensim.models.keyedvectors.Vocab at 0x7f2fe11c3f50>,\n",
              " 'рождение_NOUN': <gensim.models.keyedvectors.Vocab at 0x7f2fe11c3f90>,\n",
              " 'вскоре_ADV': <gensim.models.keyedvectors.Vocab at 0x7f2fe11c3fd0>,\n",
              " 'отделение_NOUN': <gensim.models.keyedvectors.Vocab at 0x7f2fe11ca050>,\n",
              " 'технический_ADJ': <gensim.models.keyedvectors.Vocab at 0x7f2fe11ca090>,\n",
              " 'герой_NOUN': <gensim.models.keyedvectors.Vocab at 0x7f2fe11ca0d0>,\n",
              " 'памятник_NOUN': <gensim.models.keyedvectors.Vocab at 0x7f2fe11ca110>,\n",
              " 'доктор_NOUN': <gensim.models.keyedvectors.Vocab at 0x7f2fe11ca150>,\n",
              " 'список_NOUN': <gensim.models.keyedvectors.Vocab at 0x7f2fe11ca190>,\n",
              " 'страница_NOUN': <gensim.models.keyedvectors.Vocab at 0x7f2fe11ca1d0>,\n",
              " 'стол_NOUN': <gensim.models.keyedvectors.Vocab at 0x7f2fe11ca210>,\n",
              " 'заместитель_NOUN': <gensim.models.keyedvectors.Vocab at 0x7f2fe11ca250>,\n",
              " 'половина_NOUN': <gensim.models.keyedvectors.Vocab at 0x7f2fe11ca290>,\n",
              " 'требовать_VERB': <gensim.models.keyedvectors.Vocab at 0x7f2fe11ca2d0>,\n",
              " 'порядок_NOUN': <gensim.models.keyedvectors.Vocab at 0x7f2fe11ca310>,\n",
              " 'вновь_ADV': <gensim.models.keyedvectors.Vocab at 0x7f2fe11ca350>,\n",
              " 'волость_NOUN': <gensim.models.keyedvectors.Vocab at 0x7f2fe11ca390>,\n",
              " 'номер_NOUN': <gensim.models.keyedvectors.Vocab at 0x7f2fe11ca3d0>,\n",
              " 'слышать_VERB': <gensim.models.keyedvectors.Vocab at 0x7f2fe11ca410>,\n",
              " 'память_NOUN': <gensim.models.keyedvectors.Vocab at 0x7f2fe11ca450>,\n",
              " 'монастырь_NOUN': <gensim.models.keyedvectors.Vocab at 0x7f2fe11ca490>,\n",
              " 'европейский_ADJ': <gensim.models.keyedvectors.Vocab at 0x7f2fe11ca4d0>,\n",
              " 'база_NOUN': <gensim.models.keyedvectors.Vocab at 0x7f2fe11ca510>,\n",
              " 'позиция_NOUN': <gensim.models.keyedvectors.Vocab at 0x7f2fe11ca550>,\n",
              " 'кмя_NOUN': <gensim.models.keyedvectors.Vocab at 0x7f2fe11ca590>,\n",
              " 'нижний_ADJ': <gensim.models.keyedvectors.Vocab at 0x7f2fe11ca5d0>,\n",
              " 'футбол_NOUN': <gensim.models.keyedvectors.Vocab at 0x7f2fe11ca610>,\n",
              " 'ныне_ADV': <gensim.models.keyedvectors.Vocab at 0x7f2fe11ca650>,\n",
              " 'совершенно_ADV': <gensim.models.keyedvectors.Vocab at 0x7f2fe11ca690>,\n",
              " 'избирать_VERB': <gensim.models.keyedvectors.Vocab at 0x7f2fe11ca6d0>,\n",
              " 'иметься_VERB': <gensim.models.keyedvectors.Vocab at 0x7f2fe11ca710>,\n",
              " 'далеко_ADV': <gensim.models.keyedvectors.Vocab at 0x7f2fe11ca750>,\n",
              " 'муж_NOUN': <gensim.models.keyedvectors.Vocab at 0x7f2fe11ca790>,\n",
              " 'признавать_VERB': <gensim.models.keyedvectors.Vocab at 0x7f2fe11ca7d0>,\n",
              " 'счет_NOUN': <gensim.models.keyedvectors.Vocab at 0x7f2fe11ca810>,\n",
              " 'окончание_NOUN': <gensim.models.keyedvectors.Vocab at 0x7f2fe11ca850>,\n",
              " '3-й_ADJ': <gensim.models.keyedvectors.Vocab at 0x7f2fe11ca890>,\n",
              " 'широкий_ADJ': <gensim.models.keyedvectors.Vocab at 0x7f2fe11ca8d0>,\n",
              " 'солдат_NOUN': <gensim.models.keyedvectors.Vocab at 0x7f2fe11ca910>,\n",
              " 'почему_ADV': <gensim.models.keyedvectors.Vocab at 0x7f2fe11ca950>,\n",
              " 'факультет_NOUN': <gensim.models.keyedvectors.Vocab at 0x7f2fe11ca990>,\n",
              " 'код_NOUN': <gensim.models.keyedvectors.Vocab at 0x7f2fe11ca9d0>,\n",
              " 'офицер_NOUN': <gensim.models.keyedvectors.Vocab at 0x7f2fe11caa10>,\n",
              " 'приезжать_VERB': <gensim.models.keyedvectors.Vocab at 0x7f2fe11caa50>,\n",
              " 'возникать_VERB': <gensim.models.keyedvectors.Vocab at 0x7f2fe11caa90>,\n",
              " 'iii_NUM': <gensim.models.keyedvectors.Vocab at 0x7f2fe11caad0>,\n",
              " 'идея_NOUN': <gensim.models.keyedvectors.Vocab at 0x7f2fe11cab50>,\n",
              " 'полка_NOUN': <gensim.models.keyedvectors.Vocab at 0x7f2fe11cab90>,\n",
              " 'британский_ADJ': <gensim.models.keyedvectors.Vocab at 0x7f2fe11cabd0>,\n",
              " 'спортивный_ADJ': <gensim.models.keyedvectors.Vocab at 0x7f2fe11cac10>,\n",
              " 'выборы_NOUN': <gensim.models.keyedvectors.Vocab at 0x7f2fe11cac50>,\n",
              " 'древний_ADJ': <gensim.models.keyedvectors.Vocab at 0x7f2fe11cac90>,\n",
              " 'основание_NOUN': <gensim.models.keyedvectors.Vocab at 0x7f2fe11cacd0>,\n",
              " 'капитан_NOUN': <gensim.models.keyedvectors.Vocab at 0x7f2fe11cad10>,\n",
              " 'переходить_VERB': <gensim.models.keyedvectors.Vocab at 0x7f2fe11cad50>,\n",
              " 'лежать_VERB': <gensim.models.keyedvectors.Vocab at 0x7f2fe11cad90>,\n",
              " 'лига_NOUN': <gensim.models.keyedvectors.Vocab at 0x7f2fe11cadd0>,\n",
              " 'великобритания_PROPN': <gensim.models.keyedvectors.Vocab at 0x7f2fe11cae10>,\n",
              " 'объявлять_VERB': <gensim.models.keyedvectors.Vocab at 0x7f2fe11cae50>,\n",
              " 'америка_PROPN': <gensim.models.keyedvectors.Vocab at 0x7f2fe11cae90>,\n",
              " 'награда_NOUN': <gensim.models.keyedvectors.Vocab at 0x7f2fe11caed0>,\n",
              " 'звезда_NOUN': <gensim.models.keyedvectors.Vocab at 0x7f2fe11caf10>,\n",
              " 'простой_ADJ': <gensim.models.keyedvectors.Vocab at 0x7f2fe11caf50>,\n",
              " 'неделя_NOUN': <gensim.models.keyedvectors.Vocab at 0x7f2fe11caf90>,\n",
              " 'xx_NUM': <gensim.models.keyedvectors.Vocab at 0x7f2fe11cafd0>,\n",
              " 'куда_ADV': <gensim.models.keyedvectors.Vocab at 0x7f2fe1150090>,\n",
              " 'близкий_ADJ': <gensim.models.keyedvectors.Vocab at 0x7f2fe11500d0>,\n",
              " 'успех_NOUN': <gensim.models.keyedvectors.Vocab at 0x7f2fe1150110>,\n",
              " 'элемент_NOUN': <gensim.models.keyedvectors.Vocab at 0x7f2fe1150150>,\n",
              " 'почетный_ADJ': <gensim.models.keyedvectors.Vocab at 0x7f2fe1150190>,\n",
              " 'отдел_NOUN': <gensim.models.keyedvectors.Vocab at 0x7f2fe11501d0>,\n",
              " 'совершать_VERB': <gensim.models.keyedvectors.Vocab at 0x7f2fe1150210>,\n",
              " 'огромный_ADJ': <gensim.models.keyedvectors.Vocab at 0x7f2fe1150250>,\n",
              " 'санкт-петербург_PROPN': <gensim.models.keyedvectors.Vocab at 0x7f2fe1150290>,\n",
              " 'епископ_NOUN': <gensim.models.keyedvectors.Vocab at 0x7f2fe11502d0>,\n",
              " 'бывать_VERB': <gensim.models.keyedvectors.Vocab at 0x7f2fe1150310>,\n",
              " 'выход_NOUN': <gensim.models.keyedvectors.Vocab at 0x7f2fe1150350>,\n",
              " 'влияние_NOUN': <gensim.models.keyedvectors.Vocab at 0x7f2fe1150390>,\n",
              " 'нельзя_ADV': <gensim.models.keyedvectors.Vocab at 0x7f2fe11503d0>,\n",
              " 'выигрывать_VERB': <gensim.models.keyedvectors.Vocab at 0x7f2fe1150410>,\n",
              " 'сыграть_VERB': <gensim.models.keyedvectors.Vocab at 0x7f2fe1150450>,\n",
              " 'карта_NOUN': <gensim.models.keyedvectors.Vocab at 0x7f2fe1150490>,\n",
              " 'этап_NOUN': <gensim.models.keyedvectors.Vocab at 0x7f2fe11504d0>,\n",
              " 'модель_NOUN': <gensim.models.keyedvectors.Vocab at 0x7f2fe1150510>,\n",
              " 'равный_ADJ': <gensim.models.keyedvectors.Vocab at 0x7f2fe1150550>,\n",
              " 'верхний_ADJ': <gensim.models.keyedvectors.Vocab at 0x7f2fe1150590>,\n",
              " 'курс_NOUN': <gensim.models.keyedvectors.Vocab at 0x7f2fe11505d0>,\n",
              " 'комитет_NOUN': <gensim.models.keyedvectors.Vocab at 0x7f2fe1150610>,\n",
              " 'руководитель_NOUN': <gensim.models.keyedvectors.Vocab at 0x7f2fe1150650>,\n",
              " 'вообще_ADV': <gensim.models.keyedvectors.Vocab at 0x7f2fe1150690>,\n",
              " 'депутат_NOUN': <gensim.models.keyedvectors.Vocab at 0x7f2fe11506d0>,\n",
              " 'отряд_NOUN': <gensim.models.keyedvectors.Vocab at 0x7f2fe1150710>,\n",
              " 'теория_NOUN': <gensim.models.keyedvectors.Vocab at 0x7f2fe1150750>,\n",
              " 'выпускник_NOUN': <gensim.models.keyedvectors.Vocab at 0x7f2fe1150790>,\n",
              " 'лето_NOUN': <gensim.models.keyedvectors.Vocab at 0x7f2fe11507d0>,\n",
              " 'рядом_ADV': <gensim.models.keyedvectors.Vocab at 0x7f2fe1150810>,\n",
              " 'разрабатывать_VERB': <gensim.models.keyedvectors.Vocab at 0x7f2fe1150850>,\n",
              " 'стрелковый_ADJ': <gensim.models.keyedvectors.Vocab at 0x7f2fe1150890>,\n",
              " 'фамилия_NOUN': <gensim.models.keyedvectors.Vocab at 0x7f2fe11508d0>,\n",
              " 'остальной_ADJ': <gensim.models.keyedvectors.Vocab at 0x7f2fe1150910>,\n",
              " 'польский_ADJ': <gensim.models.keyedvectors.Vocab at 0x7f2fe1150950>,\n",
              " 'поддержка_NOUN': <gensim.models.keyedvectors.Vocab at 0x7f2fe1150990>,\n",
              " 'сообщать_VERB': <gensim.models.keyedvectors.Vocab at 0x7f2fe11509d0>,\n",
              " 'изменение_NOUN': <gensim.models.keyedvectors.Vocab at 0x7f2fe1150a10>,\n",
              " 'больший_ADJ': <gensim.models.keyedvectors.Vocab at 0x7f2fe1150a50>,\n",
              " 'целый_ADJ': <gensim.models.keyedvectors.Vocab at 0x7f2fe1150a90>,\n",
              " 'xix_NUM': <gensim.models.keyedvectors.Vocab at 0x7f2fe1150ad0>,\n",
              " 'учиться_VERB': <gensim.models.keyedvectors.Vocab at 0x7f2fe1150b50>,\n",
              " 'царь_NOUN': <gensim.models.keyedvectors.Vocab at 0x7f2fe1150b90>,\n",
              " 'православный_ADJ': <gensim.models.keyedvectors.Vocab at 0x7f2fe1150bd0>,\n",
              " 'интерес_NOUN': <gensim.models.keyedvectors.Vocab at 0x7f2fe1150c10>,\n",
              " 'париж_PROPN': <gensim.models.keyedvectors.Vocab at 0x7f2fe1150c50>,\n",
              " 'серебряный_ADJ': <gensim.models.keyedvectors.Vocab at 0x7f2fe1150c90>,\n",
              " 'значительный_ADJ': <gensim.models.keyedvectors.Vocab at 0x7f2fe1150cd0>,\n",
              " 'собирать_VERB': <gensim.models.keyedvectors.Vocab at 0x7f2fe1150d10>,\n",
              " 'япония_PROPN': <gensim.models.keyedvectors.Vocab at 0x7f2fe1150d50>,\n",
              " 'заявлять_VERB': <gensim.models.keyedvectors.Vocab at 0x7f2fe1150d90>,\n",
              " 'возможный_ADJ': <gensim.models.keyedvectors.Vocab at 0x7f2fe1150dd0>,\n",
              " 'кладбище_NOUN': <gensim.models.keyedvectors.Vocab at 0x7f2fe1150e10>,\n",
              " 'литературный_ADJ': <gensim.models.keyedvectors.Vocab at 0x7f2fe1150e50>,\n",
              " 'сцена_NOUN': <gensim.models.keyedvectors.Vocab at 0x7f2fe1150e90>,\n",
              " 'речь_NOUN': <gensim.models.keyedvectors.Vocab at 0x7f2fe1150ed0>,\n",
              " 'чувство_NOUN': <gensim.models.keyedvectors.Vocab at 0x7f2fe1150f10>,\n",
              " 'защита_NOUN': <gensim.models.keyedvectors.Vocab at 0x7f2fe1150f50>,\n",
              " 'взгляд_NOUN': <gensim.models.keyedvectors.Vocab at 0x7f2fe1150f90>,\n",
              " 'соревнование_NOUN': <gensim.models.keyedvectors.Vocab at 0x7f2fe1150fd0>,\n",
              " 'окно_NOUN': <gensim.models.keyedvectors.Vocab at 0x7f2fe1155050>,\n",
              " 'юг_NOUN': <gensim.models.keyedvectors.Vocab at 0x7f2fe1155090>,\n",
              " 'ходить_VERB': <gensim.models.keyedvectors.Vocab at 0x7f2fe11550d0>,\n",
              " 'рабочий_ADJ': <gensim.models.keyedvectors.Vocab at 0x7f2fe1155110>,\n",
              " 'профессиональный_ADJ': <gensim.models.keyedvectors.Vocab at 0x7f2fe1155150>,\n",
              " 'федеральный_ADJ': <gensim.models.keyedvectors.Vocab at 0x7f2fe1155190>,\n",
              " 'обнаруживать_VERB': <gensim.models.keyedvectors.Vocab at 0x7f2fe11551d0>,\n",
              " 'дальнейший_ADJ': <gensim.models.keyedvectors.Vocab at 0x7f2fe1155210>,\n",
              " 'правый_ADJ': <gensim.models.keyedvectors.Vocab at 0x7f2fe1155250>,\n",
              " 'называться_VERB': <gensim.models.keyedvectors.Vocab at 0x7f2fe1155290>,\n",
              " 'финал_NOUN': <gensim.models.keyedvectors.Vocab at 0x7f2fe11552d0>,\n",
              " 'стиль_NOUN': <gensim.models.keyedvectors.Vocab at 0x7f2fe1155310>,\n",
              " 'поддерживать_VERB': <gensim.models.keyedvectors.Vocab at 0x7f2fe1155350>,\n",
              " 'оружие_NOUN': <gensim.models.keyedvectors.Vocab at 0x7f2fe1155390>,\n",
              " 'открытый_ADJ': <gensim.models.keyedvectors.Vocab at 0x7f2fe11553d0>,\n",
              " 'width_X': <gensim.models.keyedvectors.Vocab at 0x7f2fe1155410>,\n",
              " 'училище_NOUN': <gensim.models.keyedvectors.Vocab at 0x7f2fe1155490>,\n",
              " 'растение_NOUN': <gensim.models.keyedvectors.Vocab at 0x7f2fe11554d0>,\n",
              " 'рассказ_NOUN': <gensim.models.keyedvectors.Vocab at 0x7f2fe1155510>,\n",
              " 'назад_ADV': <gensim.models.keyedvectors.Vocab at 0x7f2fe1155550>,\n",
              " 'отказываться_VERB': <gensim.models.keyedvectors.Vocab at 0x7f2fe1155590>,\n",
              " 'железнодорожный_ADJ': <gensim.models.keyedvectors.Vocab at 0x7f2fe11555d0>,\n",
              " 'свободный_ADJ': <gensim.models.keyedvectors.Vocab at 0x7f2fe1155610>,\n",
              " 'редактор_NOUN': <gensim.models.keyedvectors.Vocab at 0x7f2fe1155650>,\n",
              " 'внешний_ADJ': <gensim.models.keyedvectors.Vocab at 0x7f2fe1155690>,\n",
              " 'обычно_ADV': <gensim.models.keyedvectors.Vocab at 0x7f2fe11556d0>,\n",
              " 'воздух_NOUN': <gensim.models.keyedvectors.Vocab at 0x7f2fe1155710>,\n",
              " 'направлять_VERB': <gensim.models.keyedvectors.Vocab at 0x7f2fe1155750>,\n",
              " 'девушка_NOUN': <gensim.models.keyedvectors.Vocab at 0x7f2fe1155790>,\n",
              " 'активный_ADJ': <gensim.models.keyedvectors.Vocab at 0x7f2fe11557d0>,\n",
              " 'сотрудник_NOUN': <gensim.models.keyedvectors.Vocab at 0x7f2fe1155810>,\n",
              " 'пример_NOUN': <gensim.models.keyedvectors.Vocab at 0x7f2fe1155850>,\n",
              " 'бог_PROPN': <gensim.models.keyedvectors.Vocab at 0x7f2fe1155890>,\n",
              " 'авиационный_ADJ': <gensim.models.keyedvectors.Vocab at 0x7f2fe11558d0>,\n",
              " 'характер_NOUN': <gensim.models.keyedvectors.Vocab at 0x7f2fe1155910>,\n",
              " 'император_NOUN': <gensim.models.keyedvectors.Vocab at 0x7f2fe1155950>,\n",
              " 'текст_NOUN': <gensim.models.keyedvectors.Vocab at 0x7f2fe1155990>,\n",
              " 'сестра_NOUN': <gensim.models.keyedvectors.Vocab at 0x7f2fe11559d0>,\n",
              " 'смысл_NOUN': <gensim.models.keyedvectors.Vocab at 0x7f2fe1155a10>,\n",
              " 'утро_NOUN': <gensim.models.keyedvectors.Vocab at 0x7f2fe1155a50>,\n",
              " 'природа_NOUN': <gensim.models.keyedvectors.Vocab at 0x7f2fe1155a90>,\n",
              " 'множество_NOUN': <gensim.models.keyedvectors.Vocab at 0x7f2fe1155ad0>,\n",
              " 'впоследствии_ADV': <gensim.models.keyedvectors.Vocab at 0x7f2fe1155b10>,\n",
              " 'килограмм_NOUN': <gensim.models.keyedvectors.Vocab at 0x7f2fe1155b50>,\n",
              " 'подходить_VERB': <gensim.models.keyedvectors.Vocab at 0x7f2fe1155b90>,\n",
              " 'флот_NOUN': <gensim.models.keyedvectors.Vocab at 0x7f2fe1155bd0>,\n",
              " 'штаб_NOUN': <gensim.models.keyedvectors.Vocab at 0x7f2fe1155c10>,\n",
              " 'канал_NOUN': <gensim.models.keyedvectors.Vocab at 0x7f2fe1155c50>,\n",
              " 'тема_NOUN': <gensim.models.keyedvectors.Vocab at 0x7f2fe1155c90>,\n",
              " 'оборона_NOUN': <gensim.models.keyedvectors.Vocab at 0x7f2fe1155cd0>,\n",
              " 'алфавит_NOUN': <gensim.models.keyedvectors.Vocab at 0x7f2fe1155d10>,\n",
              " 'животное_NOUN': <gensim.models.keyedvectors.Vocab at 0x7f2fe1155d50>,\n",
              " 'дерево_NOUN': <gensim.models.keyedvectors.Vocab at 0x7f2fe1155d90>,\n",
              " 'отправляться_VERB': <gensim.models.keyedvectors.Vocab at 0x7f2fe1155dd0>,\n",
              " 'отдавать_VERB': <gensim.models.keyedvectors.Vocab at 0x7f2fe1155e10>,\n",
              " 'эра_NOUN': <gensim.models.keyedvectors.Vocab at 0x7f2fe1155e50>,\n",
              " 'футбольный_ADJ': <gensim.models.keyedvectors.Vocab at 0x7f2fe1155e90>,\n",
              " 'бассейн_NOUN': <gensim.models.keyedvectors.Vocab at 0x7f2fe1155ed0>,\n",
              " 'документ_NOUN': <gensim.models.keyedvectors.Vocab at 0x7f2fe1155f10>,\n",
              " 'эпизод_NOUN': <gensim.models.keyedvectors.Vocab at 0x7f2fe1155f50>,\n",
              " 'польша_PROPN': <gensim.models.keyedvectors.Vocab at 0x7f2fe1155f90>,\n",
              " 'итог_NOUN': <gensim.models.keyedvectors.Vocab at 0x7f2fe1155fd0>,\n",
              " 'запись_NOUN': <gensim.models.keyedvectors.Vocab at 0x7f2fe115b050>,\n",
              " 'собираться_VERB': <gensim.models.keyedvectors.Vocab at 0x7f2fe115b090>,\n",
              " 'огонь_NOUN': <gensim.models.keyedvectors.Vocab at 0x7f2fe115b0d0>,\n",
              " 'возглавлять_VERB': <gensim.models.keyedvectors.Vocab at 0x7f2fe115b110>,\n",
              " 'зона_NOUN': <gensim.models.keyedvectors.Vocab at 0x7f2fe115b150>,\n",
              " 'север_NOUN': <gensim.models.keyedvectors.Vocab at 0x7f2fe115b190>,\n",
              " 'организовывать_VERB': <gensim.models.keyedvectors.Vocab at 0x7f2fe115b1d0>,\n",
              " 'знак_NOUN': <gensim.models.keyedvectors.Vocab at 0x7f2fe115b210>,\n",
              " 'пост_NOUN': <gensim.models.keyedvectors.Vocab at 0x7f2fe115b250>,\n",
              " 'довольно_ADV': <gensim.models.keyedvectors.Vocab at 0x7f2fe115b290>,\n",
              " 'отличие_NOUN': <gensim.models.keyedvectors.Vocab at 0x7f2fe115b2d0>,\n",
              " 'полковник_NOUN': <gensim.models.keyedvectors.Vocab at 0x7f2fe115b310>,\n",
              " 'функция_NOUN': <gensim.models.keyedvectors.Vocab at 0x7f2fe115b350>,\n",
              " 'точно_ADV': <gensim.models.keyedvectors.Vocab at 0x7f2fe115b390>,\n",
              " 'перевод_NOUN': <gensim.models.keyedvectors.Vocab at 0x7f2fe115b3d0>,\n",
              " 'at_X': <gensim.models.keyedvectors.Vocab at 0x7f2fe115b450>,\n",
              " 'сеть_NOUN': <gensim.models.keyedvectors.Vocab at 0x7f2fe115b490>,\n",
              " 'рано_ADV': <gensim.models.keyedvectors.Vocab at 0x7f2fe115b4d0>,\n",
              " 'вспоминать_VERB': <gensim.models.keyedvectors.Vocab at 0x7f2fe115b510>,\n",
              " 'isbn_SYM': <gensim.models.keyedvectors.Vocab at 0x7f2fe115b550>,\n",
              " 'ответ_NOUN': <gensim.models.keyedvectors.Vocab at 0x7f2fe115b5d0>,\n",
              " 'бригада_NOUN': <gensim.models.keyedvectors.Vocab at 0x7f2fe115b610>,\n",
              " 'китай_PROPN': <gensim.models.keyedvectors.Vocab at 0x7f2fe115b650>,\n",
              " 'частность_NOUN': <gensim.models.keyedvectors.Vocab at 0x7f2fe115b690>,\n",
              " 'уметь_VERB': <gensim.models.keyedvectors.Vocab at 0x7f2fe115b6d0>,\n",
              " 'человеческий_ADJ': <gensim.models.keyedvectors.Vocab at 0x7f2fe115b710>,\n",
              " 'выступление_NOUN': <gensim.models.keyedvectors.Vocab at 0x7f2fe115b750>,\n",
              " 'испания_PROPN': <gensim.models.keyedvectors.Vocab at 0x7f2fe115b790>,\n",
              " 'революция_NOUN': <gensim.models.keyedvectors.Vocab at 0x7f2fe115b7d0>,\n",
              " 'медицинский_ADJ': <gensim.models.keyedvectors.Vocab at 0x7f2fe115b810>,\n",
              " 'комплекс_NOUN': <gensim.models.keyedvectors.Vocab at 0x7f2fe115b850>,\n",
              " 'длинный_ADJ': <gensim.models.keyedvectors.Vocab at 0x7f2fe115b890>,\n",
              " 'обращаться_VERB': <gensim.models.keyedvectors.Vocab at 0x7f2fe115b8d0>,\n",
              " 'секретарь_NOUN': <gensim.models.keyedvectors.Vocab at 0x7f2fe115b910>,\n",
              " 'автомобиль_NOUN': <gensim.models.keyedvectors.Vocab at 0x7f2fe115b950>,\n",
              " 'долго_ADV': <gensim.models.keyedvectors.Vocab at 0x7f2fe115b990>,\n",
              " 'призер_NOUN': <gensim.models.keyedvectors.Vocab at 0x7f2fe115b9d0>,\n",
              " 'мастер_NOUN': <gensim.models.keyedvectors.Vocab at 0x7f2fe115ba10>,\n",
              " 'сад_NOUN': <gensim.models.keyedvectors.Vocab at 0x7f2fe115ba50>,\n",
              " 'выставка_NOUN': <gensim.models.keyedvectors.Vocab at 0x7f2fe115ba90>,\n",
              " 'духовный_ADJ': <gensim.models.keyedvectors.Vocab at 0x7f2fe115bad0>,\n",
              " 'генеральный_ADJ': <gensim.models.keyedvectors.Vocab at 0x7f2fe115bb10>,\n",
              " 'иностранный_ADJ': <gensim.models.keyedvectors.Vocab at 0x7f2fe115bb50>,\n",
              " 'собрание_NOUN': <gensim.models.keyedvectors.Vocab at 0x7f2fe115bb90>,\n",
              " 'зал_NOUN': <gensim.models.keyedvectors.Vocab at 0x7f2fe115bbd0>,\n",
              " 'ждать_VERB': <gensim.models.keyedvectors.Vocab at 0x7f2fe115bc10>,\n",
              " 'сильно_ADV': <gensim.models.keyedvectors.Vocab at 0x7f2fe115bc50>,\n",
              " 'англия_PROPN': <gensim.models.keyedvectors.Vocab at 0x7f2fe115bc90>,\n",
              " 'терять_VERB': <gensim.models.keyedvectors.Vocab at 0x7f2fe115bcd0>,\n",
              " 'полностью_ADV': <gensim.models.keyedvectors.Vocab at 0x7f2fe115bd10>,\n",
              " 'сначала_ADV': <gensim.models.keyedvectors.Vocab at 0x7f2fe115bd50>,\n",
              " 'мало_ADV': <gensim.models.keyedvectors.Vocab at 0x7f2fe115bd90>,\n",
              " 'содержать_VERB': <gensim.models.keyedvectors.Vocab at 0x7f2fe115bdd0>,\n",
              " 'середина_NOUN': <gensim.models.keyedvectors.Vocab at 0x7f2fe115be10>,\n",
              " 'вещь_NOUN': <gensim.models.keyedvectors.Vocab at 0x7f2fe115be50>,\n",
              " 'опубликовывать_VERB': <gensim.models.keyedvectors.Vocab at 0x7f2fe115be90>,\n",
              " 'орден_PROPN': <gensim.models.keyedvectors.Vocab at 0x7f2fe115bed0>,\n",
              " 'студент_NOUN': <gensim.models.keyedvectors.Vocab at 0x7f2fe115bf10>,\n",
              " 'учебный_ADJ': <gensim.models.keyedvectors.Vocab at 0x7f2fe115bf50>,\n",
              " 'отличаться_VERB': <gensim.models.keyedvectors.Vocab at 0x7f2fe115bf90>,\n",
              " 'встреча_NOUN': <gensim.models.keyedvectors.Vocab at 0x7f2fe115bfd0>,\n",
              " 'выпуск_NOUN': <gensim.models.keyedvectors.Vocab at 0x7f2fe1161050>,\n",
              " 'утверждать_VERB': <gensim.models.keyedvectors.Vocab at 0x7f2fe1161090>,\n",
              " 'японский_ADJ': <gensim.models.keyedvectors.Vocab at 0x7f2fe11610d0>,\n",
              " 'срок_NOUN': <gensim.models.keyedvectors.Vocab at 0x7f2fe1161110>,\n",
              " 'объяснять_VERB': <gensim.models.keyedvectors.Vocab at 0x7f2fe1161150>,\n",
              " 'масса_NOUN': <gensim.models.keyedvectors.Vocab at 0x7f2fe1161190>,\n",
              " 'лауреат_NOUN': <gensim.models.keyedvectors.Vocab at 0x7f2fe11611d0>,\n",
              " 'гражданин_NOUN': <gensim.models.keyedvectors.Vocab at 0x7f2fe1161210>,\n",
              " 'техника_NOUN': <gensim.models.keyedvectors.Vocab at 0x7f2fe1161250>,\n",
              " 'титул_NOUN': <gensim.models.keyedvectors.Vocab at 0x7f2fe1161290>,\n",
              " 'пользоваться_VERB': <gensim.models.keyedvectors.Vocab at 0x7f2fe11612d0>,\n",
              " 'кафедра_NOUN': <gensim.models.keyedvectors.Vocab at 0x7f2fe1161310>,\n",
              " 'средство_NOUN': <gensim.models.keyedvectors.Vocab at 0x7f2fe1161350>,\n",
              " 'встречать_VERB': <gensim.models.keyedvectors.Vocab at 0x7f2fe1161390>,\n",
              " 'факт_NOUN': <gensim.models.keyedvectors.Vocab at 0x7f2fe11613d0>,\n",
              " 'физический_ADJ': <gensim.models.keyedvectors.Vocab at 0x7f2fe1161410>,\n",
              " 'ситуация_NOUN': <gensim.models.keyedvectors.Vocab at 0x7f2fe1161450>,\n",
              " 'ранее_ADV': <gensim.models.keyedvectors.Vocab at 0x7f2fe1161490>,\n",
              " 'устройство_NOUN': <gensim.models.keyedvectors.Vocab at 0x7f2fe11614d0>,\n",
              " 'обеспечивать_VERB': <gensim.models.keyedvectors.Vocab at 0x7f2fe1161510>,\n",
              " 'поднимать_VERB': <gensim.models.keyedvectors.Vocab at 0x7f2fe1161550>,\n",
              " 'постоянный_ADJ': <gensim.models.keyedvectors.Vocab at 0x7f2fe1161590>,\n",
              " 'расстояние_NOUN': <gensim.models.keyedvectors.Vocab at 0x7f2fe11615d0>,\n",
              " 'шесть_NUM': <gensim.models.keyedvectors.Vocab at 0x7f2fe1161610>,\n",
              " 'вариант_NOUN': <gensim.models.keyedvectors.Vocab at 0x7f2fe1161650>,\n",
              " 'парк_NOUN': <gensim.models.keyedvectors.Vocab at 0x7f2fe1161690>,\n",
              " 'очередь_NOUN': <gensim.models.keyedvectors.Vocab at 0x7f2fe11616d0>,\n",
              " 'круг_NOUN': <gensim.models.keyedvectors.Vocab at 0x7f2fe1161710>,\n",
              " 'сколько_ADV': <gensim.models.keyedvectors.Vocab at 0x7f2fe1161750>,\n",
              " 'структура_NOUN': <gensim.models.keyedvectors.Vocab at 0x7f2fe1161790>,\n",
              " 'дух_NOUN': <gensim.models.keyedvectors.Vocab at 0x7f2fe11617d0>,\n",
              " 'подготовка_NOUN': <gensim.models.keyedvectors.Vocab at 0x7f2fe1161810>,\n",
              " 'опыт_NOUN': <gensim.models.keyedvectors.Vocab at 0x7f2fe1161850>,\n",
              " 'предмет_NOUN': <gensim.models.keyedvectors.Vocab at 0x7f2fe1161890>,\n",
              " 'интересный_ADJ': <gensim.models.keyedvectors.Vocab at 0x7f2fe11618d0>,\n",
              " 'чувствовать_VERB': <gensim.models.keyedvectors.Vocab at 0x7f2fe1161910>,\n",
              " 'носить_VERB': <gensim.models.keyedvectors.Vocab at 0x7f2fe1161950>,\n",
              " 'помнить_VERB': <gensim.models.keyedvectors.Vocab at 0x7f2fe1161990>,\n",
              " 'товарищ_NOUN': <gensim.models.keyedvectors.Vocab at 0x7f2fe11619d0>,\n",
              " 'разработка_NOUN': <gensim.models.keyedvectors.Vocab at 0x7f2fe1161a10>,\n",
              " 'итальянский_ADJ': <gensim.models.keyedvectors.Vocab at 0x7f2fe1161a50>,\n",
              " 'библиотека_NOUN': <gensim.models.keyedvectors.Vocab at 0x7f2fe1161a90>,\n",
              " 'желать_VERB': <gensim.models.keyedvectors.Vocab at 0x7f2fe1161ad0>,\n",
              " 'кино_NOUN': <gensim.models.keyedvectors.Vocab at 0x7f2fe1161b10>,\n",
              " 'батальон_NOUN': <gensim.models.keyedvectors.Vocab at 0x7f2fe1161b50>,\n",
              " 'свобода_NOUN': <gensim.models.keyedvectors.Vocab at 0x7f2fe1161b90>,\n",
              " 'разговор_NOUN': <gensim.models.keyedvectors.Vocab at 0x7f2fe1161bd0>,\n",
              " 'младший_ADJ': <gensim.models.keyedvectors.Vocab at 0x7f2fe1161c10>,\n",
              " 'угол_NOUN': <gensim.models.keyedvectors.Vocab at 0x7f2fe1161c50>,\n",
              " 'удар_NOUN': <gensim.models.keyedvectors.Vocab at 0x7f2fe1161c90>,\n",
              " 'отправлять_VERB': <gensim.models.keyedvectors.Vocab at 0x7f2fe1161cd0>,\n",
              " 'рынок_NOUN': <gensim.models.keyedvectors.Vocab at 0x7f2fe1161d10>,\n",
              " 'выбирать_VERB': <gensim.models.keyedvectors.Vocab at 0x7f2fe1161d50>,\n",
              " 'персонаж_NOUN': <gensim.models.keyedvectors.Vocab at 0x7f2fe1161d90>,\n",
              " 'зеленый_ADJ': <gensim.models.keyedvectors.Vocab at 0x7f2fe1161dd0>,\n",
              " 'низкий_ADJ': <gensim.models.keyedvectors.Vocab at 0x7f2fe1161e10>,\n",
              " 'одновременно_ADV': <gensim.models.keyedvectors.Vocab at 0x7f2fe1161e50>,\n",
              " 'категория_NOUN': <gensim.models.keyedvectors.Vocab at 0x7f2fe1161e90>,\n",
              " 'киев_PROPN': <gensim.models.keyedvectors.Vocab at 0x7f2fe1161ed0>,\n",
              " 'инженер_NOUN': <gensim.models.keyedvectors.Vocab at 0x7f2fe1161f10>,\n",
              " 'александр_PROPN': <gensim.models.keyedvectors.Vocab at 0x7f2fe1161f50>,\n",
              " 'располагаться_VERB': <gensim.models.keyedvectors.Vocab at 0x7f2fe1161f90>,\n",
              " 'защищать_VERB': <gensim.models.keyedvectors.Vocab at 0x7f2fe1161fd0>,\n",
              " 'квартира_NOUN': <gensim.models.keyedvectors.Vocab at 0x7f2fe1167050>,\n",
              " 'семейство_NOUN': <gensim.models.keyedvectors.Vocab at 0x7f2fe1167090>,\n",
              " 'победитель_NOUN': <gensim.models.keyedvectors.Vocab at 0x7f2fe11670d0>,\n",
              " 'весьма_ADV': <gensim.models.keyedvectors.Vocab at 0x7f2fe1167110>,\n",
              " 'институт_PROPN': <gensim.models.keyedvectors.Vocab at 0x7f2fe1167150>,\n",
              " 'слишком_ADV': <gensim.models.keyedvectors.Vocab at 0x7f2fe1167190>,\n",
              " 'готовый_ADJ': <gensim.models.keyedvectors.Vocab at 0x7f2fe11671d0>,\n",
              " 'врач_NOUN': <gensim.models.keyedvectors.Vocab at 0x7f2fe1167210>,\n",
              " 'кровь_NOUN': <gensim.models.keyedvectors.Vocab at 0x7f2fe1167250>,\n",
              " 'происхождение_NOUN': <gensim.models.keyedvectors.Vocab at 0x7f2fe1167290>,\n",
              " 'вступать_VERB': <gensim.models.keyedvectors.Vocab at 0x7f2fe11672d0>,\n",
              " 'чуть_ADV': <gensim.models.keyedvectors.Vocab at 0x7f2fe1167310>,\n",
              " 'темный_ADJ': <gensim.models.keyedvectors.Vocab at 0x7f2fe1167350>,\n",
              " 'церковь_PROPN': <gensim.models.keyedvectors.Vocab at 0x7f2fe1167390>,\n",
              " 'скорость_NOUN': <gensim.models.keyedvectors.Vocab at 0x7f2fe11673d0>,\n",
              " 'частный_ADJ': <gensim.models.keyedvectors.Vocab at 0x7f2fe1167410>,\n",
              " 'способ_NOUN': <gensim.models.keyedvectors.Vocab at 0x7f2fe1167450>,\n",
              " 'text_X': <gensim.models.keyedvectors.Vocab at 0x7f2fe1167490>,\n",
              " 'ученый_NOUN': <gensim.models.keyedvectors.Vocab at 0x7f2fe1167510>,\n",
              " 'упоминать_VERB': <gensim.models.keyedvectors.Vocab at 0x7f2fe1167550>,\n",
              " 'технология_NOUN': <gensim.models.keyedvectors.Vocab at 0x7f2fe1167590>,\n",
              " 'забывать_VERB': <gensim.models.keyedvectors.Vocab at 0x7f2fe11675d0>,\n",
              " 'оценка_NOUN': <gensim.models.keyedvectors.Vocab at 0x7f2fe1167610>,\n",
              " 'союз_NOUN': <gensim.models.keyedvectors.Vocab at 0x7f2fe1167650>,\n",
              " 'подниматься_VERB': <gensim.models.keyedvectors.Vocab at 0x7f2fe1167690>,\n",
              " 'принцип_NOUN': <gensim.models.keyedvectors.Vocab at 0x7f2fe11676d0>,\n",
              " 'покидать_VERB': <gensim.models.keyedvectors.Vocab at 0x7f2fe1167710>,\n",
              " 'давно_ADV': <gensim.models.keyedvectors.Vocab at 0x7f2fe1167750>,\n",
              " 'издавать_VERB': <gensim.models.keyedvectors.Vocab at 0x7f2fe1167790>,\n",
              " 'судьба_NOUN': <gensim.models.keyedvectors.Vocab at 0x7f2fe11677d0>,\n",
              " 'ранний_ADJ': <gensim.models.keyedvectors.Vocab at 0x7f2fe1167810>,\n",
              " 'рассматривать_VERB': <gensim.models.keyedvectors.Vocab at 0x7f2fe1167850>,\n",
              " 'пара_NOUN': <gensim.models.keyedvectors.Vocab at 0x7f2fe1167890>,\n",
              " 'комиссия_NOUN': <gensim.models.keyedvectors.Vocab at 0x7f2fe11678d0>,\n",
              " 'четвертый_ADJ': <gensim.models.keyedvectors.Vocab at 0x7f2fe1167910>,\n",
              " 'горный_ADJ': <gensim.models.keyedvectors.Vocab at 0x7f2fe1167950>,\n",
              " 'мужской_ADJ': <gensim.models.keyedvectors.Vocab at 0x7f2fe1167990>,\n",
              " 'десять_NUM': <gensim.models.keyedvectors.Vocab at 0x7f2fe11679d0>,\n",
              " 'сериал_NOUN': <gensim.models.keyedvectors.Vocab at 0x7f2fe1167a10>,\n",
              " 'рамка_NOUN': <gensim.models.keyedvectors.Vocab at 0x7f2fe1167a50>,\n",
              " 'статус_NOUN': <gensim.models.keyedvectors.Vocab at 0x7f2fe1167a90>,\n",
              " 'приносить_VERB': <gensim.models.keyedvectors.Vocab at 0x7f2fe1167ad0>,\n",
              " 'мост_NOUN': <gensim.models.keyedvectors.Vocab at 0x7f2fe1167b10>,\n",
              " 'болезнь_NOUN': <gensim.models.keyedvectors.Vocab at 0x7f2fe1167b50>,\n",
              " 'средства_NOUN': <gensim.models.keyedvectors.Vocab at 0x7f2fe1167b90>,\n",
              " 'актриса_NOUN': <gensim.models.keyedvectors.Vocab at 0x7f2fe1167bd0>,\n",
              " 'камень_NOUN': <gensim.models.keyedvectors.Vocab at 0x7f2fe1167c10>,\n",
              " 'собор_NOUN': <gensim.models.keyedvectors.Vocab at 0x7f2fe1167c50>,\n",
              " 'трудный_ADJ': <gensim.models.keyedvectors.Vocab at 0x7f2fe1167c90>,\n",
              " 'короткий_ADJ': <gensim.models.keyedvectors.Vocab at 0x7f2fe1167cd0>,\n",
              " 'конкурс_NOUN': <gensim.models.keyedvectors.Vocab at 0x7f2fe1167d10>,\n",
              " 'действительно_ADV': <gensim.models.keyedvectors.Vocab at 0x7f2fe1167d50>,\n",
              " 'примерно_ADV': <gensim.models.keyedvectors.Vocab at 0x7f2fe1167d90>,\n",
              " 'столица_NOUN': <gensim.models.keyedvectors.Vocab at 0x7f2fe1167dd0>,\n",
              " 'лист_NOUN': <gensim.models.keyedvectors.Vocab at 0x7f2fe1167e10>,\n",
              " 'небо_NOUN': <gensim.models.keyedvectors.Vocab at 0x7f2fe1167e50>,\n",
              " 'ученик_NOUN': <gensim.models.keyedvectors.Vocab at 0x7f2fe1167e90>,\n",
              " 'проведение_NOUN': <gensim.models.keyedvectors.Vocab at 0x7f2fe1167ed0>,\n",
              " 'рост_NOUN': <gensim.models.keyedvectors.Vocab at 0x7f2fe1167f10>,\n",
              " 'культурный_ADJ': <gensim.models.keyedvectors.Vocab at 0x7f2fe1167f50>,\n",
              " 'композитор_NOUN': <gensim.models.keyedvectors.Vocab at 0x7f2fe1167f90>,\n",
              " 'специалист_NOUN': <gensim.models.keyedvectors.Vocab at 0x7f2fe1167fd0>,\n",
              " 'среда_NOUN': <gensim.models.keyedvectors.Vocab at 0x7f2fe116b050>,\n",
              " 'прямой_ADJ': <gensim.models.keyedvectors.Vocab at 0x7f2fe116b090>,\n",
              " 'продукт_NOUN': <gensim.models.keyedvectors.Vocab at 0x7f2fe116b0d0>,\n",
              " 'падать_VERB': <gensim.models.keyedvectors.Vocab at 0x7f2fe116b110>,\n",
              " 'реестр_NOUN': <gensim.models.keyedvectors.Vocab at 0x7f2fe116b150>,\n",
              " 'социалистический_ADJ': <gensim.models.keyedvectors.Vocab at 0x7f2fe116b190>,\n",
              " 'подписывать_VERB': <gensim.models.keyedvectors.Vocab at 0x7f2fe116b1d0>,\n",
              " 'сложный_ADJ': <gensim.models.keyedvectors.Vocab at 0x7f2fe116b210>,\n",
              " 'доллар_NOUN': <gensim.models.keyedvectors.Vocab at 0x7f2fe116b250>,\n",
              " 'раунд_NOUN': <gensim.models.keyedvectors.Vocab at 0x7f2fe116b290>,\n",
              " 'стоить_VERB': <gensim.models.keyedvectors.Vocab at 0x7f2fe116b2d0>,\n",
              " 'город_PROPN': <gensim.models.keyedvectors.Vocab at 0x7f2fe116b310>,\n",
              " 'применение_NOUN': <gensim.models.keyedvectors.Vocab at 0x7f2fe116b350>,\n",
              " 'община_NOUN': <gensim.models.keyedvectors.Vocab at 0x7f2fe116b390>,\n",
              " 'банк_NOUN': <gensim.models.keyedvectors.Vocab at 0x7f2fe116b3d0>,\n",
              " 'воздушный_ADJ': <gensim.models.keyedvectors.Vocab at 0x7f2fe116b410>,\n",
              " 'учреждение_NOUN': <gensim.models.keyedvectors.Vocab at 0x7f2fe116b450>,\n",
              " 'применять_VERB': <gensim.models.keyedvectors.Vocab at 0x7f2fe116b490>,\n",
              " 'сообщение_NOUN': <gensim.models.keyedvectors.Vocab at 0x7f2fe116b4d0>,\n",
              " 'сведение_NOUN': <gensim.models.keyedvectors.Vocab at 0x7f2fe116b510>,\n",
              " 'гость_NOUN': <gensim.models.keyedvectors.Vocab at 0x7f2fe116b550>,\n",
              " ...}"
            ]
          },
          "metadata": {},
          "execution_count": 10
        }
      ]
    },
    {
      "cell_type": "markdown",
      "source": [
        "Установим библиотеку для морфологического анализа. Предобученный w2v слов содержит POS-тег (часть речи)."
      ],
      "metadata": {
        "id": "gmT2GOKy1Rfl"
      }
    },
    {
      "cell_type": "code",
      "source": [
        "!pip install -qq pymorphy2"
      ],
      "metadata": {
        "colab": {
          "base_uri": "https://localhost:8080/"
        },
        "id": "RT0GM7KXmPHE",
        "outputId": "cbf782d9-9270-4320-d43d-4cce3f3908e6"
      },
      "execution_count": null,
      "outputs": [
        {
          "output_type": "stream",
          "name": "stdout",
          "text": [
            "\u001b[K     |████████████████████████████████| 55 kB 1.7 MB/s \n",
            "\u001b[K     |████████████████████████████████| 8.2 MB 9.8 MB/s \n",
            "\u001b[?25h  Building wheel for docopt (setup.py) ... \u001b[?25l\u001b[?25hdone\n"
          ]
        }
      ]
    },
    {
      "cell_type": "markdown",
      "source": [
        "Будем пытаться находить часть речи каждого слова:"
      ],
      "metadata": {
        "id": "wz8p6Enf1hKP"
      }
    },
    {
      "cell_type": "code",
      "source": [
        "import pymorphy2 as py\n",
        "morph = py.MorphAnalyzer()\n",
        "\n",
        "def tag(word):\n",
        "    try:    \n",
        "        parsed = morph.parse(word)[0]\n",
        "        # Падеж .case; выделяется у существительных, полных прилагательных, полных причастий, числительных и местоимений\n",
        "        return word + '_' + parsed.tag.POS\n",
        "    except:\n",
        "        return word\n",
        "\n",
        "tag('ест')"
      ],
      "metadata": {
        "colab": {
          "base_uri": "https://localhost:8080/",
          "height": 36
        },
        "id": "0Mp-pKu4kdcT",
        "outputId": "1437c413-f1b4-4cbb-8dee-2af494e6fb9f"
      },
      "execution_count": null,
      "outputs": [
        {
          "output_type": "execute_result",
          "data": {
            "text/plain": [
              "'ест_VERB'"
            ],
            "application/vnd.google.colaboratory.intrinsic+json": {
              "type": "string"
            }
          },
          "metadata": {},
          "execution_count": 20
        }
      ]
    },
    {
      "cell_type": "code",
      "source": [
        "len(model.vocab)"
      ],
      "metadata": {
        "colab": {
          "base_uri": "https://localhost:8080/"
        },
        "id": "SvF00T_wQvyW",
        "outputId": "355ff13c-eea4-4284-c9da-831afa708cd3"
      },
      "execution_count": null,
      "outputs": [
        {
          "output_type": "execute_result",
          "data": {
            "text/plain": [
              "248978"
            ]
          },
          "metadata": {},
          "execution_count": 13
        }
      ]
    },
    {
      "cell_type": "code",
      "source": [
        "# применим ф-ю нахождение POS тега к каждому слову в предложении\n",
        "def tag_doc(doc):\n",
        "    return ' '.join([tag(w) for w in doc.split()])\n",
        "\n",
        "# применим к каждому предложению\n",
        "df['text'] = df['text'].map(tag_doc)\n",
        "df"
      ],
      "metadata": {
        "id": "juPkFVF9fLKW"
      },
      "execution_count": null,
      "outputs": []
    },
    {
      "cell_type": "code",
      "source": [
        "df.sentiment.value_counts()"
      ],
      "metadata": {
        "id": "n69WsLf1kYsW"
      },
      "execution_count": null,
      "outputs": []
    },
    {
      "cell_type": "code",
      "source": [
        "df.to_csv('preprocessed.csv', index=False)"
      ],
      "metadata": {
        "id": "LnHtW2osfw2r"
      },
      "execution_count": null,
      "outputs": []
    },
    {
      "cell_type": "code",
      "source": [
        "# так можно найти индекс слова в словаре\n",
        "a = model.vocab.get('банка_NOUN')\n",
        "a.count"
      ],
      "metadata": {
        "colab": {
          "base_uri": "https://localhost:8080/"
        },
        "id": "bsUDdWDemQkc",
        "outputId": "12fe981f-bdb8-40e2-ad23-67895acbe71f"
      },
      "execution_count": null,
      "outputs": [
        {
          "output_type": "execute_result",
          "data": {
            "text/plain": [
              "22192"
            ]
          },
          "metadata": {},
          "execution_count": 51
        }
      ]
    },
    {
      "cell_type": "markdown",
      "source": [
        "Найдем количество пропущенных слов относительно общего числа слов"
      ],
      "metadata": {
        "id": "5ayMJN0815kH"
      }
    },
    {
      "cell_type": "code",
      "source": [
        "missing = 0\n",
        "total = 0\n",
        "for i, row in df.iterrows(): # проитерируемся по всему датасету\n",
        "    for tagword in row['text'].split(): # пройдем по отдельным словам\n",
        "        if model.vocab.get(tagword) is None: # если слова нет - \n",
        "            missing += 1 # добавим к пропущенным\n",
        "    total += len(row['text'].split()) # добавим общее количество слов предложения"
      ],
      "metadata": {
        "id": "76F8ncDXl4RZ"
      },
      "execution_count": null,
      "outputs": []
    },
    {
      "cell_type": "code",
      "source": [
        "missing"
      ],
      "metadata": {
        "colab": {
          "base_uri": "https://localhost:8080/"
        },
        "id": "WHpnByifmCNS",
        "outputId": "22ef7deb-a231-4067-fe1a-b05b6bbc5d02"
      },
      "execution_count": null,
      "outputs": [
        {
          "output_type": "execute_result",
          "data": {
            "text/plain": [
              "3721392"
            ]
          },
          "metadata": {},
          "execution_count": 77
        }
      ]
    },
    {
      "cell_type": "code",
      "source": [
        "total"
      ],
      "metadata": {
        "colab": {
          "base_uri": "https://localhost:8080/"
        },
        "id": "TjrRf4zvr2ed",
        "outputId": "ad910e35-17d4-4612-8863-d5fe0e4e70b3"
      },
      "execution_count": null,
      "outputs": [
        {
          "output_type": "execute_result",
          "data": {
            "text/plain": [
              "4331247"
            ]
          },
          "metadata": {},
          "execution_count": 78
        }
      ]
    },
    {
      "cell_type": "markdown",
      "source": [
        "Пропущенно целых 85,5% слов!"
      ],
      "metadata": {
        "id": "e7aQ_z7b2PvP"
      }
    },
    {
      "cell_type": "code",
      "source": [
        "missing / total"
      ],
      "metadata": {
        "colab": {
          "base_uri": "https://localhost:8080/"
        },
        "id": "SiaNl66rr3zN",
        "outputId": "765285bf-cf2c-4068-e113-a0b7a17cd79f"
      },
      "execution_count": null,
      "outputs": [
        {
          "output_type": "execute_result",
          "data": {
            "text/plain": [
              "0.859196439270261"
            ]
          },
          "metadata": {},
          "execution_count": 79
        }
      ]
    },
    {
      "cell_type": "markdown",
      "source": [
        "## Navec\n",
        "\n",
        "\n",
        "https://github.com/natasha/navec"
      ],
      "metadata": {
        "id": "ZgkrVIxrwSL9"
      }
    },
    {
      "cell_type": "markdown",
      "source": [
        "Преимущества:\n",
        "\n",
        "1. Работает с торчем\n",
        "2. Нету шага пос-теггинга\n",
        "3. Можно подгрузить другие модели из https://rusvectores.org/ru/associates/#\n",
        "4. Есть возможность квантизовать"
      ],
      "metadata": {
        "id": "dIwH4_Sjyc3W"
      }
    },
    {
      "cell_type": "markdown",
      "source": [
        "Установим библиотеку"
      ],
      "metadata": {
        "id": "DVRN5kqA2Yo3"
      }
    },
    {
      "cell_type": "code",
      "source": [
        "!pip install navec"
      ],
      "metadata": {
        "colab": {
          "base_uri": "https://localhost:8080/"
        },
        "id": "woRQm3Ktsj9j",
        "outputId": "d179eb97-e197-4775-e37e-c0f114d457fc"
      },
      "execution_count": null,
      "outputs": [
        {
          "output_type": "stream",
          "name": "stdout",
          "text": [
            "Looking in indexes: https://pypi.org/simple, https://us-python.pkg.dev/colab-wheels/public/simple/\n",
            "Requirement already satisfied: navec in /usr/local/lib/python3.7/dist-packages (0.10.0)\n",
            "Requirement already satisfied: numpy in /usr/local/lib/python3.7/dist-packages (from navec) (1.21.6)\n"
          ]
        }
      ]
    },
    {
      "cell_type": "markdown",
      "source": [
        "Скачаем основную модель, указанную в гит репозитории:"
      ],
      "metadata": {
        "id": "IaIkDjC_2aX1"
      }
    },
    {
      "cell_type": "code",
      "source": [
        "!wget https://storage.yandexcloud.net/natasha-navec/packs/navec_hudlit_v1_12B_500K_300d_100q.tar"
      ],
      "metadata": {
        "colab": {
          "base_uri": "https://localhost:8080/"
        },
        "id": "hpdjmS4Gs-yg",
        "outputId": "b03583c4-4f63-4f62-8966-cb91488fa3a1"
      },
      "execution_count": null,
      "outputs": [
        {
          "output_type": "stream",
          "name": "stdout",
          "text": [
            "--2022-11-22 19:38:52--  https://storage.yandexcloud.net/natasha-navec/packs/navec_hudlit_v1_12B_500K_300d_100q.tar\n",
            "Resolving storage.yandexcloud.net (storage.yandexcloud.net)... 213.180.193.243, 2a02:6b8::1d9\n",
            "Connecting to storage.yandexcloud.net (storage.yandexcloud.net)|213.180.193.243|:443... connected.\n",
            "HTTP request sent, awaiting response... 200 OK\n",
            "Length: 53012480 (51M) [application/x-tar]\n",
            "Saving to: ‘navec_hudlit_v1_12B_500K_300d_100q.tar.3’\n",
            "\n",
            "navec_hudlit_v1_12B 100%[===================>]  50.56M  47.9MB/s    in 1.1s    \n",
            "\n",
            "2022-11-22 19:38:53 (47.9 MB/s) - ‘navec_hudlit_v1_12B_500K_300d_100q.tar.3’ saved [53012480/53012480]\n",
            "\n"
          ]
        }
      ]
    },
    {
      "cell_type": "markdown",
      "source": [
        "Подгрузим полученную модель"
      ],
      "metadata": {
        "id": "6PtjoHE02ezR"
      }
    },
    {
      "cell_type": "code",
      "source": [
        "from navec import Navec\n",
        "navec = Navec.load('/content/navec_hudlit_v1_12B_500K_300d_100q.tar')"
      ],
      "metadata": {
        "id": "aK4aLQJLs--Z"
      },
      "execution_count": null,
      "outputs": []
    },
    {
      "cell_type": "markdown",
      "source": [
        "Модель содержит вдвое больше слов и не имеет поз тегов, что не требует доп этапов подготовки данных."
      ],
      "metadata": {
        "id": "ZlD7tUft2hGb"
      }
    },
    {
      "cell_type": "code",
      "source": [
        "len(navec.vocab.word_ids)"
      ],
      "metadata": {
        "colab": {
          "base_uri": "https://localhost:8080/"
        },
        "id": "QIkBG9JUtATX",
        "outputId": "27b10544-e9f4-4dd9-ed8c-920a750f94db"
      },
      "execution_count": null,
      "outputs": [
        {
          "output_type": "execute_result",
          "data": {
            "text/plain": [
              "500002"
            ]
          },
          "metadata": {},
          "execution_count": 224
        }
      ]
    },
    {
      "cell_type": "markdown",
      "source": [
        "Найдем общее количество пропусков:"
      ],
      "metadata": {
        "id": "jqnLvzHU2pEC"
      }
    },
    {
      "cell_type": "code",
      "source": [
        "missing = 0\n",
        "total = 0\n",
        "for i, row in df.iterrows():\n",
        "    for word in row['text'].split():\n",
        "        if navec.vocab.word_ids.get(word) is None:\n",
        "            missing += 1\n",
        "    total += len(row['text'].split())"
      ],
      "metadata": {
        "id": "1L23_yQWtBln"
      },
      "execution_count": null,
      "outputs": []
    },
    {
      "cell_type": "markdown",
      "source": [
        "Всего 11%!"
      ],
      "metadata": {
        "id": "XxdBurOs2rDg"
      }
    },
    {
      "cell_type": "code",
      "source": [
        "missing / total"
      ],
      "metadata": {
        "colab": {
          "base_uri": "https://localhost:8080/"
        },
        "id": "VqZ9PZDFtaXb",
        "outputId": "4782a2ad-5b45-4714-d8c2-cfbeb37764b9"
      },
      "execution_count": null,
      "outputs": [
        {
          "output_type": "execute_result",
          "data": {
            "text/plain": [
              "0.11594215957547091"
            ]
          },
          "metadata": {},
          "execution_count": 16
        }
      ]
    },
    {
      "cell_type": "code",
      "source": [
        "missing"
      ],
      "metadata": {
        "colab": {
          "base_uri": "https://localhost:8080/"
        },
        "id": "mS-cG5Cc-J31",
        "outputId": "68dabbed-87dd-46d3-9b86-f6828e7c1ba7"
      },
      "execution_count": null,
      "outputs": [
        {
          "output_type": "execute_result",
          "data": {
            "text/plain": [
              "501819"
            ]
          },
          "metadata": {},
          "execution_count": 227
        }
      ]
    },
    {
      "cell_type": "markdown",
      "source": [
        "С моделью из торча можно работать как через надстройку slovnet так и через генсим. Генсимовская модель удобна тк позволяет добавить пропущенные слова и передать их в функцию `from_pretrained` слоя `nn.Embedding` ."
      ],
      "metadata": {
        "id": "Jp8uQWNq2uNm"
      }
    },
    {
      "cell_type": "code",
      "source": [
        "gensim_navec = navec.as_gensim\n",
        "gensim_navec"
      ],
      "metadata": {
        "colab": {
          "base_uri": "https://localhost:8080/"
        },
        "id": "ruLW1gyH88g_",
        "outputId": "52ca769f-0fe8-4c8c-c6e9-dbd2c4e975d8"
      },
      "execution_count": null,
      "outputs": [
        {
          "output_type": "execute_result",
          "data": {
            "text/plain": [
              "<gensim.models.keyedvectors.Word2VecKeyedVectors at 0x7fd40644e650>"
            ]
          },
          "metadata": {},
          "execution_count": 6
        }
      ]
    },
    {
      "cell_type": "code",
      "source": [
        "len(gensim_navec.vocab)"
      ],
      "metadata": {
        "colab": {
          "base_uri": "https://localhost:8080/"
        },
        "id": "XckfgJWgC4mY",
        "outputId": "56a42ff1-bfab-40fd-87ac-2adc010fb31b"
      },
      "execution_count": null,
      "outputs": [
        {
          "output_type": "execute_result",
          "data": {
            "text/plain": [
              "500002"
            ]
          },
          "metadata": {},
          "execution_count": 229
        }
      ]
    },
    {
      "cell_type": "code",
      "source": [
        "# размер вектора эмбеддинга\n",
        "gensim_navec.vectors[0].shape[0] "
      ],
      "metadata": {
        "colab": {
          "base_uri": "https://localhost:8080/"
        },
        "id": "UDQ-2oX-9uId",
        "outputId": "305ab1ef-08e3-43e2-a183-5c1a38d8ab5a"
      },
      "execution_count": null,
      "outputs": [
        {
          "output_type": "execute_result",
          "data": {
            "text/plain": [
              "300"
            ]
          },
          "metadata": {},
          "execution_count": 230
        }
      ]
    },
    {
      "cell_type": "code",
      "source": [
        "# стандартное отклонение в векторе эмбеддинга\n",
        "gensim_navec.vectors.std(axis=0).mean()"
      ],
      "metadata": {
        "colab": {
          "base_uri": "https://localhost:8080/"
        },
        "id": "_I4XC2Tg-hwJ",
        "outputId": "32eb53de-7b23-4416-d7f6-f8e8ff6270fd"
      },
      "execution_count": null,
      "outputs": [
        {
          "output_type": "execute_result",
          "data": {
            "text/plain": [
              "0.30867122016706344"
            ]
          },
          "metadata": {},
          "execution_count": 7
        }
      ]
    },
    {
      "cell_type": "markdown",
      "source": [
        "Для всех уникальных пропущенных слов мы будем создавать эмбеддинг слова (размера 300 в случае модели генсим):"
      ],
      "metadata": {
        "id": "f6cHl9O13N9f"
      }
    },
    {
      "cell_type": "code",
      "source": [
        "import numpy as np\n",
        "\n",
        "np.random.normal(0, 0.3, gensim_navec.vectors[0].shape[0]).shape"
      ],
      "metadata": {
        "colab": {
          "base_uri": "https://localhost:8080/"
        },
        "id": "qWbPna2C-Zcs",
        "outputId": "2894aed9-01b4-436e-d859-356b96d2488b"
      },
      "execution_count": null,
      "outputs": [
        {
          "output_type": "execute_result",
          "data": {
            "text/plain": [
              "(300,)"
            ]
          },
          "metadata": {},
          "execution_count": 8
        }
      ]
    },
    {
      "cell_type": "markdown",
      "source": [
        "Найдем все пропущенные слова:"
      ],
      "metadata": {
        "id": "Frj0JlaX3gRu"
      }
    },
    {
      "cell_type": "code",
      "source": [
        "from tqdm.auto import tqdm\n",
        "missing_words = []\n",
        "for i, row in tqdm(df.iterrows(), total=len(df)):\n",
        "    for word in row['text'].split():\n",
        "        if navec.vocab.word_ids.get(word) is None:\n",
        "            missing_words.append(word)\n",
        "len(missing_words)"
      ],
      "metadata": {
        "colab": {
          "base_uri": "https://localhost:8080/",
          "height": 67,
          "referenced_widgets": [
            "8e3c9a09cc464eb28c6ae322a6439416",
            "dcc065d276ce4d35a832894f07d2e5e3",
            "46334fac17704a03ab705964003228e4",
            "db4c4cd0f0c94ad1bb8796bcc30dd7f2",
            "6dd609922c074aa38009fee4d3d90ade",
            "5cdc3de410164a27a7fbd0fd3705c6c9",
            "bbc58545e893455d8a6fb3f3a4716a63",
            "1c862bd2a824461c958405c9eb4c5d1a",
            "35f8e366ebe74cee9548a124f8aba3dc",
            "678f4a028af34eab877c0f9ed8b055ab",
            "7fb4db9baeed498f9c6bd0c3997226ae"
          ]
        },
        "id": "_6HGHsQS-Y9x",
        "outputId": "97f964e2-bc4f-4aa7-a52b-832b995b74a8"
      },
      "execution_count": null,
      "outputs": [
        {
          "output_type": "display_data",
          "data": {
            "text/plain": [
              "  0%|          | 0/8263 [00:00<?, ?it/s]"
            ],
            "application/vnd.jupyter.widget-view+json": {
              "version_major": 2,
              "version_minor": 0,
              "model_id": "8e3c9a09cc464eb28c6ae322a6439416"
            }
          },
          "metadata": {}
        },
        {
          "output_type": "execute_result",
          "data": {
            "text/plain": [
              "501819"
            ]
          },
          "metadata": {},
          "execution_count": 9
        }
      ]
    },
    {
      "cell_type": "markdown",
      "source": [
        "Посмотрим на количество уникальных, их всего 50к:"
      ],
      "metadata": {
        "id": "yJhb6-yY3kz2"
      }
    },
    {
      "cell_type": "code",
      "source": [
        "pd.Series(missing_words).value_counts()"
      ],
      "metadata": {
        "colab": {
          "base_uri": "https://localhost:8080/"
        },
        "id": "9rdye0PY_J6q",
        "outputId": "ce698a98-dbea-4cb0-fa24-306120bc6e5b"
      },
      "execution_count": null,
      "outputs": [
        {
          "output_type": "execute_result",
          "data": {
            "text/plain": [
              "–                   15734\n",
              "—                   15182\n",
              "1                   12255\n",
              "2016                10553\n",
              "2                    8877\n",
              "                    ...  \n",
              "кушинге                 1\n",
              "жильный                 1\n",
              "гидрометаллургии        1\n",
              "1228                    1\n",
              "накален                 1\n",
              "Length: 50684, dtype: int64"
            ]
          },
          "metadata": {},
          "execution_count": 10
        }
      ]
    },
    {
      "cell_type": "markdown",
      "source": [
        "Для всех уникальных слов создадим эмбеддинг из 300 случайных чисел с нулевым матожиданием и дисперсией 0.3, найденной выше. Он будет обучаться вместе с моделью в ходе обработки данных:"
      ],
      "metadata": {
        "id": "DGftzbPd3rkN"
      }
    },
    {
      "cell_type": "code",
      "source": [
        "wordList = list(set(missing_words))\n",
        "vectorList = np.random.normal(0, 0.3, (len(wordList), gensim_navec.vectors[0].shape[0]))\n",
        "vectorList.shape"
      ],
      "metadata": {
        "colab": {
          "base_uri": "https://localhost:8080/"
        },
        "id": "FWzWJgkF_3YP",
        "outputId": "e8b194c7-b9c5-4a81-8946-d4556f81522a"
      },
      "execution_count": null,
      "outputs": [
        {
          "output_type": "execute_result",
          "data": {
            "text/plain": [
              "(50684, 300)"
            ]
          },
          "metadata": {},
          "execution_count": 11
        }
      ]
    },
    {
      "cell_type": "markdown",
      "source": [
        "Добавим новые слова и их эмбеддинги в предобученную генсим модель, полученную от предобученного navec-ом W2V-ка:"
      ],
      "metadata": {
        "id": "tL-PQ2ff398F"
      }
    },
    {
      "cell_type": "code",
      "source": [
        "gensim_navec.add(wordList, vectorList)"
      ],
      "metadata": {
        "id": "T0EvOKc3_Gy_"
      },
      "execution_count": null,
      "outputs": []
    },
    {
      "cell_type": "markdown",
      "source": [
        "Суммарно имеем 550к слов с эмбеддингом размера 300:"
      ],
      "metadata": {
        "id": "k_8l1Y-C4HUk"
      }
    },
    {
      "cell_type": "code",
      "source": [
        "gensim_navec.vectors.shape"
      ],
      "metadata": {
        "colab": {
          "base_uri": "https://localhost:8080/"
        },
        "id": "aKFaeMCCDFn-",
        "outputId": "2b388b85-e22e-4ca0-e15c-e5bf5ca39a9d"
      },
      "execution_count": null,
      "outputs": [
        {
          "output_type": "execute_result",
          "data": {
            "text/plain": [
              "(550686, 300)"
            ]
          },
          "metadata": {},
          "execution_count": 204
        }
      ]
    },
    {
      "cell_type": "markdown",
      "source": [
        "Убедимся в корректности получаемх данных. Эмбеддинги сконвертириованные в пайторч тензор подаются в `nn.Embedding`."
      ],
      "metadata": {
        "id": "p_v2kPbq4YLZ"
      }
    },
    {
      "cell_type": "code",
      "source": [
        "weights = torch.FloatTensor(gensim_navec.vectors)"
      ],
      "metadata": {
        "id": "gZX_9uuLAae7"
      },
      "execution_count": null,
      "outputs": []
    },
    {
      "cell_type": "code",
      "source": [
        "emb = nn.Embedding.from_pretrained(weights, padding_idx = 0)"
      ],
      "metadata": {
        "id": "UbCpSnF0BBHN"
      },
      "execution_count": null,
      "outputs": []
    },
    {
      "cell_type": "code",
      "source": [
        "gensim_navec['привет'][:10]"
      ],
      "metadata": {
        "colab": {
          "base_uri": "https://localhost:8080/"
        },
        "id": "SSQ1yRgyCoKK",
        "outputId": "541baf0f-9a26-407b-cad2-fb949eca2a6b"
      },
      "execution_count": null,
      "outputs": [
        {
          "output_type": "execute_result",
          "data": {
            "text/plain": [
              "array([-0.14197442,  0.01595282, -0.11622857,  0.19758469, -0.54093564,\n",
              "       -0.23015393,  0.2083324 ,  0.20733036, -0.46802008, -0.43609178])"
            ]
          },
          "metadata": {},
          "execution_count": 239
        }
      ]
    },
    {
      "cell_type": "markdown",
      "source": [
        "С помощью это функции мы можем найти индекс слова в словаре. Если его нету в словаре, то мы получим индекс `<unk>` токена. В случае с navec его значение == 50000."
      ],
      "metadata": {
        "id": "DHgbKarf4quG"
      }
    },
    {
      "cell_type": "code",
      "source": [
        "navec.vocab.get('привет', navec.vocab.unk_id)"
      ],
      "metadata": {
        "colab": {
          "base_uri": "https://localhost:8080/"
        },
        "id": "Ahf0LvhNCuTS",
        "outputId": "ab269e94-03d6-492b-c1ae-623a91ce0ee9"
      },
      "execution_count": null,
      "outputs": [
        {
          "output_type": "execute_result",
          "data": {
            "text/plain": [
              "335377"
            ]
          },
          "metadata": {},
          "execution_count": 242
        }
      ]
    },
    {
      "cell_type": "markdown",
      "source": [
        "Убедимся, что вектор, который выдает Navec для слова \"привет\" совпадает с тем, что выдает нам nn.Embedding при подаче его индекса:"
      ],
      "metadata": {
        "id": "sYoZ02im47iW"
      }
    },
    {
      "cell_type": "code",
      "source": [
        "emb(torch.tensor([335377], dtype=torch.long))[0][:10]"
      ],
      "metadata": {
        "colab": {
          "base_uri": "https://localhost:8080/"
        },
        "id": "KfDI6RxKCiaL",
        "outputId": "ee045ca0-a0e9-4ed2-e94e-d1297850c321"
      },
      "execution_count": null,
      "outputs": [
        {
          "output_type": "execute_result",
          "data": {
            "text/plain": [
              "torch.Size([4, 300])"
            ]
          },
          "metadata": {},
          "execution_count": 247
        }
      ]
    },
    {
      "cell_type": "markdown",
      "source": [
        "Очистим из под них память."
      ],
      "metadata": {
        "id": "zxXNxZx25Fm5"
      }
    },
    {
      "cell_type": "code",
      "source": [
        "del emb\n",
        "del weights"
      ],
      "metadata": {
        "id": "sR3m7o1OqEp0"
      },
      "execution_count": null,
      "outputs": []
    },
    {
      "cell_type": "markdown",
      "source": [
        "### Опциональный подход в работе с Navec"
      ],
      "metadata": {
        "id": "ppXOoLE65IpI"
      }
    },
    {
      "cell_type": "markdown",
      "source": [
        "Установим библиотеку slovnet. Он позволяет пользуясь синтаксисом, схожим с `nn.Embedding`, образаться к нужным векторам слов."
      ],
      "metadata": {
        "id": "1TVQoUhw5QbY"
      }
    },
    {
      "cell_type": "code",
      "source": [
        "!pip install -qq slovnet"
      ],
      "metadata": {
        "colab": {
          "base_uri": "https://localhost:8080/"
        },
        "id": "pOQRYagzvufe",
        "outputId": "cbf046f3-a1d0-4a95-e4b8-e655ac777c9b"
      },
      "execution_count": null,
      "outputs": [
        {
          "output_type": "stream",
          "name": "stdout",
          "text": [
            "\u001b[?25l\r\u001b[K     |██████▋                         | 10 kB 14.4 MB/s eta 0:00:01\r\u001b[K     |█████████████▎                  | 20 kB 19.8 MB/s eta 0:00:01\r\u001b[K     |████████████████████            | 30 kB 23.4 MB/s eta 0:00:01\r\u001b[K     |██████████████████████████▌     | 40 kB 11.9 MB/s eta 0:00:01\r\u001b[K     |████████████████████████████████| 49 kB 3.7 MB/s \n",
            "\u001b[?25h"
          ]
        }
      ]
    },
    {
      "cell_type": "code",
      "source": [
        "import torch\n",
        "from slovnet.model.emb import NavecEmbedding\n",
        "\n",
        "emb = NavecEmbedding(navec)\n",
        "\n",
        "sample_text = 'привет как дела фывйцувфывфы'\n",
        "\n",
        "sample_text = preprocess(sample_text)\n",
        "print('после предобработки:', sample_text)\n",
        "\n",
        "indexs = []\n",
        "for word in sample_text.split():\n",
        "    # id 500000 == navec.vocab['<unk>'], слово, которого нет в словаре\n",
        "    # получение индексов слов\n",
        "    idx = navec.vocab.get(word, navec.vocab.unk_id)\n",
        "    indexs.append(idx)\n",
        "    print(word, idx)\n",
        "\n",
        "input = torch.tensor(indexs) # получаем тензор из индексов\n",
        "output = emb(input) # получаем эмбеддинги слов (выбор нужных строк из всех эмбеддингов)"
      ],
      "metadata": {
        "colab": {
          "base_uri": "https://localhost:8080/"
        },
        "id": "mkRpfrcbvA8r",
        "outputId": "29649049-c1a1-4757-879f-111f40951b7b"
      },
      "execution_count": null,
      "outputs": [
        {
          "output_type": "stream",
          "name": "stdout",
          "text": [
            "after preprocessing: привет как дела фывйцувфывфы\n",
            "привет 335377\n",
            "как 161623\n",
            "дела 104167\n",
            "фывйцувфывфы 500000\n"
          ]
        }
      ]
    },
    {
      "cell_type": "markdown",
      "source": [
        "Так выглядит набор векторов, выбранных по индексу слова в словаре, подаваемых в модель:"
      ],
      "metadata": {
        "id": "yACEywTe5en8"
      }
    },
    {
      "cell_type": "code",
      "source": [
        "output"
      ],
      "metadata": {
        "colab": {
          "base_uri": "https://localhost:8080/"
        },
        "id": "SLRjF1e4v5qg",
        "outputId": "cf4733d8-e863-4c78-abb3-12bba13a9cd2"
      },
      "execution_count": null,
      "outputs": [
        {
          "output_type": "execute_result",
          "data": {
            "text/plain": [
              "tensor([[-0.1420,  0.0160, -0.1162,  ...,  0.0409, -0.0816, -0.4607],\n",
              "        [-0.0204, -0.4305, -0.3130,  ..., -0.0266, -0.1075,  0.5631],\n",
              "        [-0.3999,  0.1549,  0.0680,  ..., -0.3365, -0.1798,  0.2134],\n",
              "        [ 0.2143,  0.3703,  0.1368,  ...,  0.2950, -0.0562, -0.1937]])"
            ]
          },
          "metadata": {},
          "execution_count": 103
        }
      ]
    },
    {
      "cell_type": "markdown",
      "source": [
        "Пропущенные слова заменяются на эмбеддинг слова `<unk>`"
      ],
      "metadata": {
        "id": "tlOtPl_a5lhn"
      }
    },
    {
      "cell_type": "code",
      "source": [
        "output.shape # кол-во слов х размер эмбеддинга"
      ],
      "metadata": {
        "colab": {
          "base_uri": "https://localhost:8080/"
        },
        "id": "EJw3COrfyFR8",
        "outputId": "0110f73f-2b9c-4c7d-84de-5ba3038fda65"
      },
      "execution_count": null,
      "outputs": [
        {
          "output_type": "execute_result",
          "data": {
            "text/plain": [
              "torch.Size([4, 300])"
            ]
          },
          "metadata": {},
          "execution_count": 104
        }
      ]
    },
    {
      "cell_type": "code",
      "source": [
        "# Индекс пад токена\n",
        "navec.vocab['<pad>']"
      ],
      "metadata": {
        "colab": {
          "base_uri": "https://localhost:8080/"
        },
        "id": "cbQSRTpMzA7W",
        "outputId": "ff04c45c-1628-468c-b29c-3c1e886d1eb4"
      },
      "execution_count": null,
      "outputs": [
        {
          "output_type": "execute_result",
          "data": {
            "text/plain": [
              "500001"
            ]
          },
          "metadata": {},
          "execution_count": 51
        }
      ]
    },
    {
      "cell_type": "code",
      "source": [
        "sents = ['это первое предложение', 'это второе предложение фывфывц']\n",
        "\n",
        "[[navec.vocab.get(word, navec.vocab.unk_id) for word in sent.split()] for sent in sents]"
      ],
      "metadata": {
        "colab": {
          "base_uri": "https://localhost:8080/"
        },
        "id": "q8qC78UqzTuP",
        "outputId": "1f6b602a-1a32-488b-e711-0b74ecb965a4"
      },
      "execution_count": null,
      "outputs": [
        {
          "output_type": "execute_result",
          "data": {
            "text/plain": [
              "[[496312, 290480, 330951], [496312, 74231, 330951, 500000]]"
            ]
          },
          "metadata": {},
          "execution_count": 52
        }
      ]
    },
    {
      "cell_type": "markdown",
      "source": [
        "1. Находим индексы каждого слова. Если слова нет - заменяем индексом слова `<unk>`.\n",
        "2. Конвертируем в pytorch tensor.\n",
        "3. Получаем нужные эмбеддинги"
      ],
      "metadata": {
        "id": "fYAt0hxJ6PTX"
      }
    },
    {
      "cell_type": "code",
      "source": [
        "vecs = [emb(torch.tensor([navec.vocab.get(word, navec.vocab.unk_id) for word in sent.split()]))\n",
        "            for sent in sents]"
      ],
      "metadata": {
        "id": "FacGzi0343UY"
      },
      "execution_count": null,
      "outputs": []
    },
    {
      "cell_type": "code",
      "source": [
        "from torch.nn.utils.rnn import pad_sequence\n",
        "\n",
        "# все предложения в батче будут дополняться под длину максимального прдложения\n",
        "pad_sequence(vecs, padding_value = 500001, batch_first = True)"
      ],
      "metadata": {
        "id": "r3xS3MiUyHqU"
      },
      "execution_count": null,
      "outputs": []
    },
    {
      "cell_type": "code",
      "source": [
        "# подавая в модель нужно убедиться, что размер эмбеддинга совпадает\n",
        "lstm = nn.LSTM(input_size = 300, hidden_size = 128, num_layers =1, batch_first =True, )"
      ],
      "metadata": {
        "id": "4ISYw4S07uLZ"
      },
      "execution_count": null,
      "outputs": []
    },
    {
      "cell_type": "code",
      "source": [
        "# все скрытые и размер cell stat-а\n",
        "(h_n, c_n) = lstm(pad_sequence(vecs, padding_value = 0, batch_first = True))"
      ],
      "metadata": {
        "id": "FjCr7Ue6i_Fc"
      },
      "execution_count": null,
      "outputs": []
    },
    {
      "cell_type": "code",
      "source": [
        "# 2 батча, 4 слова (макс. длина), 128 размер эмбеддинга\n",
        "h_n.shape"
      ],
      "metadata": {
        "colab": {
          "base_uri": "https://localhost:8080/"
        },
        "id": "tX0lpjPKjCUG",
        "outputId": "2799c5b2-35d4-443e-b168-51d0e0b3e1a8"
      },
      "execution_count": null,
      "outputs": [
        {
          "output_type": "execute_result",
          "data": {
            "text/plain": [
              "torch.Size([2, 4, 128])"
            ]
          },
          "metadata": {},
          "execution_count": 256
        }
      ]
    },
    {
      "cell_type": "markdown",
      "source": [
        "Создадим загрузчик данных:"
      ],
      "metadata": {
        "id": "ySwxxSbq6XHf"
      }
    },
    {
      "cell_type": "code",
      "source": [
        "from torch.utils.data import Dataset, DataLoader\n",
        "\n",
        "# Отображение названия класса в номер класса на выходе\n",
        "num2ans = {\n",
        "    'neutral': 0,\n",
        "    'positive': 1,\n",
        "    'negative':2,\n",
        "}\n",
        "\n",
        "class sentiment_dataset(Dataset):\n",
        "    # сам датасет\n",
        "    def __init__(self, df):\n",
        "        self.df = df\n",
        "    \n",
        "    # его размер\n",
        "    def __len__(self):\n",
        "        return len(self.df)\n",
        "\n",
        "    # получение примера по индексу\n",
        "    def __getitem__(self, idx):\n",
        "        text = self.df.iloc[idx, 0] # предобработанный текст\n",
        "        label = self.df.iloc[idx, 2] # текст разметки\n",
        "        label = num2ans[label] # номер класса разметки\n",
        "\n",
        "        text = torch.tensor([navec.vocab.get(word, navec.vocab.unk_id) for word in text.split()], \n",
        "                     dtype=torch.long) # тензор индексов номеров слов в словаре (если нет - unk == 50000)\n",
        "        return text, label"
      ],
      "metadata": {
        "id": "3Emi0E_PjHz1"
      },
      "execution_count": null,
      "outputs": []
    },
    {
      "cell_type": "code",
      "source": [
        "train_iter = sentiment_dataset(df)\n",
        "\n",
        "# функция постобработки батча, дополняет Х под длину самого длинного предложения\n",
        "def collate_fn(batch):\n",
        "    x = [e[0] for e in batch] # все индексы слов в словаре\n",
        "    y = [e[1] for e in batch] # все индексы ответов\n",
        "    return pad_sequence(x, padding_value = 500001, batch_first = True), torch.tensor(y) # 500001 - пад вектор\n",
        "\n",
        "# загрузчик\n",
        "train_dataloader = DataLoader(train_iter, batch_size=30, collate_fn=collate_fn)"
      ],
      "metadata": {
        "id": "ikQsch00lUhB"
      },
      "execution_count": null,
      "outputs": []
    },
    {
      "cell_type": "code",
      "source": [
        "import torch \n",
        "from torch.nn.utils.rnn import pad_sequence\n",
        "\n",
        "# убедимся что все ок загрузилось\n",
        "next(iter(train_dataloader))"
      ],
      "metadata": {
        "colab": {
          "base_uri": "https://localhost:8080/"
        },
        "id": "sTIVOgZxlwWn",
        "outputId": "b7bf94a3-2c35-47a5-8c17-5971868155d0"
      },
      "execution_count": null,
      "outputs": [
        {
          "output_type": "execute_result",
          "data": {
            "text/plain": [
              "(tensor([[500000, 369832, 302187,  ...,      0,      0,      0],\n",
              "         [210437, 369655, 252874,  ...,      0,      0,      0],\n",
              "         [353939, 328321,  91751,  ...,      0,      0,      0],\n",
              "         ...,\n",
              "         [ 39474, 161203, 146473,  ...,      0,      0,      0],\n",
              "         [407271, 163742, 120236,  ...,      0,      0,      0],\n",
              "         [ 27283, 500000, 103957,  ...,      0,      0,      0]]),\n",
              " tensor([2, 2, 2, 2, 2, 2, 2, 2, 2, 2, 2, 2, 2, 2, 2, 1, 2, 1, 1, 1, 1, 2, 2, 1,\n",
              "         1, 2, 2, 1, 1, 1]))"
            ]
          },
          "metadata": {},
          "execution_count": 16
        }
      ]
    },
    {
      "cell_type": "code",
      "source": [
        "from torch.utils.data import Subset"
      ],
      "metadata": {
        "id": "jIMppTIAmFBe"
      },
      "execution_count": null,
      "outputs": []
    },
    {
      "cell_type": "code",
      "source": [
        "# сгенерирует случайные индесы теста\n",
        "def subset_ind(dataset, ratio: float):\n",
        "    return np.random.choice(len(dataset), size=int(ratio*len(dataset)), replace=False)\n",
        "\n",
        "dataset = sentiment_dataset(df)\n",
        "\n",
        "val_size = 0.2\n",
        "val_inds = subset_ind(dataset, val_size)\n",
        "\n",
        "# созаддим train датасет с индексов, не входящих в тестовые\n",
        "train_dataset = Subset(dataset, [i for i in range(len(dataset)) if i not in val_inds])\n",
        "# создадим test датасет из инедексов теста\n",
        "val_dataset = Subset(dataset, val_inds)"
      ],
      "metadata": {
        "id": "X6aMcwWpoKjU"
      },
      "execution_count": null,
      "outputs": []
    },
    {
      "cell_type": "code",
      "source": [
        "import multiprocessing\n",
        "\n",
        "# найдем количество ядер для загрузчика\n",
        "multiprocessing.cpu_count()"
      ],
      "metadata": {
        "colab": {
          "base_uri": "https://localhost:8080/"
        },
        "id": "vE-JT6ZcpqBx",
        "outputId": "4673eadc-f395-4793-b742-17790cdd675b"
      },
      "execution_count": null,
      "outputs": [
        {
          "output_type": "execute_result",
          "data": {
            "text/plain": [
              "2"
            ]
          },
          "metadata": {},
          "execution_count": 19
        }
      ]
    },
    {
      "cell_type": "code",
      "source": [
        "# создадим загрузчики для треина и теста\n",
        "train_dataloader = DataLoader(train_dataset, batch_size=2, collate_fn=collate_fn, shuffle=True, pin_memory=True, num_workers = multiprocessing.cpu_count())\n",
        "test_dataloader = DataLoader(val_dataset, batch_size=2, collate_fn=collate_fn)"
      ],
      "metadata": {
        "id": "LDt3o936o3Wx"
      },
      "execution_count": null,
      "outputs": []
    },
    {
      "cell_type": "code",
      "source": [
        "import torch.nn as nn\n",
        "\n",
        "class lstm(nn.Module):\n",
        "    def __init__(self, w2v, padding_inx, dropout, hidden_size):\n",
        "        super(lstm, self).__init__()\n",
        "        # загрузим предобученные эмбеддинги navec-а + 50к не найденных в нем\n",
        "        self.embedding = nn.Embedding.from_pretrained(w2v)\n",
        "        self.embedding.padding_inx = padding_inx # зададим индекс паддинга \n",
        "        self.embedding.weight.requires_grad = True # веса эмбеддингов будем дообучать вместе с моделью\n",
        "\n",
        "        self.dropout = nn.Dropout(p = dropout) # регуляризация в процессе обучения\n",
        "        self.lstm = nn.LSTM(input_size = self.embedding.embedding_dim, # размер эмбеддинга == инпута\n",
        "                            hidden_size = hidden_size, # размер скрытого представления предложения (эмб.предложения)\n",
        "                            num_layers = 2, # двуслойный LSTM\n",
        "                            dropout = dropout, # регуляризация нужна из-за большого размера эмбеддинга\n",
        "                            bidirectional = True) # каждый слой двунаправленный (т.е. 4 независимых LSTM-a)\n",
        "        self.label = nn.Linear(hidden_size*2*2, 3) # полносвязный слой подключен к конкатинации 4х последних хидденов\n",
        "\n",
        "    def forward(self, sentence):\n",
        "        x = self.embedding(sentence)\n",
        "        x = torch.transpose(x, dim0 = 1, dim1 = 0) # для подачи в лстм в верном формате\n",
        "        out, (hidden, c) = self.lstm(x) # прогоняем через все ячейки LSTM\n",
        "        x = self.dropout(torch.cat([c[i,:,:] for i in range(c.shape[0])], dim=1)) # конкартинируем и регуляризируем\n",
        "        x = self.label(x) # отображаем для классификации\n",
        "        return x"
      ],
      "metadata": {
        "id": "iBiUunqBmFEc"
      },
      "execution_count": null,
      "outputs": []
    },
    {
      "cell_type": "code",
      "source": [
        "from torch import optim\n",
        "# 500001 - индекс пад токена в модели Navec\n",
        "# инициализируем модель\n",
        "model = lstm(torch.FloatTensor(gensim_navec.vectors), 500001, dropout = 0.2, hidden_size=256)\n",
        "# и оптимизатор AdamW\n",
        "optimizer = optim.AdamW(model.parameters(), lr=1e-4)"
      ],
      "metadata": {
        "id": "PFCT3KFPp6mS"
      },
      "execution_count": null,
      "outputs": []
    },
    {
      "cell_type": "code",
      "source": [
        "# функция потерь - кросс-энтропия\n",
        "loss = nn.CrossEntropyLoss()"
      ],
      "metadata": {
        "id": "zjJddwoIqosC"
      },
      "execution_count": null,
      "outputs": []
    },
    {
      "cell_type": "code",
      "source": [
        "from IPython.display import clear_output\n",
        "import matplotlib.pyplot as plt"
      ],
      "metadata": {
        "id": "ivjmOn1GrAvq"
      },
      "execution_count": null,
      "outputs": []
    },
    {
      "cell_type": "code",
      "source": [
        "from sklearn.metrics import f1_score"
      ],
      "metadata": {
        "id": "MVGxp7JArJVk"
      },
      "execution_count": null,
      "outputs": []
    },
    {
      "cell_type": "code",
      "source": [
        "def train(epochs, model, loss_f, optimizer, train_i, val_i):\n",
        "    step = 0\n",
        "\n",
        "    losses = []\n",
        "    val_losses = []\n",
        "\n",
        "    accuracy = []\n",
        "    val_accuracy = []\n",
        "\n",
        "    for epoch in range(epochs):\n",
        "        for batch in iter(train_i):\n",
        "            step += 1\n",
        "            model.train()\n",
        "            x, y = batch\n",
        "            # print(x.shape, y.shape)\n",
        "            model.zero_grad()\n",
        "            preds = model.forward(x)\n",
        "            # print(preds)\n",
        "            # print(preds.shape)\n",
        "            loss = loss_f(preds, y)\n",
        "            losses.append(loss.cpu().data.numpy())\n",
        "            # accuracy.append(f1_score(batch.points.data.numpy().tolist(), \n",
        "            #                                np.round(np.array( torch.sigmoid(preds).cpu().data.numpy().tolist()) )) \n",
        "            # )\n",
        "                                           \n",
        "\n",
        "            loss.backward()\n",
        "            optimizer.step()\n",
        "            if step % 50==0:\n",
        "                print(loss.item())\n",
        "\n",
        "\n",
        "        clear_output(True)\n",
        "        model.eval()\n",
        "        model.zero_grad()\n",
        "        # val_loss = []\n",
        "\n",
        "        for batch in iter(val_i):\n",
        "            x, y = batch\n",
        "\n",
        "            preds = model.forward(x).view(-1)\n",
        "            val_losses.append(loss_f(preds, y).cpu().data.numpy())\n",
        "        \n",
        "            val_accuracy.append(f1_score(batch.points.data.numpy().tolist(), \n",
        "                                            np.round(np.array( torch.sigmoid(preds).cpu().data.numpy().tolist() ))\n",
        "                                            ))\n",
        "\n",
        "\n",
        "        fig, axs = plt.subplots(2, 2, figsize=(10, 10))\n",
        "        fig.suptitle('Accuracy & Loss')\n",
        "        \n",
        "        axs[0, 0].set_title('train cross-entropy loss')\n",
        "        axs[0, 1].set_title('test cross-entropy loss')\n",
        "        axs[1, 0].set_title('train f1')\n",
        "        axs[1, 1].set_title('test f1')\n",
        "\n",
        "        axs[0, 0].plot(losses)\n",
        "        axs[0, 0].plot(pd.Series(losses).rolling(400).mean().values)\n",
        "        axs[0, 1].plot(val_losses)\n",
        "        axs[0, 1].plot(pd.Series(val_losses).rolling(400).mean().values)\n",
        "        axs[1, 0].plot(accuracy)\n",
        "        axs[1, 0].plot(pd.Series(accuracy).rolling(400).mean().values)\n",
        "        axs[1, 1].plot(val_accuracy)\n",
        "        axs[1, 1].plot(pd.Series(val_accuracy).rolling(400).mean().values)\n",
        "\n",
        "        for ax in axs.flat:\n",
        "            ax.set(xlabel='step')\n",
        "            # axs[0, 0].xaxis.set_ticks(np.arange(0, epochs, 1/len(losses)))\n",
        "        plt.show()\n",
        "\n",
        "                # print(f'Эпоха {epoch}, Шаг {step}, train_loss {np.array(losses).mean()}, valid_loss {np.array(val_loss).mean()}')\n",
        "     "
      ],
      "metadata": {
        "id": "ILF6wP9cq1gT"
      },
      "execution_count": null,
      "outputs": []
    },
    {
      "cell_type": "code",
      "source": [
        "train(5, model, loss, optimizer, train_dataloader, test_dataloader)"
      ],
      "metadata": {
        "colab": {
          "base_uri": "https://localhost:8080/",
          "height": 372
        },
        "id": "ZNDH4KkPsOyD",
        "outputId": "c6005557-a25d-408e-9bfa-dcf20ff48905"
      },
      "execution_count": null,
      "outputs": [
        {
          "output_type": "stream",
          "name": "stdout",
          "text": [
            "1.1869463920593262\n",
            "0.8732924461364746\n"
          ]
        },
        {
          "output_type": "error",
          "ename": "KeyboardInterrupt",
          "evalue": "ignored",
          "traceback": [
            "\u001b[0;31m---------------------------------------------------------------------------\u001b[0m",
            "\u001b[0;31mKeyboardInterrupt\u001b[0m                         Traceback (most recent call last)",
            "\u001b[0;32m<ipython-input-47-f79934bb1320>\u001b[0m in \u001b[0;36m<module>\u001b[0;34m\u001b[0m\n\u001b[0;32m----> 1\u001b[0;31m \u001b[0mtrain\u001b[0m\u001b[0;34m(\u001b[0m\u001b[0;36m5\u001b[0m\u001b[0;34m,\u001b[0m \u001b[0mmodel\u001b[0m\u001b[0;34m,\u001b[0m \u001b[0mloss\u001b[0m\u001b[0;34m,\u001b[0m \u001b[0moptimizer\u001b[0m\u001b[0;34m,\u001b[0m \u001b[0mtrain_dataloader\u001b[0m\u001b[0;34m,\u001b[0m \u001b[0mtest_dataloader\u001b[0m\u001b[0;34m)\u001b[0m\u001b[0;34m\u001b[0m\u001b[0;34m\u001b[0m\u001b[0m\n\u001b[0m",
            "\u001b[0;32m<ipython-input-46-f456ba557541>\u001b[0m in \u001b[0;36mtrain\u001b[0;34m(epochs, model, loss_f, optimizer, train_i, val_i)\u001b[0m\n\u001b[1;32m     25\u001b[0m \u001b[0;34m\u001b[0m\u001b[0m\n\u001b[1;32m     26\u001b[0m \u001b[0;34m\u001b[0m\u001b[0m\n\u001b[0;32m---> 27\u001b[0;31m             \u001b[0mloss\u001b[0m\u001b[0;34m.\u001b[0m\u001b[0mbackward\u001b[0m\u001b[0;34m(\u001b[0m\u001b[0;34m)\u001b[0m\u001b[0;34m\u001b[0m\u001b[0;34m\u001b[0m\u001b[0m\n\u001b[0m\u001b[1;32m     28\u001b[0m             \u001b[0moptimizer\u001b[0m\u001b[0;34m.\u001b[0m\u001b[0mstep\u001b[0m\u001b[0;34m(\u001b[0m\u001b[0;34m)\u001b[0m\u001b[0;34m\u001b[0m\u001b[0;34m\u001b[0m\u001b[0m\n\u001b[1;32m     29\u001b[0m             \u001b[0;32mif\u001b[0m \u001b[0mstep\u001b[0m \u001b[0;34m%\u001b[0m \u001b[0;36m50\u001b[0m\u001b[0;34m==\u001b[0m\u001b[0;36m0\u001b[0m\u001b[0;34m:\u001b[0m\u001b[0;34m\u001b[0m\u001b[0;34m\u001b[0m\u001b[0m\n",
            "\u001b[0;32m~/.local/lib/python3.7/site-packages/torch/_tensor.py\u001b[0m in \u001b[0;36mbackward\u001b[0;34m(self, gradient, retain_graph, create_graph, inputs)\u001b[0m\n\u001b[1;32m    486\u001b[0m             )\n\u001b[1;32m    487\u001b[0m         torch.autograd.backward(\n\u001b[0;32m--> 488\u001b[0;31m             \u001b[0mself\u001b[0m\u001b[0;34m,\u001b[0m \u001b[0mgradient\u001b[0m\u001b[0;34m,\u001b[0m \u001b[0mretain_graph\u001b[0m\u001b[0;34m,\u001b[0m \u001b[0mcreate_graph\u001b[0m\u001b[0;34m,\u001b[0m \u001b[0minputs\u001b[0m\u001b[0;34m=\u001b[0m\u001b[0minputs\u001b[0m\u001b[0;34m\u001b[0m\u001b[0;34m\u001b[0m\u001b[0m\n\u001b[0m\u001b[1;32m    489\u001b[0m         )\n\u001b[1;32m    490\u001b[0m \u001b[0;34m\u001b[0m\u001b[0m\n",
            "\u001b[0;32m~/.local/lib/python3.7/site-packages/torch/autograd/__init__.py\u001b[0m in \u001b[0;36mbackward\u001b[0;34m(tensors, grad_tensors, retain_graph, create_graph, grad_variables, inputs)\u001b[0m\n\u001b[1;32m    197\u001b[0m     Variable._execution_engine.run_backward(  # Calls into the C++ engine to run the backward pass\n\u001b[1;32m    198\u001b[0m         \u001b[0mtensors\u001b[0m\u001b[0;34m,\u001b[0m \u001b[0mgrad_tensors_\u001b[0m\u001b[0;34m,\u001b[0m \u001b[0mretain_graph\u001b[0m\u001b[0;34m,\u001b[0m \u001b[0mcreate_graph\u001b[0m\u001b[0;34m,\u001b[0m \u001b[0minputs\u001b[0m\u001b[0;34m,\u001b[0m\u001b[0;34m\u001b[0m\u001b[0;34m\u001b[0m\u001b[0m\n\u001b[0;32m--> 199\u001b[0;31m         allow_unreachable=True, accumulate_grad=True)  # Calls into the C++ engine to run the backward pass\n\u001b[0m\u001b[1;32m    200\u001b[0m \u001b[0;34m\u001b[0m\u001b[0m\n\u001b[1;32m    201\u001b[0m def grad(\n",
            "\u001b[0;31mKeyboardInterrupt\u001b[0m: "
          ]
        }
      ]
    }
  ]
}